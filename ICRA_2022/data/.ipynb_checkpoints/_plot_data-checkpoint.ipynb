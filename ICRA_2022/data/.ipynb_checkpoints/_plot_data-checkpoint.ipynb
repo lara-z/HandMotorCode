{
 "cells": [
  {
   "cell_type": "code",
   "execution_count": 1,
   "metadata": {},
   "outputs": [
    {
     "data": {
      "text/html": [
       "\n",
       "    <div class=\"bk-root\">\n",
       "        <a href=\"https://bokeh.org\" target=\"_blank\" class=\"bk-logo bk-logo-small bk-logo-notebook\"></a>\n",
       "        <span id=\"1002\">Loading BokehJS ...</span>\n",
       "    </div>"
      ]
     },
     "metadata": {},
     "output_type": "display_data"
    },
    {
     "data": {
      "application/javascript": [
       "\n",
       "(function(root) {\n",
       "  function now() {\n",
       "    return new Date();\n",
       "  }\n",
       "\n",
       "  const force = true;\n",
       "\n",
       "  if (typeof root._bokeh_onload_callbacks === \"undefined\" || force === true) {\n",
       "    root._bokeh_onload_callbacks = [];\n",
       "    root._bokeh_is_loading = undefined;\n",
       "  }\n",
       "\n",
       "  const JS_MIME_TYPE = 'application/javascript';\n",
       "  const HTML_MIME_TYPE = 'text/html';\n",
       "  const EXEC_MIME_TYPE = 'application/vnd.bokehjs_exec.v0+json';\n",
       "  const CLASS_NAME = 'output_bokeh rendered_html';\n",
       "\n",
       "  /**\n",
       "   * Render data to the DOM node\n",
       "   */\n",
       "  function render(props, node) {\n",
       "    const script = document.createElement(\"script\");\n",
       "    node.appendChild(script);\n",
       "  }\n",
       "\n",
       "  /**\n",
       "   * Handle when an output is cleared or removed\n",
       "   */\n",
       "  function handleClearOutput(event, handle) {\n",
       "    const cell = handle.cell;\n",
       "\n",
       "    const id = cell.output_area._bokeh_element_id;\n",
       "    const server_id = cell.output_area._bokeh_server_id;\n",
       "    // Clean up Bokeh references\n",
       "    if (id != null && id in Bokeh.index) {\n",
       "      Bokeh.index[id].model.document.clear();\n",
       "      delete Bokeh.index[id];\n",
       "    }\n",
       "\n",
       "    if (server_id !== undefined) {\n",
       "      // Clean up Bokeh references\n",
       "      const cmd_clean = \"from bokeh.io.state import curstate; print(curstate().uuid_to_server['\" + server_id + \"'].get_sessions()[0].document.roots[0]._id)\";\n",
       "      cell.notebook.kernel.execute(cmd_clean, {\n",
       "        iopub: {\n",
       "          output: function(msg) {\n",
       "            const id = msg.content.text.trim();\n",
       "            if (id in Bokeh.index) {\n",
       "              Bokeh.index[id].model.document.clear();\n",
       "              delete Bokeh.index[id];\n",
       "            }\n",
       "          }\n",
       "        }\n",
       "      });\n",
       "      // Destroy server and session\n",
       "      const cmd_destroy = \"import bokeh.io.notebook as ion; ion.destroy_server('\" + server_id + \"')\";\n",
       "      cell.notebook.kernel.execute(cmd_destroy);\n",
       "    }\n",
       "  }\n",
       "\n",
       "  /**\n",
       "   * Handle when a new output is added\n",
       "   */\n",
       "  function handleAddOutput(event, handle) {\n",
       "    const output_area = handle.output_area;\n",
       "    const output = handle.output;\n",
       "\n",
       "    // limit handleAddOutput to display_data with EXEC_MIME_TYPE content only\n",
       "    if ((output.output_type != \"display_data\") || (!Object.prototype.hasOwnProperty.call(output.data, EXEC_MIME_TYPE))) {\n",
       "      return\n",
       "    }\n",
       "\n",
       "    const toinsert = output_area.element.find(\".\" + CLASS_NAME.split(' ')[0]);\n",
       "\n",
       "    if (output.metadata[EXEC_MIME_TYPE][\"id\"] !== undefined) {\n",
       "      toinsert[toinsert.length - 1].firstChild.textContent = output.data[JS_MIME_TYPE];\n",
       "      // store reference to embed id on output_area\n",
       "      output_area._bokeh_element_id = output.metadata[EXEC_MIME_TYPE][\"id\"];\n",
       "    }\n",
       "    if (output.metadata[EXEC_MIME_TYPE][\"server_id\"] !== undefined) {\n",
       "      const bk_div = document.createElement(\"div\");\n",
       "      bk_div.innerHTML = output.data[HTML_MIME_TYPE];\n",
       "      const script_attrs = bk_div.children[0].attributes;\n",
       "      for (let i = 0; i < script_attrs.length; i++) {\n",
       "        toinsert[toinsert.length - 1].firstChild.setAttribute(script_attrs[i].name, script_attrs[i].value);\n",
       "        toinsert[toinsert.length - 1].firstChild.textContent = bk_div.children[0].textContent\n",
       "      }\n",
       "      // store reference to server id on output_area\n",
       "      output_area._bokeh_server_id = output.metadata[EXEC_MIME_TYPE][\"server_id\"];\n",
       "    }\n",
       "  }\n",
       "\n",
       "  function register_renderer(events, OutputArea) {\n",
       "\n",
       "    function append_mime(data, metadata, element) {\n",
       "      // create a DOM node to render to\n",
       "      const toinsert = this.create_output_subarea(\n",
       "        metadata,\n",
       "        CLASS_NAME,\n",
       "        EXEC_MIME_TYPE\n",
       "      );\n",
       "      this.keyboard_manager.register_events(toinsert);\n",
       "      // Render to node\n",
       "      const props = {data: data, metadata: metadata[EXEC_MIME_TYPE]};\n",
       "      render(props, toinsert[toinsert.length - 1]);\n",
       "      element.append(toinsert);\n",
       "      return toinsert\n",
       "    }\n",
       "\n",
       "    /* Handle when an output is cleared or removed */\n",
       "    events.on('clear_output.CodeCell', handleClearOutput);\n",
       "    events.on('delete.Cell', handleClearOutput);\n",
       "\n",
       "    /* Handle when a new output is added */\n",
       "    events.on('output_added.OutputArea', handleAddOutput);\n",
       "\n",
       "    /**\n",
       "     * Register the mime type and append_mime function with output_area\n",
       "     */\n",
       "    OutputArea.prototype.register_mime_type(EXEC_MIME_TYPE, append_mime, {\n",
       "      /* Is output safe? */\n",
       "      safe: true,\n",
       "      /* Index of renderer in `output_area.display_order` */\n",
       "      index: 0\n",
       "    });\n",
       "  }\n",
       "\n",
       "  // register the mime type if in Jupyter Notebook environment and previously unregistered\n",
       "  if (root.Jupyter !== undefined) {\n",
       "    const events = require('base/js/events');\n",
       "    const OutputArea = require('notebook/js/outputarea').OutputArea;\n",
       "\n",
       "    if (OutputArea.prototype.mime_types().indexOf(EXEC_MIME_TYPE) == -1) {\n",
       "      register_renderer(events, OutputArea);\n",
       "    }\n",
       "  }\n",
       "\n",
       "  \n",
       "  if (typeof (root._bokeh_timeout) === \"undefined\" || force === true) {\n",
       "    root._bokeh_timeout = Date.now() + 5000;\n",
       "    root._bokeh_failed_load = false;\n",
       "  }\n",
       "\n",
       "  const NB_LOAD_WARNING = {'data': {'text/html':\n",
       "     \"<div style='background-color: #fdd'>\\n\"+\n",
       "     \"<p>\\n\"+\n",
       "     \"BokehJS does not appear to have successfully loaded. If loading BokehJS from CDN, this \\n\"+\n",
       "     \"may be due to a slow or bad network connection. Possible fixes:\\n\"+\n",
       "     \"</p>\\n\"+\n",
       "     \"<ul>\\n\"+\n",
       "     \"<li>re-rerun `output_notebook()` to attempt to load from CDN again, or</li>\\n\"+\n",
       "     \"<li>use INLINE resources instead, as so:</li>\\n\"+\n",
       "     \"</ul>\\n\"+\n",
       "     \"<code>\\n\"+\n",
       "     \"from bokeh.resources import INLINE\\n\"+\n",
       "     \"output_notebook(resources=INLINE)\\n\"+\n",
       "     \"</code>\\n\"+\n",
       "     \"</div>\"}};\n",
       "\n",
       "  function display_loaded() {\n",
       "    const el = document.getElementById(\"1002\");\n",
       "    if (el != null) {\n",
       "      el.textContent = \"BokehJS is loading...\";\n",
       "    }\n",
       "    if (root.Bokeh !== undefined) {\n",
       "      if (el != null) {\n",
       "        el.textContent = \"BokehJS \" + root.Bokeh.version + \" successfully loaded.\";\n",
       "      }\n",
       "    } else if (Date.now() < root._bokeh_timeout) {\n",
       "      setTimeout(display_loaded, 100)\n",
       "    }\n",
       "  }\n",
       "\n",
       "\n",
       "  function run_callbacks() {\n",
       "    try {\n",
       "      root._bokeh_onload_callbacks.forEach(function(callback) {\n",
       "        if (callback != null)\n",
       "          callback();\n",
       "      });\n",
       "    } finally {\n",
       "      delete root._bokeh_onload_callbacks\n",
       "    }\n",
       "    console.debug(\"Bokeh: all callbacks have finished\");\n",
       "  }\n",
       "\n",
       "  function load_libs(css_urls, js_urls, callback) {\n",
       "    if (css_urls == null) css_urls = [];\n",
       "    if (js_urls == null) js_urls = [];\n",
       "\n",
       "    root._bokeh_onload_callbacks.push(callback);\n",
       "    if (root._bokeh_is_loading > 0) {\n",
       "      console.debug(\"Bokeh: BokehJS is being loaded, scheduling callback at\", now());\n",
       "      return null;\n",
       "    }\n",
       "    if (js_urls == null || js_urls.length === 0) {\n",
       "      run_callbacks();\n",
       "      return null;\n",
       "    }\n",
       "    console.debug(\"Bokeh: BokehJS not loaded, scheduling load and callback at\", now());\n",
       "    root._bokeh_is_loading = css_urls.length + js_urls.length;\n",
       "\n",
       "    function on_load() {\n",
       "      root._bokeh_is_loading--;\n",
       "      if (root._bokeh_is_loading === 0) {\n",
       "        console.debug(\"Bokeh: all BokehJS libraries/stylesheets loaded\");\n",
       "        run_callbacks()\n",
       "      }\n",
       "    }\n",
       "\n",
       "    function on_error(url) {\n",
       "      console.error(\"failed to load \" + url);\n",
       "    }\n",
       "\n",
       "    for (let i = 0; i < css_urls.length; i++) {\n",
       "      const url = css_urls[i];\n",
       "      const element = document.createElement(\"link\");\n",
       "      element.onload = on_load;\n",
       "      element.onerror = on_error.bind(null, url);\n",
       "      element.rel = \"stylesheet\";\n",
       "      element.type = \"text/css\";\n",
       "      element.href = url;\n",
       "      console.debug(\"Bokeh: injecting link tag for BokehJS stylesheet: \", url);\n",
       "      document.body.appendChild(element);\n",
       "    }\n",
       "\n",
       "    for (let i = 0; i < js_urls.length; i++) {\n",
       "      const url = js_urls[i];\n",
       "      const element = document.createElement('script');\n",
       "      element.onload = on_load;\n",
       "      element.onerror = on_error.bind(null, url);\n",
       "      element.async = false;\n",
       "      element.src = url;\n",
       "      console.debug(\"Bokeh: injecting script tag for BokehJS library: \", url);\n",
       "      document.head.appendChild(element);\n",
       "    }\n",
       "  };\n",
       "\n",
       "  function inject_raw_css(css) {\n",
       "    const element = document.createElement(\"style\");\n",
       "    element.appendChild(document.createTextNode(css));\n",
       "    document.body.appendChild(element);\n",
       "  }\n",
       "\n",
       "  \n",
       "  const js_urls = [\"https://cdn.bokeh.org/bokeh/release/bokeh-2.4.2.min.js\", \"https://cdn.bokeh.org/bokeh/release/bokeh-gl-2.4.2.min.js\", \"https://cdn.bokeh.org/bokeh/release/bokeh-widgets-2.4.2.min.js\", \"https://cdn.bokeh.org/bokeh/release/bokeh-tables-2.4.2.min.js\", \"https://cdn.bokeh.org/bokeh/release/bokeh-mathjax-2.4.2.min.js\"];\n",
       "  const css_urls = [];\n",
       "  \n",
       "\n",
       "  const inline_js = [\n",
       "    function(Bokeh) {\n",
       "      Bokeh.set_log_level(\"info\");\n",
       "    },\n",
       "    function(Bokeh) {\n",
       "    \n",
       "    \n",
       "    }\n",
       "  ];\n",
       "\n",
       "  function run_inline_js() {\n",
       "    \n",
       "    if (root.Bokeh !== undefined || force === true) {\n",
       "      \n",
       "    for (let i = 0; i < inline_js.length; i++) {\n",
       "      inline_js[i].call(root, root.Bokeh);\n",
       "    }\n",
       "    if (force === true) {\n",
       "        display_loaded();\n",
       "      }} else if (Date.now() < root._bokeh_timeout) {\n",
       "      setTimeout(run_inline_js, 100);\n",
       "    } else if (!root._bokeh_failed_load) {\n",
       "      console.log(\"Bokeh: BokehJS failed to load within specified timeout.\");\n",
       "      root._bokeh_failed_load = true;\n",
       "    } else if (force !== true) {\n",
       "      const cell = $(document.getElementById(\"1002\")).parents('.cell').data().cell;\n",
       "      cell.output_area.append_execute_result(NB_LOAD_WARNING)\n",
       "    }\n",
       "\n",
       "  }\n",
       "\n",
       "  if (root._bokeh_is_loading === 0) {\n",
       "    console.debug(\"Bokeh: BokehJS loaded, going straight to plotting\");\n",
       "    run_inline_js();\n",
       "  } else {\n",
       "    load_libs(css_urls, js_urls, function() {\n",
       "      console.debug(\"Bokeh: BokehJS plotting callback run at\", now());\n",
       "      run_inline_js();\n",
       "    });\n",
       "  }\n",
       "}(window));"
      ],
      "application/vnd.bokehjs_load.v0+json": "\n(function(root) {\n  function now() {\n    return new Date();\n  }\n\n  const force = true;\n\n  if (typeof root._bokeh_onload_callbacks === \"undefined\" || force === true) {\n    root._bokeh_onload_callbacks = [];\n    root._bokeh_is_loading = undefined;\n  }\n\n  \n\n  \n  if (typeof (root._bokeh_timeout) === \"undefined\" || force === true) {\n    root._bokeh_timeout = Date.now() + 5000;\n    root._bokeh_failed_load = false;\n  }\n\n  const NB_LOAD_WARNING = {'data': {'text/html':\n     \"<div style='background-color: #fdd'>\\n\"+\n     \"<p>\\n\"+\n     \"BokehJS does not appear to have successfully loaded. If loading BokehJS from CDN, this \\n\"+\n     \"may be due to a slow or bad network connection. Possible fixes:\\n\"+\n     \"</p>\\n\"+\n     \"<ul>\\n\"+\n     \"<li>re-rerun `output_notebook()` to attempt to load from CDN again, or</li>\\n\"+\n     \"<li>use INLINE resources instead, as so:</li>\\n\"+\n     \"</ul>\\n\"+\n     \"<code>\\n\"+\n     \"from bokeh.resources import INLINE\\n\"+\n     \"output_notebook(resources=INLINE)\\n\"+\n     \"</code>\\n\"+\n     \"</div>\"}};\n\n  function display_loaded() {\n    const el = document.getElementById(\"1002\");\n    if (el != null) {\n      el.textContent = \"BokehJS is loading...\";\n    }\n    if (root.Bokeh !== undefined) {\n      if (el != null) {\n        el.textContent = \"BokehJS \" + root.Bokeh.version + \" successfully loaded.\";\n      }\n    } else if (Date.now() < root._bokeh_timeout) {\n      setTimeout(display_loaded, 100)\n    }\n  }\n\n\n  function run_callbacks() {\n    try {\n      root._bokeh_onload_callbacks.forEach(function(callback) {\n        if (callback != null)\n          callback();\n      });\n    } finally {\n      delete root._bokeh_onload_callbacks\n    }\n    console.debug(\"Bokeh: all callbacks have finished\");\n  }\n\n  function load_libs(css_urls, js_urls, callback) {\n    if (css_urls == null) css_urls = [];\n    if (js_urls == null) js_urls = [];\n\n    root._bokeh_onload_callbacks.push(callback);\n    if (root._bokeh_is_loading > 0) {\n      console.debug(\"Bokeh: BokehJS is being loaded, scheduling callback at\", now());\n      return null;\n    }\n    if (js_urls == null || js_urls.length === 0) {\n      run_callbacks();\n      return null;\n    }\n    console.debug(\"Bokeh: BokehJS not loaded, scheduling load and callback at\", now());\n    root._bokeh_is_loading = css_urls.length + js_urls.length;\n\n    function on_load() {\n      root._bokeh_is_loading--;\n      if (root._bokeh_is_loading === 0) {\n        console.debug(\"Bokeh: all BokehJS libraries/stylesheets loaded\");\n        run_callbacks()\n      }\n    }\n\n    function on_error(url) {\n      console.error(\"failed to load \" + url);\n    }\n\n    for (let i = 0; i < css_urls.length; i++) {\n      const url = css_urls[i];\n      const element = document.createElement(\"link\");\n      element.onload = on_load;\n      element.onerror = on_error.bind(null, url);\n      element.rel = \"stylesheet\";\n      element.type = \"text/css\";\n      element.href = url;\n      console.debug(\"Bokeh: injecting link tag for BokehJS stylesheet: \", url);\n      document.body.appendChild(element);\n    }\n\n    for (let i = 0; i < js_urls.length; i++) {\n      const url = js_urls[i];\n      const element = document.createElement('script');\n      element.onload = on_load;\n      element.onerror = on_error.bind(null, url);\n      element.async = false;\n      element.src = url;\n      console.debug(\"Bokeh: injecting script tag for BokehJS library: \", url);\n      document.head.appendChild(element);\n    }\n  };\n\n  function inject_raw_css(css) {\n    const element = document.createElement(\"style\");\n    element.appendChild(document.createTextNode(css));\n    document.body.appendChild(element);\n  }\n\n  \n  const js_urls = [\"https://cdn.bokeh.org/bokeh/release/bokeh-2.4.2.min.js\", \"https://cdn.bokeh.org/bokeh/release/bokeh-gl-2.4.2.min.js\", \"https://cdn.bokeh.org/bokeh/release/bokeh-widgets-2.4.2.min.js\", \"https://cdn.bokeh.org/bokeh/release/bokeh-tables-2.4.2.min.js\", \"https://cdn.bokeh.org/bokeh/release/bokeh-mathjax-2.4.2.min.js\"];\n  const css_urls = [];\n  \n\n  const inline_js = [\n    function(Bokeh) {\n      Bokeh.set_log_level(\"info\");\n    },\n    function(Bokeh) {\n    \n    \n    }\n  ];\n\n  function run_inline_js() {\n    \n    if (root.Bokeh !== undefined || force === true) {\n      \n    for (let i = 0; i < inline_js.length; i++) {\n      inline_js[i].call(root, root.Bokeh);\n    }\n    if (force === true) {\n        display_loaded();\n      }} else if (Date.now() < root._bokeh_timeout) {\n      setTimeout(run_inline_js, 100);\n    } else if (!root._bokeh_failed_load) {\n      console.log(\"Bokeh: BokehJS failed to load within specified timeout.\");\n      root._bokeh_failed_load = true;\n    } else if (force !== true) {\n      const cell = $(document.getElementById(\"1002\")).parents('.cell').data().cell;\n      cell.output_area.append_execute_result(NB_LOAD_WARNING)\n    }\n\n  }\n\n  if (root._bokeh_is_loading === 0) {\n    console.debug(\"Bokeh: BokehJS loaded, going straight to plotting\");\n    run_inline_js();\n  } else {\n    load_libs(css_urls, js_urls, function() {\n      console.debug(\"Bokeh: BokehJS plotting callback run at\", now());\n      run_inline_js();\n    });\n  }\n}(window));"
     },
     "metadata": {},
     "output_type": "display_data"
    }
   ],
   "source": [
    "import pandas as pd\n",
    "import numpy as np\n",
    "\n",
    "from bokeh.io import push_notebook, output_notebook\n",
    "from bokeh.layouts import row\n",
    "from bokeh.plotting import figure, show\n",
    "from bokeh.models import Range1d\n",
    "output_notebook()\n",
    "\n",
    "import os "
   ]
  },
  {
   "cell_type": "code",
   "execution_count": 2,
   "metadata": {},
   "outputs": [],
   "source": [
    "def plot_data(data, thresh, start_ind, plot_title, plot_name):\n",
    "    # plot data from one recording\n",
    "    opts = dict(width=800, height=250, min_border=0)\n",
    "    colors = ['blue','red','green','magenta']\n",
    "    \n",
    "    # create a Figure object\n",
    "    p = figure(width=900, height=300, tools=\"pan,wheel_zoom,box_zoom,reset\", x_axis_label='Time (s)',  y_axis_label='Signal', title=plot_title)\n",
    "\n",
    "    # gather data to plot\n",
    "    xs = []\n",
    "    ys = []\n",
    "    for i in range(len(data.columns)-1):\n",
    "        xs.append(data.Time[start_ind:] - data.Time[start_ind])\n",
    "        ys.append(data.iloc[start_ind:,i+1])\n",
    "#         ys.append(data[\"Sensor\"+str(i+1)][start_ind:])\n",
    "    \n",
    "    # plot lines\n",
    "    p.multi_line(xs, ys, line_color=colors[:len(data.columns)-1], line_width=2)\n",
    "    \n",
    "    # plot threshold\n",
    "    p.line(data.Time[start_ind:] - data.Time[start_ind], thresh*np.ones((len(data[start_ind:]),)), line_color='black', line_dash = 'dotted', line_width=2)\n",
    "\n",
    "    # specify how to output the plot(s)\n",
    "#     output_file(plot_name + \".html\")\n",
    "\n",
    "    # display the figure\n",
    "    show(p)\n",
    "    \n",
    "def process_data(task, file_name, start_ind, plot_title):\n",
    "    # import the data for a given filename and plot it with the task's appropriate threshold\n",
    "    \n",
    "    # set sensor threshold and number of sensors\n",
    "    if task == \"egg\":\n",
    "        sens_num = 4\n",
    "        thresh = 15\n",
    "    elif task == \"wing\":\n",
    "        sens_num = 1\n",
    "        thresh = 200 # officially 49\n",
    "    elif task == \"scissor\":\n",
    "        sens_num = 4\n",
    "        thresh = 40\n",
    "    elif task == \"bottle\":\n",
    "        sens_num = 4\n",
    "        thresh = 20\n",
    "\n",
    "#     file_name = task_str + topic + \"_\" + number + \".csv\"\n",
    "\n",
    "    # set column names\n",
    "    cols = ['Time']\n",
    "    for i in range(sens_num):\n",
    "        cols.append('Sensor'+str(i+1))\n",
    "\n",
    "    # import and plot data\n",
    "    data = pd.read_csv(file_name+\".csv\", names=cols)\n",
    "    if task == \"scissor\":\n",
    "        # look only at palmar thumb sensor\n",
    "        data = data.drop(['Sensor1', 'Sensor3', 'Sensor4'], axis=1)\n",
    "    if len(data) > (10+start_ind):\n",
    "        plot_data(data, thresh, start_ind, plot_title, task)\n",
    "    else:\n",
    "        print(file_name + '.csv contains fewer than 10 data points')\n",
    "    \n",
    "def search_task(task):\n",
    "    # plot all recorded data for a given task to help search for good data\n",
    "    recordings = os.listdir(os.getcwd())\n",
    "    # separate pressure recordings\n",
    "    # separate the recordings for the specified task\n",
    "    rel_recs = list(filter(lambda x: task in x, recordings))\n",
    "    print('The search \\\"' + task + ' \\\" produced ' + str(len(rel_recs)) + ' search results:')\n",
    "    \n",
    "    if len(rel_recs) < 1:\n",
    "        print('No matching data recordings have been found')\n",
    "    else:\n",
    "        for i in range(len(rel_recs)):\n",
    "            file_name = rel_recs[i].split('.')[0]\n",
    "            process_data(task, file_name, 3, file_name)"
   ]
  },
  {
   "cell_type": "markdown",
   "metadata": {},
   "source": [
    "## Egg Data"
   ]
  },
  {
   "cell_type": "code",
   "execution_count": 3,
   "metadata": {},
   "outputs": [
    {
     "data": {
      "text/html": [
       "\n",
       "\n",
       "\n",
       "\n",
       "\n",
       "\n",
       "  <div class=\"bk-root\" id=\"283aaa2e-756f-4dad-bdc3-4226cd2b1c80\" data-root-id=\"1003\"></div>\n"
      ]
     },
     "metadata": {},
     "output_type": "display_data"
    },
    {
     "data": {
      "application/javascript": [
       "(function(root) {\n",
       "  function embed_document(root) {\n",
       "    \n",
       "  const docs_json = {\"1411867a-776c-42be-b854-c0f460bfdd3f\":{\"defs\":[],\"roots\":{\"references\":[{\"attributes\":{\"below\":[{\"id\":\"1014\"}],\"center\":[{\"id\":\"1017\"},{\"id\":\"1021\"}],\"height\":300,\"left\":[{\"id\":\"1018\"}],\"renderers\":[{\"id\":\"1036\"},{\"id\":\"1042\"}],\"title\":{\"id\":\"1004\"},\"toolbar\":{\"id\":\"1027\"},\"width\":900,\"x_range\":{\"id\":\"1006\"},\"x_scale\":{\"id\":\"1010\"},\"y_range\":{\"id\":\"1008\"},\"y_scale\":{\"id\":\"1012\"}},\"id\":\"1003\",\"subtype\":\"Figure\",\"type\":\"Plot\"},{\"attributes\":{\"source\":{\"id\":\"1032\"}},\"id\":\"1037\",\"type\":\"CDSView\"},{\"attributes\":{},\"id\":\"1046\",\"type\":\"BasicTickFormatter\"},{\"attributes\":{\"data\":{\"line_color\":[\"blue\",\"red\",\"green\",\"magenta\"],\"xs\":[[0.0,0.17600393295288175,0.3519198894500768,0.5278642177581796,0.7049832344055202,0.8954949378967276,1.087754249572753,1.2646663188934353,1.4403440952301017,1.6166324615478507,1.791560173034667,1.9674527645111093,2.1443772315978995,2.32035303115845,2.5112130641937283,2.68770146369934,2.864112615585328,3.039823770523072,3.2160191535949716,3.391853332519532,3.567790508270263,3.7435767650604257,3.920882463455201,4.095604181289674,4.271300554275514,4.447275161743161,4.624444246292115,4.798451900482177,4.975343704223634,5.1521668434143075,5.298164367675782,5.4441499710083,5.590098857879638,5.736022710800172,5.882102012634278,6.028035163879395,6.173919916152957,6.319880008697511,6.4658236503601065,6.611816406250001,6.7577946186065665,6.903638839721679,7.049700736999511,7.195436477661132,7.341630697250367,7.487524747848512,7.6334030628204355,7.779452323913575,7.924461364746096,8.068315029144287,8.21429014205933,8.360314846038818,8.506050825119019,8.651946306228641,8.797151088714596,8.941077947616574,9.086813926696777,9.232784509658813,9.378805875778198,9.524868965148926,9.670860290527344,9.815640211105347,9.959680318832397,10.105627536773682,10.251715421676636,10.397542476654053,10.542213916778564,10.685112714767456,10.82804727554321,10.97099494934082,11.113936185836788,11.25690746307373,11.399857759475708,11.542825460433956,11.685795307159427,11.828761100769043,11.971710681915283,12.115924119949344,12.26191258430481,12.407840967178345,12.553795576095585,12.699699401855465,12.845578670501705,12.991660356521606,13.137600183486938,13.283504247665405,13.429541826248169,13.575421810150146,13.720680952072147,13.865316152572628,14.011302709579464,14.157268047332764,14.30316972732544,14.449106693267822,14.595053434371945,14.741048336029053,14.88689637184143,15.032914876937866,15.178890228271484,15.324641942977905,15.470429182052609,15.615629434585571,15.761642456054688,15.907346963882446,16.053539037704464,16.199466466903687,16.34528064727783,16.49140858650207,16.637419700622555,16.783307552337643,16.92925381660461,17.07521915435791,17.221193552017215,17.36706399917603,17.512989044189453,17.658853769302365,17.804917573928833,17.950745820999146,18.09677386283875,18.242650508880615,18.388724327087402,18.534678459167477,18.680662870407108,18.826340436935425,18.972527742385864,19.118463039398197,19.264322996139526,19.410186052322388,19.556222677230835,19.702435731887817,19.848205089569092,19.99426198005676,20.140160322189328,20.28602313995361,20.431953668594357,20.57770562171936,20.723792552947994,20.869835853576664,21.015768289566033,21.16155815124512,21.307711839675907,21.453708171844482,21.59948205947876,21.74543213844299,21.89148759841919,22.03750085830688,22.183390855789185,22.329238653182983,22.475130558013916,22.621263504028317,22.767109870910637,22.913161039352417,23.060097455978397,23.206021547317505,23.352027893066403,23.49786520004272,23.64386963844299,23.789803743362427,23.935661315917972,24.081679344177243,24.227471351623535,24.373571395874023,24.51965761184692,24.665452241897583,24.811604976654053,24.957425594329834,25.103116273880005,25.249308347702026,25.394979238510125,25.5410737991333,25.687127351760864,25.833125352859497,25.97880744934082,26.125054121017456,26.270811796188354,26.41700506210327,26.562846183776855,26.708754301071167,26.85447883605957,27.000638008117676,27.14623785018921,27.29251766204834,27.43844723701477,27.58432149887085,27.73029947280883,27.876317501068115,28.02113676071167,28.165168523788452,28.31114101409912,28.45694327354431,28.603059768676758,28.74914789199829,28.894777059555047,29.040829896926873,29.186877250671387,29.332877159118652,29.478665590286248,29.624648571014404,29.770418405532837,29.916813135147102,30.062447547912598,30.208662033081055,30.354393243789673,30.500500202178955,30.646390676498406,30.792158126831048,30.938141107559204,31.08436059951783,31.230238437652588,31.376116514205926,31.522132635116577,31.66802287101745,31.814067125320435,31.959898233413696,32.1058075428009,32.25175595283508,32.397770643234246,32.54364681243896,32.689589977264404,32.83567285537719,32.98160028457641,33.12745690345764,33.27241539955139,33.415505170822144,33.56034493446351,33.70607495307923,33.85219693183898,33.99804115295411,34.14406251907349,34.28996729850768,34.43479084968567,34.57773756980895,34.72069239616394,34.863622903823845,35.00657510757446,35.14951825141907,35.292563676834106,35.435440540313714,35.57849717140198,35.72276449203491,35.86860847473144,36.01436758041382,36.160550594329834,36.30645036697387,36.45241904258727,36.598254919052124,36.744288206100464,36.890077352523804,37.03619837760926,37.18198013305664,37.328038454055786,37.47403669357299,37.61999559402466,37.76601338386535,37.9116587638855,38.05778646469116,38.20378398895264,38.349708557128906,38.49564790725707,38.64166879653931,38.78750491142272,38.93357038497924,39.07925033569335,39.225490093231194,39.37135434150695,39.51735258102416,39.66300511360169,39.80921745300293,39.955127477645874,40.101096630096436,40.24701833724975,40.392820835113525,40.53906559944152,40.68419361114502,40.82979440689086,40.97578454017639,41.12175941467285,41.26794123649598,41.413702964782715,41.55958652496338,41.70559763908387,41.8514835834503,41.99759864807128,42.143401861190796,42.28924202919006,42.43536448478699,42.58135008811951,42.72726917266846,42.873418331146226,43.019123792648315,43.165105104446404],[0.0,0.17600393295288175,0.3519198894500768,0.5278642177581796,0.7049832344055202,0.8954949378967276,1.087754249572753,1.2646663188934353,1.4403440952301017,1.6166324615478507,1.791560173034667,1.9674527645111093,2.1443772315978995,2.32035303115845,2.5112130641937283,2.68770146369934,2.864112615585328,3.039823770523072,3.2160191535949716,3.391853332519532,3.567790508270263,3.7435767650604257,3.920882463455201,4.095604181289674,4.271300554275514,4.447275161743161,4.624444246292115,4.798451900482177,4.975343704223634,5.1521668434143075,5.298164367675782,5.4441499710083,5.590098857879638,5.736022710800172,5.882102012634278,6.028035163879395,6.173919916152957,6.319880008697511,6.4658236503601065,6.611816406250001,6.7577946186065665,6.903638839721679,7.049700736999511,7.195436477661132,7.341630697250367,7.487524747848512,7.6334030628204355,7.779452323913575,7.924461364746096,8.068315029144287,8.21429014205933,8.360314846038818,8.506050825119019,8.651946306228641,8.797151088714596,8.941077947616574,9.086813926696777,9.232784509658813,9.378805875778198,9.524868965148926,9.670860290527344,9.815640211105347,9.959680318832397,10.105627536773682,10.251715421676636,10.397542476654053,10.542213916778564,10.685112714767456,10.82804727554321,10.97099494934082,11.113936185836788,11.25690746307373,11.399857759475708,11.542825460433956,11.685795307159427,11.828761100769043,11.971710681915283,12.115924119949344,12.26191258430481,12.407840967178345,12.553795576095585,12.699699401855465,12.845578670501705,12.991660356521606,13.137600183486938,13.283504247665405,13.429541826248169,13.575421810150146,13.720680952072147,13.865316152572628,14.011302709579464,14.157268047332764,14.30316972732544,14.449106693267822,14.595053434371945,14.741048336029053,14.88689637184143,15.032914876937866,15.178890228271484,15.324641942977905,15.470429182052609,15.615629434585571,15.761642456054688,15.907346963882446,16.053539037704464,16.199466466903687,16.34528064727783,16.49140858650207,16.637419700622555,16.783307552337643,16.92925381660461,17.07521915435791,17.221193552017215,17.36706399917603,17.512989044189453,17.658853769302365,17.804917573928833,17.950745820999146,18.09677386283875,18.242650508880615,18.388724327087402,18.534678459167477,18.680662870407108,18.826340436935425,18.972527742385864,19.118463039398197,19.264322996139526,19.410186052322388,19.556222677230835,19.702435731887817,19.848205089569092,19.99426198005676,20.140160322189328,20.28602313995361,20.431953668594357,20.57770562171936,20.723792552947994,20.869835853576664,21.015768289566033,21.16155815124512,21.307711839675907,21.453708171844482,21.59948205947876,21.74543213844299,21.89148759841919,22.03750085830688,22.183390855789185,22.329238653182983,22.475130558013916,22.621263504028317,22.767109870910637,22.913161039352417,23.060097455978397,23.206021547317505,23.352027893066403,23.49786520004272,23.64386963844299,23.789803743362427,23.935661315917972,24.081679344177243,24.227471351623535,24.373571395874023,24.51965761184692,24.665452241897583,24.811604976654053,24.957425594329834,25.103116273880005,25.249308347702026,25.394979238510125,25.5410737991333,25.687127351760864,25.833125352859497,25.97880744934082,26.125054121017456,26.270811796188354,26.41700506210327,26.562846183776855,26.708754301071167,26.85447883605957,27.000638008117676,27.14623785018921,27.29251766204834,27.43844723701477,27.58432149887085,27.73029947280883,27.876317501068115,28.02113676071167,28.165168523788452,28.31114101409912,28.45694327354431,28.603059768676758,28.74914789199829,28.894777059555047,29.040829896926873,29.186877250671387,29.332877159118652,29.478665590286248,29.624648571014404,29.770418405532837,29.916813135147102,30.062447547912598,30.208662033081055,30.354393243789673,30.500500202178955,30.646390676498406,30.792158126831048,30.938141107559204,31.08436059951783,31.230238437652588,31.376116514205926,31.522132635116577,31.66802287101745,31.814067125320435,31.959898233413696,32.1058075428009,32.25175595283508,32.397770643234246,32.54364681243896,32.689589977264404,32.83567285537719,32.98160028457641,33.12745690345764,33.27241539955139,33.415505170822144,33.56034493446351,33.70607495307923,33.85219693183898,33.99804115295411,34.14406251907349,34.28996729850768,34.43479084968567,34.57773756980895,34.72069239616394,34.863622903823845,35.00657510757446,35.14951825141907,35.292563676834106,35.435440540313714,35.57849717140198,35.72276449203491,35.86860847473144,36.01436758041382,36.160550594329834,36.30645036697387,36.45241904258727,36.598254919052124,36.744288206100464,36.890077352523804,37.03619837760926,37.18198013305664,37.328038454055786,37.47403669357299,37.61999559402466,37.76601338386535,37.9116587638855,38.05778646469116,38.20378398895264,38.349708557128906,38.49564790725707,38.64166879653931,38.78750491142272,38.93357038497924,39.07925033569335,39.225490093231194,39.37135434150695,39.51735258102416,39.66300511360169,39.80921745300293,39.955127477645874,40.101096630096436,40.24701833724975,40.392820835113525,40.53906559944152,40.68419361114502,40.82979440689086,40.97578454017639,41.12175941467285,41.26794123649598,41.413702964782715,41.55958652496338,41.70559763908387,41.8514835834503,41.99759864807128,42.143401861190796,42.28924202919006,42.43536448478699,42.58135008811951,42.72726917266846,42.873418331146226,43.019123792648315,43.165105104446404],[0.0,0.17600393295288175,0.3519198894500768,0.5278642177581796,0.7049832344055202,0.8954949378967276,1.087754249572753,1.2646663188934353,1.4403440952301017,1.6166324615478507,1.791560173034667,1.9674527645111093,2.1443772315978995,2.32035303115845,2.5112130641937283,2.68770146369934,2.864112615585328,3.039823770523072,3.2160191535949716,3.391853332519532,3.567790508270263,3.7435767650604257,3.920882463455201,4.095604181289674,4.271300554275514,4.447275161743161,4.624444246292115,4.798451900482177,4.975343704223634,5.1521668434143075,5.298164367675782,5.4441499710083,5.590098857879638,5.736022710800172,5.882102012634278,6.028035163879395,6.173919916152957,6.319880008697511,6.4658236503601065,6.611816406250001,6.7577946186065665,6.903638839721679,7.049700736999511,7.195436477661132,7.341630697250367,7.487524747848512,7.6334030628204355,7.779452323913575,7.924461364746096,8.068315029144287,8.21429014205933,8.360314846038818,8.506050825119019,8.651946306228641,8.797151088714596,8.941077947616574,9.086813926696777,9.232784509658813,9.378805875778198,9.524868965148926,9.670860290527344,9.815640211105347,9.959680318832397,10.105627536773682,10.251715421676636,10.397542476654053,10.542213916778564,10.685112714767456,10.82804727554321,10.97099494934082,11.113936185836788,11.25690746307373,11.399857759475708,11.542825460433956,11.685795307159427,11.828761100769043,11.971710681915283,12.115924119949344,12.26191258430481,12.407840967178345,12.553795576095585,12.699699401855465,12.845578670501705,12.991660356521606,13.137600183486938,13.283504247665405,13.429541826248169,13.575421810150146,13.720680952072147,13.865316152572628,14.011302709579464,14.157268047332764,14.30316972732544,14.449106693267822,14.595053434371945,14.741048336029053,14.88689637184143,15.032914876937866,15.178890228271484,15.324641942977905,15.470429182052609,15.615629434585571,15.761642456054688,15.907346963882446,16.053539037704464,16.199466466903687,16.34528064727783,16.49140858650207,16.637419700622555,16.783307552337643,16.92925381660461,17.07521915435791,17.221193552017215,17.36706399917603,17.512989044189453,17.658853769302365,17.804917573928833,17.950745820999146,18.09677386283875,18.242650508880615,18.388724327087402,18.534678459167477,18.680662870407108,18.826340436935425,18.972527742385864,19.118463039398197,19.264322996139526,19.410186052322388,19.556222677230835,19.702435731887817,19.848205089569092,19.99426198005676,20.140160322189328,20.28602313995361,20.431953668594357,20.57770562171936,20.723792552947994,20.869835853576664,21.015768289566033,21.16155815124512,21.307711839675907,21.453708171844482,21.59948205947876,21.74543213844299,21.89148759841919,22.03750085830688,22.183390855789185,22.329238653182983,22.475130558013916,22.621263504028317,22.767109870910637,22.913161039352417,23.060097455978397,23.206021547317505,23.352027893066403,23.49786520004272,23.64386963844299,23.789803743362427,23.935661315917972,24.081679344177243,24.227471351623535,24.373571395874023,24.51965761184692,24.665452241897583,24.811604976654053,24.957425594329834,25.103116273880005,25.249308347702026,25.394979238510125,25.5410737991333,25.687127351760864,25.833125352859497,25.97880744934082,26.125054121017456,26.270811796188354,26.41700506210327,26.562846183776855,26.708754301071167,26.85447883605957,27.000638008117676,27.14623785018921,27.29251766204834,27.43844723701477,27.58432149887085,27.73029947280883,27.876317501068115,28.02113676071167,28.165168523788452,28.31114101409912,28.45694327354431,28.603059768676758,28.74914789199829,28.894777059555047,29.040829896926873,29.186877250671387,29.332877159118652,29.478665590286248,29.624648571014404,29.770418405532837,29.916813135147102,30.062447547912598,30.208662033081055,30.354393243789673,30.500500202178955,30.646390676498406,30.792158126831048,30.938141107559204,31.08436059951783,31.230238437652588,31.376116514205926,31.522132635116577,31.66802287101745,31.814067125320435,31.959898233413696,32.1058075428009,32.25175595283508,32.397770643234246,32.54364681243896,32.689589977264404,32.83567285537719,32.98160028457641,33.12745690345764,33.27241539955139,33.415505170822144,33.56034493446351,33.70607495307923,33.85219693183898,33.99804115295411,34.14406251907349,34.28996729850768,34.43479084968567,34.57773756980895,34.72069239616394,34.863622903823845,35.00657510757446,35.14951825141907,35.292563676834106,35.435440540313714,35.57849717140198,35.72276449203491,35.86860847473144,36.01436758041382,36.160550594329834,36.30645036697387,36.45241904258727,36.598254919052124,36.744288206100464,36.890077352523804,37.03619837760926,37.18198013305664,37.328038454055786,37.47403669357299,37.61999559402466,37.76601338386535,37.9116587638855,38.05778646469116,38.20378398895264,38.349708557128906,38.49564790725707,38.64166879653931,38.78750491142272,38.93357038497924,39.07925033569335,39.225490093231194,39.37135434150695,39.51735258102416,39.66300511360169,39.80921745300293,39.955127477645874,40.101096630096436,40.24701833724975,40.392820835113525,40.53906559944152,40.68419361114502,40.82979440689086,40.97578454017639,41.12175941467285,41.26794123649598,41.413702964782715,41.55958652496338,41.70559763908387,41.8514835834503,41.99759864807128,42.143401861190796,42.28924202919006,42.43536448478699,42.58135008811951,42.72726917266846,42.873418331146226,43.019123792648315,43.165105104446404],[0.0,0.17600393295288175,0.3519198894500768,0.5278642177581796,0.7049832344055202,0.8954949378967276,1.087754249572753,1.2646663188934353,1.4403440952301017,1.6166324615478507,1.791560173034667,1.9674527645111093,2.1443772315978995,2.32035303115845,2.5112130641937283,2.68770146369934,2.864112615585328,3.039823770523072,3.2160191535949716,3.391853332519532,3.567790508270263,3.7435767650604257,3.920882463455201,4.095604181289674,4.271300554275514,4.447275161743161,4.624444246292115,4.798451900482177,4.975343704223634,5.1521668434143075,5.298164367675782,5.4441499710083,5.590098857879638,5.736022710800172,5.882102012634278,6.028035163879395,6.173919916152957,6.319880008697511,6.4658236503601065,6.611816406250001,6.7577946186065665,6.903638839721679,7.049700736999511,7.195436477661132,7.341630697250367,7.487524747848512,7.6334030628204355,7.779452323913575,7.924461364746096,8.068315029144287,8.21429014205933,8.360314846038818,8.506050825119019,8.651946306228641,8.797151088714596,8.941077947616574,9.086813926696777,9.232784509658813,9.378805875778198,9.524868965148926,9.670860290527344,9.815640211105347,9.959680318832397,10.105627536773682,10.251715421676636,10.397542476654053,10.542213916778564,10.685112714767456,10.82804727554321,10.97099494934082,11.113936185836788,11.25690746307373,11.399857759475708,11.542825460433956,11.685795307159427,11.828761100769043,11.971710681915283,12.115924119949344,12.26191258430481,12.407840967178345,12.553795576095585,12.699699401855465,12.845578670501705,12.991660356521606,13.137600183486938,13.283504247665405,13.429541826248169,13.575421810150146,13.720680952072147,13.865316152572628,14.011302709579464,14.157268047332764,14.30316972732544,14.449106693267822,14.595053434371945,14.741048336029053,14.88689637184143,15.032914876937866,15.178890228271484,15.324641942977905,15.470429182052609,15.615629434585571,15.761642456054688,15.907346963882446,16.053539037704464,16.199466466903687,16.34528064727783,16.49140858650207,16.637419700622555,16.783307552337643,16.92925381660461,17.07521915435791,17.221193552017215,17.36706399917603,17.512989044189453,17.658853769302365,17.804917573928833,17.950745820999146,18.09677386283875,18.242650508880615,18.388724327087402,18.534678459167477,18.680662870407108,18.826340436935425,18.972527742385864,19.118463039398197,19.264322996139526,19.410186052322388,19.556222677230835,19.702435731887817,19.848205089569092,19.99426198005676,20.140160322189328,20.28602313995361,20.431953668594357,20.57770562171936,20.723792552947994,20.869835853576664,21.015768289566033,21.16155815124512,21.307711839675907,21.453708171844482,21.59948205947876,21.74543213844299,21.89148759841919,22.03750085830688,22.183390855789185,22.329238653182983,22.475130558013916,22.621263504028317,22.767109870910637,22.913161039352417,23.060097455978397,23.206021547317505,23.352027893066403,23.49786520004272,23.64386963844299,23.789803743362427,23.935661315917972,24.081679344177243,24.227471351623535,24.373571395874023,24.51965761184692,24.665452241897583,24.811604976654053,24.957425594329834,25.103116273880005,25.249308347702026,25.394979238510125,25.5410737991333,25.687127351760864,25.833125352859497,25.97880744934082,26.125054121017456,26.270811796188354,26.41700506210327,26.562846183776855,26.708754301071167,26.85447883605957,27.000638008117676,27.14623785018921,27.29251766204834,27.43844723701477,27.58432149887085,27.73029947280883,27.876317501068115,28.02113676071167,28.165168523788452,28.31114101409912,28.45694327354431,28.603059768676758,28.74914789199829,28.894777059555047,29.040829896926873,29.186877250671387,29.332877159118652,29.478665590286248,29.624648571014404,29.770418405532837,29.916813135147102,30.062447547912598,30.208662033081055,30.354393243789673,30.500500202178955,30.646390676498406,30.792158126831048,30.938141107559204,31.08436059951783,31.230238437652588,31.376116514205926,31.522132635116577,31.66802287101745,31.814067125320435,31.959898233413696,32.1058075428009,32.25175595283508,32.397770643234246,32.54364681243896,32.689589977264404,32.83567285537719,32.98160028457641,33.12745690345764,33.27241539955139,33.415505170822144,33.56034493446351,33.70607495307923,33.85219693183898,33.99804115295411,34.14406251907349,34.28996729850768,34.43479084968567,34.57773756980895,34.72069239616394,34.863622903823845,35.00657510757446,35.14951825141907,35.292563676834106,35.435440540313714,35.57849717140198,35.72276449203491,35.86860847473144,36.01436758041382,36.160550594329834,36.30645036697387,36.45241904258727,36.598254919052124,36.744288206100464,36.890077352523804,37.03619837760926,37.18198013305664,37.328038454055786,37.47403669357299,37.61999559402466,37.76601338386535,37.9116587638855,38.05778646469116,38.20378398895264,38.349708557128906,38.49564790725707,38.64166879653931,38.78750491142272,38.93357038497924,39.07925033569335,39.225490093231194,39.37135434150695,39.51735258102416,39.66300511360169,39.80921745300293,39.955127477645874,40.101096630096436,40.24701833724975,40.392820835113525,40.53906559944152,40.68419361114502,40.82979440689086,40.97578454017639,41.12175941467285,41.26794123649598,41.413702964782715,41.55958652496338,41.70559763908387,41.8514835834503,41.99759864807128,42.143401861190796,42.28924202919006,42.43536448478699,42.58135008811951,42.72726917266846,42.873418331146226,43.019123792648315,43.165105104446404]],\"ys\":[[1.0,2.0,1.0,2.0,1.0,1.0,1.0,1.0,1.0,1.0,1.0,1.0,1.0,0.0,1.0,0.0,1.0,1.0,1.0,1.0,1.0,1.0,0.0,1.0,1.0,1.0,1.0,1.0,1.0,1.0,2.0,0.0,1.0,1.0,2.0,1.0,0.0,1.0,1.0,1.0,1.0,1.0,2.0,1.0,2.0,1.0,2.0,1.0,1.0,1.0,1.0,2.0,1.0,4.0,2.0,1.0,1.0,1.0,1.0,1.0,1.0,1.0,1.0,1.0,1.0,0.0,1.0,1.0,1.0,0.0,0.0,0.0,0.0,0.0,0.0,1.0,0.0,0.0,1.0,1.0,1.0,1.0,1.0,1.0,0.0,1.0,1.0,0.0,1.0,1.0,1.0,0.0,1.0,2.0,1.0,1.0,1.0,1.0,1.0,1.0,1.0,2.0,1.0,1.0,2.0,1.0,1.0,1.0,2.0,2.0,2.0,2.0,0.0,1.0,2.0,2.0,2.0,2.0,1.0,1.0,1.0,1.0,2.0,2.0,1.0,1.0,1.0,1.0,1.0,1.0,1.0,2.0,2.0,2.0,2.0,2.0,2.0,2.0,1.0,1.0,1.0,1.0,2.0,1.0,2.0,1.0,1.0,1.0,2.0,2.0,1.0,1.0,1.0,2.0,1.0,1.0,2.0,2.0,1.0,1.0,1.0,2.0,2.0,2.0,1.0,1.0,2.0,1.0,2.0,2.0,2.0,2.0,2.0,2.0,1.0,1.0,0.0,2.0,2.0,1.0,2.0,2.0,2.0,2.0,1.0,2.0,1.0,1.0,1.0,1.0,1.0,2.0,2.0,2.0,2.0,1.0,1.0,1.0,1.0,1.0,1.0,1.0,0.0,1.0,1.0,1.0,1.0,1.0,1.0,1.0,1.0,1.0,2.0,1.0,1.0,2.0,1.0,1.0,1.0,2.0,1.0,2.0,1.0,1.0,1.0,1.0,1.0,1.0,1.0,1.0,1.0,1.0,1.0,0.0,1.0,1.0,1.0,1.0,1.0,1.0,1.0,0.0,1.0,1.0,1.0,1.0,1.0,2.0,2.0,2.0,1.0,2.0,1.0,1.0,2.0,2.0,2.0,2.0,2.0,2.0,2.0,2.0,2.0,2.0,1.0,2.0,2.0,2.0,2.0,2.0,2.0,2.0,2.0,2.0,2.0,2.0,2.0,3.0,3.0,2.0,2.0,2.0,3.0,2.0,2.0,2.0,2.0,2.0,2.0,2.0,2.0],[1.0,1.0,1.0,1.0,9.0,11.0,17.0,15.0,32.0,37.0,21.0,33.0,45.0,6.0,13.0,5.0,3.0,23.0,28.0,27.0,28.0,28.0,11.0,16.0,18.0,23.0,21.0,14.0,17.0,17.0,10.0,12.0,12.0,12.0,17.0,16.0,21.0,17.0,18.0,13.0,18.0,17.0,21.0,17.0,18.0,21.0,21.0,18.0,12.0,31.0,13.0,33.0,35.0,38.0,42.0,21.0,22.0,26.0,19.0,25.0,26.0,16.0,26.0,40.0,46.0,45.0,37.0,34.0,46.0,33.0,36.0,37.0,29.0,23.0,34.0,34.0,32.0,32.0,30.0,58.0,38.0,19.0,24.0,34.0,21.0,28.0,22.0,12.0,27.0,13.0,12.0,31.0,17.0,14.0,6.0,5.0,7.0,7.0,9.0,14.0,22.0,27.0,20.0,22.0,28.0,59.0,29.0,28.0,37.0,25.0,25.0,28.0,32.0,33.0,32.0,43.0,52.0,68.0,80.0,76.0,85.0,89.0,86.0,78.0,89.0,50.0,68.0,76.0,94.0,104.0,105.0,106.0,109.0,125.0,121.0,128.0,130.0,105.0,34.0,45.0,42.0,34.0,35.0,39.0,44.0,43.0,36.0,36.0,39.0,37.0,39.0,34.0,35.0,37.0,38.0,33.0,36.0,38.0,36.0,41.0,40.0,55.0,54.0,52.0,42.0,38.0,37.0,35.0,35.0,37.0,49.0,50.0,54.0,52.0,53.0,65.0,78.0,63.0,38.0,38.0,38.0,42.0,41.0,40.0,49.0,43.0,49.0,50.0,50.0,57.0,55.0,56.0,55.0,59.0,49.0,46.0,46.0,49.0,52.0,49.0,56.0,53.0,50.0,47.0,50.0,54.0,50.0,50.0,50.0,45.0,44.0,40.0,41.0,40.0,49.0,40.0,35.0,38.0,41.0,36.0,36.0,43.0,49.0,50.0,51.0,42.0,49.0,46.0,47.0,53.0,54.0,56.0,48.0,43.0,47.0,49.0,50.0,48.0,44.0,42.0,46.0,44.0,47.0,58.0,57.0,59.0,46.0,44.0,45.0,44.0,43.0,46.0,46.0,49.0,41.0,45.0,38.0,39.0,38.0,38.0,38.0,42.0,36.0,43.0,45.0,44.0,34.0,45.0,41.0,36.0,34.0,39.0,34.0,37.0,33.0,44.0,33.0,39.0,38.0,41.0,45.0,42.0,44.0,46.0,42.0,43.0,45.0,39.0,42.0,34.0,34.0],[18.0,19.0,20.0,23.0,14.0,14.0,14.0,22.0,19.0,18.0,22.0,7.0,19.0,7.0,0.0,0.0,42.0,62.0,60.0,69.0,76.0,82.0,89.0,85.0,93.0,95.0,90.0,90.0,100.0,91.0,99.0,103.0,107.0,109.0,110.0,111.0,109.0,112.0,113.0,118.0,120.0,117.0,120.0,113.0,123.0,117.0,120.0,122.0,127.0,125.0,122.0,115.0,99.0,78.0,76.0,78.0,94.0,93.0,96.0,94.0,108.0,143.0,117.0,125.0,123.0,138.0,139.0,137.0,129.0,139.0,140.0,154.0,483.0,483.0,483.0,483.0,483.0,483.0,483.0,483.0,483.0,483.0,484.0,483.0,483.0,483.0,483.0,483.0,483.0,483.0,483.0,483.0,483.0,483.0,483.0,483.0,483.0,483.0,483.0,483.0,483.0,483.0,483.0,483.0,483.0,483.0,483.0,483.0,483.0,483.0,483.0,483.0,483.0,483.0,483.0,483.0,483.0,483.0,483.0,483.0,483.0,483.0,483.0,483.0,483.0,483.0,483.0,483.0,483.0,483.0,483.0,483.0,483.0,483.0,483.0,483.0,483.0,483.0,259.0,232.0,233.0,204.0,206.0,198.0,191.0,191.0,183.0,196.0,199.0,201.0,200.0,215.0,196.0,199.0,201.0,215.0,210.0,214.0,216.0,212.0,224.0,221.0,206.0,203.0,209.0,210.0,206.0,208.0,215.0,212.0,220.0,228.0,230.0,229.0,223.0,228.0,234.0,235.0,234.0,231.0,234.0,235.0,242.0,243.0,241.0,240.0,238.0,235.0,235.0,239.0,244.0,245.0,249.0,250.0,245.0,246.0,247.0,249.0,249.0,243.0,239.0,237.0,242.0,235.0,236.0,243.0,244.0,243.0,247.0,244.0,244.0,247.0,252.0,252.0,249.0,251.0,253.0,255.0,254.0,254.0,253.0,256.0,248.0,253.0,251.0,246.0,247.0,248.0,255.0,254.0,255.0,253.0,256.0,250.0,253.0,255.0,272.0,268.0,274.0,261.0,264.0,261.0,269.0,268.0,265.0,266.0,263.0,274.0,276.0,269.0,270.0,269.0,281.0,268.0,268.0,271.0,266.0,286.0,286.0,286.0,289.0,286.0,287.0,284.0,289.0,293.0,297.0,33.0,292.0,297.0,295.0,297.0,295.0,294.0,295.0,294.0,294.0,297.0,299.0,300.0,303.0,300.0,300.0,306.0,308.0,301.0,300.0,304.0,298.0,299.0,297.0],[2.0,9.0,14.0,18.0,7.0,5.0,5.0,5.0,4.0,5.0,11.0,13.0,11.0,13.0,14.0,17.0,19.0,21.0,21.0,22.0,22.0,22.0,22.0,22.0,23.0,24.0,24.0,24.0,24.0,27.0,27.0,30.0,29.0,31.0,30.0,29.0,32.0,32.0,32.0,33.0,34.0,31.0,32.0,36.0,35.0,37.0,36.0,37.0,36.0,36.0,41.0,41.0,30.0,29.0,22.0,42.0,48.0,66.0,60.0,43.0,38.0,44.0,50.0,62.0,72.0,53.0,47.0,52.0,62.0,62.0,60.0,71.0,72.0,52.0,55.0,70.0,59.0,71.0,71.0,49.0,61.0,68.0,70.0,50.0,72.0,80.0,95.0,99.0,100.0,126.0,135.0,144.0,145.0,132.0,130.0,129.0,135.0,152.0,156.0,153.0,148.0,165.0,168.0,177.0,178.0,176.0,165.0,153.0,157.0,147.0,137.0,136.0,130.0,135.0,121.0,111.0,121.0,124.0,123.0,132.0,132.0,139.0,129.0,141.0,134.0,120.0,129.0,134.0,131.0,123.0,112.0,94.0,77.0,75.0,78.0,78.0,90.0,106.0,103.0,106.0,108.0,116.0,121.0,119.0,124.0,121.0,129.0,127.0,127.0,130.0,134.0,137.0,131.0,137.0,139.0,140.0,138.0,140.0,141.0,139.0,139.0,139.0,139.0,140.0,141.0,144.0,148.0,148.0,141.0,152.0,148.0,145.0,147.0,152.0,152.0,147.0,150.0,145.0,156.0,144.0,154.0,144.0,144.0,145.0,144.0,146.0,144.0,151.0,146.0,155.0,144.0,149.0,161.0,160.0,145.0,149.0,152.0,144.0,142.0,158.0,159.0,149.0,144.0,147.0,141.0,141.0,149.0,153.0,152.0,151.0,149.0,143.0,147.0,150.0,152.0,147.0,148.0,156.0,143.0,145.0,145.0,147.0,142.0,143.0,155.0,150.0,145.0,150.0,145.0,160.0,151.0,148.0,155.0,148.0,152.0,145.0,145.0,157.0,160.0,159.0,159.0,161.0,147.0,145.0,152.0,157.0,150.0,148.0,143.0,140.0,153.0,150.0,147.0,163.0,164.0,160.0,158.0,151.0,148.0,165.0,160.0,158.0,157.0,164.0,163.0,160.0,166.0,167.0,162.0,165.0,164.0,164.0,165.0,163.0,162.0,164.0,168.0,171.0,170.0,173.0,176.0,176.0,175.0,176.0,176.0,174.0,176.0,174.0,174.0,175.0,176.0]]},\"selected\":{\"id\":\"1052\"},\"selection_policy\":{\"id\":\"1051\"}},\"id\":\"1032\",\"type\":\"ColumnDataSource\"},{\"attributes\":{\"axis\":{\"id\":\"1014\"},\"coordinates\":null,\"group\":null,\"ticker\":null},\"id\":\"1017\",\"type\":\"Grid\"},{\"attributes\":{},\"id\":\"1022\",\"type\":\"PanTool\"},{\"attributes\":{\"line_alpha\":{\"value\":0.1},\"line_color\":{\"field\":\"line_color\"},\"line_width\":{\"value\":2},\"xs\":{\"field\":\"xs\"},\"ys\":{\"field\":\"ys\"}},\"id\":\"1034\",\"type\":\"MultiLine\"},{\"attributes\":{},\"id\":\"1023\",\"type\":\"WheelZoomTool\"},{\"attributes\":{},\"id\":\"1019\",\"type\":\"BasicTicker\"},{\"attributes\":{\"line_alpha\":{\"value\":0.2},\"line_color\":{\"field\":\"line_color\"},\"line_width\":{\"value\":2},\"xs\":{\"field\":\"xs\"},\"ys\":{\"field\":\"ys\"}},\"id\":\"1035\",\"type\":\"MultiLine\"},{\"attributes\":{},\"id\":\"1047\",\"type\":\"AllLabels\"},{\"attributes\":{\"overlay\":{\"id\":\"1026\"}},\"id\":\"1024\",\"type\":\"BoxZoomTool\"},{\"attributes\":{},\"id\":\"1049\",\"type\":\"BasicTickFormatter\"},{\"attributes\":{\"line_color\":{\"field\":\"line_color\"},\"line_width\":{\"value\":2},\"xs\":{\"field\":\"xs\"},\"ys\":{\"field\":\"ys\"}},\"id\":\"1033\",\"type\":\"MultiLine\"},{\"attributes\":{\"coordinates\":null,\"data_source\":{\"id\":\"1032\"},\"glyph\":{\"id\":\"1033\"},\"group\":null,\"hover_glyph\":null,\"muted_glyph\":{\"id\":\"1035\"},\"nonselection_glyph\":{\"id\":\"1034\"},\"view\":{\"id\":\"1037\"}},\"id\":\"1036\",\"type\":\"GlyphRenderer\"},{\"attributes\":{},\"id\":\"1050\",\"type\":\"AllLabels\"},{\"attributes\":{\"tools\":[{\"id\":\"1022\"},{\"id\":\"1023\"},{\"id\":\"1024\"},{\"id\":\"1025\"}]},\"id\":\"1027\",\"type\":\"Toolbar\"},{\"attributes\":{\"axis_label\":\"Signal\",\"coordinates\":null,\"formatter\":{\"id\":\"1046\"},\"group\":null,\"major_label_policy\":{\"id\":\"1047\"},\"ticker\":{\"id\":\"1019\"}},\"id\":\"1018\",\"type\":\"LinearAxis\"},{\"attributes\":{},\"id\":\"1052\",\"type\":\"Selection\"},{\"attributes\":{\"line_alpha\":0.2,\"line_dash\":[2,4],\"line_width\":2,\"x\":{\"field\":\"x\"},\"y\":{\"field\":\"y\"}},\"id\":\"1041\",\"type\":\"Line\"},{\"attributes\":{},\"id\":\"1012\",\"type\":\"LinearScale\"},{\"attributes\":{\"data\":{\"x\":{\"__ndarray__\":\"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\",\"dtype\":\"float64\",\"order\":\"little\",\"shape\":[291]},\"y\":{\"__ndarray__\":\"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\",\"dtype\":\"float64\",\"order\":\"little\",\"shape\":[291]}},\"selected\":{\"id\":\"1054\"},\"selection_policy\":{\"id\":\"1053\"}},\"id\":\"1038\",\"type\":\"ColumnDataSource\"},{\"attributes\":{},\"id\":\"1051\",\"type\":\"UnionRenderers\"},{\"attributes\":{},\"id\":\"1010\",\"type\":\"LinearScale\"},{\"attributes\":{},\"id\":\"1054\",\"type\":\"Selection\"},{\"attributes\":{},\"id\":\"1006\",\"type\":\"DataRange1d\"},{\"attributes\":{\"bottom_units\":\"screen\",\"coordinates\":null,\"fill_alpha\":0.5,\"fill_color\":\"lightgrey\",\"group\":null,\"left_units\":\"screen\",\"level\":\"overlay\",\"line_alpha\":1.0,\"line_color\":\"black\",\"line_dash\":[4,4],\"line_width\":2,\"right_units\":\"screen\",\"syncable\":false,\"top_units\":\"screen\"},\"id\":\"1026\",\"type\":\"BoxAnnotation\"},{\"attributes\":{\"axis\":{\"id\":\"1018\"},\"coordinates\":null,\"dimension\":1,\"group\":null,\"ticker\":null},\"id\":\"1021\",\"type\":\"Grid\"},{\"attributes\":{\"line_alpha\":0.1,\"line_dash\":[2,4],\"line_width\":2,\"x\":{\"field\":\"x\"},\"y\":{\"field\":\"y\"}},\"id\":\"1040\",\"type\":\"Line\"},{\"attributes\":{},\"id\":\"1053\",\"type\":\"UnionRenderers\"},{\"attributes\":{\"coordinates\":null,\"data_source\":{\"id\":\"1038\"},\"glyph\":{\"id\":\"1039\"},\"group\":null,\"hover_glyph\":null,\"muted_glyph\":{\"id\":\"1041\"},\"nonselection_glyph\":{\"id\":\"1040\"},\"view\":{\"id\":\"1043\"}},\"id\":\"1042\",\"type\":\"GlyphRenderer\"},{\"attributes\":{\"line_dash\":[2,4],\"line_width\":2,\"x\":{\"field\":\"x\"},\"y\":{\"field\":\"y\"}},\"id\":\"1039\",\"type\":\"Line\"},{\"attributes\":{},\"id\":\"1015\",\"type\":\"BasicTicker\"},{\"attributes\":{\"axis_label\":\"Time (s)\",\"coordinates\":null,\"formatter\":{\"id\":\"1049\"},\"group\":null,\"major_label_policy\":{\"id\":\"1050\"},\"ticker\":{\"id\":\"1015\"}},\"id\":\"1014\",\"type\":\"LinearAxis\"},{\"attributes\":{\"coordinates\":null,\"group\":null,\"text\":\"Egg Manipulator Sensor Readings\"},\"id\":\"1004\",\"type\":\"Title\"},{\"attributes\":{},\"id\":\"1025\",\"type\":\"ResetTool\"},{\"attributes\":{},\"id\":\"1008\",\"type\":\"DataRange1d\"},{\"attributes\":{\"source\":{\"id\":\"1038\"}},\"id\":\"1043\",\"type\":\"CDSView\"}],\"root_ids\":[\"1003\"]},\"title\":\"Bokeh Application\",\"version\":\"2.4.2\"}};\n",
       "  const render_items = [{\"docid\":\"1411867a-776c-42be-b854-c0f460bfdd3f\",\"root_ids\":[\"1003\"],\"roots\":{\"1003\":\"283aaa2e-756f-4dad-bdc3-4226cd2b1c80\"}}];\n",
       "  root.Bokeh.embed.embed_items_notebook(docs_json, render_items);\n",
       "\n",
       "  }\n",
       "  if (root.Bokeh !== undefined) {\n",
       "    embed_document(root);\n",
       "  } else {\n",
       "    let attempts = 0;\n",
       "    const timer = setInterval(function(root) {\n",
       "      if (root.Bokeh !== undefined) {\n",
       "        clearInterval(timer);\n",
       "        embed_document(root);\n",
       "      } else {\n",
       "        attempts++;\n",
       "        if (attempts > 100) {\n",
       "          clearInterval(timer);\n",
       "          console.log(\"Bokeh: ERROR: Unable to run BokehJS code because BokehJS library is missing\");\n",
       "        }\n",
       "      }\n",
       "    }, 10, root)\n",
       "  }\n",
       "})(window);"
      ],
      "application/vnd.bokehjs_exec.v0+json": ""
     },
     "metadata": {
      "application/vnd.bokehjs_exec.v0+json": {
       "id": "1003"
      }
     },
     "output_type": "display_data"
    }
   ],
   "source": [
    "process_data(\"egg\",\"egg_hist_pres_0912131054\", 5, \"Egg Manipulator Sensor Readings\")"
   ]
  },
  {
   "cell_type": "markdown",
   "metadata": {},
   "source": [
    "## Wing Nut Data"
   ]
  },
  {
   "cell_type": "code",
   "execution_count": 12,
   "metadata": {},
   "outputs": [
    {
     "data": {
      "text/html": [
       "\n",
       "\n",
       "\n",
       "\n",
       "\n",
       "\n",
       "  <div class=\"bk-root\" id=\"f0fd44ef-2d02-4ac9-9542-f82642da694c\" data-root-id=\"19286\"></div>\n"
      ]
     },
     "metadata": {},
     "output_type": "display_data"
    },
    {
     "data": {
      "application/javascript": [
       "(function(root) {\n",
       "  function embed_document(root) {\n",
       "    \n",
       "  const docs_json = {\"0df250d8-f389-4458-82b2-7f6cbcd075f3\":{\"defs\":[],\"roots\":{\"references\":[{\"attributes\":{\"below\":[{\"id\":\"19297\"}],\"center\":[{\"id\":\"19300\"},{\"id\":\"19304\"}],\"height\":300,\"left\":[{\"id\":\"19301\"}],\"renderers\":[{\"id\":\"19319\"},{\"id\":\"19325\"}],\"title\":{\"id\":\"19287\"},\"toolbar\":{\"id\":\"19310\"},\"width\":900,\"x_range\":{\"id\":\"19289\"},\"x_scale\":{\"id\":\"19293\"},\"y_range\":{\"id\":\"19291\"},\"y_scale\":{\"id\":\"19295\"}},\"id\":\"19286\",\"subtype\":\"Figure\",\"type\":\"Plot\"},{\"attributes\":{\"source\":{\"id\":\"19321\"}},\"id\":\"19326\",\"type\":\"CDSView\"},{\"attributes\":{\"line_alpha\":{\"value\":0.2},\"line_color\":{\"field\":\"line_color\"},\"line_width\":{\"value\":2},\"xs\":{\"field\":\"xs\"},\"ys\":{\"field\":\"ys\"}},\"id\":\"19318\",\"type\":\"MultiLine\"},{\"attributes\":{},\"id\":\"19305\",\"type\":\"PanTool\"},{\"attributes\":{},\"id\":\"19894\",\"type\":\"AllLabels\"},{\"attributes\":{},\"id\":\"19293\",\"type\":\"LinearScale\"},{\"attributes\":{},\"id\":\"19291\",\"type\":\"DataRange1d\"},{\"attributes\":{\"coordinates\":null,\"data_source\":{\"id\":\"19315\"},\"glyph\":{\"id\":\"19316\"},\"group\":null,\"hover_glyph\":null,\"muted_glyph\":{\"id\":\"19318\"},\"nonselection_glyph\":{\"id\":\"19317\"},\"view\":{\"id\":\"19320\"}},\"id\":\"19319\",\"type\":\"GlyphRenderer\"},{\"attributes\":{},\"id\":\"19308\",\"type\":\"ResetTool\"},{\"attributes\":{},\"id\":\"19302\",\"type\":\"BasicTicker\"},{\"attributes\":{},\"id\":\"19893\",\"type\":\"BasicTickFormatter\"},{\"attributes\":{\"line_alpha\":{\"value\":0.1},\"line_color\":{\"field\":\"line_color\"},\"line_width\":{\"value\":2},\"xs\":{\"field\":\"xs\"},\"ys\":{\"field\":\"ys\"}},\"id\":\"19317\",\"type\":\"MultiLine\"},{\"attributes\":{\"overlay\":{\"id\":\"19309\"}},\"id\":\"19307\",\"type\":\"BoxZoomTool\"},{\"attributes\":{\"axis_label\":\"Signal\",\"coordinates\":null,\"formatter\":{\"id\":\"19893\"},\"group\":null,\"major_label_policy\":{\"id\":\"19894\"},\"ticker\":{\"id\":\"19302\"}},\"id\":\"19301\",\"type\":\"LinearAxis\"},{\"attributes\":{\"source\":{\"id\":\"19315\"}},\"id\":\"19320\",\"type\":\"CDSView\"},{\"attributes\":{},\"id\":\"19298\",\"type\":\"BasicTicker\"},{\"attributes\":{\"axis\":{\"id\":\"19297\"},\"coordinates\":null,\"group\":null,\"ticker\":null},\"id\":\"19300\",\"type\":\"Grid\"},{\"attributes\":{},\"id\":\"19898\",\"type\":\"UnionRenderers\"},{\"attributes\":{\"coordinates\":null,\"group\":null,\"text\":\"Wing Nut Manipulator Sensor Readings\"},\"id\":\"19287\",\"type\":\"Title\"},{\"attributes\":{\"axis\":{\"id\":\"19301\"},\"coordinates\":null,\"dimension\":1,\"group\":null,\"ticker\":null},\"id\":\"19304\",\"type\":\"Grid\"},{\"attributes\":{\"data\":{\"x\":{\"__ndarray__\":\"AAAAAAAAAAD8//+fJ0IMQAAAAIBIKg9A/v///z6sHUD+//9fpwEfQAEAAGidiiZA/f//v5EpJ0D9//8P6S8uQPv//zd0zC5AAAAAFLTpMkAAAAAoTDgzQAAAAKytwDZAAAAArIUON0AAAACYSZE6QAIAAAxS2TpAAAAA+LFePkAAAAB8sxo/QAAAAAA/q0NA////r5ZJRED///+5xMlEQAAAAHSI8ERAAAAAIjy0RkAAAABaLNtGQP///yGQn0hAAQAA1nLLSEAAAACwJYpKQP///9l1r0pAAAAAxLhxTEAAAAC4sJZMQAAAAOwgV05AAAAAzo17TkAAAAAHtB1QQP///4VbMVBAAQAAc0wSUUD///81BidRQAAAABdmCFJAAAAAVwg6UkD+//8+d0RUQAAAAG7em1RA/v//PxncVEAAAADQoO9UQAAAACoiz1VA////66ThVUAAAABo0MJWQAAAALsu11ZA////HOi4V0D///9eK81XQAEAAJXYsFhA////SpXFWED////lsDJZQAAAAPIPR1lA////9WG0WUAAAACVFMdZQP///zYeM1pA/////z5GWkAAAAC6FrZaQAAAAP3CzVpAAgAA2C1vW0AAAAA5napbQAEAAPTi7FtA////r1cBXED///9Kl25cQAAAAFAEglxAAAAAVabwXEAAAAAhlgNdQAAAABzRc11AAAAANBOHXUAAAABiafZdQAAAAEsjEV5AAAAAYf+0XkAAAACSzwNfQAAAAFTJRV9AAAAAkl9aX0AAAACmZsdfQAAAAC0I3l9AAAAAaeQlYEAAAAD1kjFgQA==\",\"dtype\":\"float64\",\"order\":\"little\",\"shape\":[77]},\"y\":{\"__ndarray__\":\"AAAAAAAAaUAAAAAAAABpQAAAAAAAAGlAAAAAAAAAaUAAAAAAAABpQAAAAAAAAGlAAAAAAAAAaUAAAAAAAABpQAAAAAAAAGlAAAAAAAAAaUAAAAAAAABpQAAAAAAAAGlAAAAAAAAAaUAAAAAAAABpQAAAAAAAAGlAAAAAAAAAaUAAAAAAAABpQAAAAAAAAGlAAAAAAAAAaUAAAAAAAABpQAAAAAAAAGlAAAAAAAAAaUAAAAAAAABpQAAAAAAAAGlAAAAAAAAAaUAAAAAAAABpQAAAAAAAAGlAAAAAAAAAaUAAAAAAAABpQAAAAAAAAGlAAAAAAAAAaUAAAAAAAABpQAAAAAAAAGlAAAAAAAAAaUAAAAAAAABpQAAAAAAAAGlAAAAAAAAAaUAAAAAAAABpQAAAAAAAAGlAAAAAAAAAaUAAAAAAAABpQAAAAAAAAGlAAAAAAAAAaUAAAAAAAABpQAAAAAAAAGlAAAAAAAAAaUAAAAAAAABpQAAAAAAAAGlAAAAAAAAAaUAAAAAAAABpQAAAAAAAAGlAAAAAAAAAaUAAAAAAAABpQAAAAAAAAGlAAAAAAAAAaUAAAAAAAABpQAAAAAAAAGlAAAAAAAAAaUAAAAAAAABpQAAAAAAAAGlAAAAAAAAAaUAAAAAAAABpQAAAAAAAAGlAAAAAAAAAaUAAAAAAAABpQAAAAAAAAGlAAAAAAAAAaUAAAAAAAABpQAAAAAAAAGlAAAAAAAAAaUAAAAAAAABpQAAAAAAAAGlAAAAAAAAAaUAAAAAAAABpQAAAAAAAAGlAAAAAAAAAaUAAAAAAAABpQA==\",\"dtype\":\"float64\",\"order\":\"little\",\"shape\":[77]}},\"selected\":{\"id\":\"19901\"},\"selection_policy\":{\"id\":\"19900\"}},\"id\":\"19321\",\"type\":\"ColumnDataSource\"},{\"attributes\":{},\"id\":\"19899\",\"type\":\"Selection\"},{\"attributes\":{\"axis_label\":\"Time (s)\",\"coordinates\":null,\"formatter\":{\"id\":\"19896\"},\"group\":null,\"major_label_policy\":{\"id\":\"19897\"},\"ticker\":{\"id\":\"19298\"}},\"id\":\"19297\",\"type\":\"LinearAxis\"},{\"attributes\":{},\"id\":\"19901\",\"type\":\"Selection\"},{\"attributes\":{},\"id\":\"19289\",\"type\":\"DataRange1d\"},{\"attributes\":{},\"id\":\"19900\",\"type\":\"UnionRenderers\"},{\"attributes\":{},\"id\":\"19295\",\"type\":\"LinearScale\"},{\"attributes\":{},\"id\":\"19896\",\"type\":\"BasicTickFormatter\"},{\"attributes\":{\"bottom_units\":\"screen\",\"coordinates\":null,\"fill_alpha\":0.5,\"fill_color\":\"lightgrey\",\"group\":null,\"left_units\":\"screen\",\"level\":\"overlay\",\"line_alpha\":1.0,\"line_color\":\"black\",\"line_dash\":[4,4],\"line_width\":2,\"right_units\":\"screen\",\"syncable\":false,\"top_units\":\"screen\"},\"id\":\"19309\",\"type\":\"BoxAnnotation\"},{\"attributes\":{\"line_alpha\":0.1,\"line_dash\":[2,4],\"line_width\":2,\"x\":{\"field\":\"x\"},\"y\":{\"field\":\"y\"}},\"id\":\"19323\",\"type\":\"Line\"},{\"attributes\":{\"line_color\":{\"field\":\"line_color\"},\"line_width\":{\"value\":2},\"xs\":{\"field\":\"xs\"},\"ys\":{\"field\":\"ys\"}},\"id\":\"19316\",\"type\":\"MultiLine\"},{\"attributes\":{\"coordinates\":null,\"data_source\":{\"id\":\"19321\"},\"glyph\":{\"id\":\"19322\"},\"group\":null,\"hover_glyph\":null,\"muted_glyph\":{\"id\":\"19324\"},\"nonselection_glyph\":{\"id\":\"19323\"},\"view\":{\"id\":\"19326\"}},\"id\":\"19325\",\"type\":\"GlyphRenderer\"},{\"attributes\":{\"tools\":[{\"id\":\"19305\"},{\"id\":\"19306\"},{\"id\":\"19307\"},{\"id\":\"19308\"}]},\"id\":\"19310\",\"type\":\"Toolbar\"},{\"attributes\":{\"line_alpha\":0.2,\"line_dash\":[2,4],\"line_width\":2,\"x\":{\"field\":\"x\"},\"y\":{\"field\":\"y\"}},\"id\":\"19324\",\"type\":\"Line\"},{\"attributes\":{},\"id\":\"19306\",\"type\":\"WheelZoomTool\"},{\"attributes\":{\"line_dash\":[2,4],\"line_width\":2,\"x\":{\"field\":\"x\"},\"y\":{\"field\":\"y\"}},\"id\":\"19322\",\"type\":\"Line\"},{\"attributes\":{},\"id\":\"19897\",\"type\":\"AllLabels\"},{\"attributes\":{\"data\":{\"line_color\":[\"blue\"],\"xs\":[[0.0,3.5323021411895734,3.895646095275879,7.418209075927733,7.751615047454832,11.270732164382936,11.581190109252924,15.093575000762934,15.39932417869567,18.912904024124146,19.21991205215454,22.752650022506714,23.056727170944214,26.56752920150757,26.84890818595887,30.369903087615967,31.10430121421814,39.337860107421875,40.574911117553704,41.57631611824035,41.87916421890259,45.408085107803345,45.71229100227356,49.24658608436584,49.58944201469422,53.079275131225586,53.37078404426574,56.88845109939575,57.17726802825928,60.680692195892334,60.96526503562927,64.46411299705505,64.77121114730834,68.28591609001161,68.60975408554076,72.13123106956482,72.90675902366638,81.0697782039642,82.4354510307312,83.43904113769528,83.74419021606445,87.23646020889282,87.52569103240965,91.04397010803223,91.36222720146179,94.88916707038878,95.20577216148375,98.7632191181183,99.08723711967467,100.79204702377318,101.11034822463989,102.8184790611267,103.11063122749329,104.79871916770934,105.09759521484374,106.84513711929321,107.21502614021301,109.73717308044436,110.66584610939026,111.70135211944581,112.02097702026366,113.72798418998717,114.03151321411133,115.76015210151672,116.05603814125061,117.80963802337646,118.11054706573486,119.850182056427,120.26777911186218,122.82808709144592,124.0595440864563,125.0904130935669,125.4120831489563,127.11564016342163,127.46924901008606,129.1841320991516,129.54918909072876]],\"ys\":[[0.0,0.0,6.0,0.0,0.0,0.0,0.0,0.0,0.0,0.0,0.0,11.0,10.0,4.0,1.0,0.0,0.0,0.0,27.0,84.0,89.0,88.0,89.0,93.0,67.0,39.0,42.0,0.0,3.0,28.0,40.0,58.0,65.0,82.0,91.0,43.0,0.0,67.0,59.0,112.0,125.0,112.0,92.0,95.0,101.0,0.0,0.0,43.0,6.0,70.0,79.0,91.0,92.0,104.0,112.0,104.0,113.0,114.0,115.0,115.0,108.0,113.0,112.0,129.0,113.0,107.0,112.0,122.0,120.0,122.0,42.0,50.0,68.0,76.0,78.0,241.0,-54.0]]},\"selected\":{\"id\":\"19899\"},\"selection_policy\":{\"id\":\"19898\"}},\"id\":\"19315\",\"type\":\"ColumnDataSource\"}],\"root_ids\":[\"19286\"]},\"title\":\"Bokeh Application\",\"version\":\"2.4.2\"}};\n",
       "  const render_items = [{\"docid\":\"0df250d8-f389-4458-82b2-7f6cbcd075f3\",\"root_ids\":[\"19286\"],\"roots\":{\"19286\":\"f0fd44ef-2d02-4ac9-9542-f82642da694c\"}}];\n",
       "  root.Bokeh.embed.embed_items_notebook(docs_json, render_items);\n",
       "\n",
       "  }\n",
       "  if (root.Bokeh !== undefined) {\n",
       "    embed_document(root);\n",
       "  } else {\n",
       "    let attempts = 0;\n",
       "    const timer = setInterval(function(root) {\n",
       "      if (root.Bokeh !== undefined) {\n",
       "        clearInterval(timer);\n",
       "        embed_document(root);\n",
       "      } else {\n",
       "        attempts++;\n",
       "        if (attempts > 100) {\n",
       "          clearInterval(timer);\n",
       "          console.log(\"Bokeh: ERROR: Unable to run BokehJS code because BokehJS library is missing\");\n",
       "        }\n",
       "      }\n",
       "    }, 10, root)\n",
       "  }\n",
       "})(window);"
      ],
      "application/vnd.bokehjs_exec.v0+json": ""
     },
     "metadata": {
      "application/vnd.bokehjs_exec.v0+json": {
       "id": "19286"
      }
     },
     "output_type": "display_data"
    }
   ],
   "source": [
    "process_data(\"wing\", \"wing_hist_pres_0915193624\", 3, \"Wing Nut Manipulator Sensor Readings\")\n",
    "# process_data(\"wing\", \"wing_hist_force_0915191257\", 3, \"Wing Nut Manipulator Sensor Readings\")\n",
    "# process_data(\"wing\", \"wing_hist_pres_0915191507\", 2, \"Wing Nut Manipulator Sensor Readings\")\n",
    "# process_data(\"wing\", \"wing_hist_force_0915193624\", 50, \"Wing Nut Manipulator Sensor Readings\")"
   ]
  },
  {
   "cell_type": "markdown",
   "metadata": {},
   "source": [
    "## Full Water Bottle Data"
   ]
  },
  {
   "cell_type": "code",
   "execution_count": 5,
   "metadata": {},
   "outputs": [
    {
     "data": {
      "text/html": [
       "\n",
       "\n",
       "\n",
       "\n",
       "\n",
       "\n",
       "  <div class=\"bk-root\" id=\"80c1c097-af1a-4a53-a058-f4c6734ab014\" data-root-id=\"1241\"></div>\n"
      ]
     },
     "metadata": {},
     "output_type": "display_data"
    },
    {
     "data": {
      "application/javascript": [
       "(function(root) {\n",
       "  function embed_document(root) {\n",
       "    \n",
       "  const docs_json = {\"7f1caac2-4210-43c2-9b32-5aefca64fb9a\":{\"defs\":[],\"roots\":{\"references\":[{\"attributes\":{\"below\":[{\"id\":\"1252\"}],\"center\":[{\"id\":\"1255\"},{\"id\":\"1259\"}],\"height\":300,\"left\":[{\"id\":\"1256\"}],\"renderers\":[{\"id\":\"1274\"},{\"id\":\"1280\"}],\"title\":{\"id\":\"1242\"},\"toolbar\":{\"id\":\"1265\"},\"width\":900,\"x_range\":{\"id\":\"1244\"},\"x_scale\":{\"id\":\"1248\"},\"y_range\":{\"id\":\"1246\"},\"y_scale\":{\"id\":\"1250\"}},\"id\":\"1241\",\"subtype\":\"Figure\",\"type\":\"Plot\"},{\"attributes\":{},\"id\":\"1312\",\"type\":\"AllLabels\"},{\"attributes\":{},\"id\":\"1244\",\"type\":\"DataRange1d\"},{\"attributes\":{\"tools\":[{\"id\":\"1260\"},{\"id\":\"1261\"},{\"id\":\"1262\"},{\"id\":\"1263\"}]},\"id\":\"1265\",\"type\":\"Toolbar\"},{\"attributes\":{},\"id\":\"1257\",\"type\":\"BasicTicker\"},{\"attributes\":{},\"id\":\"1260\",\"type\":\"PanTool\"},{\"attributes\":{\"coordinates\":null,\"data_source\":{\"id\":\"1276\"},\"glyph\":{\"id\":\"1277\"},\"group\":null,\"hover_glyph\":null,\"muted_glyph\":{\"id\":\"1279\"},\"nonselection_glyph\":{\"id\":\"1278\"},\"view\":{\"id\":\"1281\"}},\"id\":\"1280\",\"type\":\"GlyphRenderer\"},{\"attributes\":{},\"id\":\"1250\",\"type\":\"LinearScale\"},{\"attributes\":{},\"id\":\"1261\",\"type\":\"WheelZoomTool\"},{\"attributes\":{},\"id\":\"1314\",\"type\":\"Selection\"},{\"attributes\":{\"coordinates\":null,\"group\":null,\"text\":\"Bottle Manipulator Sensor Readings\"},\"id\":\"1242\",\"type\":\"Title\"},{\"attributes\":{\"line_alpha\":0.2,\"line_dash\":[2,4],\"line_width\":2,\"x\":{\"field\":\"x\"},\"y\":{\"field\":\"y\"}},\"id\":\"1279\",\"type\":\"Line\"},{\"attributes\":{\"overlay\":{\"id\":\"1264\"}},\"id\":\"1262\",\"type\":\"BoxZoomTool\"},{\"attributes\":{},\"id\":\"1248\",\"type\":\"LinearScale\"},{\"attributes\":{\"line_alpha\":0.1,\"line_dash\":[2,4],\"line_width\":2,\"x\":{\"field\":\"x\"},\"y\":{\"field\":\"y\"}},\"id\":\"1278\",\"type\":\"Line\"},{\"attributes\":{},\"id\":\"1263\",\"type\":\"ResetTool\"},{\"attributes\":{\"source\":{\"id\":\"1276\"}},\"id\":\"1281\",\"type\":\"CDSView\"},{\"attributes\":{\"data\":{\"line_color\":[\"blue\",\"red\",\"green\",\"magenta\"],\"xs\":[[0.0,0.14395523071289062,0.2878544330596924,0.4317390918731654,0.5756564140319789,0.7193830013275146,0.8636789321899379,1.0083975791931152,1.1522917747497559,1.2962141036987305,1.440073013305664,1.5839805603027344,1.7272126674652064,1.8707857131958043,2.0147037506103516,2.1585886478424072,2.3024902343749964,2.446377992630005,4.603053808212284,4.779958724975582,4.955809831619263,5.130601644515991,5.307623386383057,5.4835531711578405,5.659357547760013,5.835262775421139,6.010595798492432,6.187003612518314,6.363888263702389,6.539739608764648,6.715602159500126,6.891468524932861,7.067337751388557,7.243242025375373,7.4190933704376185,16.234679222106934,16.378628969192505,16.52250623703003,16.666181325912476,16.810354232788086,16.954246282577515,17.098132610321045,17.242059469223015,17.385888814926147,17.529775857925415,17.673712253570557,17.81767177581787,17.961488485336304,18.105125904083245,18.249313592910767,18.393190860748284,18.537125349044793,18.68100666999817,18.824811220169074,18.968721628189087,19.112600564956665,19.256538391113274,19.40034556388855,19.544353008270264,19.68815302848816,19.832111835479736,19.975992202758782,20.12011122703553,20.263872861862183,20.4078049659729,20.551682472229004,20.69561505317688,20.839342117309563,20.98338341712951,21.12726950645446,21.271204710006707,21.415143966674805,21.558971881866455,21.70214080810547,21.845783472061157,21.989783048629754,22.133663892745965,22.277531623840332,22.421429872512817,22.56536293029785,22.709259986877434,22.853160619735718,22.99709677696228,23.140974044799805,23.285046577453613,23.428733825683594,23.57274627685547,23.71665930747986,23.86057424545288,24.00446414947509,24.1483473777771,24.292117118835442,24.436135292053223,24.580033540725708,24.72393012046814,24.86787700653077,25.011726617813103,25.15543222427368,25.299560070037842,25.44345927238465,25.58735680580139,25.731257677078247,25.87520670890808,26.01913595199585,26.163060426712043,26.30702447891236,26.450985431671143,26.594883918762207,26.7388699054718,26.882747411727905,27.02662277221679,27.170480728149414,27.31447148323059,27.458379507064812,27.602263927459724,27.74618744850158,27.890079975128174,28.03400516510009,28.177868366241462,28.321715116500854,28.46565532684327,28.60954141616822,28.75345540046692,28.897348403930657,29.04100203514099,29.184985399246216],[0.0,0.14395523071289062,0.2878544330596924,0.4317390918731654,0.5756564140319789,0.7193830013275146,0.8636789321899379,1.0083975791931152,1.1522917747497559,1.2962141036987305,1.440073013305664,1.5839805603027344,1.7272126674652064,1.8707857131958043,2.0147037506103516,2.1585886478424072,2.3024902343749964,2.446377992630005,4.603053808212284,4.779958724975582,4.955809831619263,5.130601644515991,5.307623386383057,5.4835531711578405,5.659357547760013,5.835262775421139,6.010595798492432,6.187003612518314,6.363888263702389,6.539739608764648,6.715602159500126,6.891468524932861,7.067337751388557,7.243242025375373,7.4190933704376185,16.234679222106934,16.378628969192505,16.52250623703003,16.666181325912476,16.810354232788086,16.954246282577515,17.098132610321045,17.242059469223015,17.385888814926147,17.529775857925415,17.673712253570557,17.81767177581787,17.961488485336304,18.105125904083245,18.249313592910767,18.393190860748284,18.537125349044793,18.68100666999817,18.824811220169074,18.968721628189087,19.112600564956665,19.256538391113274,19.40034556388855,19.544353008270264,19.68815302848816,19.832111835479736,19.975992202758782,20.12011122703553,20.263872861862183,20.4078049659729,20.551682472229004,20.69561505317688,20.839342117309563,20.98338341712951,21.12726950645446,21.271204710006707,21.415143966674805,21.558971881866455,21.70214080810547,21.845783472061157,21.989783048629754,22.133663892745965,22.277531623840332,22.421429872512817,22.56536293029785,22.709259986877434,22.853160619735718,22.99709677696228,23.140974044799805,23.285046577453613,23.428733825683594,23.57274627685547,23.71665930747986,23.86057424545288,24.00446414947509,24.1483473777771,24.292117118835442,24.436135292053223,24.580033540725708,24.72393012046814,24.86787700653077,25.011726617813103,25.15543222427368,25.299560070037842,25.44345927238465,25.58735680580139,25.731257677078247,25.87520670890808,26.01913595199585,26.163060426712043,26.30702447891236,26.450985431671143,26.594883918762207,26.7388699054718,26.882747411727905,27.02662277221679,27.170480728149414,27.31447148323059,27.458379507064812,27.602263927459724,27.74618744850158,27.890079975128174,28.03400516510009,28.177868366241462,28.321715116500854,28.46565532684327,28.60954141616822,28.75345540046692,28.897348403930657,29.04100203514099,29.184985399246216],[0.0,0.14395523071289062,0.2878544330596924,0.4317390918731654,0.5756564140319789,0.7193830013275146,0.8636789321899379,1.0083975791931152,1.1522917747497559,1.2962141036987305,1.440073013305664,1.5839805603027344,1.7272126674652064,1.8707857131958043,2.0147037506103516,2.1585886478424072,2.3024902343749964,2.446377992630005,4.603053808212284,4.779958724975582,4.955809831619263,5.130601644515991,5.307623386383057,5.4835531711578405,5.659357547760013,5.835262775421139,6.010595798492432,6.187003612518314,6.363888263702389,6.539739608764648,6.715602159500126,6.891468524932861,7.067337751388557,7.243242025375373,7.4190933704376185,16.234679222106934,16.378628969192505,16.52250623703003,16.666181325912476,16.810354232788086,16.954246282577515,17.098132610321045,17.242059469223015,17.385888814926147,17.529775857925415,17.673712253570557,17.81767177581787,17.961488485336304,18.105125904083245,18.249313592910767,18.393190860748284,18.537125349044793,18.68100666999817,18.824811220169074,18.968721628189087,19.112600564956665,19.256538391113274,19.40034556388855,19.544353008270264,19.68815302848816,19.832111835479736,19.975992202758782,20.12011122703553,20.263872861862183,20.4078049659729,20.551682472229004,20.69561505317688,20.839342117309563,20.98338341712951,21.12726950645446,21.271204710006707,21.415143966674805,21.558971881866455,21.70214080810547,21.845783472061157,21.989783048629754,22.133663892745965,22.277531623840332,22.421429872512817,22.56536293029785,22.709259986877434,22.853160619735718,22.99709677696228,23.140974044799805,23.285046577453613,23.428733825683594,23.57274627685547,23.71665930747986,23.86057424545288,24.00446414947509,24.1483473777771,24.292117118835442,24.436135292053223,24.580033540725708,24.72393012046814,24.86787700653077,25.011726617813103,25.15543222427368,25.299560070037842,25.44345927238465,25.58735680580139,25.731257677078247,25.87520670890808,26.01913595199585,26.163060426712043,26.30702447891236,26.450985431671143,26.594883918762207,26.7388699054718,26.882747411727905,27.02662277221679,27.170480728149414,27.31447148323059,27.458379507064812,27.602263927459724,27.74618744850158,27.890079975128174,28.03400516510009,28.177868366241462,28.321715116500854,28.46565532684327,28.60954141616822,28.75345540046692,28.897348403930657,29.04100203514099,29.184985399246216],[0.0,0.14395523071289062,0.2878544330596924,0.4317390918731654,0.5756564140319789,0.7193830013275146,0.8636789321899379,1.0083975791931152,1.1522917747497559,1.2962141036987305,1.440073013305664,1.5839805603027344,1.7272126674652064,1.8707857131958043,2.0147037506103516,2.1585886478424072,2.3024902343749964,2.446377992630005,4.603053808212284,4.779958724975582,4.955809831619263,5.130601644515991,5.307623386383057,5.4835531711578405,5.659357547760013,5.835262775421139,6.010595798492432,6.187003612518314,6.363888263702389,6.539739608764648,6.715602159500126,6.891468524932861,7.067337751388557,7.243242025375373,7.4190933704376185,16.234679222106934,16.378628969192505,16.52250623703003,16.666181325912476,16.810354232788086,16.954246282577515,17.098132610321045,17.242059469223015,17.385888814926147,17.529775857925415,17.673712253570557,17.81767177581787,17.961488485336304,18.105125904083245,18.249313592910767,18.393190860748284,18.537125349044793,18.68100666999817,18.824811220169074,18.968721628189087,19.112600564956665,19.256538391113274,19.40034556388855,19.544353008270264,19.68815302848816,19.832111835479736,19.975992202758782,20.12011122703553,20.263872861862183,20.4078049659729,20.551682472229004,20.69561505317688,20.839342117309563,20.98338341712951,21.12726950645446,21.271204710006707,21.415143966674805,21.558971881866455,21.70214080810547,21.845783472061157,21.989783048629754,22.133663892745965,22.277531623840332,22.421429872512817,22.56536293029785,22.709259986877434,22.853160619735718,22.99709677696228,23.140974044799805,23.285046577453613,23.428733825683594,23.57274627685547,23.71665930747986,23.86057424545288,24.00446414947509,24.1483473777771,24.292117118835442,24.436135292053223,24.580033540725708,24.72393012046814,24.86787700653077,25.011726617813103,25.15543222427368,25.299560070037842,25.44345927238465,25.58735680580139,25.731257677078247,25.87520670890808,26.01913595199585,26.163060426712043,26.30702447891236,26.450985431671143,26.594883918762207,26.7388699054718,26.882747411727905,27.02662277221679,27.170480728149414,27.31447148323059,27.458379507064812,27.602263927459724,27.74618744850158,27.890079975128174,28.03400516510009,28.177868366241462,28.321715116500854,28.46565532684327,28.60954141616822,28.75345540046692,28.897348403930657,29.04100203514099,29.184985399246216]],\"ys\":[[14.0,12.0,9.0,12.0,12.0,13.0,12.0,13.0,13.0,12.0,13.0,12.0,14.0,6.0,13.0,15.0,11.0,14.0,13.0,13.0,10.0,14.0,15.0,9.0,13.0,8.0,1.0,1.0,1.0,1.0,1.0,1.0,0.0,0.0,0.0,25.0,49.0,1.0,1.0,0.0,1.0,1.0,0.0,0.0,1.0,0.0,0.0,0.0,0.0,0.0,0.0,0.0,0.0,1.0,0.0,0.0,0.0,1.0,0.0,0.0,0.0,0.0,0.0,1.0,0.0,0.0,1.0,1.0,0.0,1.0,0.0,0.0,1.0,0.0,0.0,0.0,1.0,0.0,0.0,0.0,0.0,1.0,0.0,3.0,3.0,1.0,4.0,3.0,3.0,3.0,1.0,4.0,5.0,5.0,1.0,1.0,1.0,3.0,0.0,6.0,1.0,1.0,1.0,1.0,1.0,1.0,3.0,16.0,4.0,12.0,1.0,4.0,6.0,11.0,2.0,14.0,16.0,16.0,16.0,17.0,16.0,17.0,15.0,16.0,15.0,17.0],[113.0,112.0,99.0,100.0,108.0,110.0,115.0,101.0,107.0,118.0,118.0,118.0,106.0,116.0,118.0,117.0,118.0,117.0,76.0,62.0,73.0,78.0,61.0,111.0,71.0,49.0,37.0,48.0,51.0,73.0,81.0,89.0,93.0,113.0,128.0,90.0,8.0,8.0,8.0,16.0,8.0,8.0,9.0,9.0,9.0,10.0,10.0,11.0,10.0,10.0,10.0,10.0,10.0,10.0,10.0,16.0,10.0,10.0,10.0,10.0,10.0,10.0,10.0,10.0,10.0,10.0,10.0,10.0,10.0,10.0,10.0,10.0,10.0,10.0,10.0,10.0,10.0,10.0,10.0,10.0,10.0,10.0,11.0,10.0,10.0,10.0,10.0,10.0,10.0,10.0,10.0,10.0,17.0,17.0,20.0,28.0,24.0,23.0,28.0,43.0,27.0,55.0,64.0,76.0,59.0,61.0,54.0,44.0,70.0,78.0,75.0,58.0,82.0,77.0,63.0,65.0,73.0,74.0,71.0,86.0,79.0,50.0,65.0,66.0,68.0,85.0],[31.0,29.0,27.0,30.0,31.0,31.0,31.0,31.0,33.0,32.0,32.0,32.0,31.0,32.0,31.0,32.0,32.0,32.0,31.0,32.0,38.0,36.0,49.0,32.0,43.0,25.0,47.0,40.0,53.0,69.0,72.0,87.0,99.0,156.0,181.0,12.0,9.0,10.0,10.0,9.0,9.0,10.0,10.0,10.0,10.0,10.0,12.0,10.0,10.0,10.0,13.0,9.0,9.0,24.0,13.0,10.0,29.0,28.0,27.0,20.0,19.0,14.0,29.0,20.0,17.0,16.0,17.0,19.0,17.0,20.0,15.0,25.0,25.0,17.0,15.0,17.0,19.0,18.0,15.0,17.0,23.0,24.0,17.0,25.0,17.0,17.0,15.0,16.0,26.0,12.0,11.0,13.0,2.0,7.0,16.0,18.0,15.0,23.0,51.0,60.0,44.0,55.0,61.0,69.0,77.0,82.0,86.0,89.0,82.0,104.0,85.0,94.0,98.0,99.0,102.0,95.0,95.0,96.0,96.0,102.0,104.0,102.0,103.0,113.0,105.0,95.0],[\"NaN\",\"NaN\",\"NaN\",\"NaN\",\"NaN\",\"NaN\",\"NaN\",\"NaN\",\"NaN\",\"NaN\",\"NaN\",\"NaN\",\"NaN\",\"NaN\",\"NaN\",\"NaN\",\"NaN\",\"NaN\",\"NaN\",\"NaN\",\"NaN\",\"NaN\",\"NaN\",\"NaN\",\"NaN\",\"NaN\",\"NaN\",\"NaN\",\"NaN\",\"NaN\",\"NaN\",\"NaN\",\"NaN\",\"NaN\",\"NaN\",\"NaN\",\"NaN\",\"NaN\",\"NaN\",\"NaN\",\"NaN\",\"NaN\",\"NaN\",\"NaN\",\"NaN\",\"NaN\",\"NaN\",\"NaN\",\"NaN\",\"NaN\",\"NaN\",\"NaN\",\"NaN\",\"NaN\",\"NaN\",\"NaN\",\"NaN\",\"NaN\",\"NaN\",\"NaN\",\"NaN\",\"NaN\",\"NaN\",\"NaN\",\"NaN\",\"NaN\",\"NaN\",\"NaN\",\"NaN\",\"NaN\",\"NaN\",\"NaN\",\"NaN\",\"NaN\",\"NaN\",\"NaN\",\"NaN\",\"NaN\",\"NaN\",\"NaN\",\"NaN\",\"NaN\",\"NaN\",\"NaN\",\"NaN\",\"NaN\",\"NaN\",\"NaN\",\"NaN\",\"NaN\",\"NaN\",\"NaN\",\"NaN\",\"NaN\",\"NaN\",\"NaN\",\"NaN\",\"NaN\",\"NaN\",\"NaN\",\"NaN\",\"NaN\",\"NaN\",\"NaN\",\"NaN\",\"NaN\",\"NaN\",\"NaN\",\"NaN\",\"NaN\",\"NaN\",\"NaN\",\"NaN\",\"NaN\",\"NaN\",\"NaN\",\"NaN\",\"NaN\",\"NaN\",\"NaN\",\"NaN\",\"NaN\",\"NaN\",\"NaN\",\"NaN\",\"NaN\"]]},\"selected\":{\"id\":\"1314\"},\"selection_policy\":{\"id\":\"1313\"}},\"id\":\"1270\",\"type\":\"ColumnDataSource\"},{\"attributes\":{},\"id\":\"1253\",\"type\":\"BasicTicker\"},{\"attributes\":{\"bottom_units\":\"screen\",\"coordinates\":null,\"fill_alpha\":0.5,\"fill_color\":\"lightgrey\",\"group\":null,\"left_units\":\"screen\",\"level\":\"overlay\",\"line_alpha\":1.0,\"line_color\":\"black\",\"line_dash\":[4,4],\"line_width\":2,\"right_units\":\"screen\",\"syncable\":false,\"top_units\":\"screen\"},\"id\":\"1264\",\"type\":\"BoxAnnotation\"},{\"attributes\":{},\"id\":\"1246\",\"type\":\"DataRange1d\"},{\"attributes\":{\"axis\":{\"id\":\"1256\"},\"coordinates\":null,\"dimension\":1,\"group\":null,\"ticker\":null},\"id\":\"1259\",\"type\":\"Grid\"},{\"attributes\":{\"line_color\":{\"field\":\"line_color\"},\"line_width\":{\"value\":2},\"xs\":{\"field\":\"xs\"},\"ys\":{\"field\":\"ys\"}},\"id\":\"1271\",\"type\":\"MultiLine\"},{\"attributes\":{\"axis\":{\"id\":\"1252\"},\"coordinates\":null,\"group\":null,\"ticker\":null},\"id\":\"1255\",\"type\":\"Grid\"},{\"attributes\":{\"line_alpha\":{\"value\":0.1},\"line_color\":{\"field\":\"line_color\"},\"line_width\":{\"value\":2},\"xs\":{\"field\":\"xs\"},\"ys\":{\"field\":\"ys\"}},\"id\":\"1272\",\"type\":\"MultiLine\"},{\"attributes\":{},\"id\":\"1315\",\"type\":\"UnionRenderers\"},{\"attributes\":{\"coordinates\":null,\"data_source\":{\"id\":\"1270\"},\"glyph\":{\"id\":\"1271\"},\"group\":null,\"hover_glyph\":null,\"muted_glyph\":{\"id\":\"1273\"},\"nonselection_glyph\":{\"id\":\"1272\"},\"view\":{\"id\":\"1275\"}},\"id\":\"1274\",\"type\":\"GlyphRenderer\"},{\"attributes\":{},\"id\":\"1311\",\"type\":\"BasicTickFormatter\"},{\"attributes\":{},\"id\":\"1316\",\"type\":\"Selection\"},{\"attributes\":{\"line_alpha\":{\"value\":0.2},\"line_color\":{\"field\":\"line_color\"},\"line_width\":{\"value\":2},\"xs\":{\"field\":\"xs\"},\"ys\":{\"field\":\"ys\"}},\"id\":\"1273\",\"type\":\"MultiLine\"},{\"attributes\":{},\"id\":\"1308\",\"type\":\"BasicTickFormatter\"},{\"attributes\":{\"axis_label\":\"Time (s)\",\"coordinates\":null,\"formatter\":{\"id\":\"1311\"},\"group\":null,\"major_label_policy\":{\"id\":\"1312\"},\"ticker\":{\"id\":\"1253\"}},\"id\":\"1252\",\"type\":\"LinearAxis\"},{\"attributes\":{},\"id\":\"1309\",\"type\":\"AllLabels\"},{\"attributes\":{},\"id\":\"1313\",\"type\":\"UnionRenderers\"},{\"attributes\":{\"axis_label\":\"Signal\",\"coordinates\":null,\"formatter\":{\"id\":\"1308\"},\"group\":null,\"major_label_policy\":{\"id\":\"1309\"},\"ticker\":{\"id\":\"1257\"}},\"id\":\"1256\",\"type\":\"LinearAxis\"},{\"attributes\":{\"source\":{\"id\":\"1270\"}},\"id\":\"1275\",\"type\":\"CDSView\"},{\"attributes\":{\"data\":{\"x\":{\"__ndarray__\":\"AAAAAAAAAAAAAAAAIG3CPwAAAAA1bNI/wP///5yh2z/g////xmviPwAAAIAvBec/4P///0Gj6z8AAACAZSLwPwAAAIDJb/I/AAAAAEu99D8AAAAAigr3PwAAAAD8V/k/8P//v6mi+z8QAAAAve79PwAAAAAdHgBAAAAAIMpEAUD4////f2sCQAAAAKAukgNABAAA8IZpEkD8//9/rR4TQAAAANC/0hNAAAAAcLyFFEAAAACgATsVQAQAAJAo7xVABAAAoC6jFkD8//8fT1cXQAAAAKDZChhABAAA4H2/GED8//8fn3QZQAAAAICxKBpABAAA0MbcGkAAAAAg3ZAbQAgAADD0RBxACAAAcBT5HED8///PJq0dQAAAAPATPDBAAAAA1O1gMEAAAAD4woUwQAAAANyKqjBAAAAAYHPPMEAAAAB8SfQwQAAAADgfGTFA/v//m/c9MUAAAACcyWIxQAAAAGSfhzFAAAAAaHisMUAAAADwUtExQAAAABwk9jFA/v//h+kaMkAAAAAE0z8yQP7//yeoZDJA/v//C4GJMkAAAAB0Vq4yQAIAANQm0zJAAAAAJP73MkAAAABk0xwzQP7//3+sQTNAAAAADH1mM0AAAAC4WoszQAAAAMwqsDNAAAAASAXVM0D+//+f2vkzQAIAAJy/HjRAAAAALI1DNEAAAADoZWg0QAAAABA7jTRAAAAA1BOyNED+//8f39Y0QP7//wO/+zRA/v//u5QgNUD+//+rbUU1QAAAAOBGajVAAAAAyBiPNUAAAACAv7M1QAAAAESF2DVA/v//a2L9NUD+///LNyI2QAAAAFAMRzZAAAAA1OJrNkAAAACgu5A2QP7//w+StTZAAAAAvGjaNkAAAAC8Qf82QAAAAOAWJDdAAAAA0PhIN0AAAACAwW03QAAAAICfkjdAAAAA/Ha3N0AAAACYTtw3QP7//48kAThAAAAAGPolOED+//8vyEo4QAAAAJCmbzhAAAAAFH2UOEAAAAB8U7k4QAIAADAt3jhA/v//gwADOUAAAABoyic5QAAAAPivTDlAAgAAjIZxOUAAAAAEXZY5QAAAALQzuzlAAAAAjA3gOUAAAAAY5gQ6QAIAAFS+KTpAAgAAKJlOOkAAAADIc3M6QAAAAFBKmDpAAAAAlCa9OkAAAAC8++E6QP7//7/QBjtAAAAAoKQrO0AAAAA0gVA7QP7//1tYdTtAAgAA+C2aO0D+//8jBr87QAAAAEjc4ztA/v//j7QIPEACAADIiC08QAAAAOxbUjxAAgAAMDV3PEACAADoCpw8QAAAAHTiwDxA/v//n7jlPEAAAAAcfwo9QAAAADRbLz1A\",\"dtype\":\"float64\",\"order\":\"little\",\"shape\":[126]},\"y\":{\"__ndarray__\":\"AAAAAAAANEAAAAAAAAA0QAAAAAAAADRAAAAAAAAANEAAAAAAAAA0QAAAAAAAADRAAAAAAAAANEAAAAAAAAA0QAAAAAAAADRAAAAAAAAANEAAAAAAAAA0QAAAAAAAADRAAAAAAAAANEAAAAAAAAA0QAAAAAAAADRAAAAAAAAANEAAAAAAAAA0QAAAAAAAADRAAAAAAAAANEAAAAAAAAA0QAAAAAAAADRAAAAAAAAANEAAAAAAAAA0QAAAAAAAADRAAAAAAAAANEAAAAAAAAA0QAAAAAAAADRAAAAAAAAANEAAAAAAAAA0QAAAAAAAADRAAAAAAAAANEAAAAAAAAA0QAAAAAAAADRAAAAAAAAANEAAAAAAAAA0QAAAAAAAADRAAAAAAAAANEAAAAAAAAA0QAAAAAAAADRAAAAAAAAANEAAAAAAAAA0QAAAAAAAADRAAAAAAAAANEAAAAAAAAA0QAAAAAAAADRAAAAAAAAANEAAAAAAAAA0QAAAAAAAADRAAAAAAAAANEAAAAAAAAA0QAAAAAAAADRAAAAAAAAANEAAAAAAAAA0QAAAAAAAADRAAAAAAAAANEAAAAAAAAA0QAAAAAAAADRAAAAAAAAANEAAAAAAAAA0QAAAAAAAADRAAAAAAAAANEAAAAAAAAA0QAAAAAAAADRAAAAAAAAANEAAAAAAAAA0QAAAAAAAADRAAAAAAAAANEAAAAAAAAA0QAAAAAAAADRAAAAAAAAANEAAAAAAAAA0QAAAAAAAADRAAAAAAAAANEAAAAAAAAA0QAAAAAAAADRAAAAAAAAANEAAAAAAAAA0QAAAAAAAADRAAAAAAAAANEAAAAAAAAA0QAAAAAAAADRAAAAAAAAANEAAAAAAAAA0QAAAAAAAADRAAAAAAAAANEAAAAAAAAA0QAAAAAAAADRAAAAAAAAANEAAAAAAAAA0QAAAAAAAADRAAAAAAAAANEAAAAAAAAA0QAAAAAAAADRAAAAAAAAANEAAAAAAAAA0QAAAAAAAADRAAAAAAAAANEAAAAAAAAA0QAAAAAAAADRAAAAAAAAANEAAAAAAAAA0QAAAAAAAADRAAAAAAAAANEAAAAAAAAA0QAAAAAAAADRAAAAAAAAANEAAAAAAAAA0QAAAAAAAADRAAAAAAAAANEAAAAAAAAA0QAAAAAAAADRAAAAAAAAANEAAAAAAAAA0QAAAAAAAADRAAAAAAAAANEAAAAAAAAA0QAAAAAAAADRAAAAAAAAANEAAAAAAAAA0QAAAAAAAADRAAAAAAAAANEAAAAAAAAA0QAAAAAAAADRAAAAAAAAANEAAAAAAAAA0QAAAAAAAADRA\",\"dtype\":\"float64\",\"order\":\"little\",\"shape\":[126]}},\"selected\":{\"id\":\"1316\"},\"selection_policy\":{\"id\":\"1315\"}},\"id\":\"1276\",\"type\":\"ColumnDataSource\"},{\"attributes\":{\"line_dash\":[2,4],\"line_width\":2,\"x\":{\"field\":\"x\"},\"y\":{\"field\":\"y\"}},\"id\":\"1277\",\"type\":\"Line\"}],\"root_ids\":[\"1241\"]},\"title\":\"Bokeh Application\",\"version\":\"2.4.2\"}};\n",
       "  const render_items = [{\"docid\":\"7f1caac2-4210-43c2-9b32-5aefca64fb9a\",\"root_ids\":[\"1241\"],\"roots\":{\"1241\":\"80c1c097-af1a-4a53-a058-f4c6734ab014\"}}];\n",
       "  root.Bokeh.embed.embed_items_notebook(docs_json, render_items);\n",
       "\n",
       "  }\n",
       "  if (root.Bokeh !== undefined) {\n",
       "    embed_document(root);\n",
       "  } else {\n",
       "    let attempts = 0;\n",
       "    const timer = setInterval(function(root) {\n",
       "      if (root.Bokeh !== undefined) {\n",
       "        clearInterval(timer);\n",
       "        embed_document(root);\n",
       "      } else {\n",
       "        attempts++;\n",
       "        if (attempts > 100) {\n",
       "          clearInterval(timer);\n",
       "          console.log(\"Bokeh: ERROR: Unable to run BokehJS code because BokehJS library is missing\");\n",
       "        }\n",
       "      }\n",
       "    }, 10, root)\n",
       "  }\n",
       "})(window);"
      ],
      "application/vnd.bokehjs_exec.v0+json": ""
     },
     "metadata": {
      "application/vnd.bokehjs_exec.v0+json": {
       "id": "1241"
      }
     },
     "output_type": "display_data"
    }
   ],
   "source": [
    "process_data(\"bottle\", \"bottle_hist_pres_0917213346\", 5, \"Bottle Manipulator Sensor Readings\") # full bottle"
   ]
  },
  {
   "cell_type": "markdown",
   "metadata": {},
   "source": [
    "## Empty Water Bottle Data"
   ]
  },
  {
   "cell_type": "code",
   "execution_count": 6,
   "metadata": {},
   "outputs": [
    {
     "data": {
      "text/html": [
       "\n",
       "\n",
       "\n",
       "\n",
       "\n",
       "\n",
       "  <div class=\"bk-root\" id=\"658315e1-9e9d-4abe-ae8b-52054d97847c\" data-root-id=\"1378\"></div>\n"
      ]
     },
     "metadata": {},
     "output_type": "display_data"
    },
    {
     "data": {
      "application/javascript": [
       "(function(root) {\n",
       "  function embed_document(root) {\n",
       "    \n",
       "  const docs_json = {\"4e7f0921-57a1-4fa1-8df6-90444346635f\":{\"defs\":[],\"roots\":{\"references\":[{\"attributes\":{\"below\":[{\"id\":\"1389\"}],\"center\":[{\"id\":\"1392\"},{\"id\":\"1396\"}],\"height\":300,\"left\":[{\"id\":\"1393\"}],\"renderers\":[{\"id\":\"1411\"},{\"id\":\"1417\"}],\"title\":{\"id\":\"1379\"},\"toolbar\":{\"id\":\"1402\"},\"width\":900,\"x_range\":{\"id\":\"1381\"},\"x_scale\":{\"id\":\"1385\"},\"y_range\":{\"id\":\"1383\"},\"y_scale\":{\"id\":\"1387\"}},\"id\":\"1378\",\"subtype\":\"Figure\",\"type\":\"Plot\"},{\"attributes\":{\"data\":{\"line_color\":[\"blue\",\"red\",\"green\",\"magenta\"],\"xs\":[[0.0,0.1458404064178449,0.29181385040283025,0.43770503997802734,0.5835940837860107,0.7295184135437012,0.8754086494445819,1.0212924480438232,1.1672396659851056,1.31286931037903,1.4579851627349836,1.6038866043090803,1.749743700027464,1.895613193511963,2.0414974689483643,2.1873860359191895,2.3332626819610596,2.479243278503418,2.625013351440426,2.77008318901062,6.407732725143433,6.584394693374637,6.760424852371212,6.935303926467892,7.112091302871704,7.288190841674805,7.4640052318573,7.639944314956665,7.816787958145142,7.992725133895878,8.168572902679443,8.344475269317623,8.520385742187496,8.696223974227902,8.872092962265015,9.04800534248352,9.223945617675781,9.369709014892575,9.515764713287357,9.661628723144531,9.807597398757935,9.953432559967037,10.099429845809937,10.24510502815247,10.390168666839603,10.536070346832279,10.681847095489498,10.827797412872314,10.97372984886169,11.119628190994263,11.265443325042725,11.41144347190857,11.55723786354065,11.703270673751831,11.848928928375244,11.993934869766235,12.139918327331543,12.28579664230346,12.431750774383545,12.577642917633053,12.723600625991821,12.869289875030525,13.015401124954227,13.160991430282593,13.306080818176266,13.452087163925171,13.597918510437012,13.743920564651482,13.88981556892395,14.035780429840088,14.181674480438232,14.327692985534668,14.473318576812744,14.618271827697754,14.764269351959232,14.910101175308228,15.056007623672485,15.201948881149292,15.347830057144165,15.493727684020996,15.63976693153381,15.7854790687561,15.931513547897335,16.077456474304196,16.22340774536133,16.369277715682987,16.515243530273438,16.660906314849854,16.805946826934814,16.951834917068478,17.097683906555172,17.24367880821228,17.389540195465088,17.535465717315677,17.681411266326904,17.82730031013489,17.97305679321289,18.119028091430664,18.264793634414673,18.410789012908936,18.55671525001526,18.702598571777344,18.84818124771118,18.99339509010315,19.139310359954834,19.28515338897705],[0.0,0.1458404064178449,0.29181385040283025,0.43770503997802734,0.5835940837860107,0.7295184135437012,0.8754086494445819,1.0212924480438232,1.1672396659851056,1.31286931037903,1.4579851627349836,1.6038866043090803,1.749743700027464,1.895613193511963,2.0414974689483643,2.1873860359191895,2.3332626819610596,2.479243278503418,2.625013351440426,2.77008318901062,6.407732725143433,6.584394693374637,6.760424852371212,6.935303926467892,7.112091302871704,7.288190841674805,7.4640052318573,7.639944314956665,7.816787958145142,7.992725133895878,8.168572902679443,8.344475269317623,8.520385742187496,8.696223974227902,8.872092962265015,9.04800534248352,9.223945617675781,9.369709014892575,9.515764713287357,9.661628723144531,9.807597398757935,9.953432559967037,10.099429845809937,10.24510502815247,10.390168666839603,10.536070346832279,10.681847095489498,10.827797412872314,10.97372984886169,11.119628190994263,11.265443325042725,11.41144347190857,11.55723786354065,11.703270673751831,11.848928928375244,11.993934869766235,12.139918327331543,12.28579664230346,12.431750774383545,12.577642917633053,12.723600625991821,12.869289875030525,13.015401124954227,13.160991430282593,13.306080818176266,13.452087163925171,13.597918510437012,13.743920564651482,13.88981556892395,14.035780429840088,14.181674480438232,14.327692985534668,14.473318576812744,14.618271827697754,14.764269351959232,14.910101175308228,15.056007623672485,15.201948881149292,15.347830057144165,15.493727684020996,15.63976693153381,15.7854790687561,15.931513547897335,16.077456474304196,16.22340774536133,16.369277715682987,16.515243530273438,16.660906314849854,16.805946826934814,16.951834917068478,17.097683906555172,17.24367880821228,17.389540195465088,17.535465717315677,17.681411266326904,17.82730031013489,17.97305679321289,18.119028091430664,18.264793634414673,18.410789012908936,18.55671525001526,18.702598571777344,18.84818124771118,18.99339509010315,19.139310359954834,19.28515338897705],[0.0,0.1458404064178449,0.29181385040283025,0.43770503997802734,0.5835940837860107,0.7295184135437012,0.8754086494445819,1.0212924480438232,1.1672396659851056,1.31286931037903,1.4579851627349836,1.6038866043090803,1.749743700027464,1.895613193511963,2.0414974689483643,2.1873860359191895,2.3332626819610596,2.479243278503418,2.625013351440426,2.77008318901062,6.407732725143433,6.584394693374637,6.760424852371212,6.935303926467892,7.112091302871704,7.288190841674805,7.4640052318573,7.639944314956665,7.816787958145142,7.992725133895878,8.168572902679443,8.344475269317623,8.520385742187496,8.696223974227902,8.872092962265015,9.04800534248352,9.223945617675781,9.369709014892575,9.515764713287357,9.661628723144531,9.807597398757935,9.953432559967037,10.099429845809937,10.24510502815247,10.390168666839603,10.536070346832279,10.681847095489498,10.827797412872314,10.97372984886169,11.119628190994263,11.265443325042725,11.41144347190857,11.55723786354065,11.703270673751831,11.848928928375244,11.993934869766235,12.139918327331543,12.28579664230346,12.431750774383545,12.577642917633053,12.723600625991821,12.869289875030525,13.015401124954227,13.160991430282593,13.306080818176266,13.452087163925171,13.597918510437012,13.743920564651482,13.88981556892395,14.035780429840088,14.181674480438232,14.327692985534668,14.473318576812744,14.618271827697754,14.764269351959232,14.910101175308228,15.056007623672485,15.201948881149292,15.347830057144165,15.493727684020996,15.63976693153381,15.7854790687561,15.931513547897335,16.077456474304196,16.22340774536133,16.369277715682987,16.515243530273438,16.660906314849854,16.805946826934814,16.951834917068478,17.097683906555172,17.24367880821228,17.389540195465088,17.535465717315677,17.681411266326904,17.82730031013489,17.97305679321289,18.119028091430664,18.264793634414673,18.410789012908936,18.55671525001526,18.702598571777344,18.84818124771118,18.99339509010315,19.139310359954834,19.28515338897705],[0.0,0.1458404064178449,0.29181385040283025,0.43770503997802734,0.5835940837860107,0.7295184135437012,0.8754086494445819,1.0212924480438232,1.1672396659851056,1.31286931037903,1.4579851627349836,1.6038866043090803,1.749743700027464,1.895613193511963,2.0414974689483643,2.1873860359191895,2.3332626819610596,2.479243278503418,2.625013351440426,2.77008318901062,6.407732725143433,6.584394693374637,6.760424852371212,6.935303926467892,7.112091302871704,7.288190841674805,7.4640052318573,7.639944314956665,7.816787958145142,7.992725133895878,8.168572902679443,8.344475269317623,8.520385742187496,8.696223974227902,8.872092962265015,9.04800534248352,9.223945617675781,9.369709014892575,9.515764713287357,9.661628723144531,9.807597398757935,9.953432559967037,10.099429845809937,10.24510502815247,10.390168666839603,10.536070346832279,10.681847095489498,10.827797412872314,10.97372984886169,11.119628190994263,11.265443325042725,11.41144347190857,11.55723786354065,11.703270673751831,11.848928928375244,11.993934869766235,12.139918327331543,12.28579664230346,12.431750774383545,12.577642917633053,12.723600625991821,12.869289875030525,13.015401124954227,13.160991430282593,13.306080818176266,13.452087163925171,13.597918510437012,13.743920564651482,13.88981556892395,14.035780429840088,14.181674480438232,14.327692985534668,14.473318576812744,14.618271827697754,14.764269351959232,14.910101175308228,15.056007623672485,15.201948881149292,15.347830057144165,15.493727684020996,15.63976693153381,15.7854790687561,15.931513547897335,16.077456474304196,16.22340774536133,16.369277715682987,16.515243530273438,16.660906314849854,16.805946826934814,16.951834917068478,17.097683906555172,17.24367880821228,17.389540195465088,17.535465717315677,17.681411266326904,17.82730031013489,17.97305679321289,18.119028091430664,18.264793634414673,18.410789012908936,18.55671525001526,18.702598571777344,18.84818124771118,18.99339509010315,19.139310359954834,19.28515338897705]],\"ys\":[[19.0,19.0,21.0,20.0,21.0,19.0,23.0,19.0,20.0,22.0,20.0,21.0,23.0,22.0,22.0,23.0,23.0,23.0,23.0,23.0,23.0,25.0,23.0,23.0,7.0,0.0,0.0,0.0,7.0,6.0,0.0,0.0,1.0,0.0,0.0,1.0,0.0,0.0,0.0,0.0,1.0,1.0,0.0,1.0,1.0,1.0,0.0,1.0,2.0,0.0,1.0,0.0,1.0,1.0,0.0,0.0,1.0,1.0,1.0,0.0,5.0,1.0,0.0,0.0,7.0,7.0,6.0,3.0,1.0,6.0,8.0,7.0,9.0,2.0,8.0,8.0,2.0,6.0,7.0,7.0,7.0,6.0,7.0,6.0,2.0,6.0,3.0,6.0,5.0,8.0,4.0,8.0,6.0,7.0,4.0,6.0,7.0,7.0,12.0,12.0,8.0,13.0,11.0,13.0,12.0,12.0],[1.0,1.0,1.0,1.0,1.0,1.0,1.0,1.0,1.0,1.0,1.0,1.0,1.0,1.0,1.0,1.0,0.0,1.0,1.0,1.0,1.0,1.0,0.0,1.0,0.0,2.0,2.0,13.0,11.0,10.0,11.0,4.0,4.0,4.0,12.0,7.0,13.0,15.0,16.0,17.0,20.0,22.0,24.0,26.0,23.0,25.0,23.0,23.0,24.0,23.0,24.0,23.0,29.0,27.0,27.0,29.0,29.0,29.0,29.0,28.0,29.0,28.0,29.0,29.0,28.0,29.0,29.0,29.0,29.0,30.0,29.0,29.0,29.0,29.0,29.0,30.0,31.0,30.0,30.0,30.0,29.0,29.0,30.0,32.0,31.0,29.0,31.0,33.0,33.0,26.0,22.0,28.0,32.0,27.0,27.0,29.0,26.0,23.0,27.0,25.0,28.0,30.0,31.0,31.0,30.0,30.0],[6.0,4.0,7.0,6.0,6.0,6.0,7.0,7.0,7.0,8.0,9.0,7.0,9.0,7.0,8.0,11.0,9.0,11.0,9.0,9.0,12.0,13.0,11.0,11.0,9.0,15.0,20.0,14.0,12.0,8.0,13.0,8.0,17.0,13.0,15.0,20.0,23.0,20.0,19.0,35.0,34.0,35.0,31.0,32.0,35.0,32.0,30.0,26.0,29.0,36.0,36.0,32.0,27.0,29.0,28.0,32.0,28.0,30.0,33.0,33.0,40.0,30.0,38.0,36.0,37.0,36.0,33.0,37.0,37.0,39.0,33.0,37.0,38.0,33.0,37.0,36.0,38.0,37.0,35.0,38.0,38.0,39.0,37.0,36.0,36.0,34.0,39.0,41.0,36.0,39.0,39.0,44.0,31.0,30.0,20.0,5.0,24.0,36.0,32.0,39.0,57.0,68.0,76.0,62.0,72.0,76.0],[\"NaN\",\"NaN\",\"NaN\",\"NaN\",\"NaN\",\"NaN\",\"NaN\",\"NaN\",\"NaN\",\"NaN\",\"NaN\",\"NaN\",\"NaN\",\"NaN\",\"NaN\",\"NaN\",\"NaN\",\"NaN\",\"NaN\",\"NaN\",\"NaN\",\"NaN\",\"NaN\",\"NaN\",\"NaN\",\"NaN\",\"NaN\",\"NaN\",\"NaN\",\"NaN\",\"NaN\",\"NaN\",\"NaN\",\"NaN\",\"NaN\",\"NaN\",\"NaN\",\"NaN\",\"NaN\",\"NaN\",\"NaN\",\"NaN\",\"NaN\",\"NaN\",\"NaN\",\"NaN\",\"NaN\",\"NaN\",\"NaN\",\"NaN\",\"NaN\",\"NaN\",\"NaN\",\"NaN\",\"NaN\",\"NaN\",\"NaN\",\"NaN\",\"NaN\",\"NaN\",\"NaN\",\"NaN\",\"NaN\",\"NaN\",\"NaN\",\"NaN\",\"NaN\",\"NaN\",\"NaN\",\"NaN\",\"NaN\",\"NaN\",\"NaN\",\"NaN\",\"NaN\",\"NaN\",\"NaN\",\"NaN\",\"NaN\",\"NaN\",\"NaN\",\"NaN\",\"NaN\",\"NaN\",\"NaN\",\"NaN\",\"NaN\",\"NaN\",\"NaN\",\"NaN\",\"NaN\",\"NaN\",\"NaN\",\"NaN\",\"NaN\",\"NaN\",\"NaN\",\"NaN\",\"NaN\",\"NaN\",\"NaN\",\"NaN\",\"NaN\",\"NaN\",\"NaN\",\"NaN\"]]},\"selected\":{\"id\":\"1463\"},\"selection_policy\":{\"id\":\"1462\"}},\"id\":\"1407\",\"type\":\"ColumnDataSource\"},{\"attributes\":{\"coordinates\":null,\"data_source\":{\"id\":\"1407\"},\"glyph\":{\"id\":\"1408\"},\"group\":null,\"hover_glyph\":null,\"muted_glyph\":{\"id\":\"1410\"},\"nonselection_glyph\":{\"id\":\"1409\"},\"view\":{\"id\":\"1412\"}},\"id\":\"1411\",\"type\":\"GlyphRenderer\"},{\"attributes\":{\"coordinates\":null,\"data_source\":{\"id\":\"1413\"},\"glyph\":{\"id\":\"1414\"},\"group\":null,\"hover_glyph\":null,\"muted_glyph\":{\"id\":\"1416\"},\"nonselection_glyph\":{\"id\":\"1415\"},\"view\":{\"id\":\"1418\"}},\"id\":\"1417\",\"type\":\"GlyphRenderer\"},{\"attributes\":{\"bottom_units\":\"screen\",\"coordinates\":null,\"fill_alpha\":0.5,\"fill_color\":\"lightgrey\",\"group\":null,\"left_units\":\"screen\",\"level\":\"overlay\",\"line_alpha\":1.0,\"line_color\":\"black\",\"line_dash\":[4,4],\"line_width\":2,\"right_units\":\"screen\",\"syncable\":false,\"top_units\":\"screen\"},\"id\":\"1401\",\"type\":\"BoxAnnotation\"},{\"attributes\":{\"source\":{\"id\":\"1407\"}},\"id\":\"1412\",\"type\":\"CDSView\"},{\"attributes\":{\"line_alpha\":{\"value\":0.2},\"line_color\":{\"field\":\"line_color\"},\"line_width\":{\"value\":2},\"xs\":{\"field\":\"xs\"},\"ys\":{\"field\":\"ys\"}},\"id\":\"1410\",\"type\":\"MultiLine\"},{\"attributes\":{\"data\":{\"x\":{\"__ndarray__\":\"AAAAAAAAAADA////5arCP+D///8TrdI/AAAAAFwD3D8AAACAzaziPwAAAAA3WOc/EAAAAFkD7D8AAADANlfwP/j//38DrfI/CAAAQIMB9T/4//8/6FP3P/j///+Eqfk/+P//P/P++z8AAACAblT+PwAAAKD8VABAAAAAQMR/AUAAAACghaoCQAAAAIB91QNA+P///wYABUAAAABgISkGQAAAALCEoRlABAAAkGtWGkD8///PrAobQPz//0/AvRtAAAAAEMhyHEAAAACAGycdQAAAADAk2x1AAAAAkE2PHkAAAAAQZEQfQAQAAPCM+B9AAAAAME9WIED+//8PX7AgQP7///9vCiFA/v//d3dkIUAAAAD4gr4hQAAAACiUGCJAAAAAAKlyIkD+//9/Sr0iQAIAAFASCCNAAAAAAMFSI0AAAABofZ0jQP7//08o6CNAAAAAeOgyJEACAABofn0kQAIAADDExyRAAgAA0HcSJUD+//8PG10lQAAAABDVpyVA/v//t4zyJUAAAADoPz0mQAAAADDohyZAAAAAuKjSJkAAAABITh0nQAAAABgTaCdAAAAA0KayJ0AAAAAI5fwnQAAAAGCjRyhA/P//71OSKEAAAABwDt0oQP7//8/AJylAAAAAyHtyKUAEAACQE70pQAIAAKjiBypAAAAAeG1SKkD+//+ftpwqQAAAAPh35ypAAAAAYCIyK0D8//8n43wrQAAAAOiVxytAAAAA0FESLEAAAABwBF0sQAAAAGDHpyxAAAAA0FbyLEAAAAAgjjwtQAIAAFBOhy1AAAAAyPjRLUAAAAAIrRwuQAAAANhlZy5AAAAAyBayLkAAAADgyfwuQP7//4ePRy9A/v//TyqSL0D+//9X79wvQP///y/UEzBAAQAAQDE5MEABAAD8iF4wQAAAAADngzBAAAAAKDGpMEAAAACIUs4wQP///3Or8zBA////zwEZMUAAAAC8YT4xQAAAAOi4YzFAAQAASBSJMUAAAAD4cK4xQAEAAPTJ0zFAAAAAQBr5MUAAAACgeB4yQAAAAITJQzJAAAAAeClpMkAAAADkhI4yQAAAAIDdszJAAAAAaCLZMkAAAAAkT/4yQAAAANipIzNAAAAA0P9IM0A=\",\"dtype\":\"float64\",\"order\":\"little\",\"shape\":[106]},\"y\":{\"__ndarray__\":\"AAAAAAAANEAAAAAAAAA0QAAAAAAAADRAAAAAAAAANEAAAAAAAAA0QAAAAAAAADRAAAAAAAAANEAAAAAAAAA0QAAAAAAAADRAAAAAAAAANEAAAAAAAAA0QAAAAAAAADRAAAAAAAAANEAAAAAAAAA0QAAAAAAAADRAAAAAAAAANEAAAAAAAAA0QAAAAAAAADRAAAAAAAAANEAAAAAAAAA0QAAAAAAAADRAAAAAAAAANEAAAAAAAAA0QAAAAAAAADRAAAAAAAAANEAAAAAAAAA0QAAAAAAAADRAAAAAAAAANEAAAAAAAAA0QAAAAAAAADRAAAAAAAAANEAAAAAAAAA0QAAAAAAAADRAAAAAAAAANEAAAAAAAAA0QAAAAAAAADRAAAAAAAAANEAAAAAAAAA0QAAAAAAAADRAAAAAAAAANEAAAAAAAAA0QAAAAAAAADRAAAAAAAAANEAAAAAAAAA0QAAAAAAAADRAAAAAAAAANEAAAAAAAAA0QAAAAAAAADRAAAAAAAAANEAAAAAAAAA0QAAAAAAAADRAAAAAAAAANEAAAAAAAAA0QAAAAAAAADRAAAAAAAAANEAAAAAAAAA0QAAAAAAAADRAAAAAAAAANEAAAAAAAAA0QAAAAAAAADRAAAAAAAAANEAAAAAAAAA0QAAAAAAAADRAAAAAAAAANEAAAAAAAAA0QAAAAAAAADRAAAAAAAAANEAAAAAAAAA0QAAAAAAAADRAAAAAAAAANEAAAAAAAAA0QAAAAAAAADRAAAAAAAAANEAAAAAAAAA0QAAAAAAAADRAAAAAAAAANEAAAAAAAAA0QAAAAAAAADRAAAAAAAAANEAAAAAAAAA0QAAAAAAAADRAAAAAAAAANEAAAAAAAAA0QAAAAAAAADRAAAAAAAAANEAAAAAAAAA0QAAAAAAAADRAAAAAAAAANEAAAAAAAAA0QAAAAAAAADRAAAAAAAAANEAAAAAAAAA0QAAAAAAAADRAAAAAAAAANEAAAAAAAAA0QAAAAAAAADRAAAAAAAAANEAAAAAAAAA0QAAAAAAAADRAAAAAAAAANEAAAAAAAAA0QAAAAAAAADRAAAAAAAAANEAAAAAAAAA0QAAAAAAAADRAAAAAAAAANEA=\",\"dtype\":\"float64\",\"order\":\"little\",\"shape\":[106]}},\"selected\":{\"id\":\"1465\"},\"selection_policy\":{\"id\":\"1464\"}},\"id\":\"1413\",\"type\":\"ColumnDataSource\"},{\"attributes\":{\"line_alpha\":0.2,\"line_dash\":[2,4],\"line_width\":2,\"x\":{\"field\":\"x\"},\"y\":{\"field\":\"y\"}},\"id\":\"1416\",\"type\":\"Line\"},{\"attributes\":{\"source\":{\"id\":\"1413\"}},\"id\":\"1418\",\"type\":\"CDSView\"},{\"attributes\":{},\"id\":\"1397\",\"type\":\"PanTool\"},{\"attributes\":{\"line_alpha\":0.1,\"line_dash\":[2,4],\"line_width\":2,\"x\":{\"field\":\"x\"},\"y\":{\"field\":\"y\"}},\"id\":\"1415\",\"type\":\"Line\"},{\"attributes\":{\"line_alpha\":{\"value\":0.1},\"line_color\":{\"field\":\"line_color\"},\"line_width\":{\"value\":2},\"xs\":{\"field\":\"xs\"},\"ys\":{\"field\":\"ys\"}},\"id\":\"1409\",\"type\":\"MultiLine\"},{\"attributes\":{},\"id\":\"1400\",\"type\":\"ResetTool\"},{\"attributes\":{},\"id\":\"1457\",\"type\":\"BasicTickFormatter\"},{\"attributes\":{},\"id\":\"1460\",\"type\":\"BasicTickFormatter\"},{\"attributes\":{},\"id\":\"1385\",\"type\":\"LinearScale\"},{\"attributes\":{\"axis_label\":\"Signal\",\"coordinates\":null,\"formatter\":{\"id\":\"1457\"},\"group\":null,\"major_label_policy\":{\"id\":\"1458\"},\"ticker\":{\"id\":\"1394\"}},\"id\":\"1393\",\"type\":\"LinearAxis\"},{\"attributes\":{},\"id\":\"1458\",\"type\":\"AllLabels\"},{\"attributes\":{},\"id\":\"1383\",\"type\":\"DataRange1d\"},{\"attributes\":{\"coordinates\":null,\"group\":null,\"text\":\"Bottle Manipulator Sensor Readings\"},\"id\":\"1379\",\"type\":\"Title\"},{\"attributes\":{},\"id\":\"1461\",\"type\":\"AllLabels\"},{\"attributes\":{},\"id\":\"1387\",\"type\":\"LinearScale\"},{\"attributes\":{\"axis\":{\"id\":\"1393\"},\"coordinates\":null,\"dimension\":1,\"group\":null,\"ticker\":null},\"id\":\"1396\",\"type\":\"Grid\"},{\"attributes\":{},\"id\":\"1394\",\"type\":\"BasicTicker\"},{\"attributes\":{},\"id\":\"1462\",\"type\":\"UnionRenderers\"},{\"attributes\":{},\"id\":\"1381\",\"type\":\"DataRange1d\"},{\"attributes\":{},\"id\":\"1390\",\"type\":\"BasicTicker\"},{\"attributes\":{},\"id\":\"1463\",\"type\":\"Selection\"},{\"attributes\":{\"tools\":[{\"id\":\"1397\"},{\"id\":\"1398\"},{\"id\":\"1399\"},{\"id\":\"1400\"}]},\"id\":\"1402\",\"type\":\"Toolbar\"},{\"attributes\":{\"axis_label\":\"Time (s)\",\"coordinates\":null,\"formatter\":{\"id\":\"1460\"},\"group\":null,\"major_label_policy\":{\"id\":\"1461\"},\"ticker\":{\"id\":\"1390\"}},\"id\":\"1389\",\"type\":\"LinearAxis\"},{\"attributes\":{},\"id\":\"1398\",\"type\":\"WheelZoomTool\"},{\"attributes\":{},\"id\":\"1464\",\"type\":\"UnionRenderers\"},{\"attributes\":{\"overlay\":{\"id\":\"1401\"}},\"id\":\"1399\",\"type\":\"BoxZoomTool\"},{\"attributes\":{},\"id\":\"1465\",\"type\":\"Selection\"},{\"attributes\":{\"axis\":{\"id\":\"1389\"},\"coordinates\":null,\"group\":null,\"ticker\":null},\"id\":\"1392\",\"type\":\"Grid\"},{\"attributes\":{\"line_dash\":[2,4],\"line_width\":2,\"x\":{\"field\":\"x\"},\"y\":{\"field\":\"y\"}},\"id\":\"1414\",\"type\":\"Line\"},{\"attributes\":{\"line_color\":{\"field\":\"line_color\"},\"line_width\":{\"value\":2},\"xs\":{\"field\":\"xs\"},\"ys\":{\"field\":\"ys\"}},\"id\":\"1408\",\"type\":\"MultiLine\"}],\"root_ids\":[\"1378\"]},\"title\":\"Bokeh Application\",\"version\":\"2.4.2\"}};\n",
       "  const render_items = [{\"docid\":\"4e7f0921-57a1-4fa1-8df6-90444346635f\",\"root_ids\":[\"1378\"],\"roots\":{\"1378\":\"658315e1-9e9d-4abe-ae8b-52054d97847c\"}}];\n",
       "  root.Bokeh.embed.embed_items_notebook(docs_json, render_items);\n",
       "\n",
       "  }\n",
       "  if (root.Bokeh !== undefined) {\n",
       "    embed_document(root);\n",
       "  } else {\n",
       "    let attempts = 0;\n",
       "    const timer = setInterval(function(root) {\n",
       "      if (root.Bokeh !== undefined) {\n",
       "        clearInterval(timer);\n",
       "        embed_document(root);\n",
       "      } else {\n",
       "        attempts++;\n",
       "        if (attempts > 100) {\n",
       "          clearInterval(timer);\n",
       "          console.log(\"Bokeh: ERROR: Unable to run BokehJS code because BokehJS library is missing\");\n",
       "        }\n",
       "      }\n",
       "    }, 10, root)\n",
       "  }\n",
       "})(window);"
      ],
      "application/vnd.bokehjs_exec.v0+json": ""
     },
     "metadata": {
      "application/vnd.bokehjs_exec.v0+json": {
       "id": "1378"
      }
     },
     "output_type": "display_data"
    }
   ],
   "source": [
    "process_data(\"bottle\", \"bottle_hist_pres_0917210620\", 3, \"Bottle Manipulator Sensor Readings\") # empty bottle"
   ]
  },
  {
   "cell_type": "code",
   "execution_count": 7,
   "metadata": {},
   "outputs": [
    {
     "data": {
      "text/html": [
       "\n",
       "\n",
       "\n",
       "\n",
       "\n",
       "\n",
       "  <div class=\"bk-root\" id=\"8bbcd562-6c55-4833-8470-d5d52fa67e97\" data-root-id=\"1527\"></div>\n"
      ]
     },
     "metadata": {},
     "output_type": "display_data"
    },
    {
     "data": {
      "application/javascript": [
       "(function(root) {\n",
       "  function embed_document(root) {\n",
       "    \n",
       "  const docs_json = {\"2824b604-f858-44a2-bd44-a2b180de468f\":{\"defs\":[],\"roots\":{\"references\":[{\"attributes\":{\"below\":[{\"id\":\"1538\"}],\"center\":[{\"id\":\"1541\"},{\"id\":\"1545\"}],\"height\":300,\"left\":[{\"id\":\"1542\"}],\"renderers\":[{\"id\":\"1560\"},{\"id\":\"1566\"}],\"title\":{\"id\":\"1528\"},\"toolbar\":{\"id\":\"1551\"},\"width\":900,\"x_range\":{\"id\":\"1530\"},\"x_scale\":{\"id\":\"1534\"},\"y_range\":{\"id\":\"1532\"},\"y_scale\":{\"id\":\"1536\"}},\"id\":\"1527\",\"subtype\":\"Figure\",\"type\":\"Plot\"},{\"attributes\":{},\"id\":\"1618\",\"type\":\"BasicTickFormatter\"},{\"attributes\":{\"line_color\":{\"field\":\"line_color\"},\"line_width\":{\"value\":2},\"xs\":{\"field\":\"xs\"},\"ys\":{\"field\":\"ys\"}},\"id\":\"1557\",\"type\":\"MultiLine\"},{\"attributes\":{\"line_alpha\":{\"value\":0.1},\"line_color\":{\"field\":\"line_color\"},\"line_width\":{\"value\":2},\"xs\":{\"field\":\"xs\"},\"ys\":{\"field\":\"ys\"}},\"id\":\"1558\",\"type\":\"MultiLine\"},{\"attributes\":{\"coordinates\":null,\"data_source\":{\"id\":\"1556\"},\"glyph\":{\"id\":\"1557\"},\"group\":null,\"hover_glyph\":null,\"muted_glyph\":{\"id\":\"1559\"},\"nonselection_glyph\":{\"id\":\"1558\"},\"view\":{\"id\":\"1561\"}},\"id\":\"1560\",\"type\":\"GlyphRenderer\"},{\"attributes\":{},\"id\":\"1619\",\"type\":\"AllLabels\"},{\"attributes\":{\"bottom_units\":\"screen\",\"coordinates\":null,\"fill_alpha\":0.5,\"fill_color\":\"lightgrey\",\"group\":null,\"left_units\":\"screen\",\"level\":\"overlay\",\"line_alpha\":1.0,\"line_color\":\"black\",\"line_dash\":[4,4],\"line_width\":2,\"right_units\":\"screen\",\"syncable\":false,\"top_units\":\"screen\"},\"id\":\"1550\",\"type\":\"BoxAnnotation\"},{\"attributes\":{\"axis_label\":\"Time (s)\",\"coordinates\":null,\"formatter\":{\"id\":\"1621\"},\"group\":null,\"major_label_policy\":{\"id\":\"1622\"},\"ticker\":{\"id\":\"1539\"}},\"id\":\"1538\",\"type\":\"LinearAxis\"},{\"attributes\":{},\"id\":\"1621\",\"type\":\"BasicTickFormatter\"},{\"attributes\":{\"line_alpha\":{\"value\":0.2},\"line_color\":{\"field\":\"line_color\"},\"line_width\":{\"value\":2},\"xs\":{\"field\":\"xs\"},\"ys\":{\"field\":\"ys\"}},\"id\":\"1559\",\"type\":\"MultiLine\"},{\"attributes\":{},\"id\":\"1536\",\"type\":\"LinearScale\"},{\"attributes\":{},\"id\":\"1622\",\"type\":\"AllLabels\"},{\"attributes\":{},\"id\":\"1624\",\"type\":\"Selection\"},{\"attributes\":{},\"id\":\"1623\",\"type\":\"UnionRenderers\"},{\"attributes\":{},\"id\":\"1625\",\"type\":\"UnionRenderers\"},{\"attributes\":{\"axis\":{\"id\":\"1542\"},\"coordinates\":null,\"dimension\":1,\"group\":null,\"ticker\":null},\"id\":\"1545\",\"type\":\"Grid\"},{\"attributes\":{\"source\":{\"id\":\"1556\"}},\"id\":\"1561\",\"type\":\"CDSView\"},{\"attributes\":{\"coordinates\":null,\"group\":null,\"text\":\"Bottle Manipulator Sensor Readings\"},\"id\":\"1528\",\"type\":\"Title\"},{\"attributes\":{},\"id\":\"1530\",\"type\":\"DataRange1d\"},{\"attributes\":{\"axis\":{\"id\":\"1538\"},\"coordinates\":null,\"group\":null,\"ticker\":null},\"id\":\"1541\",\"type\":\"Grid\"},{\"attributes\":{\"data\":{\"x\":{\"__ndarray__\":\"AAAAAAAAAAABAAC4b0MmQAAAAHA6jSZA/v//7+PWJkD///9/gyAnQP7//29BaidAAAAAoN+zJ0AAAAAQhf0nQP///4c+RyhA////N++QKED///9PmtooQAAAAKBRJClAAQAAuOptKUD///+vsLcpQP///4dDASpA////l+pKKkAAAACQn5QqQP7//5873ipAAAAAkBIoK0D+//+/kHErQAAAAKhIuytA////0/+rNEAAAABcytk0QAEAAAzSBjVA////r80zNUAAAADI3GA1QP///z/mjTVA////h+66NUAAAACU7ec1QAIAABT5FDZA////9/lBNkD///97Qm82QAAAAIRHnDZA////A1XJNkAAAABQEvY2QAAAAFRWIzdA////415QN0AAAAB4ZX03QP///w9sqjdAAAAAPLDXN0AAAAC4swQ4QP///2+5MThA////p75eOEABAACowos4QAEAAMjKuDhAAAAAsNPlOEABAAAQqgo5QAAAACR/LzlAAQAA/FNUOUABAACAMnk5QAAAAFAFnjlAAQAAFNnCOUAAAABYyuc5QP///5PKDDpA/////6IxOkAAAAAAelY6QAAAACRRezpA////dyigOkAAAADo/8Q6QAEAANzW6TpA////Z6cOO0D///+zgjM7QAAAAJRVWDtAAAAA0DN9O0AAAAA8CaI7QP///yfexjtAAAAAwLLrO0D///+zihA8QAAAAOxhNTxAAQAA0DpaPED////XEX88QP///zvlozxAAQAAeL3IPEAAAABYkO08QAEAAFRoEj1AAAAAhBY3PUAAAADo0Vs9QAAAAICogD1AAAAAvH6lPUAAAACwVco9QAAAALgs7z1AAAAA1AMUPkAAAAAY2Tg+QAAAALyxXT5A/v//t4mCPkAAAADkYqc+QP7//1c8zD5AAAAAjA/xPkAAAADw6xU/QAAAAEy+Oj9AAAAA9JVfP0AAAACsa4Q/QP7//3M9qT9AAAAAMBfOP0AAAACE7PI/QAAAAKzgC0BAAAAAfkweQED///+btTBAQAAAAKAhQ0BAAQAAUphVQEAAAABKHmhAQAAAAH6GekBAAAAA0O6MQED///+RWp9AQAAAAHLFsUBAAAAAajHEQEAAAAA0ntZAQAAAAFII6UBA////i3T7QEAAAACQ3w1BQAAAALAnIEFAAAAA6pYyQUD////JAUVBQP///3FqV0FAAQAA3tRpQUAAAADQQHxBQA==\",\"dtype\":\"float64\",\"order\":\"little\",\"shape\":[116]},\"y\":{\"__ndarray__\":\"AAAAAAAANEAAAAAAAAA0QAAAAAAAADRAAAAAAAAANEAAAAAAAAA0QAAAAAAAADRAAAAAAAAANEAAAAAAAAA0QAAAAAAAADRAAAAAAAAANEAAAAAAAAA0QAAAAAAAADRAAAAAAAAANEAAAAAAAAA0QAAAAAAAADRAAAAAAAAANEAAAAAAAAA0QAAAAAAAADRAAAAAAAAANEAAAAAAAAA0QAAAAAAAADRAAAAAAAAANEAAAAAAAAA0QAAAAAAAADRAAAAAAAAANEAAAAAAAAA0QAAAAAAAADRAAAAAAAAANEAAAAAAAAA0QAAAAAAAADRAAAAAAAAANEAAAAAAAAA0QAAAAAAAADRAAAAAAAAANEAAAAAAAAA0QAAAAAAAADRAAAAAAAAANEAAAAAAAAA0QAAAAAAAADRAAAAAAAAANEAAAAAAAAA0QAAAAAAAADRAAAAAAAAANEAAAAAAAAA0QAAAAAAAADRAAAAAAAAANEAAAAAAAAA0QAAAAAAAADRAAAAAAAAANEAAAAAAAAA0QAAAAAAAADRAAAAAAAAANEAAAAAAAAA0QAAAAAAAADRAAAAAAAAANEAAAAAAAAA0QAAAAAAAADRAAAAAAAAANEAAAAAAAAA0QAAAAAAAADRAAAAAAAAANEAAAAAAAAA0QAAAAAAAADRAAAAAAAAANEAAAAAAAAA0QAAAAAAAADRAAAAAAAAANEAAAAAAAAA0QAAAAAAAADRAAAAAAAAANEAAAAAAAAA0QAAAAAAAADRAAAAAAAAANEAAAAAAAAA0QAAAAAAAADRAAAAAAAAANEAAAAAAAAA0QAAAAAAAADRAAAAAAAAANEAAAAAAAAA0QAAAAAAAADRAAAAAAAAANEAAAAAAAAA0QAAAAAAAADRAAAAAAAAANEAAAAAAAAA0QAAAAAAAADRAAAAAAAAANEAAAAAAAAA0QAAAAAAAADRAAAAAAAAANEAAAAAAAAA0QAAAAAAAADRAAAAAAAAANEAAAAAAAAA0QAAAAAAAADRAAAAAAAAANEAAAAAAAAA0QAAAAAAAADRAAAAAAAAANEAAAAAAAAA0QAAAAAAAADRAAAAAAAAANEAAAAAAAAA0QAAAAAAAADRAAAAAAAAANEAAAAAAAAA0QAAAAAAAADRAAAAAAAAANEAAAAAAAAA0QAAAAAAAADRAAAAAAAAANEAAAAAAAAA0QAAAAAAAADRAAAAAAAAANEAAAAAAAAA0QA==\",\"dtype\":\"float64\",\"order\":\"little\",\"shape\":[116]}},\"selected\":{\"id\":\"1626\"},\"selection_policy\":{\"id\":\"1625\"}},\"id\":\"1562\",\"type\":\"ColumnDataSource\"},{\"attributes\":{},\"id\":\"1626\",\"type\":\"Selection\"},{\"attributes\":{},\"id\":\"1543\",\"type\":\"BasicTicker\"},{\"attributes\":{\"tools\":[{\"id\":\"1546\"},{\"id\":\"1547\"},{\"id\":\"1548\"},{\"id\":\"1549\"}]},\"id\":\"1551\",\"type\":\"Toolbar\"},{\"attributes\":{\"axis_label\":\"Signal\",\"coordinates\":null,\"formatter\":{\"id\":\"1618\"},\"group\":null,\"major_label_policy\":{\"id\":\"1619\"},\"ticker\":{\"id\":\"1543\"}},\"id\":\"1542\",\"type\":\"LinearAxis\"},{\"attributes\":{\"line_alpha\":0.1,\"line_dash\":[2,4],\"line_width\":2,\"x\":{\"field\":\"x\"},\"y\":{\"field\":\"y\"}},\"id\":\"1564\",\"type\":\"Line\"},{\"attributes\":{\"coordinates\":null,\"data_source\":{\"id\":\"1562\"},\"glyph\":{\"id\":\"1563\"},\"group\":null,\"hover_glyph\":null,\"muted_glyph\":{\"id\":\"1565\"},\"nonselection_glyph\":{\"id\":\"1564\"},\"view\":{\"id\":\"1567\"}},\"id\":\"1566\",\"type\":\"GlyphRenderer\"},{\"attributes\":{\"line_alpha\":0.2,\"line_dash\":[2,4],\"line_width\":2,\"x\":{\"field\":\"x\"},\"y\":{\"field\":\"y\"}},\"id\":\"1565\",\"type\":\"Line\"},{\"attributes\":{},\"id\":\"1534\",\"type\":\"LinearScale\"},{\"attributes\":{\"line_dash\":[2,4],\"line_width\":2,\"x\":{\"field\":\"x\"},\"y\":{\"field\":\"y\"}},\"id\":\"1563\",\"type\":\"Line\"},{\"attributes\":{},\"id\":\"1546\",\"type\":\"PanTool\"},{\"attributes\":{},\"id\":\"1532\",\"type\":\"DataRange1d\"},{\"attributes\":{},\"id\":\"1547\",\"type\":\"WheelZoomTool\"},{\"attributes\":{\"source\":{\"id\":\"1562\"}},\"id\":\"1567\",\"type\":\"CDSView\"},{\"attributes\":{},\"id\":\"1549\",\"type\":\"ResetTool\"},{\"attributes\":{},\"id\":\"1539\",\"type\":\"BasicTicker\"},{\"attributes\":{\"overlay\":{\"id\":\"1550\"}},\"id\":\"1548\",\"type\":\"BoxZoomTool\"},{\"attributes\":{\"data\":{\"line_color\":[\"blue\",\"red\",\"green\",\"magenta\"],\"xs\":[[0.0,11.13171172142029,11.27583646774292,11.419707775115963,11.563503265380858,11.707530498504635,11.85131549835205,11.995155811309814,12.13914895057678,12.28307509422302,12.426958560943602,12.570935249328613,12.714681386947634,12.858769893646238,13.002468347549437,13.146321058273314,13.290279865264893,13.434048652648922,13.578266620635986,13.721807479858395,13.865788698196411,20.671872377395626,20.850744009017944,21.026642560958866,21.20235729217529,21.378368854522705,21.554294586181637,21.73020219802856,21.90596890449524,22.081925630569465,22.257720470428463,22.434608221054074,22.610466241836548,22.786453485488888,22.961216926574707,23.138036012649536,23.31394791603088,23.489829540252686,23.665711402893063,23.842532873153687,24.018367290496826,24.194235801696774,24.370096683502194,24.54593896865845,24.721844196319584,24.897761344909668,25.041657447814945,25.18553376197815,25.329406499862674,25.47342681884766,25.617268562316895,25.76112484931946,25.905431270599365,26.049966096878048,26.193893432617184,26.337799072265625,26.481706857681274,26.62561750411987,26.769529819488525,26.91343474388123,27.05724191665649,27.20121312141418,27.34505581855774,27.4890718460083,27.63295340538025,27.776827335357662,27.920696258544922,28.06461644172668,28.20852541923523,28.352459907531742,28.49636602401733,28.640216588973995,28.78414106369019,28.92798376083374,29.071904420852665,29.215187311172485,29.35867166519165,29.50257110595703,29.646465063095093,29.790369987487793,29.93427610397339,30.07818341255188,30.222062587738037,30.36599326133728,30.509913921356194,30.653852701187134,30.797795772552483,30.941643476486206,31.085631370544434,31.229466199874878,31.373381853103638,31.51726794242859,31.6610939502716,31.805041313171387,31.94892144203186,32.0927939414978,32.23670935630798,32.38054227828979,32.52446365356445,32.66871094703675,32.81342434883118,32.95722937583923,33.10103797912598,33.24495148658752,33.388838052749634,33.53275799751282,33.67670297622681,33.82056641578674,33.96449422836303,34.10838508605957,34.251211166381836,34.395230531692505,34.53911709785461,34.68293595314025,34.82680869102479,34.97072792053223],[0.0,11.13171172142029,11.27583646774292,11.419707775115963,11.563503265380858,11.707530498504635,11.85131549835205,11.995155811309814,12.13914895057678,12.28307509422302,12.426958560943602,12.570935249328613,12.714681386947634,12.858769893646238,13.002468347549437,13.146321058273314,13.290279865264893,13.434048652648922,13.578266620635986,13.721807479858395,13.865788698196411,20.671872377395626,20.850744009017944,21.026642560958866,21.20235729217529,21.378368854522705,21.554294586181637,21.73020219802856,21.90596890449524,22.081925630569465,22.257720470428463,22.434608221054074,22.610466241836548,22.786453485488888,22.961216926574707,23.138036012649536,23.31394791603088,23.489829540252686,23.665711402893063,23.842532873153687,24.018367290496826,24.194235801696774,24.370096683502194,24.54593896865845,24.721844196319584,24.897761344909668,25.041657447814945,25.18553376197815,25.329406499862674,25.47342681884766,25.617268562316895,25.76112484931946,25.905431270599365,26.049966096878048,26.193893432617184,26.337799072265625,26.481706857681274,26.62561750411987,26.769529819488525,26.91343474388123,27.05724191665649,27.20121312141418,27.34505581855774,27.4890718460083,27.63295340538025,27.776827335357662,27.920696258544922,28.06461644172668,28.20852541923523,28.352459907531742,28.49636602401733,28.640216588973995,28.78414106369019,28.92798376083374,29.071904420852665,29.215187311172485,29.35867166519165,29.50257110595703,29.646465063095093,29.790369987487793,29.93427610397339,30.07818341255188,30.222062587738037,30.36599326133728,30.509913921356194,30.653852701187134,30.797795772552483,30.941643476486206,31.085631370544434,31.229466199874878,31.373381853103638,31.51726794242859,31.6610939502716,31.805041313171387,31.94892144203186,32.0927939414978,32.23670935630798,32.38054227828979,32.52446365356445,32.66871094703675,32.81342434883118,32.95722937583923,33.10103797912598,33.24495148658752,33.388838052749634,33.53275799751282,33.67670297622681,33.82056641578674,33.96449422836303,34.10838508605957,34.251211166381836,34.395230531692505,34.53911709785461,34.68293595314025,34.82680869102479,34.97072792053223],[0.0,11.13171172142029,11.27583646774292,11.419707775115963,11.563503265380858,11.707530498504635,11.85131549835205,11.995155811309814,12.13914895057678,12.28307509422302,12.426958560943602,12.570935249328613,12.714681386947634,12.858769893646238,13.002468347549437,13.146321058273314,13.290279865264893,13.434048652648922,13.578266620635986,13.721807479858395,13.865788698196411,20.671872377395626,20.850744009017944,21.026642560958866,21.20235729217529,21.378368854522705,21.554294586181637,21.73020219802856,21.90596890449524,22.081925630569465,22.257720470428463,22.434608221054074,22.610466241836548,22.786453485488888,22.961216926574707,23.138036012649536,23.31394791603088,23.489829540252686,23.665711402893063,23.842532873153687,24.018367290496826,24.194235801696774,24.370096683502194,24.54593896865845,24.721844196319584,24.897761344909668,25.041657447814945,25.18553376197815,25.329406499862674,25.47342681884766,25.617268562316895,25.76112484931946,25.905431270599365,26.049966096878048,26.193893432617184,26.337799072265625,26.481706857681274,26.62561750411987,26.769529819488525,26.91343474388123,27.05724191665649,27.20121312141418,27.34505581855774,27.4890718460083,27.63295340538025,27.776827335357662,27.920696258544922,28.06461644172668,28.20852541923523,28.352459907531742,28.49636602401733,28.640216588973995,28.78414106369019,28.92798376083374,29.071904420852665,29.215187311172485,29.35867166519165,29.50257110595703,29.646465063095093,29.790369987487793,29.93427610397339,30.07818341255188,30.222062587738037,30.36599326133728,30.509913921356194,30.653852701187134,30.797795772552483,30.941643476486206,31.085631370544434,31.229466199874878,31.373381853103638,31.51726794242859,31.6610939502716,31.805041313171387,31.94892144203186,32.0927939414978,32.23670935630798,32.38054227828979,32.52446365356445,32.66871094703675,32.81342434883118,32.95722937583923,33.10103797912598,33.24495148658752,33.388838052749634,33.53275799751282,33.67670297622681,33.82056641578674,33.96449422836303,34.10838508605957,34.251211166381836,34.395230531692505,34.53911709785461,34.68293595314025,34.82680869102479,34.97072792053223],[0.0,11.13171172142029,11.27583646774292,11.419707775115963,11.563503265380858,11.707530498504635,11.85131549835205,11.995155811309814,12.13914895057678,12.28307509422302,12.426958560943602,12.570935249328613,12.714681386947634,12.858769893646238,13.002468347549437,13.146321058273314,13.290279865264893,13.434048652648922,13.578266620635986,13.721807479858395,13.865788698196411,20.671872377395626,20.850744009017944,21.026642560958866,21.20235729217529,21.378368854522705,21.554294586181637,21.73020219802856,21.90596890449524,22.081925630569465,22.257720470428463,22.434608221054074,22.610466241836548,22.786453485488888,22.961216926574707,23.138036012649536,23.31394791603088,23.489829540252686,23.665711402893063,23.842532873153687,24.018367290496826,24.194235801696774,24.370096683502194,24.54593896865845,24.721844196319584,24.897761344909668,25.041657447814945,25.18553376197815,25.329406499862674,25.47342681884766,25.617268562316895,25.76112484931946,25.905431270599365,26.049966096878048,26.193893432617184,26.337799072265625,26.481706857681274,26.62561750411987,26.769529819488525,26.91343474388123,27.05724191665649,27.20121312141418,27.34505581855774,27.4890718460083,27.63295340538025,27.776827335357662,27.920696258544922,28.06461644172668,28.20852541923523,28.352459907531742,28.49636602401733,28.640216588973995,28.78414106369019,28.92798376083374,29.071904420852665,29.215187311172485,29.35867166519165,29.50257110595703,29.646465063095093,29.790369987487793,29.93427610397339,30.07818341255188,30.222062587738037,30.36599326133728,30.509913921356194,30.653852701187134,30.797795772552483,30.941643476486206,31.085631370544434,31.229466199874878,31.373381853103638,31.51726794242859,31.6610939502716,31.805041313171387,31.94892144203186,32.0927939414978,32.23670935630798,32.38054227828979,32.52446365356445,32.66871094703675,32.81342434883118,32.95722937583923,33.10103797912598,33.24495148658752,33.388838052749634,33.53275799751282,33.67670297622681,33.82056641578674,33.96449422836303,34.10838508605957,34.251211166381836,34.395230531692505,34.53911709785461,34.68293595314025,34.82680869102479,34.97072792053223]],\"ys\":[[3.0,9.0,11.0,12.0,13.0,15.0,16.0,17.0,16.0,16.0,16.0,18.0,17.0,20.0,20.0,17.0,22.0,19.0,23.0,21.0,19.0,25.0,26.0,25.0,27.0,0.0,2.0,0.0,0.0,1.0,1.0,1.0,1.0,1.0,1.0,2.0,4.0,8.0,9.0,10.0,13.0,15.0,23.0,23.0,26.0,28.0,28.0,27.0,30.0,33.0,31.0,34.0,32.0,35.0,29.0,28.0,26.0,32.0,37.0,29.0,35.0,29.0,34.0,35.0,42.0,31.0,29.0,28.0,27.0,29.0,30.0,32.0,47.0,36.0,34.0,29.0,32.0,32.0,36.0,29.0,36.0,43.0,43.0,41.0,33.0,39.0,47.0,48.0,43.0,37.0,40.0,28.0,34.0,28.0,34.0,29.0,45.0,47.0,36.0,47.0,39.0,30.0,47.0,44.0,46.0,48.0,45.0,48.0,50.0,47.0,39.0,41.0,43.0,37.0,34.0,47.0],[1.0,3.0,1.0,2.0,1.0,1.0,1.0,1.0,2.0,2.0,2.0,1.0,1.0,2.0,2.0,2.0,2.0,2.0,2.0,2.0,2.0,2.0,1.0,2.0,2.0,1.0,1.0,1.0,5.0,8.0,10.0,12.0,19.0,20.0,22.0,17.0,22.0,17.0,11.0,8.0,4.0,4.0,7.0,8.0,9.0,11.0,14.0,14.0,15.0,18.0,17.0,18.0,19.0,19.0,19.0,20.0,20.0,20.0,22.0,21.0,20.0,21.0,20.0,20.0,23.0,25.0,23.0,26.0,25.0,25.0,25.0,26.0,24.0,23.0,20.0,22.0,29.0,29.0,27.0,26.0,27.0,32.0,36.0,39.0,40.0,41.0,42.0,45.0,45.0,42.0,57.0,57.0,56.0,55.0,57.0,58.0,54.0,52.0,55.0,58.0,52.0,55.0,56.0,44.0,44.0,54.0,57.0,45.0,41.0,38.0,37.0,38.0,33.0,32.0,32.0,34.0],[1.0,4.0,4.0,4.0,4.0,4.0,4.0,4.0,4.0,4.0,4.0,5.0,4.0,4.0,4.0,4.0,3.0,4.0,4.0,4.0,4.0,10.0,10.0,10.0,10.0,5.0,9.0,7.0,3.0,7.0,7.0,8.0,2.0,4.0,3.0,4.0,5.0,4.0,2.0,2.0,2.0,1.0,2.0,2.0,2.0,2.0,2.0,2.0,3.0,6.0,6.0,5.0,4.0,5.0,3.0,3.0,3.0,2.0,3.0,3.0,2.0,3.0,3.0,2.0,3.0,3.0,4.0,3.0,3.0,2.0,2.0,4.0,3.0,2.0,2.0,6.0,6.0,7.0,14.0,10.0,16.0,16.0,10.0,19.0,24.0,22.0,30.0,30.0,33.0,33.0,40.0,63.0,49.0,63.0,73.0,73.0,75.0,87.0,98.0,96.0,88.0,99.0,101.0,98.0,99.0,104.0,103.0,108.0,105.0,111.0,112.0,111.0,110.0,110.0,110.0,112.0],[\"NaN\",\"NaN\",\"NaN\",\"NaN\",\"NaN\",\"NaN\",\"NaN\",\"NaN\",\"NaN\",\"NaN\",\"NaN\",\"NaN\",\"NaN\",\"NaN\",\"NaN\",\"NaN\",\"NaN\",\"NaN\",\"NaN\",\"NaN\",\"NaN\",\"NaN\",\"NaN\",\"NaN\",\"NaN\",\"NaN\",\"NaN\",\"NaN\",\"NaN\",\"NaN\",\"NaN\",\"NaN\",\"NaN\",\"NaN\",\"NaN\",\"NaN\",\"NaN\",\"NaN\",\"NaN\",\"NaN\",\"NaN\",\"NaN\",\"NaN\",\"NaN\",\"NaN\",\"NaN\",\"NaN\",\"NaN\",\"NaN\",\"NaN\",\"NaN\",\"NaN\",\"NaN\",\"NaN\",\"NaN\",\"NaN\",\"NaN\",\"NaN\",\"NaN\",\"NaN\",\"NaN\",\"NaN\",\"NaN\",\"NaN\",\"NaN\",\"NaN\",\"NaN\",\"NaN\",\"NaN\",\"NaN\",\"NaN\",\"NaN\",\"NaN\",\"NaN\",\"NaN\",\"NaN\",\"NaN\",\"NaN\",\"NaN\",\"NaN\",\"NaN\",\"NaN\",\"NaN\",\"NaN\",\"NaN\",\"NaN\",\"NaN\",\"NaN\",\"NaN\",\"NaN\",\"NaN\",\"NaN\",\"NaN\",\"NaN\",\"NaN\",\"NaN\",\"NaN\",\"NaN\",\"NaN\",\"NaN\",\"NaN\",\"NaN\",\"NaN\",\"NaN\",\"NaN\",\"NaN\",\"NaN\",\"NaN\",\"NaN\",\"NaN\",\"NaN\",\"NaN\",\"NaN\",\"NaN\",\"NaN\",\"NaN\"]]},\"selected\":{\"id\":\"1624\"},\"selection_policy\":{\"id\":\"1623\"}},\"id\":\"1556\",\"type\":\"ColumnDataSource\"}],\"root_ids\":[\"1527\"]},\"title\":\"Bokeh Application\",\"version\":\"2.4.2\"}};\n",
       "  const render_items = [{\"docid\":\"2824b604-f858-44a2-bd44-a2b180de468f\",\"root_ids\":[\"1527\"],\"roots\":{\"1527\":\"8bbcd562-6c55-4833-8470-d5d52fa67e97\"}}];\n",
       "  root.Bokeh.embed.embed_items_notebook(docs_json, render_items);\n",
       "\n",
       "  }\n",
       "  if (root.Bokeh !== undefined) {\n",
       "    embed_document(root);\n",
       "  } else {\n",
       "    let attempts = 0;\n",
       "    const timer = setInterval(function(root) {\n",
       "      if (root.Bokeh !== undefined) {\n",
       "        clearInterval(timer);\n",
       "        embed_document(root);\n",
       "      } else {\n",
       "        attempts++;\n",
       "        if (attempts > 100) {\n",
       "          clearInterval(timer);\n",
       "          console.log(\"Bokeh: ERROR: Unable to run BokehJS code because BokehJS library is missing\");\n",
       "        }\n",
       "      }\n",
       "    }, 10, root)\n",
       "  }\n",
       "})(window);"
      ],
      "application/vnd.bokehjs_exec.v0+json": ""
     },
     "metadata": {
      "application/vnd.bokehjs_exec.v0+json": {
       "id": "1527"
      }
     },
     "output_type": "display_data"
    }
   ],
   "source": [
    "process_data(\"bottle\", \"bottle_hist_pres_0917210813\", 2, \"Bottle Manipulator Sensor Readings\") # empty bottle"
   ]
  },
  {
   "cell_type": "markdown",
   "metadata": {},
   "source": [
    "## Scissor data"
   ]
  },
  {
   "cell_type": "code",
   "execution_count": 8,
   "metadata": {},
   "outputs": [
    {
     "data": {
      "text/html": [
       "\n",
       "\n",
       "\n",
       "\n",
       "\n",
       "\n",
       "  <div class=\"bk-root\" id=\"eeda8ff2-cc77-4cfa-ab44-f2be393227b4\" data-root-id=\"1688\"></div>\n"
      ]
     },
     "metadata": {},
     "output_type": "display_data"
    },
    {
     "data": {
      "application/javascript": [
       "(function(root) {\n",
       "  function embed_document(root) {\n",
       "    \n",
       "  const docs_json = {\"517df66e-697d-4996-886a-52849e3bbf74\":{\"defs\":[],\"roots\":{\"references\":[{\"attributes\":{\"below\":[{\"id\":\"1699\"}],\"center\":[{\"id\":\"1702\"},{\"id\":\"1706\"}],\"height\":300,\"left\":[{\"id\":\"1703\"}],\"renderers\":[{\"id\":\"1721\"},{\"id\":\"1727\"}],\"title\":{\"id\":\"1689\"},\"toolbar\":{\"id\":\"1712\"},\"width\":900,\"x_range\":{\"id\":\"1691\"},\"x_scale\":{\"id\":\"1695\"},\"y_range\":{\"id\":\"1693\"},\"y_scale\":{\"id\":\"1697\"}},\"id\":\"1688\",\"subtype\":\"Figure\",\"type\":\"Plot\"},{\"attributes\":{\"axis_label\":\"Time (s)\",\"coordinates\":null,\"formatter\":{\"id\":\"1794\"},\"group\":null,\"major_label_policy\":{\"id\":\"1795\"},\"ticker\":{\"id\":\"1700\"}},\"id\":\"1699\",\"type\":\"LinearAxis\"},{\"attributes\":{},\"id\":\"1691\",\"type\":\"DataRange1d\"},{\"attributes\":{\"coordinates\":null,\"group\":null,\"text\":\"Scissor Manipulator Sensor Readings\"},\"id\":\"1689\",\"type\":\"Title\"},{\"attributes\":{},\"id\":\"1792\",\"type\":\"AllLabels\"},{\"attributes\":{\"data\":{\"x\":{\"__ndarray__\":\"AAAAAAAAAAAAAAAID3koQAAAADCOnSpAAAAAUMN+K0AAAAB4XEAsQP7//+dbNC1AAAAAcGoWLkD+//+3keUuQAAAAEh2wS9A////nw1MMED///9rnCYxQAEAAIgpbDJAAAAAWBXgN0AAAAA0aQ0+QAAAAMgIXD5A/v//P1SoPkAAAACMgvc+QAAAAOwNRT9AAAAASHmIP0AAAACkWNg/QP////8+EkBAAAAA/mY6QEAAAAC2RGBAQAAAAPKrh0BAAAAA1EyuQED///+19NVAQAEAAPjn+0BA////45UjQUD////zREhBQAAAAKCNb0FA////C2OVQUAAAAAOsrlBQAEAAAho4UFA////bRYJQkD///97KTJCQP////V5VkJAAAAAOvN8QkAAAAAAraRCQAAAACj/ykJAAAAA+p7yQkD///9zPhRDQP///9EwOENA////DWNZQ0AAAADyOHxDQAAAALqWoUNA\",\"dtype\":\"float64\",\"order\":\"little\",\"shape\":[45]},\"y\":{\"__ndarray__\":\"AAAAAAAAREAAAAAAAABEQAAAAAAAAERAAAAAAAAAREAAAAAAAABEQAAAAAAAAERAAAAAAAAAREAAAAAAAABEQAAAAAAAAERAAAAAAAAAREAAAAAAAABEQAAAAAAAAERAAAAAAAAAREAAAAAAAABEQAAAAAAAAERAAAAAAAAAREAAAAAAAABEQAAAAAAAAERAAAAAAAAAREAAAAAAAABEQAAAAAAAAERAAAAAAAAAREAAAAAAAABEQAAAAAAAAERAAAAAAAAAREAAAAAAAABEQAAAAAAAAERAAAAAAAAAREAAAAAAAABEQAAAAAAAAERAAAAAAAAAREAAAAAAAABEQAAAAAAAAERAAAAAAAAAREAAAAAAAABEQAAAAAAAAERAAAAAAAAAREAAAAAAAABEQAAAAAAAAERAAAAAAAAAREAAAAAAAABEQAAAAAAAAERAAAAAAAAAREAAAAAAAABEQAAAAAAAAERA\",\"dtype\":\"float64\",\"order\":\"little\",\"shape\":[45]}},\"selected\":{\"id\":\"1799\"},\"selection_policy\":{\"id\":\"1798\"}},\"id\":\"1723\",\"type\":\"ColumnDataSource\"},{\"attributes\":{},\"id\":\"1794\",\"type\":\"BasicTickFormatter\"},{\"attributes\":{},\"id\":\"1697\",\"type\":\"LinearScale\"},{\"attributes\":{},\"id\":\"1795\",\"type\":\"AllLabels\"},{\"attributes\":{},\"id\":\"1695\",\"type\":\"LinearScale\"},{\"attributes\":{},\"id\":\"1693\",\"type\":\"DataRange1d\"},{\"attributes\":{\"line_dash\":[2,4],\"line_width\":2,\"x\":{\"field\":\"x\"},\"y\":{\"field\":\"y\"}},\"id\":\"1724\",\"type\":\"Line\"},{\"attributes\":{\"line_alpha\":{\"value\":0.1},\"line_color\":{\"field\":\"line_color\"},\"line_width\":{\"value\":2},\"xs\":{\"field\":\"xs\"},\"ys\":{\"field\":\"ys\"}},\"id\":\"1719\",\"type\":\"MultiLine\"},{\"attributes\":{\"line_color\":{\"field\":\"line_color\"},\"line_width\":{\"value\":2},\"xs\":{\"field\":\"xs\"},\"ys\":{\"field\":\"ys\"}},\"id\":\"1718\",\"type\":\"MultiLine\"},{\"attributes\":{\"line_alpha\":0.2,\"line_dash\":[2,4],\"line_width\":2,\"x\":{\"field\":\"x\"},\"y\":{\"field\":\"y\"}},\"id\":\"1726\",\"type\":\"Line\"},{\"attributes\":{\"bottom_units\":\"screen\",\"coordinates\":null,\"fill_alpha\":0.5,\"fill_color\":\"lightgrey\",\"group\":null,\"left_units\":\"screen\",\"level\":\"overlay\",\"line_alpha\":1.0,\"line_color\":\"black\",\"line_dash\":[4,4],\"line_width\":2,\"right_units\":\"screen\",\"syncable\":false,\"top_units\":\"screen\"},\"id\":\"1711\",\"type\":\"BoxAnnotation\"},{\"attributes\":{},\"id\":\"1798\",\"type\":\"UnionRenderers\"},{\"attributes\":{\"line_alpha\":{\"value\":0.2},\"line_color\":{\"field\":\"line_color\"},\"line_width\":{\"value\":2},\"xs\":{\"field\":\"xs\"},\"ys\":{\"field\":\"ys\"}},\"id\":\"1720\",\"type\":\"MultiLine\"},{\"attributes\":{\"line_alpha\":0.1,\"line_dash\":[2,4],\"line_width\":2,\"x\":{\"field\":\"x\"},\"y\":{\"field\":\"y\"}},\"id\":\"1725\",\"type\":\"Line\"},{\"attributes\":{},\"id\":\"1707\",\"type\":\"PanTool\"},{\"attributes\":{},\"id\":\"1710\",\"type\":\"ResetTool\"},{\"attributes\":{\"data\":{\"line_color\":[\"blue\"],\"xs\":[[0.0,12.236442804336548,13.307725429534912,13.747583866119385,14.125705480575562,14.602263689041134,15.04378080368042,15.448377370834347,15.8778555393219,16.297082901000973,17.150824308395382,18.422508716583256,23.875325679779053,30.05238652229309,30.359508991241455,30.65753555297851,30.966835737228394,31.26974368095398,31.533100605010986,31.845102548599243,32.14254760742187,32.456268072128296,32.7520968914032,33.059934854507446,33.361719608306885,33.67153048515319,33.96801662445069,34.278011798858635,34.56460428237914,34.87150955200195,35.16708517074584,35.450746297836304,35.76098728179932,36.07099699974059,36.39189100265502,36.67559695243835,36.97617268562317,37.286529541015625,37.58591175079346,37.89547657966614,38.15815591812133,38.4389898777008,38.69833540916442,38.97048783302307,39.262412309646606]],\"ys\":[[1.0,0.0,1.0,3.0,2.0,-2.0,0.0,4.0,1.0,-1.0,0.0,5.0,-6.0,-6.0,-5.0,-7.0,-7.0,-7.0,-7.0,-7.0,-3.0,-3.0,-4.0,-3.0,-5.0,4.0,18.0,11.0,11.0,31.0,24.0,27.0,25.0,27.0,30.0,39.0,46.0,52.0,30.0,31.0,37.0,47.0,55.0,74.0,-6.0]]},\"selected\":{\"id\":\"1797\"},\"selection_policy\":{\"id\":\"1796\"}},\"id\":\"1717\",\"type\":\"ColumnDataSource\"},{\"attributes\":{},\"id\":\"1708\",\"type\":\"WheelZoomTool\"},{\"attributes\":{\"coordinates\":null,\"data_source\":{\"id\":\"1723\"},\"glyph\":{\"id\":\"1724\"},\"group\":null,\"hover_glyph\":null,\"muted_glyph\":{\"id\":\"1726\"},\"nonselection_glyph\":{\"id\":\"1725\"},\"view\":{\"id\":\"1728\"}},\"id\":\"1727\",\"type\":\"GlyphRenderer\"},{\"attributes\":{},\"id\":\"1791\",\"type\":\"BasicTickFormatter\"},{\"attributes\":{\"coordinates\":null,\"data_source\":{\"id\":\"1717\"},\"glyph\":{\"id\":\"1718\"},\"group\":null,\"hover_glyph\":null,\"muted_glyph\":{\"id\":\"1720\"},\"nonselection_glyph\":{\"id\":\"1719\"},\"view\":{\"id\":\"1722\"}},\"id\":\"1721\",\"type\":\"GlyphRenderer\"},{\"attributes\":{\"tools\":[{\"id\":\"1707\"},{\"id\":\"1708\"},{\"id\":\"1709\"},{\"id\":\"1710\"}]},\"id\":\"1712\",\"type\":\"Toolbar\"},{\"attributes\":{\"source\":{\"id\":\"1723\"}},\"id\":\"1728\",\"type\":\"CDSView\"},{\"attributes\":{\"overlay\":{\"id\":\"1711\"}},\"id\":\"1709\",\"type\":\"BoxZoomTool\"},{\"attributes\":{\"axis\":{\"id\":\"1699\"},\"coordinates\":null,\"group\":null,\"ticker\":null},\"id\":\"1702\",\"type\":\"Grid\"},{\"attributes\":{\"axis_label\":\"Signal\",\"coordinates\":null,\"formatter\":{\"id\":\"1791\"},\"group\":null,\"major_label_policy\":{\"id\":\"1792\"},\"ticker\":{\"id\":\"1704\"}},\"id\":\"1703\",\"type\":\"LinearAxis\"},{\"attributes\":{},\"id\":\"1797\",\"type\":\"Selection\"},{\"attributes\":{},\"id\":\"1704\",\"type\":\"BasicTicker\"},{\"attributes\":{\"axis\":{\"id\":\"1703\"},\"coordinates\":null,\"dimension\":1,\"group\":null,\"ticker\":null},\"id\":\"1706\",\"type\":\"Grid\"},{\"attributes\":{},\"id\":\"1799\",\"type\":\"Selection\"},{\"attributes\":{\"source\":{\"id\":\"1717\"}},\"id\":\"1722\",\"type\":\"CDSView\"},{\"attributes\":{},\"id\":\"1796\",\"type\":\"UnionRenderers\"},{\"attributes\":{},\"id\":\"1700\",\"type\":\"BasicTicker\"}],\"root_ids\":[\"1688\"]},\"title\":\"Bokeh Application\",\"version\":\"2.4.2\"}};\n",
       "  const render_items = [{\"docid\":\"517df66e-697d-4996-886a-52849e3bbf74\",\"root_ids\":[\"1688\"],\"roots\":{\"1688\":\"eeda8ff2-cc77-4cfa-ab44-f2be393227b4\"}}];\n",
       "  root.Bokeh.embed.embed_items_notebook(docs_json, render_items);\n",
       "\n",
       "  }\n",
       "  if (root.Bokeh !== undefined) {\n",
       "    embed_document(root);\n",
       "  } else {\n",
       "    let attempts = 0;\n",
       "    const timer = setInterval(function(root) {\n",
       "      if (root.Bokeh !== undefined) {\n",
       "        clearInterval(timer);\n",
       "        embed_document(root);\n",
       "      } else {\n",
       "        attempts++;\n",
       "        if (attempts > 100) {\n",
       "          clearInterval(timer);\n",
       "          console.log(\"Bokeh: ERROR: Unable to run BokehJS code because BokehJS library is missing\");\n",
       "        }\n",
       "      }\n",
       "    }, 10, root)\n",
       "  }\n",
       "})(window);"
      ],
      "application/vnd.bokehjs_exec.v0+json": ""
     },
     "metadata": {
      "application/vnd.bokehjs_exec.v0+json": {
       "id": "1688"
      }
     },
     "output_type": "display_data"
    }
   ],
   "source": [
    "process_data(\"scissor\", \"purple_scissor_hist_force_0915171353\", 2, \"Scissor Manipulator Sensor Readings\") # scissors"
   ]
  },
  {
   "cell_type": "code",
   "execution_count": 9,
   "metadata": {},
   "outputs": [
    {
     "name": "stdout",
     "output_type": "stream",
     "text": [
      "The search \"wing \" produced 85 search results:\n",
      "wing_hist_force_0914221649.csv contains fewer than 10 data points\n"
     ]
    },
    {
     "data": {
      "text/html": [
       "\n",
       "\n",
       "\n",
       "\n",
       "\n",
       "\n",
       "  <div class=\"bk-root\" id=\"694fb6a0-2a30-4e35-9cae-9ed24d648c79\" data-root-id=\"1861\"></div>\n"
      ]
     },
     "metadata": {},
     "output_type": "display_data"
    },
    {
     "data": {
      "application/javascript": [
       "(function(root) {\n",
       "  function embed_document(root) {\n",
       "    \n",
       "  const docs_json = {\"d2e29dc1-e8c4-4f6a-a174-91454fd491bb\":{\"defs\":[],\"roots\":{\"references\":[{\"attributes\":{\"below\":[{\"id\":\"1872\"}],\"center\":[{\"id\":\"1875\"},{\"id\":\"1879\"}],\"height\":300,\"left\":[{\"id\":\"1876\"}],\"renderers\":[{\"id\":\"1894\"},{\"id\":\"1900\"}],\"title\":{\"id\":\"1862\"},\"toolbar\":{\"id\":\"1885\"},\"width\":900,\"x_range\":{\"id\":\"1864\"},\"x_scale\":{\"id\":\"1868\"},\"y_range\":{\"id\":\"1866\"},\"y_scale\":{\"id\":\"1870\"}},\"id\":\"1861\",\"subtype\":\"Figure\",\"type\":\"Plot\"},{\"attributes\":{},\"id\":\"1866\",\"type\":\"DataRange1d\"},{\"attributes\":{},\"id\":\"1868\",\"type\":\"LinearScale\"},{\"attributes\":{\"coordinates\":null,\"data_source\":{\"id\":\"1896\"},\"glyph\":{\"id\":\"1897\"},\"group\":null,\"hover_glyph\":null,\"muted_glyph\":{\"id\":\"1899\"},\"nonselection_glyph\":{\"id\":\"1898\"},\"view\":{\"id\":\"1901\"}},\"id\":\"1900\",\"type\":\"GlyphRenderer\"},{\"attributes\":{\"line_alpha\":0.2,\"line_dash\":[2,4],\"line_width\":2,\"x\":{\"field\":\"x\"},\"y\":{\"field\":\"y\"}},\"id\":\"1899\",\"type\":\"Line\"},{\"attributes\":{\"line_color\":{\"field\":\"line_color\"},\"line_width\":{\"value\":2},\"xs\":{\"field\":\"xs\"},\"ys\":{\"field\":\"ys\"}},\"id\":\"1891\",\"type\":\"MultiLine\"},{\"attributes\":{\"line_alpha\":0.1,\"line_dash\":[2,4],\"line_width\":2,\"x\":{\"field\":\"x\"},\"y\":{\"field\":\"y\"}},\"id\":\"1898\",\"type\":\"Line\"},{\"attributes\":{},\"id\":\"1982\",\"type\":\"Selection\"},{\"attributes\":{\"line_dash\":[2,4],\"line_width\":2,\"x\":{\"field\":\"x\"},\"y\":{\"field\":\"y\"}},\"id\":\"1897\",\"type\":\"Line\"},{\"attributes\":{},\"id\":\"1881\",\"type\":\"WheelZoomTool\"},{\"attributes\":{\"tools\":[{\"id\":\"1880\"},{\"id\":\"1881\"},{\"id\":\"1882\"},{\"id\":\"1883\"}]},\"id\":\"1885\",\"type\":\"Toolbar\"},{\"attributes\":{},\"id\":\"1984\",\"type\":\"Selection\"},{\"attributes\":{\"bottom_units\":\"screen\",\"coordinates\":null,\"fill_alpha\":0.5,\"fill_color\":\"lightgrey\",\"group\":null,\"left_units\":\"screen\",\"level\":\"overlay\",\"line_alpha\":1.0,\"line_color\":\"black\",\"line_dash\":[4,4],\"line_width\":2,\"right_units\":\"screen\",\"syncable\":false,\"top_units\":\"screen\"},\"id\":\"1884\",\"type\":\"BoxAnnotation\"},{\"attributes\":{},\"id\":\"1880\",\"type\":\"PanTool\"},{\"attributes\":{\"source\":{\"id\":\"1896\"}},\"id\":\"1901\",\"type\":\"CDSView\"},{\"attributes\":{},\"id\":\"1883\",\"type\":\"ResetTool\"},{\"attributes\":{\"overlay\":{\"id\":\"1884\"}},\"id\":\"1882\",\"type\":\"BoxZoomTool\"},{\"attributes\":{\"axis_label\":\"Signal\",\"coordinates\":null,\"formatter\":{\"id\":\"1976\"},\"group\":null,\"major_label_policy\":{\"id\":\"1977\"},\"ticker\":{\"id\":\"1877\"}},\"id\":\"1876\",\"type\":\"LinearAxis\"},{\"attributes\":{\"source\":{\"id\":\"1890\"}},\"id\":\"1895\",\"type\":\"CDSView\"},{\"attributes\":{\"data\":{\"line_color\":[\"blue\"],\"xs\":[[0.0,3.5517189502716064,3.6961259841918945,7.247694015502926,7.391561985015867,10.943689107894897,11.087553977966309,14.63918399810791,14.783113956451416,18.335650920867923,18.47962403297424,22.032974004745483,22.176784038543705,25.725964069366455,26.30879712104798,33.48332691192626,35.07452392578125,36.218693017959595,36.36148810386658,39.913895130157464,40.05779600143432,43.60935306549072,43.7532229423523,47.30486702919006,47.44876194000245,50.99989700317382,51.14569306373597,54.69627094268798,54.840116024017334,58.39064598083495,58.53467106819153,62.0858941078186,62.67038607597351,69.82925009727478,71.41807198524474,72.56244206428526,72.70625400543211,76.25869393348692,76.40263509750366,79.95394301414488,80.09792804718019,83.64858102798462,83.79325890541075,87.34492707252501,87.48868703842163,91.0409550666809,91.18487596511844,94.73742508888246,94.88252496719358,98.43470907211302,99.02903294563295,106.24044013023376,107.85115694999693,108.99541401863097,109.13861894607544,112.6900370121002,112.83482694625854,116.38911008834837,116.53390407562256,120.08636212348937,120.2306089401245,123.78381609916684,123.92778992652893,127.48049592971802,127.62655806541443,131.18037605285645,131.32605290412903,134.87882399559024,135.46219110488892,142.61642813682556,144.2204210758209,145.3654091358185,145.50926899909973,149.0617890357971,149.20563793182373,152.75791406631467,152.90189409255981,156.4533109664917,156.59703993797302,160.14878010749817,160.29343605041504,163.84599208831784,163.99097800254822,167.54517793655393,167.68905091285706,171.2422580718994,171.82287406921387,178.9777801036835,180.5685269832611,181.71258807182312,181.85578608512876,183.608372926712,183.75218391418454,185.50494790077204,185.64876890182495,187.40199804306027,187.54656696319583,189.29902791976926,189.4441599845886,191.19699311256406,191.34170794486997,193.0934190750122,193.30419206619268]],\"ys\":[[-18.0,-6.0,16.0,2.0,18.0,14.0,30.0,4.0,48.0,-97.0,-90.0,-361.0,-346.0,-420.0,-287.0,-238.0,-212.0,-144.0,-171.0,-83.0,-60.0,-87.0,-69.0,-73.0,-38.0,-113.0,-92.0,-70.0,-32.0,-220.0,-204.0,-307.0,-178.0,-165.0,-132.0,-97.0,-96.0,-49.0,1.0,-34.0,0.0,-36.0,-39.0,34.0,39.0,-12.0,8.0,-185.0,-143.0,-128.0,-55.0,-31.0,3.0,46.0,17.0,136.0,158.0,91.0,83.0,-17.0,31.0,-13.0,34.0,-95.0,-79.0,-257.0,-258.0,-395.0,-322.0,-201.0,-169.0,-276.0,-218.0,-355.0,-358.0,-317.0,-303.0,-298.0,-294.0,-359.0,-319.0,-307.0,-299.0,-335.0,-351.0,-336.0,-778.0,-616.0,-614.0,-506.0,-495.0,-467.0,-469.0,-456.0,-451.0,-453.0,-450.0,-442.0,-436.0,-432.0,-426.0,295.0,503.0]]},\"selected\":{\"id\":\"1982\"},\"selection_policy\":{\"id\":\"1981\"}},\"id\":\"1890\",\"type\":\"ColumnDataSource\"},{\"attributes\":{},\"id\":\"1983\",\"type\":\"UnionRenderers\"},{\"attributes\":{},\"id\":\"1877\",\"type\":\"BasicTicker\"},{\"attributes\":{},\"id\":\"1976\",\"type\":\"BasicTickFormatter\"},{\"attributes\":{},\"id\":\"1980\",\"type\":\"AllLabels\"},{\"attributes\":{},\"id\":\"1873\",\"type\":\"BasicTicker\"},{\"attributes\":{\"coordinates\":null,\"group\":null,\"text\":\"wing_hist_force_0914230817\"},\"id\":\"1862\",\"type\":\"Title\"},{\"attributes\":{},\"id\":\"1977\",\"type\":\"AllLabels\"},{\"attributes\":{\"axis\":{\"id\":\"1872\"},\"coordinates\":null,\"group\":null,\"ticker\":null},\"id\":\"1875\",\"type\":\"Grid\"},{\"attributes\":{},\"id\":\"1864\",\"type\":\"DataRange1d\"},{\"attributes\":{\"coordinates\":null,\"data_source\":{\"id\":\"1890\"},\"glyph\":{\"id\":\"1891\"},\"group\":null,\"hover_glyph\":null,\"muted_glyph\":{\"id\":\"1893\"},\"nonselection_glyph\":{\"id\":\"1892\"},\"view\":{\"id\":\"1895\"}},\"id\":\"1894\",\"type\":\"GlyphRenderer\"},{\"attributes\":{\"line_alpha\":{\"value\":0.2},\"line_color\":{\"field\":\"line_color\"},\"line_width\":{\"value\":2},\"xs\":{\"field\":\"xs\"},\"ys\":{\"field\":\"ys\"}},\"id\":\"1893\",\"type\":\"MultiLine\"},{\"attributes\":{\"axis\":{\"id\":\"1876\"},\"coordinates\":null,\"dimension\":1,\"group\":null,\"ticker\":null},\"id\":\"1879\",\"type\":\"Grid\"},{\"attributes\":{},\"id\":\"1979\",\"type\":\"BasicTickFormatter\"},{\"attributes\":{\"axis_label\":\"Time (s)\",\"coordinates\":null,\"formatter\":{\"id\":\"1979\"},\"group\":null,\"major_label_policy\":{\"id\":\"1980\"},\"ticker\":{\"id\":\"1873\"}},\"id\":\"1872\",\"type\":\"LinearAxis\"},{\"attributes\":{},\"id\":\"1981\",\"type\":\"UnionRenderers\"},{\"attributes\":{\"data\":{\"x\":{\"__ndarray__\":\"AAAAAAAAAAAAAACg62kMQAAAAICqkQ1A/P//f6P9HED+//+f9ZAdQAAAADgr4yVAAAAA4NMsJkAAAAAgQ0ctQAAAAFD0kC1AAQAAOO1VMkD///+jyHoyQAAAAPxwCDZAAQAAuEEtNkAAAADI2Lk5QAIAAFQNTzpA////p929QEAAAAAAiolBQAAAACL+G0JAAAAAPkUuQkD///+D+vRDQP///9tlB0RAAAAASP/NRUABAACcaeBFQAAAAOIFp0dAAQAACHG5R0D///+f/H9JQAEAABKmkklA////Zx9ZS0AAAADsiGtLQP7//68AMk1AAAAAGnBETUAAAACU/gpPQAAAADbPVU9AAAAAbxJ1UUD///+wwdpRQP///wz/I1JA////QzMtUkD///9wjhBTQAAAAMbEGVNA////Zg39U0ABAAB0RAZUQAAAAFqC6VRA////wMTyVED///9IE9ZVQAAAAKZG31VA////AZ/CVkACAAAC1ctWQAEAAPkxr1dA/v//SXu4V0D///9F0ptYQAEAAK3bwVhAAAAAX2OPWkD///9aefZaQP///9y0P1tAAAAAIt9IW0D///+QKSxcQAAAAM5tNVxA////LecYXUAAAAB8KyJdQP////SGBV5A////S8IOXkD+//8KKvJeQAAAAOlg+15AAAAAcsDeX0AAAACHGehfQAAAAKTFZWBAAACABm9qYEABAIBTH9xgQAAAAEXK7mBAAACAx7nTYUD//3+wDQdiQAEAgG6xK2JAAACA7kswYkD///8s+qFiQAAAAJaUpmJA////1EAYY0AAAABR3BxjQAAAAIaBjmNAAACA8xqTY0AAAIDOwgRkQAAAANRjCWRA////XRJ7ZEAAAIAXtn9kQP///xhy8WRAAACAtAz2ZEAAAACUwGdlQAAAAPxUemVAAQCA+UlfZkAAAIBfMZJmQAAAgIXNtmZA//9/mWK7ZkD//3/Kd/NmQP///+MR+GZA/v9/iCgwZ0AAAAC3wjRnQP///yrdbGdAAQAAen1xZ0D///+ikalnQP///442rmdA//9/xE3mZ0D//39F7+pnQAAAAEr9ImhAAgAA8bspaEA=\",\"dtype\":\"float64\",\"order\":\"little\",\"shape\":[103]},\"y\":{\"__ndarray__\":\"AAAAAAAAaUAAAAAAAABpQAAAAAAAAGlAAAAAAAAAaUAAAAAAAABpQAAAAAAAAGlAAAAAAAAAaUAAAAAAAABpQAAAAAAAAGlAAAAAAAAAaUAAAAAAAABpQAAAAAAAAGlAAAAAAAAAaUAAAAAAAABpQAAAAAAAAGlAAAAAAAAAaUAAAAAAAABpQAAAAAAAAGlAAAAAAAAAaUAAAAAAAABpQAAAAAAAAGlAAAAAAAAAaUAAAAAAAABpQAAAAAAAAGlAAAAAAAAAaUAAAAAAAABpQAAAAAAAAGlAAAAAAAAAaUAAAAAAAABpQAAAAAAAAGlAAAAAAAAAaUAAAAAAAABpQAAAAAAAAGlAAAAAAAAAaUAAAAAAAABpQAAAAAAAAGlAAAAAAAAAaUAAAAAAAABpQAAAAAAAAGlAAAAAAAAAaUAAAAAAAABpQAAAAAAAAGlAAAAAAAAAaUAAAAAAAABpQAAAAAAAAGlAAAAAAAAAaUAAAAAAAABpQAAAAAAAAGlAAAAAAAAAaUAAAAAAAABpQAAAAAAAAGlAAAAAAAAAaUAAAAAAAABpQAAAAAAAAGlAAAAAAAAAaUAAAAAAAABpQAAAAAAAAGlAAAAAAAAAaUAAAAAAAABpQAAAAAAAAGlAAAAAAAAAaUAAAAAAAABpQAAAAAAAAGlAAAAAAAAAaUAAAAAAAABpQAAAAAAAAGlAAAAAAAAAaUAAAAAAAABpQAAAAAAAAGlAAAAAAAAAaUAAAAAAAABpQAAAAAAAAGlAAAAAAAAAaUAAAAAAAABpQAAAAAAAAGlAAAAAAAAAaUAAAAAAAABpQAAAAAAAAGlAAAAAAAAAaUAAAAAAAABpQAAAAAAAAGlAAAAAAAAAaUAAAAAAAABpQAAAAAAAAGlAAAAAAAAAaUAAAAAAAABpQAAAAAAAAGlAAAAAAAAAaUAAAAAAAABpQAAAAAAAAGlAAAAAAAAAaUAAAAAAAABpQAAAAAAAAGlAAAAAAAAAaUAAAAAAAABpQAAAAAAAAGlAAAAAAAAAaUAAAAAAAABpQAAAAAAAAGlAAAAAAAAAaUAAAAAAAABpQAAAAAAAAGlAAAAAAAAAaUA=\",\"dtype\":\"float64\",\"order\":\"little\",\"shape\":[103]}},\"selected\":{\"id\":\"1984\"},\"selection_policy\":{\"id\":\"1983\"}},\"id\":\"1896\",\"type\":\"ColumnDataSource\"},{\"attributes\":{},\"id\":\"1870\",\"type\":\"LinearScale\"},{\"attributes\":{\"line_alpha\":{\"value\":0.1},\"line_color\":{\"field\":\"line_color\"},\"line_width\":{\"value\":2},\"xs\":{\"field\":\"xs\"},\"ys\":{\"field\":\"ys\"}},\"id\":\"1892\",\"type\":\"MultiLine\"}],\"root_ids\":[\"1861\"]},\"title\":\"Bokeh Application\",\"version\":\"2.4.2\"}};\n",
       "  const render_items = [{\"docid\":\"d2e29dc1-e8c4-4f6a-a174-91454fd491bb\",\"root_ids\":[\"1861\"],\"roots\":{\"1861\":\"694fb6a0-2a30-4e35-9cae-9ed24d648c79\"}}];\n",
       "  root.Bokeh.embed.embed_items_notebook(docs_json, render_items);\n",
       "\n",
       "  }\n",
       "  if (root.Bokeh !== undefined) {\n",
       "    embed_document(root);\n",
       "  } else {\n",
       "    let attempts = 0;\n",
       "    const timer = setInterval(function(root) {\n",
       "      if (root.Bokeh !== undefined) {\n",
       "        clearInterval(timer);\n",
       "        embed_document(root);\n",
       "      } else {\n",
       "        attempts++;\n",
       "        if (attempts > 100) {\n",
       "          clearInterval(timer);\n",
       "          console.log(\"Bokeh: ERROR: Unable to run BokehJS code because BokehJS library is missing\");\n",
       "        }\n",
       "      }\n",
       "    }, 10, root)\n",
       "  }\n",
       "})(window);"
      ],
      "application/vnd.bokehjs_exec.v0+json": ""
     },
     "metadata": {
      "application/vnd.bokehjs_exec.v0+json": {
       "id": "1861"
      }
     },
     "output_type": "display_data"
    },
    {
     "name": "stdout",
     "output_type": "stream",
     "text": [
      "wing_hist_force_0914231856.csv contains fewer than 10 data points\n",
      "wing_hist_force_0915144816.csv contains fewer than 10 data points\n"
     ]
    },
    {
     "data": {
      "text/html": [
       "\n",
       "\n",
       "\n",
       "\n",
       "\n",
       "\n",
       "  <div class=\"bk-root\" id=\"096630bf-8038-400c-b104-f5448129eec9\" data-root-id=\"2046\"></div>\n"
      ]
     },
     "metadata": {},
     "output_type": "display_data"
    },
    {
     "data": {
      "application/javascript": [
       "(function(root) {\n",
       "  function embed_document(root) {\n",
       "    \n",
       "  const docs_json = {\"45dd21ab-e0ba-41fe-9822-dd436bd46d17\":{\"defs\":[],\"roots\":{\"references\":[{\"attributes\":{\"below\":[{\"id\":\"2057\"}],\"center\":[{\"id\":\"2060\"},{\"id\":\"2064\"}],\"height\":300,\"left\":[{\"id\":\"2061\"}],\"renderers\":[{\"id\":\"2079\"},{\"id\":\"2085\"}],\"title\":{\"id\":\"2047\"},\"toolbar\":{\"id\":\"2070\"},\"width\":900,\"x_range\":{\"id\":\"2049\"},\"x_scale\":{\"id\":\"2053\"},\"y_range\":{\"id\":\"2051\"},\"y_scale\":{\"id\":\"2055\"}},\"id\":\"2046\",\"subtype\":\"Figure\",\"type\":\"Plot\"},{\"attributes\":{},\"id\":\"2181\",\"type\":\"Selection\"},{\"attributes\":{\"coordinates\":null,\"group\":null,\"text\":\"wing_hist_force_0915185245\"},\"id\":\"2047\",\"type\":\"Title\"},{\"attributes\":{},\"id\":\"2058\",\"type\":\"BasicTicker\"},{\"attributes\":{\"axis_label\":\"Signal\",\"coordinates\":null,\"formatter\":{\"id\":\"2173\"},\"group\":null,\"major_label_policy\":{\"id\":\"2174\"},\"ticker\":{\"id\":\"2062\"}},\"id\":\"2061\",\"type\":\"LinearAxis\"},{\"attributes\":{},\"id\":\"2062\",\"type\":\"BasicTicker\"},{\"attributes\":{\"data\":{\"x\":{\"__ndarray__\":\"AAAAAAAAAAAEAABg2DYMQPz//z8qkA5AAAAA0NFKHUD8//8vJ5geQAAAALi/UiZAAAAA+I/lJkD+//+fXOMtQP7//6endi5AAAAA1PrDMkD///875REzQP7//5fQoDZAAAAAJILxNkACAAAQAXc6QAAAAHSAwDpAAAAA7L8+PkACAACgOgo/QAAAAEhukUNAAAAABkg0REAAAABGBbhEQP///2Ey4URAAQAAAMStRkABAADWPdRGQAAAAAZOnEhA////TbbBSEAAAADix4JKQAEAAKBzrUpAAAAAMs10TEAAAACcvp5MQAAAAIauYE5AAgAAEt+NTkABAABiLStQQAAAAFxUP1BAAAAAobogUUD///+dlTVRQAAAAO2dF1JAAAAAYwhJUkD///9laVVUQP///yH7n1RAAQAAOszkVED///8Y/vlUQAEAAN2Y3FVAAQAArfjxVUAAAADeONlWQAAAAAFR7FZAAAAA9UbMV0D///9uud5XQAAAAHFYv1hAAAAAiNjTWED///+UYLdZQAAAAI7Ly1lAAQAAK6SrWkABAACqRsFaQAAAANBCoVtAAAAAMnazW0AAAACwc5RcQAAAAPN1w1xA\",\"dtype\":\"float64\",\"order\":\"little\",\"shape\":[57]},\"y\":{\"__ndarray__\":\"AAAAAAAAaUAAAAAAAABpQAAAAAAAAGlAAAAAAAAAaUAAAAAAAABpQAAAAAAAAGlAAAAAAAAAaUAAAAAAAABpQAAAAAAAAGlAAAAAAAAAaUAAAAAAAABpQAAAAAAAAGlAAAAAAAAAaUAAAAAAAABpQAAAAAAAAGlAAAAAAAAAaUAAAAAAAABpQAAAAAAAAGlAAAAAAAAAaUAAAAAAAABpQAAAAAAAAGlAAAAAAAAAaUAAAAAAAABpQAAAAAAAAGlAAAAAAAAAaUAAAAAAAABpQAAAAAAAAGlAAAAAAAAAaUAAAAAAAABpQAAAAAAAAGlAAAAAAAAAaUAAAAAAAABpQAAAAAAAAGlAAAAAAAAAaUAAAAAAAABpQAAAAAAAAGlAAAAAAAAAaUAAAAAAAABpQAAAAAAAAGlAAAAAAAAAaUAAAAAAAABpQAAAAAAAAGlAAAAAAAAAaUAAAAAAAABpQAAAAAAAAGlAAAAAAAAAaUAAAAAAAABpQAAAAAAAAGlAAAAAAAAAaUAAAAAAAABpQAAAAAAAAGlAAAAAAAAAaUAAAAAAAABpQAAAAAAAAGlAAAAAAAAAaUAAAAAAAABpQAAAAAAAAGlA\",\"dtype\":\"float64\",\"order\":\"little\",\"shape\":[57]}},\"selected\":{\"id\":\"2181\"},\"selection_policy\":{\"id\":\"2180\"}},\"id\":\"2081\",\"type\":\"ColumnDataSource\"},{\"attributes\":{\"axis\":{\"id\":\"2057\"},\"coordinates\":null,\"group\":null,\"ticker\":null},\"id\":\"2060\",\"type\":\"Grid\"},{\"attributes\":{},\"id\":\"2049\",\"type\":\"DataRange1d\"},{\"attributes\":{\"line_alpha\":0.1,\"line_dash\":[2,4],\"line_width\":2,\"x\":{\"field\":\"x\"},\"y\":{\"field\":\"y\"}},\"id\":\"2083\",\"type\":\"Line\"},{\"attributes\":{\"axis\":{\"id\":\"2061\"},\"coordinates\":null,\"dimension\":1,\"group\":null,\"ticker\":null},\"id\":\"2064\",\"type\":\"Grid\"},{\"attributes\":{\"source\":{\"id\":\"2075\"}},\"id\":\"2080\",\"type\":\"CDSView\"},{\"attributes\":{},\"id\":\"2053\",\"type\":\"LinearScale\"},{\"attributes\":{\"coordinates\":null,\"data_source\":{\"id\":\"2081\"},\"glyph\":{\"id\":\"2082\"},\"group\":null,\"hover_glyph\":null,\"muted_glyph\":{\"id\":\"2084\"},\"nonselection_glyph\":{\"id\":\"2083\"},\"view\":{\"id\":\"2086\"}},\"id\":\"2085\",\"type\":\"GlyphRenderer\"},{\"attributes\":{\"line_alpha\":0.2,\"line_dash\":[2,4],\"line_width\":2,\"x\":{\"field\":\"x\"},\"y\":{\"field\":\"y\"}},\"id\":\"2084\",\"type\":\"Line\"},{\"attributes\":{\"axis_label\":\"Time (s)\",\"coordinates\":null,\"formatter\":{\"id\":\"2176\"},\"group\":null,\"major_label_policy\":{\"id\":\"2177\"},\"ticker\":{\"id\":\"2058\"}},\"id\":\"2057\",\"type\":\"LinearAxis\"},{\"attributes\":{},\"id\":\"2051\",\"type\":\"DataRange1d\"},{\"attributes\":{\"line_dash\":[2,4],\"line_width\":2,\"x\":{\"field\":\"x\"},\"y\":{\"field\":\"y\"}},\"id\":\"2082\",\"type\":\"Line\"},{\"attributes\":{\"bottom_units\":\"screen\",\"coordinates\":null,\"fill_alpha\":0.5,\"fill_color\":\"lightgrey\",\"group\":null,\"left_units\":\"screen\",\"level\":\"overlay\",\"line_alpha\":1.0,\"line_color\":\"black\",\"line_dash\":[4,4],\"line_width\":2,\"right_units\":\"screen\",\"syncable\":false,\"top_units\":\"screen\"},\"id\":\"2069\",\"type\":\"BoxAnnotation\"},{\"attributes\":{\"line_alpha\":{\"value\":0.1},\"line_color\":{\"field\":\"line_color\"},\"line_width\":{\"value\":2},\"xs\":{\"field\":\"xs\"},\"ys\":{\"field\":\"ys\"}},\"id\":\"2077\",\"type\":\"MultiLine\"},{\"attributes\":{\"source\":{\"id\":\"2081\"}},\"id\":\"2086\",\"type\":\"CDSView\"},{\"attributes\":{\"tools\":[{\"id\":\"2065\"},{\"id\":\"2066\"},{\"id\":\"2067\"},{\"id\":\"2068\"}]},\"id\":\"2070\",\"type\":\"Toolbar\"},{\"attributes\":{},\"id\":\"2176\",\"type\":\"BasicTickFormatter\"},{\"attributes\":{},\"id\":\"2173\",\"type\":\"BasicTickFormatter\"},{\"attributes\":{},\"id\":\"2068\",\"type\":\"ResetTool\"},{\"attributes\":{\"data\":{\"line_color\":[\"blue\"],\"xs\":[[0.0,3.5267798900604266,3.8203930854797346,7.323065996170044,7.648586988449093,11.161618947982788,11.448364019393921,14.944066047668453,15.231747865676876,18.765546083450317,19.069904088973995,22.628182888031,22.943392038345337,26.464859962463386,26.751960039138794,30.245115995407104,31.039957046508796,39.1361780166626,40.40844798088074,41.437660932540894,41.75935006141662,45.35754394531251,45.658137083053596,49.22113108634949,49.51337599754333,53.02172493934631,53.35509109497071,56.9125120639801,57.24019193649292,60.75532603263855,61.1083700656891,64.67464494705202,64.98952388763428,68.51139092445374,68.83725690841673,72.3690140247345,73.14113688468933,81.3345580101013,82.49970293045043,83.5749650001526,83.90613389015196,87.446830034256,87.7808029651642,91.39409589767456,91.69244408607483,95.19183087348938,95.48006796836852,98.98977303504944,99.31009101867676,102.86526989936827,103.18429899215698,106.68189501762392,107.01993799209596,110.51970291137695,110.80408906936646,114.31956100463867,115.05407404899597]],\"ys\":[[-86.0,-10.0,92.0,47.0,39.0,-91.0,-104.0,-326.0,-315.0,-164.0,-159.0,-305.0,-285.0,-446.0,-448.0,-454.0,-366.0,-452.0,-458.0,-110.0,-191.0,-156.0,-286.0,-372.0,-370.0,-36.0,-28.0,-384.0,-370.0,-355.0,-275.0,-301.0,-259.0,-351.0,-353.0,-303.0,-426.0,-300.0,-375.0,-234.0,-194.0,-15.0,-78.0,-150.0,-175.0,-104.0,-105.0,-136.0,-127.0,-333.0,-334.0,-435.0,-406.0,-332.0,-269.0,-136.0,-706.0]]},\"selected\":{\"id\":\"2179\"},\"selection_policy\":{\"id\":\"2178\"}},\"id\":\"2075\",\"type\":\"ColumnDataSource\"},{\"attributes\":{},\"id\":\"2055\",\"type\":\"LinearScale\"},{\"attributes\":{},\"id\":\"2178\",\"type\":\"UnionRenderers\"},{\"attributes\":{},\"id\":\"2066\",\"type\":\"WheelZoomTool\"},{\"attributes\":{},\"id\":\"2177\",\"type\":\"AllLabels\"},{\"attributes\":{\"overlay\":{\"id\":\"2069\"}},\"id\":\"2067\",\"type\":\"BoxZoomTool\"},{\"attributes\":{},\"id\":\"2179\",\"type\":\"Selection\"},{\"attributes\":{\"line_alpha\":{\"value\":0.2},\"line_color\":{\"field\":\"line_color\"},\"line_width\":{\"value\":2},\"xs\":{\"field\":\"xs\"},\"ys\":{\"field\":\"ys\"}},\"id\":\"2078\",\"type\":\"MultiLine\"},{\"attributes\":{\"coordinates\":null,\"data_source\":{\"id\":\"2075\"},\"glyph\":{\"id\":\"2076\"},\"group\":null,\"hover_glyph\":null,\"muted_glyph\":{\"id\":\"2078\"},\"nonselection_glyph\":{\"id\":\"2077\"},\"view\":{\"id\":\"2080\"}},\"id\":\"2079\",\"type\":\"GlyphRenderer\"},{\"attributes\":{},\"id\":\"2065\",\"type\":\"PanTool\"},{\"attributes\":{},\"id\":\"2180\",\"type\":\"UnionRenderers\"},{\"attributes\":{\"line_color\":{\"field\":\"line_color\"},\"line_width\":{\"value\":2},\"xs\":{\"field\":\"xs\"},\"ys\":{\"field\":\"ys\"}},\"id\":\"2076\",\"type\":\"MultiLine\"},{\"attributes\":{},\"id\":\"2174\",\"type\":\"AllLabels\"}],\"root_ids\":[\"2046\"]},\"title\":\"Bokeh Application\",\"version\":\"2.4.2\"}};\n",
       "  const render_items = [{\"docid\":\"45dd21ab-e0ba-41fe-9822-dd436bd46d17\",\"root_ids\":[\"2046\"],\"roots\":{\"2046\":\"096630bf-8038-400c-b104-f5448129eec9\"}}];\n",
       "  root.Bokeh.embed.embed_items_notebook(docs_json, render_items);\n",
       "\n",
       "  }\n",
       "  if (root.Bokeh !== undefined) {\n",
       "    embed_document(root);\n",
       "  } else {\n",
       "    let attempts = 0;\n",
       "    const timer = setInterval(function(root) {\n",
       "      if (root.Bokeh !== undefined) {\n",
       "        clearInterval(timer);\n",
       "        embed_document(root);\n",
       "      } else {\n",
       "        attempts++;\n",
       "        if (attempts > 100) {\n",
       "          clearInterval(timer);\n",
       "          console.log(\"Bokeh: ERROR: Unable to run BokehJS code because BokehJS library is missing\");\n",
       "        }\n",
       "      }\n",
       "    }, 10, root)\n",
       "  }\n",
       "})(window);"
      ],
      "application/vnd.bokehjs_exec.v0+json": ""
     },
     "metadata": {
      "application/vnd.bokehjs_exec.v0+json": {
       "id": "2046"
      }
     },
     "output_type": "display_data"
    },
    {
     "data": {
      "text/html": [
       "\n",
       "\n",
       "\n",
       "\n",
       "\n",
       "\n",
       "  <div class=\"bk-root\" id=\"6030006d-1247-4ffa-8e19-b76206a56c07\" data-root-id=\"2243\"></div>\n"
      ]
     },
     "metadata": {},
     "output_type": "display_data"
    },
    {
     "data": {
      "application/javascript": [
       "(function(root) {\n",
       "  function embed_document(root) {\n",
       "    \n",
       "  const docs_json = {\"5ee52649-dfb4-41ed-baea-a3574c2df165\":{\"defs\":[],\"roots\":{\"references\":[{\"attributes\":{\"below\":[{\"id\":\"2254\"}],\"center\":[{\"id\":\"2257\"},{\"id\":\"2261\"}],\"height\":300,\"left\":[{\"id\":\"2258\"}],\"renderers\":[{\"id\":\"2276\"},{\"id\":\"2282\"}],\"title\":{\"id\":\"2244\"},\"toolbar\":{\"id\":\"2267\"},\"width\":900,\"x_range\":{\"id\":\"2246\"},\"x_scale\":{\"id\":\"2250\"},\"y_range\":{\"id\":\"2248\"},\"y_scale\":{\"id\":\"2252\"}},\"id\":\"2243\",\"subtype\":\"Figure\",\"type\":\"Plot\"},{\"attributes\":{\"coordinates\":null,\"group\":null,\"text\":\"wing_hist_force_0914230418\"},\"id\":\"2244\",\"type\":\"Title\"},{\"attributes\":{\"line_dash\":[2,4],\"line_width\":2,\"x\":{\"field\":\"x\"},\"y\":{\"field\":\"y\"}},\"id\":\"2279\",\"type\":\"Line\"},{\"attributes\":{},\"id\":\"2263\",\"type\":\"WheelZoomTool\"},{\"attributes\":{\"tools\":[{\"id\":\"2262\"},{\"id\":\"2263\"},{\"id\":\"2264\"},{\"id\":\"2265\"}]},\"id\":\"2267\",\"type\":\"Toolbar\"},{\"attributes\":{\"overlay\":{\"id\":\"2266\"}},\"id\":\"2264\",\"type\":\"BoxZoomTool\"},{\"attributes\":{\"bottom_units\":\"screen\",\"coordinates\":null,\"fill_alpha\":0.5,\"fill_color\":\"lightgrey\",\"group\":null,\"left_units\":\"screen\",\"level\":\"overlay\",\"line_alpha\":1.0,\"line_color\":\"black\",\"line_dash\":[4,4],\"line_width\":2,\"right_units\":\"screen\",\"syncable\":false,\"top_units\":\"screen\"},\"id\":\"2266\",\"type\":\"BoxAnnotation\"},{\"attributes\":{},\"id\":\"2383\",\"type\":\"AllLabels\"},{\"attributes\":{},\"id\":\"2385\",\"type\":\"BasicTickFormatter\"},{\"attributes\":{},\"id\":\"2262\",\"type\":\"PanTool\"},{\"attributes\":{},\"id\":\"2382\",\"type\":\"BasicTickFormatter\"},{\"attributes\":{},\"id\":\"2386\",\"type\":\"AllLabels\"},{\"attributes\":{\"axis_label\":\"Time (s)\",\"coordinates\":null,\"formatter\":{\"id\":\"2385\"},\"group\":null,\"major_label_policy\":{\"id\":\"2386\"},\"ticker\":{\"id\":\"2255\"}},\"id\":\"2254\",\"type\":\"LinearAxis\"},{\"attributes\":{\"source\":{\"id\":\"2278\"}},\"id\":\"2283\",\"type\":\"CDSView\"},{\"attributes\":{},\"id\":\"2387\",\"type\":\"UnionRenderers\"},{\"attributes\":{},\"id\":\"2388\",\"type\":\"Selection\"},{\"attributes\":{\"data\":{\"line_color\":[\"blue\"],\"xs\":[[0.0,3.552865982055665,3.6973180770874015,7.2508060932159415,7.394673109054566,10.946120977401733,11.09106802940369,14.642926931381226,14.788671016693115,18.339873075485226,18.484700918197632,22.036037921905518,22.180852890014652,25.734548091888424,26.340816020965576,33.50271701812745,35.09168195724487,36.23547697067261,36.37943410873413,39.93002200126648,40.0739860534668,43.626477003097534,44.22408008575439]],\"ys\":[[37.0,-71.0,-78.0,-223.0,-214.0,-180.0,-193.0,-165.0,-132.0,-112.0,-101.0,-102.0,-117.0,-175.0,-158.0,-4.0,-18.0,26.0,46.0,34.0,39.0,34.0,36.0]]},\"selected\":{\"id\":\"2388\"},\"selection_policy\":{\"id\":\"2387\"}},\"id\":\"2272\",\"type\":\"ColumnDataSource\"},{\"attributes\":{},\"id\":\"2389\",\"type\":\"UnionRenderers\"},{\"attributes\":{\"line_color\":{\"field\":\"line_color\"},\"line_width\":{\"value\":2},\"xs\":{\"field\":\"xs\"},\"ys\":{\"field\":\"ys\"}},\"id\":\"2273\",\"type\":\"MultiLine\"},{\"attributes\":{\"coordinates\":null,\"data_source\":{\"id\":\"2272\"},\"glyph\":{\"id\":\"2273\"},\"group\":null,\"hover_glyph\":null,\"muted_glyph\":{\"id\":\"2275\"},\"nonselection_glyph\":{\"id\":\"2274\"},\"view\":{\"id\":\"2277\"}},\"id\":\"2276\",\"type\":\"GlyphRenderer\"},{\"attributes\":{},\"id\":\"2248\",\"type\":\"DataRange1d\"},{\"attributes\":{\"line_alpha\":{\"value\":0.2},\"line_color\":{\"field\":\"line_color\"},\"line_width\":{\"value\":2},\"xs\":{\"field\":\"xs\"},\"ys\":{\"field\":\"ys\"}},\"id\":\"2275\",\"type\":\"MultiLine\"},{\"attributes\":{},\"id\":\"2390\",\"type\":\"Selection\"},{\"attributes\":{},\"id\":\"2265\",\"type\":\"ResetTool\"},{\"attributes\":{},\"id\":\"2259\",\"type\":\"BasicTicker\"},{\"attributes\":{\"axis_label\":\"Signal\",\"coordinates\":null,\"formatter\":{\"id\":\"2382\"},\"group\":null,\"major_label_policy\":{\"id\":\"2383\"},\"ticker\":{\"id\":\"2259\"}},\"id\":\"2258\",\"type\":\"LinearAxis\"},{\"attributes\":{\"line_alpha\":{\"value\":0.1},\"line_color\":{\"field\":\"line_color\"},\"line_width\":{\"value\":2},\"xs\":{\"field\":\"xs\"},\"ys\":{\"field\":\"ys\"}},\"id\":\"2274\",\"type\":\"MultiLine\"},{\"attributes\":{\"line_alpha\":0.2,\"line_dash\":[2,4],\"line_width\":2,\"x\":{\"field\":\"x\"},\"y\":{\"field\":\"y\"}},\"id\":\"2281\",\"type\":\"Line\"},{\"attributes\":{\"axis\":{\"id\":\"2254\"},\"coordinates\":null,\"group\":null,\"ticker\":null},\"id\":\"2257\",\"type\":\"Grid\"},{\"attributes\":{\"source\":{\"id\":\"2272\"}},\"id\":\"2277\",\"type\":\"CDSView\"},{\"attributes\":{\"coordinates\":null,\"data_source\":{\"id\":\"2278\"},\"glyph\":{\"id\":\"2279\"},\"group\":null,\"hover_glyph\":null,\"muted_glyph\":{\"id\":\"2281\"},\"nonselection_glyph\":{\"id\":\"2280\"},\"view\":{\"id\":\"2283\"}},\"id\":\"2282\",\"type\":\"GlyphRenderer\"},{\"attributes\":{},\"id\":\"2255\",\"type\":\"BasicTicker\"},{\"attributes\":{},\"id\":\"2246\",\"type\":\"DataRange1d\"},{\"attributes\":{\"data\":{\"x\":{\"__ndarray__\":\"AAAAAAAAAAACAAAARWwMQP7//38blA1A////T9MAHUABAAAwJZQdQAAAAPhp5CVAAgAAeKAuJkAAAAC4LUktQAAAALDMky1A////6wFXMkAAAABcFXwyQAAAAMg5CTZAAQAAYEwuNkD///9XC7w5QAAAALg/VzpAAQAACFnAQEAAAAA8vItBQAAAABwkHkJAAAAATJEwQkAAAAD2CvdDQAAAAGB4CURAAAAAZjDQRUD///+nrhxGQA==\",\"dtype\":\"float64\",\"order\":\"little\",\"shape\":[23]},\"y\":{\"__ndarray__\":\"AAAAAAAAaUAAAAAAAABpQAAAAAAAAGlAAAAAAAAAaUAAAAAAAABpQAAAAAAAAGlAAAAAAAAAaUAAAAAAAABpQAAAAAAAAGlAAAAAAAAAaUAAAAAAAABpQAAAAAAAAGlAAAAAAAAAaUAAAAAAAABpQAAAAAAAAGlAAAAAAAAAaUAAAAAAAABpQAAAAAAAAGlAAAAAAAAAaUAAAAAAAABpQAAAAAAAAGlAAAAAAAAAaUAAAAAAAABpQA==\",\"dtype\":\"float64\",\"order\":\"little\",\"shape\":[23]}},\"selected\":{\"id\":\"2390\"},\"selection_policy\":{\"id\":\"2389\"}},\"id\":\"2278\",\"type\":\"ColumnDataSource\"},{\"attributes\":{\"axis\":{\"id\":\"2258\"},\"coordinates\":null,\"dimension\":1,\"group\":null,\"ticker\":null},\"id\":\"2261\",\"type\":\"Grid\"},{\"attributes\":{},\"id\":\"2252\",\"type\":\"LinearScale\"},{\"attributes\":{\"line_alpha\":0.1,\"line_dash\":[2,4],\"line_width\":2,\"x\":{\"field\":\"x\"},\"y\":{\"field\":\"y\"}},\"id\":\"2280\",\"type\":\"Line\"},{\"attributes\":{},\"id\":\"2250\",\"type\":\"LinearScale\"}],\"root_ids\":[\"2243\"]},\"title\":\"Bokeh Application\",\"version\":\"2.4.2\"}};\n",
       "  const render_items = [{\"docid\":\"5ee52649-dfb4-41ed-baea-a3574c2df165\",\"root_ids\":[\"2243\"],\"roots\":{\"2243\":\"6030006d-1247-4ffa-8e19-b76206a56c07\"}}];\n",
       "  root.Bokeh.embed.embed_items_notebook(docs_json, render_items);\n",
       "\n",
       "  }\n",
       "  if (root.Bokeh !== undefined) {\n",
       "    embed_document(root);\n",
       "  } else {\n",
       "    let attempts = 0;\n",
       "    const timer = setInterval(function(root) {\n",
       "      if (root.Bokeh !== undefined) {\n",
       "        clearInterval(timer);\n",
       "        embed_document(root);\n",
       "      } else {\n",
       "        attempts++;\n",
       "        if (attempts > 100) {\n",
       "          clearInterval(timer);\n",
       "          console.log(\"Bokeh: ERROR: Unable to run BokehJS code because BokehJS library is missing\");\n",
       "        }\n",
       "      }\n",
       "    }, 10, root)\n",
       "  }\n",
       "})(window);"
      ],
      "application/vnd.bokehjs_exec.v0+json": ""
     },
     "metadata": {
      "application/vnd.bokehjs_exec.v0+json": {
       "id": "2243"
      }
     },
     "output_type": "display_data"
    },
    {
     "data": {
      "text/html": [
       "\n",
       "\n",
       "\n",
       "\n",
       "\n",
       "\n",
       "  <div class=\"bk-root\" id=\"276fd9ab-4665-4705-863c-f9f60df1f1f5\" data-root-id=\"2452\"></div>\n"
      ]
     },
     "metadata": {},
     "output_type": "display_data"
    },
    {
     "data": {
      "application/javascript": [
       "(function(root) {\n",
       "  function embed_document(root) {\n",
       "    \n",
       "  const docs_json = {\"99ff42ea-8f26-40a9-b25f-c379ab86e66b\":{\"defs\":[],\"roots\":{\"references\":[{\"attributes\":{\"below\":[{\"id\":\"2463\"}],\"center\":[{\"id\":\"2466\"},{\"id\":\"2470\"}],\"height\":300,\"left\":[{\"id\":\"2467\"}],\"renderers\":[{\"id\":\"2485\"},{\"id\":\"2491\"}],\"title\":{\"id\":\"2453\"},\"toolbar\":{\"id\":\"2476\"},\"width\":900,\"x_range\":{\"id\":\"2455\"},\"x_scale\":{\"id\":\"2459\"},\"y_range\":{\"id\":\"2457\"},\"y_scale\":{\"id\":\"2461\"}},\"id\":\"2452\",\"subtype\":\"Figure\",\"type\":\"Plot\"},{\"attributes\":{\"data\":{\"line_color\":[\"blue\"],\"xs\":[[0.0,3.499826192855833,3.8123381137847865,7.350570201873779,7.67432618141174,11.20985817909241,11.573668003082275,15.07542014122009,15.362909078598022,18.923137187957767,19.22334814071655,22.82851004600525,23.127788066864014,26.658230066299446,26.988503217697144,30.57368803024292,31.327152013778687,39.49197602272033,40.81086707115174,41.837425231933594,42.15589904785157,45.68576717376708,46.04227709770202,49.53430604934693,49.8487000465393,53.34853911399841,53.63645315170289,57.18522500991821,57.55651903152466,61.043222188949585,61.34233903884888,64.83557200431824,65.13736510276793,68.70407605171202,68.99689722061157,72.4988691806793,73.29807209968565,81.41332221031189,82.6633131504059,83.66500520706177,83.95096015930176,87.46318411827085,87.75050520896909,91.29089617729188,91.59959602355957,95.09540104866029,95.38065505027771,98.90027308464049,99.21561908721925,102.77043318748474,103.06250500679018,106.58286213874815,106.87361621856688,110.36607718467712,110.66145610809323,114.15393114089966,114.92629313468933]],\"ys\":[[61.0,110.0,118.0,123.0,115.0,79.0,59.0,90.0,93.0,81.0,89.0,-24.0,-30.0,2.0,10.0,80.0,-32.0,-31.0,-35.0,103.0,102.0,160.0,169.0,220.0,213.0,206.0,199.0,141.0,145.0,165.0,177.0,151.0,192.0,149.0,137.0,202.0,-29.0,-29.0,-29.0,145.0,164.0,138.0,152.0,190.0,198.0,170.0,168.0,21.0,31.0,-13.0,-15.0,-4.0,15.0,126.0,144.0,303.0,-43.0]]},\"selected\":{\"id\":\"2609\"},\"selection_policy\":{\"id\":\"2608\"}},\"id\":\"2481\",\"type\":\"ColumnDataSource\"},{\"attributes\":{},\"id\":\"2608\",\"type\":\"UnionRenderers\"},{\"attributes\":{\"bottom_units\":\"screen\",\"coordinates\":null,\"fill_alpha\":0.5,\"fill_color\":\"lightgrey\",\"group\":null,\"left_units\":\"screen\",\"level\":\"overlay\",\"line_alpha\":1.0,\"line_color\":\"black\",\"line_dash\":[4,4],\"line_width\":2,\"right_units\":\"screen\",\"syncable\":false,\"top_units\":\"screen\"},\"id\":\"2475\",\"type\":\"BoxAnnotation\"},{\"attributes\":{\"tools\":[{\"id\":\"2471\"},{\"id\":\"2472\"},{\"id\":\"2473\"},{\"id\":\"2474\"}]},\"id\":\"2476\",\"type\":\"Toolbar\"},{\"attributes\":{\"coordinates\":null,\"group\":null,\"text\":\"wing_hist_force_0915184600\"},\"id\":\"2453\",\"type\":\"Title\"},{\"attributes\":{\"line_color\":{\"field\":\"line_color\"},\"line_width\":{\"value\":2},\"xs\":{\"field\":\"xs\"},\"ys\":{\"field\":\"ys\"}},\"id\":\"2482\",\"type\":\"MultiLine\"},{\"attributes\":{},\"id\":\"2455\",\"type\":\"DataRange1d\"},{\"attributes\":{\"line_alpha\":{\"value\":0.1},\"line_color\":{\"field\":\"line_color\"},\"line_width\":{\"value\":2},\"xs\":{\"field\":\"xs\"},\"ys\":{\"field\":\"ys\"}},\"id\":\"2483\",\"type\":\"MultiLine\"},{\"attributes\":{},\"id\":\"2607\",\"type\":\"AllLabels\"},{\"attributes\":{},\"id\":\"2474\",\"type\":\"ResetTool\"},{\"attributes\":{},\"id\":\"2609\",\"type\":\"Selection\"},{\"attributes\":{\"overlay\":{\"id\":\"2475\"}},\"id\":\"2473\",\"type\":\"BoxZoomTool\"},{\"attributes\":{},\"id\":\"2604\",\"type\":\"AllLabels\"},{\"attributes\":{},\"id\":\"2472\",\"type\":\"WheelZoomTool\"},{\"attributes\":{},\"id\":\"2610\",\"type\":\"UnionRenderers\"},{\"attributes\":{\"source\":{\"id\":\"2481\"}},\"id\":\"2486\",\"type\":\"CDSView\"},{\"attributes\":{},\"id\":\"2471\",\"type\":\"PanTool\"},{\"attributes\":{},\"id\":\"2611\",\"type\":\"Selection\"},{\"attributes\":{},\"id\":\"2603\",\"type\":\"BasicTickFormatter\"},{\"attributes\":{},\"id\":\"2457\",\"type\":\"DataRange1d\"},{\"attributes\":{\"axis\":{\"id\":\"2467\"},\"coordinates\":null,\"dimension\":1,\"group\":null,\"ticker\":null},\"id\":\"2470\",\"type\":\"Grid\"},{\"attributes\":{\"source\":{\"id\":\"2487\"}},\"id\":\"2492\",\"type\":\"CDSView\"},{\"attributes\":{},\"id\":\"2461\",\"type\":\"LinearScale\"},{\"attributes\":{},\"id\":\"2468\",\"type\":\"BasicTicker\"},{\"attributes\":{},\"id\":\"2464\",\"type\":\"BasicTicker\"},{\"attributes\":{\"axis_label\":\"Signal\",\"coordinates\":null,\"formatter\":{\"id\":\"2603\"},\"group\":null,\"major_label_policy\":{\"id\":\"2604\"},\"ticker\":{\"id\":\"2468\"}},\"id\":\"2467\",\"type\":\"LinearAxis\"},{\"attributes\":{\"line_dash\":[2,4],\"line_width\":2,\"x\":{\"field\":\"x\"},\"y\":{\"field\":\"y\"}},\"id\":\"2488\",\"type\":\"Line\"},{\"attributes\":{\"line_alpha\":0.2,\"line_dash\":[2,4],\"line_width\":2,\"x\":{\"field\":\"x\"},\"y\":{\"field\":\"y\"}},\"id\":\"2490\",\"type\":\"Line\"},{\"attributes\":{\"coordinates\":null,\"data_source\":{\"id\":\"2487\"},\"glyph\":{\"id\":\"2488\"},\"group\":null,\"hover_glyph\":null,\"muted_glyph\":{\"id\":\"2490\"},\"nonselection_glyph\":{\"id\":\"2489\"},\"view\":{\"id\":\"2492\"}},\"id\":\"2491\",\"type\":\"GlyphRenderer\"},{\"attributes\":{\"line_alpha\":{\"value\":0.2},\"line_color\":{\"field\":\"line_color\"},\"line_width\":{\"value\":2},\"xs\":{\"field\":\"xs\"},\"ys\":{\"field\":\"ys\"}},\"id\":\"2484\",\"type\":\"MultiLine\"},{\"attributes\":{\"line_alpha\":0.1,\"line_dash\":[2,4],\"line_width\":2,\"x\":{\"field\":\"x\"},\"y\":{\"field\":\"y\"}},\"id\":\"2489\",\"type\":\"Line\"},{\"attributes\":{\"axis_label\":\"Time (s)\",\"coordinates\":null,\"formatter\":{\"id\":\"2606\"},\"group\":null,\"major_label_policy\":{\"id\":\"2607\"},\"ticker\":{\"id\":\"2464\"}},\"id\":\"2463\",\"type\":\"LinearAxis\"},{\"attributes\":{\"axis\":{\"id\":\"2463\"},\"coordinates\":null,\"group\":null,\"ticker\":null},\"id\":\"2466\",\"type\":\"Grid\"},{\"attributes\":{},\"id\":\"2606\",\"type\":\"BasicTickFormatter\"},{\"attributes\":{},\"id\":\"2459\",\"type\":\"LinearScale\"},{\"attributes\":{\"data\":{\"x\":{\"__ndarray__\":\"AAAAAAAAAAD8///fpP8LQPj//x+rfw5AAAAA4PtmHUD8//+PgrIeQAIAAIhyayZAAAAA0LclJ0D+//93nSYuQAAAADjPuS5AAQAAuFLsMkD///9XLTkzQAAAADwZ1DZAAAAAuLYgN0ACAADEgag6QAAAAIwO/TpAAAAAON2SPkAAAAA8wFM/QP///xH5vkNAAQAAfspnREAAAADAMOtEQAEAAID0E0VA////N8fXRkD///9VaQVHQAEAACRkxEhA////M6LsSEAAAADunKxKQAEAAEx30UpAAAAAdLWXTEAAAAAEPMdMQAAAAE6IhU5AAAAAxNGrTkAAAAADejVQQP///5bKSFBA////lA8tUUAAAAAqzT9RQP///3jtH1JA////nBNTUkAAAADfc1pUQAEAALlzqlRAAAAAco/qVEAAAACI3PxUQP7//86k3VVA/v//RgjwVUABAAALntJWQAAAAMhf5lZAAQAADRvGV0AAAACnXNhXQP///xKeuVhAAQAAtMzNWEAAAADHTrFZQAEAABUAxFlA////nE2lWkD///9T6bdaQAAAAM9tl1tA/v//S1WqW0AAAAAC2olcQAAAAGNIu1xA\",\"dtype\":\"float64\",\"order\":\"little\",\"shape\":[57]},\"y\":{\"__ndarray__\":\"AAAAAAAAaUAAAAAAAABpQAAAAAAAAGlAAAAAAAAAaUAAAAAAAABpQAAAAAAAAGlAAAAAAAAAaUAAAAAAAABpQAAAAAAAAGlAAAAAAAAAaUAAAAAAAABpQAAAAAAAAGlAAAAAAAAAaUAAAAAAAABpQAAAAAAAAGlAAAAAAAAAaUAAAAAAAABpQAAAAAAAAGlAAAAAAAAAaUAAAAAAAABpQAAAAAAAAGlAAAAAAAAAaUAAAAAAAABpQAAAAAAAAGlAAAAAAAAAaUAAAAAAAABpQAAAAAAAAGlAAAAAAAAAaUAAAAAAAABpQAAAAAAAAGlAAAAAAAAAaUAAAAAAAABpQAAAAAAAAGlAAAAAAAAAaUAAAAAAAABpQAAAAAAAAGlAAAAAAAAAaUAAAAAAAABpQAAAAAAAAGlAAAAAAAAAaUAAAAAAAABpQAAAAAAAAGlAAAAAAAAAaUAAAAAAAABpQAAAAAAAAGlAAAAAAAAAaUAAAAAAAABpQAAAAAAAAGlAAAAAAAAAaUAAAAAAAABpQAAAAAAAAGlAAAAAAAAAaUAAAAAAAABpQAAAAAAAAGlAAAAAAAAAaUAAAAAAAABpQAAAAAAAAGlA\",\"dtype\":\"float64\",\"order\":\"little\",\"shape\":[57]}},\"selected\":{\"id\":\"2611\"},\"selection_policy\":{\"id\":\"2610\"}},\"id\":\"2487\",\"type\":\"ColumnDataSource\"},{\"attributes\":{\"coordinates\":null,\"data_source\":{\"id\":\"2481\"},\"glyph\":{\"id\":\"2482\"},\"group\":null,\"hover_glyph\":null,\"muted_glyph\":{\"id\":\"2484\"},\"nonselection_glyph\":{\"id\":\"2483\"},\"view\":{\"id\":\"2486\"}},\"id\":\"2485\",\"type\":\"GlyphRenderer\"}],\"root_ids\":[\"2452\"]},\"title\":\"Bokeh Application\",\"version\":\"2.4.2\"}};\n",
       "  const render_items = [{\"docid\":\"99ff42ea-8f26-40a9-b25f-c379ab86e66b\",\"root_ids\":[\"2452\"],\"roots\":{\"2452\":\"276fd9ab-4665-4705-863c-f9f60df1f1f5\"}}];\n",
       "  root.Bokeh.embed.embed_items_notebook(docs_json, render_items);\n",
       "\n",
       "  }\n",
       "  if (root.Bokeh !== undefined) {\n",
       "    embed_document(root);\n",
       "  } else {\n",
       "    let attempts = 0;\n",
       "    const timer = setInterval(function(root) {\n",
       "      if (root.Bokeh !== undefined) {\n",
       "        clearInterval(timer);\n",
       "        embed_document(root);\n",
       "      } else {\n",
       "        attempts++;\n",
       "        if (attempts > 100) {\n",
       "          clearInterval(timer);\n",
       "          console.log(\"Bokeh: ERROR: Unable to run BokehJS code because BokehJS library is missing\");\n",
       "        }\n",
       "      }\n",
       "    }, 10, root)\n",
       "  }\n",
       "})(window);"
      ],
      "application/vnd.bokehjs_exec.v0+json": ""
     },
     "metadata": {
      "application/vnd.bokehjs_exec.v0+json": {
       "id": "2452"
      }
     },
     "output_type": "display_data"
    },
    {
     "data": {
      "text/html": [
       "\n",
       "\n",
       "\n",
       "\n",
       "\n",
       "\n",
       "  <div class=\"bk-root\" id=\"c459ebed-1cc2-482f-88d5-e61eae525681\" data-root-id=\"2673\"></div>\n"
      ]
     },
     "metadata": {},
     "output_type": "display_data"
    },
    {
     "data": {
      "application/javascript": [
       "(function(root) {\n",
       "  function embed_document(root) {\n",
       "    \n",
       "  const docs_json = {\"092eef7c-a023-4049-be13-79a51cfcf660\":{\"defs\":[],\"roots\":{\"references\":[{\"attributes\":{\"below\":[{\"id\":\"2684\"}],\"center\":[{\"id\":\"2687\"},{\"id\":\"2691\"}],\"height\":300,\"left\":[{\"id\":\"2688\"}],\"renderers\":[{\"id\":\"2706\"},{\"id\":\"2712\"}],\"title\":{\"id\":\"2674\"},\"toolbar\":{\"id\":\"2697\"},\"width\":900,\"x_range\":{\"id\":\"2676\"},\"x_scale\":{\"id\":\"2680\"},\"y_range\":{\"id\":\"2678\"},\"y_scale\":{\"id\":\"2682\"}},\"id\":\"2673\",\"subtype\":\"Figure\",\"type\":\"Plot\"},{\"attributes\":{\"axis_label\":\"Time (s)\",\"coordinates\":null,\"formatter\":{\"id\":\"2839\"},\"group\":null,\"major_label_policy\":{\"id\":\"2840\"},\"ticker\":{\"id\":\"2685\"}},\"id\":\"2684\",\"type\":\"LinearAxis\"},{\"attributes\":{\"coordinates\":null,\"data_source\":{\"id\":\"2702\"},\"glyph\":{\"id\":\"2703\"},\"group\":null,\"hover_glyph\":null,\"muted_glyph\":{\"id\":\"2705\"},\"nonselection_glyph\":{\"id\":\"2704\"},\"view\":{\"id\":\"2707\"}},\"id\":\"2706\",\"type\":\"GlyphRenderer\"},{\"attributes\":{\"coordinates\":null,\"data_source\":{\"id\":\"2708\"},\"glyph\":{\"id\":\"2709\"},\"group\":null,\"hover_glyph\":null,\"muted_glyph\":{\"id\":\"2711\"},\"nonselection_glyph\":{\"id\":\"2710\"},\"view\":{\"id\":\"2713\"}},\"id\":\"2712\",\"type\":\"GlyphRenderer\"},{\"attributes\":{},\"id\":\"2685\",\"type\":\"BasicTicker\"},{\"attributes\":{},\"id\":\"2682\",\"type\":\"LinearScale\"},{\"attributes\":{\"data\":{\"x\":{\"__ndarray__\":\"AAAAAAAAAAD8//+fJ0IMQAAAAIBIKg9A/v///z6sHUD+//9fpwEfQAEAAGidiiZA/f//v5EpJ0D9//8P6S8uQPv//zd0zC5AAAAAFLTpMkAAAAAoTDgzQAAAAKytwDZAAAAArIUON0AAAACYSZE6QAIAAAxS2TpAAAAA+LFePkAAAAB8sxo/QAAAAAA/q0NA////r5ZJRED///+5xMlEQAAAAHSI8ERAAAAAIjy0RkAAAABaLNtGQP///yGQn0hAAQAA1nLLSEAAAACwJYpKQP///9l1r0pAAAAAxLhxTEAAAAC4sJZMQAAAAOwgV05AAAAAzo17TkAAAAAHtB1QQP///4VbMVBAAQAAc0wSUUD///81BidRQAAAABdmCFJAAAAAVwg6UkD+//8+d0RUQAAAAG7em1RA/v//PxncVEAAAADQoO9UQAAAACoiz1VA////66ThVUAAAABo0MJWQAAAALsu11ZA////HOi4V0D///9eK81XQAEAAJXYsFhA////SpXFWED////lsDJZQAAAAPIPR1lA////9WG0WUAAAACVFMdZQP///zYeM1pA/////z5GWkAAAAC6FrZaQAAAAP3CzVpAAgAA2C1vW0AAAAA5napbQAEAAPTi7FtA////r1cBXED///9Kl25cQAAAAFAEglxAAAAAVabwXEAAAAAhlgNdQAAAABzRc11AAAAANBOHXUAAAABiafZdQAAAAEsjEV5AAAAAYf+0XkAAAACSzwNfQAAAAFTJRV9AAAAAkl9aX0AAAACmZsdfQAAAAC0I3l9AAAAAaeQlYEAAAAD1kjFgQA==\",\"dtype\":\"float64\",\"order\":\"little\",\"shape\":[77]},\"y\":{\"__ndarray__\":\"AAAAAAAAaUAAAAAAAABpQAAAAAAAAGlAAAAAAAAAaUAAAAAAAABpQAAAAAAAAGlAAAAAAAAAaUAAAAAAAABpQAAAAAAAAGlAAAAAAAAAaUAAAAAAAABpQAAAAAAAAGlAAAAAAAAAaUAAAAAAAABpQAAAAAAAAGlAAAAAAAAAaUAAAAAAAABpQAAAAAAAAGlAAAAAAAAAaUAAAAAAAABpQAAAAAAAAGlAAAAAAAAAaUAAAAAAAABpQAAAAAAAAGlAAAAAAAAAaUAAAAAAAABpQAAAAAAAAGlAAAAAAAAAaUAAAAAAAABpQAAAAAAAAGlAAAAAAAAAaUAAAAAAAABpQAAAAAAAAGlAAAAAAAAAaUAAAAAAAABpQAAAAAAAAGlAAAAAAAAAaUAAAAAAAABpQAAAAAAAAGlAAAAAAAAAaUAAAAAAAABpQAAAAAAAAGlAAAAAAAAAaUAAAAAAAABpQAAAAAAAAGlAAAAAAAAAaUAAAAAAAABpQAAAAAAAAGlAAAAAAAAAaUAAAAAAAABpQAAAAAAAAGlAAAAAAAAAaUAAAAAAAABpQAAAAAAAAGlAAAAAAAAAaUAAAAAAAABpQAAAAAAAAGlAAAAAAAAAaUAAAAAAAABpQAAAAAAAAGlAAAAAAAAAaUAAAAAAAABpQAAAAAAAAGlAAAAAAAAAaUAAAAAAAABpQAAAAAAAAGlAAAAAAAAAaUAAAAAAAABpQAAAAAAAAGlAAAAAAAAAaUAAAAAAAABpQAAAAAAAAGlAAAAAAAAAaUAAAAAAAABpQAAAAAAAAGlAAAAAAAAAaUAAAAAAAABpQA==\",\"dtype\":\"float64\",\"order\":\"little\",\"shape\":[77]}},\"selected\":{\"id\":\"2844\"},\"selection_policy\":{\"id\":\"2843\"}},\"id\":\"2708\",\"type\":\"ColumnDataSource\"},{\"attributes\":{},\"id\":\"2676\",\"type\":\"DataRange1d\"},{\"attributes\":{},\"id\":\"2678\",\"type\":\"DataRange1d\"},{\"attributes\":{\"line_alpha\":{\"value\":0.1},\"line_color\":{\"field\":\"line_color\"},\"line_width\":{\"value\":2},\"xs\":{\"field\":\"xs\"},\"ys\":{\"field\":\"ys\"}},\"id\":\"2704\",\"type\":\"MultiLine\"},{\"attributes\":{\"coordinates\":null,\"group\":null,\"text\":\"wing_hist_force_0915193624\"},\"id\":\"2674\",\"type\":\"Title\"},{\"attributes\":{\"line_alpha\":0.2,\"line_dash\":[2,4],\"line_width\":2,\"x\":{\"field\":\"x\"},\"y\":{\"field\":\"y\"}},\"id\":\"2711\",\"type\":\"Line\"},{\"attributes\":{\"line_alpha\":0.1,\"line_dash\":[2,4],\"line_width\":2,\"x\":{\"field\":\"x\"},\"y\":{\"field\":\"y\"}},\"id\":\"2710\",\"type\":\"Line\"},{\"attributes\":{\"source\":{\"id\":\"2708\"}},\"id\":\"2713\",\"type\":\"CDSView\"},{\"attributes\":{},\"id\":\"2695\",\"type\":\"ResetTool\"},{\"attributes\":{},\"id\":\"2836\",\"type\":\"BasicTickFormatter\"},{\"attributes\":{},\"id\":\"2839\",\"type\":\"BasicTickFormatter\"},{\"attributes\":{},\"id\":\"2842\",\"type\":\"Selection\"},{\"attributes\":{\"source\":{\"id\":\"2702\"}},\"id\":\"2707\",\"type\":\"CDSView\"},{\"attributes\":{\"overlay\":{\"id\":\"2696\"}},\"id\":\"2694\",\"type\":\"BoxZoomTool\"},{\"attributes\":{},\"id\":\"2692\",\"type\":\"PanTool\"},{\"attributes\":{},\"id\":\"2837\",\"type\":\"AllLabels\"},{\"attributes\":{\"bottom_units\":\"screen\",\"coordinates\":null,\"fill_alpha\":0.5,\"fill_color\":\"lightgrey\",\"group\":null,\"left_units\":\"screen\",\"level\":\"overlay\",\"line_alpha\":1.0,\"line_color\":\"black\",\"line_dash\":[4,4],\"line_width\":2,\"right_units\":\"screen\",\"syncable\":false,\"top_units\":\"screen\"},\"id\":\"2696\",\"type\":\"BoxAnnotation\"},{\"attributes\":{},\"id\":\"2693\",\"type\":\"WheelZoomTool\"},{\"attributes\":{\"axis_label\":\"Signal\",\"coordinates\":null,\"formatter\":{\"id\":\"2836\"},\"group\":null,\"major_label_policy\":{\"id\":\"2837\"},\"ticker\":{\"id\":\"2689\"}},\"id\":\"2688\",\"type\":\"LinearAxis\"},{\"attributes\":{\"line_dash\":[2,4],\"line_width\":2,\"x\":{\"field\":\"x\"},\"y\":{\"field\":\"y\"}},\"id\":\"2709\",\"type\":\"Line\"},{\"attributes\":{\"tools\":[{\"id\":\"2692\"},{\"id\":\"2693\"},{\"id\":\"2694\"},{\"id\":\"2695\"}]},\"id\":\"2697\",\"type\":\"Toolbar\"},{\"attributes\":{},\"id\":\"2844\",\"type\":\"Selection\"},{\"attributes\":{},\"id\":\"2680\",\"type\":\"LinearScale\"},{\"attributes\":{},\"id\":\"2689\",\"type\":\"BasicTicker\"},{\"attributes\":{},\"id\":\"2841\",\"type\":\"UnionRenderers\"},{\"attributes\":{},\"id\":\"2843\",\"type\":\"UnionRenderers\"},{\"attributes\":{\"axis\":{\"id\":\"2688\"},\"coordinates\":null,\"dimension\":1,\"group\":null,\"ticker\":null},\"id\":\"2691\",\"type\":\"Grid\"},{\"attributes\":{\"axis\":{\"id\":\"2684\"},\"coordinates\":null,\"group\":null,\"ticker\":null},\"id\":\"2687\",\"type\":\"Grid\"},{\"attributes\":{\"line_alpha\":{\"value\":0.2},\"line_color\":{\"field\":\"line_color\"},\"line_width\":{\"value\":2},\"xs\":{\"field\":\"xs\"},\"ys\":{\"field\":\"ys\"}},\"id\":\"2705\",\"type\":\"MultiLine\"},{\"attributes\":{},\"id\":\"2840\",\"type\":\"AllLabels\"},{\"attributes\":{\"line_color\":{\"field\":\"line_color\"},\"line_width\":{\"value\":2},\"xs\":{\"field\":\"xs\"},\"ys\":{\"field\":\"ys\"}},\"id\":\"2703\",\"type\":\"MultiLine\"},{\"attributes\":{\"data\":{\"line_color\":[\"blue\"],\"xs\":[[0.0,3.5323021411895734,3.895646095275879,7.418209075927733,7.751615047454832,11.270732164382936,11.581190109252924,15.093575000762934,15.39932417869567,18.912904024124146,19.21991205215454,22.752650022506714,23.056727170944214,26.56752920150757,26.84890818595887,30.369903087615967,31.10430121421814,39.337860107421875,40.574911117553704,41.57631611824035,41.87916421890259,45.408085107803345,45.71229100227356,49.24658608436584,49.58944201469422,53.079275131225586,53.37078404426574,56.88845109939575,57.17726802825928,60.680692195892334,60.96526503562927,64.46411299705505,64.77121114730834,68.28591609001161,68.60975408554076,72.13123106956482,72.90675902366638,81.0697782039642,82.4354510307312,83.43904113769528,83.74419021606445,87.23646020889282,87.52569103240965,91.04397010803223,91.36222720146179,94.88916707038878,95.20577216148375,98.7632191181183,99.08723711967467,100.79204702377318,101.11034822463989,102.8184790611267,103.11063122749329,104.79871916770934,105.09759521484374,106.84513711929321,107.21502614021301,109.73717308044436,110.66584610939026,111.70135211944581,112.02097702026366,113.72798418998717,114.03151321411133,115.76015210151672,116.05603814125061,117.80963802337646,118.11054706573486,119.850182056427,120.26777911186218,122.82808709144592,124.0595440864563,125.0904130935669,125.4120831489563,127.11564016342163,127.46924901008606,129.1841320991516,129.54918909072876]],\"ys\":[[-125.0,-155.0,-134.0,-192.0,-199.0,-200.0,-190.0,-214.0,-194.0,-87.0,-86.0,-57.0,-47.0,-69.0,-69.0,-78.0,-218.0,-121.0,-43.0,80.0,93.0,35.0,26.0,-1.0,-15.0,-35.0,-10.0,-77.0,-47.0,31.0,28.0,123.0,137.0,107.0,146.0,42.0,-148.0,0.0,6.0,150.0,176.0,111.0,99.0,49.0,59.0,-137.0,-134.0,-11.0,-3.0,104.0,117.0,151.0,155.0,171.0,172.0,177.0,181.0,198.0,203.0,209.0,211.0,219.0,202.0,226.0,220.0,211.0,221.0,222.0,231.0,227.0,-123.0,-102.0,-91.0,-38.0,-33.0,149.0,-443.0]]},\"selected\":{\"id\":\"2842\"},\"selection_policy\":{\"id\":\"2841\"}},\"id\":\"2702\",\"type\":\"ColumnDataSource\"}],\"root_ids\":[\"2673\"]},\"title\":\"Bokeh Application\",\"version\":\"2.4.2\"}};\n",
       "  const render_items = [{\"docid\":\"092eef7c-a023-4049-be13-79a51cfcf660\",\"root_ids\":[\"2673\"],\"roots\":{\"2673\":\"c459ebed-1cc2-482f-88d5-e61eae525681\"}}];\n",
       "  root.Bokeh.embed.embed_items_notebook(docs_json, render_items);\n",
       "\n",
       "  }\n",
       "  if (root.Bokeh !== undefined) {\n",
       "    embed_document(root);\n",
       "  } else {\n",
       "    let attempts = 0;\n",
       "    const timer = setInterval(function(root) {\n",
       "      if (root.Bokeh !== undefined) {\n",
       "        clearInterval(timer);\n",
       "        embed_document(root);\n",
       "      } else {\n",
       "        attempts++;\n",
       "        if (attempts > 100) {\n",
       "          clearInterval(timer);\n",
       "          console.log(\"Bokeh: ERROR: Unable to run BokehJS code because BokehJS library is missing\");\n",
       "        }\n",
       "      }\n",
       "    }, 10, root)\n",
       "  }\n",
       "})(window);"
      ],
      "application/vnd.bokehjs_exec.v0+json": ""
     },
     "metadata": {
      "application/vnd.bokehjs_exec.v0+json": {
       "id": "2673"
      }
     },
     "output_type": "display_data"
    },
    {
     "data": {
      "text/html": [
       "\n",
       "\n",
       "\n",
       "\n",
       "\n",
       "\n",
       "  <div class=\"bk-root\" id=\"e38197d3-9a74-4132-8545-b526bffc7c87\" data-root-id=\"2906\"></div>\n"
      ]
     },
     "metadata": {},
     "output_type": "display_data"
    },
    {
     "data": {
      "application/javascript": [
       "(function(root) {\n",
       "  function embed_document(root) {\n",
       "    \n",
       "  const docs_json = {\"56495d18-269d-4269-9f7b-6822969e3b35\":{\"defs\":[],\"roots\":{\"references\":[{\"attributes\":{\"below\":[{\"id\":\"2917\"}],\"center\":[{\"id\":\"2920\"},{\"id\":\"2924\"}],\"height\":300,\"left\":[{\"id\":\"2921\"}],\"renderers\":[{\"id\":\"2939\"},{\"id\":\"2945\"}],\"title\":{\"id\":\"2907\"},\"toolbar\":{\"id\":\"2930\"},\"width\":900,\"x_range\":{\"id\":\"2909\"},\"x_scale\":{\"id\":\"2913\"},\"y_range\":{\"id\":\"2911\"},\"y_scale\":{\"id\":\"2915\"}},\"id\":\"2906\",\"subtype\":\"Figure\",\"type\":\"Plot\"},{\"attributes\":{\"source\":{\"id\":\"2941\"}},\"id\":\"2946\",\"type\":\"CDSView\"},{\"attributes\":{\"overlay\":{\"id\":\"2929\"}},\"id\":\"2927\",\"type\":\"BoxZoomTool\"},{\"attributes\":{},\"id\":\"3081\",\"type\":\"BasicTickFormatter\"},{\"attributes\":{\"bottom_units\":\"screen\",\"coordinates\":null,\"fill_alpha\":0.5,\"fill_color\":\"lightgrey\",\"group\":null,\"left_units\":\"screen\",\"level\":\"overlay\",\"line_alpha\":1.0,\"line_color\":\"black\",\"line_dash\":[4,4],\"line_width\":2,\"right_units\":\"screen\",\"syncable\":false,\"top_units\":\"screen\"},\"id\":\"2929\",\"type\":\"BoxAnnotation\"},{\"attributes\":{},\"id\":\"2926\",\"type\":\"WheelZoomTool\"},{\"attributes\":{},\"id\":\"3086\",\"type\":\"UnionRenderers\"},{\"attributes\":{},\"id\":\"2928\",\"type\":\"ResetTool\"},{\"attributes\":{},\"id\":\"2909\",\"type\":\"DataRange1d\"},{\"attributes\":{},\"id\":\"3082\",\"type\":\"AllLabels\"},{\"attributes\":{},\"id\":\"3085\",\"type\":\"AllLabels\"},{\"attributes\":{},\"id\":\"2913\",\"type\":\"LinearScale\"},{\"attributes\":{},\"id\":\"2925\",\"type\":\"PanTool\"},{\"attributes\":{},\"id\":\"3084\",\"type\":\"BasicTickFormatter\"},{\"attributes\":{},\"id\":\"3087\",\"type\":\"Selection\"},{\"attributes\":{},\"id\":\"3088\",\"type\":\"UnionRenderers\"},{\"attributes\":{\"coordinates\":null,\"data_source\":{\"id\":\"2935\"},\"glyph\":{\"id\":\"2936\"},\"group\":null,\"hover_glyph\":null,\"muted_glyph\":{\"id\":\"2938\"},\"nonselection_glyph\":{\"id\":\"2937\"},\"view\":{\"id\":\"2940\"}},\"id\":\"2939\",\"type\":\"GlyphRenderer\"},{\"attributes\":{\"line_color\":{\"field\":\"line_color\"},\"line_width\":{\"value\":2},\"xs\":{\"field\":\"xs\"},\"ys\":{\"field\":\"ys\"}},\"id\":\"2936\",\"type\":\"MultiLine\"},{\"attributes\":{\"axis_label\":\"Time (s)\",\"coordinates\":null,\"formatter\":{\"id\":\"3084\"},\"group\":null,\"major_label_policy\":{\"id\":\"3085\"},\"ticker\":{\"id\":\"2918\"}},\"id\":\"2917\",\"type\":\"LinearAxis\"},{\"attributes\":{\"line_alpha\":{\"value\":0.2},\"line_color\":{\"field\":\"line_color\"},\"line_width\":{\"value\":2},\"xs\":{\"field\":\"xs\"},\"ys\":{\"field\":\"ys\"}},\"id\":\"2938\",\"type\":\"MultiLine\"},{\"attributes\":{},\"id\":\"3089\",\"type\":\"Selection\"},{\"attributes\":{},\"id\":\"2911\",\"type\":\"DataRange1d\"},{\"attributes\":{\"tools\":[{\"id\":\"2925\"},{\"id\":\"2926\"},{\"id\":\"2927\"},{\"id\":\"2928\"}]},\"id\":\"2930\",\"type\":\"Toolbar\"},{\"attributes\":{\"line_alpha\":{\"value\":0.1},\"line_color\":{\"field\":\"line_color\"},\"line_width\":{\"value\":2},\"xs\":{\"field\":\"xs\"},\"ys\":{\"field\":\"ys\"}},\"id\":\"2937\",\"type\":\"MultiLine\"},{\"attributes\":{\"axis_label\":\"Signal\",\"coordinates\":null,\"formatter\":{\"id\":\"3081\"},\"group\":null,\"major_label_policy\":{\"id\":\"3082\"},\"ticker\":{\"id\":\"2922\"}},\"id\":\"2921\",\"type\":\"LinearAxis\"},{\"attributes\":{\"data\":{\"line_color\":[\"blue\"],\"xs\":[[0.0,3.4963340759277344,3.781398057937622,7.30374813079834,7.596742153167725,11.088335037231445,11.371371030807495,14.901488065719604,15.217784166336056,18.716464996337894,18.996943950653076,22.506966114044182,22.82770609855652,26.32057213783264,26.60511112213134,30.10165810585022,30.899176120758057,39.05355715751648,40.30971598625183,41.34043216705323,41.66263413429261,45.249736070632935,45.59675693511962,49.11414408683777,49.441425085067756,52.937530040740974,53.26122999191285,56.775859117507935,57.07411313056947,60.60922813415527,60.95093512535094,64.53386211395264,64.89094805717468,68.4070360660553,68.73264408111572,72.23882603645325,72.97660207748412,81.1224660873413,82.41126012802124,83.43068504333495,83.73856616020201,87.2554190158844,87.54227900505066,91.11376214027405,91.41791510581967,94.91626214981078,95.22225213050842,98.73830699920654,99.06373906135558,102.6164219379425,102.93055009841918,106.44166493415834,106.73471999168395,110.28762912750244,110.57620000839232,114.06899905204773,114.73089408874512]],\"ys\":[[80.0,89.0,101.0,112.0,112.0,94.0,83.0,106.0,109.0,160.0,163.0,125.0,127.0,199.0,202.0,102.0,139.0,158.0,165.0,232.0,246.0,232.0,247.0,224.0,231.0,203.0,223.0,186.0,190.0,267.0,267.0,206.0,233.0,300.0,306.0,204.0,263.0,164.0,218.0,262.0,267.0,218.0,231.0,286.0,286.0,217.0,216.0,190.0,188.0,239.0,253.0,252.0,273.0,57.0,114.0,141.0,-185.0]]},\"selected\":{\"id\":\"3087\"},\"selection_policy\":{\"id\":\"3086\"}},\"id\":\"2935\",\"type\":\"ColumnDataSource\"},{\"attributes\":{\"source\":{\"id\":\"2935\"}},\"id\":\"2940\",\"type\":\"CDSView\"},{\"attributes\":{},\"id\":\"2922\",\"type\":\"BasicTicker\"},{\"attributes\":{\"axis\":{\"id\":\"2917\"},\"coordinates\":null,\"group\":null,\"ticker\":null},\"id\":\"2920\",\"type\":\"Grid\"},{\"attributes\":{\"data\":{\"x\":{\"__ndarray__\":\"AAAAAAAAAAAAAAAAfvgLQAAAAKBNQA5AAAAAwAk3HUAAAABgEGMeQAAAAEA6LSZAAAAAWCS+JkAAAADYj80tQP7//2eBby5AAQAAQGq3MkAAAAC4N/8yQP7//4fIgTZAAAAAjOTTNkAAAAAEEVI6QP7//4/omjpAAAAARAYaPkAAAABoMOY+QAAAAPbahkNAAAAAxqQnREABAABIk6tEQAEAADLR1ERAAAAAWvefRkD///+HYsxGQAAAAEacjkhAAQAAnoC4SEABAAD8AHhKQAEAAPxvoUpAAAAAWk9jTEACAACKfIlMQAAAADD7TU5A/v//Pbh5TkAAAADMKiJQQAAAAEsFOVBAAAAA4QwaUUAAAACk4y5RQAAAAO1ID1JA////pYA+UkD///971kdUQAAAABZSmlRA////V5DbVED///+qRO9UQAAAAMlY0FVAAAAAs7TiVUAAAADhR8dWQP7//x6/2lZA////CaS6V0AAAABhOc5XQAAAAGxAr1hA////TBTEWEAAAAB1c6dZQP///yGOu1lAAQAAPUScWkD///+mBa9aQAAAAIRokltA////deCkW0AAAAB7aoRcQAAAAPjGrlxA\",\"dtype\":\"float64\",\"order\":\"little\",\"shape\":[57]},\"y\":{\"__ndarray__\":\"AAAAAAAAaUAAAAAAAABpQAAAAAAAAGlAAAAAAAAAaUAAAAAAAABpQAAAAAAAAGlAAAAAAAAAaUAAAAAAAABpQAAAAAAAAGlAAAAAAAAAaUAAAAAAAABpQAAAAAAAAGlAAAAAAAAAaUAAAAAAAABpQAAAAAAAAGlAAAAAAAAAaUAAAAAAAABpQAAAAAAAAGlAAAAAAAAAaUAAAAAAAABpQAAAAAAAAGlAAAAAAAAAaUAAAAAAAABpQAAAAAAAAGlAAAAAAAAAaUAAAAAAAABpQAAAAAAAAGlAAAAAAAAAaUAAAAAAAABpQAAAAAAAAGlAAAAAAAAAaUAAAAAAAABpQAAAAAAAAGlAAAAAAAAAaUAAAAAAAABpQAAAAAAAAGlAAAAAAAAAaUAAAAAAAABpQAAAAAAAAGlAAAAAAAAAaUAAAAAAAABpQAAAAAAAAGlAAAAAAAAAaUAAAAAAAABpQAAAAAAAAGlAAAAAAAAAaUAAAAAAAABpQAAAAAAAAGlAAAAAAAAAaUAAAAAAAABpQAAAAAAAAGlAAAAAAAAAaUAAAAAAAABpQAAAAAAAAGlAAAAAAAAAaUAAAAAAAABpQAAAAAAAAGlA\",\"dtype\":\"float64\",\"order\":\"little\",\"shape\":[57]}},\"selected\":{\"id\":\"3089\"},\"selection_policy\":{\"id\":\"3088\"}},\"id\":\"2941\",\"type\":\"ColumnDataSource\"},{\"attributes\":{},\"id\":\"2918\",\"type\":\"BasicTicker\"},{\"attributes\":{\"axis\":{\"id\":\"2921\"},\"coordinates\":null,\"dimension\":1,\"group\":null,\"ticker\":null},\"id\":\"2924\",\"type\":\"Grid\"},{\"attributes\":{\"line_alpha\":0.1,\"line_dash\":[2,4],\"line_width\":2,\"x\":{\"field\":\"x\"},\"y\":{\"field\":\"y\"}},\"id\":\"2943\",\"type\":\"Line\"},{\"attributes\":{},\"id\":\"2915\",\"type\":\"LinearScale\"},{\"attributes\":{\"coordinates\":null,\"group\":null,\"text\":\"wing_hist_force_0915191755\"},\"id\":\"2907\",\"type\":\"Title\"},{\"attributes\":{\"coordinates\":null,\"data_source\":{\"id\":\"2941\"},\"glyph\":{\"id\":\"2942\"},\"group\":null,\"hover_glyph\":null,\"muted_glyph\":{\"id\":\"2944\"},\"nonselection_glyph\":{\"id\":\"2943\"},\"view\":{\"id\":\"2946\"}},\"id\":\"2945\",\"type\":\"GlyphRenderer\"},{\"attributes\":{\"line_alpha\":0.2,\"line_dash\":[2,4],\"line_width\":2,\"x\":{\"field\":\"x\"},\"y\":{\"field\":\"y\"}},\"id\":\"2944\",\"type\":\"Line\"},{\"attributes\":{\"line_dash\":[2,4],\"line_width\":2,\"x\":{\"field\":\"x\"},\"y\":{\"field\":\"y\"}},\"id\":\"2942\",\"type\":\"Line\"}],\"root_ids\":[\"2906\"]},\"title\":\"Bokeh Application\",\"version\":\"2.4.2\"}};\n",
       "  const render_items = [{\"docid\":\"56495d18-269d-4269-9f7b-6822969e3b35\",\"root_ids\":[\"2906\"],\"roots\":{\"2906\":\"e38197d3-9a74-4132-8545-b526bffc7c87\"}}];\n",
       "  root.Bokeh.embed.embed_items_notebook(docs_json, render_items);\n",
       "\n",
       "  }\n",
       "  if (root.Bokeh !== undefined) {\n",
       "    embed_document(root);\n",
       "  } else {\n",
       "    let attempts = 0;\n",
       "    const timer = setInterval(function(root) {\n",
       "      if (root.Bokeh !== undefined) {\n",
       "        clearInterval(timer);\n",
       "        embed_document(root);\n",
       "      } else {\n",
       "        attempts++;\n",
       "        if (attempts > 100) {\n",
       "          clearInterval(timer);\n",
       "          console.log(\"Bokeh: ERROR: Unable to run BokehJS code because BokehJS library is missing\");\n",
       "        }\n",
       "      }\n",
       "    }, 10, root)\n",
       "  }\n",
       "})(window);"
      ],
      "application/vnd.bokehjs_exec.v0+json": ""
     },
     "metadata": {
      "application/vnd.bokehjs_exec.v0+json": {
       "id": "2906"
      }
     },
     "output_type": "display_data"
    },
    {
     "data": {
      "text/html": [
       "\n",
       "\n",
       "\n",
       "\n",
       "\n",
       "\n",
       "  <div class=\"bk-root\" id=\"dc89031c-9321-4826-9217-f5427927f5cd\" data-root-id=\"3151\"></div>\n"
      ]
     },
     "metadata": {},
     "output_type": "display_data"
    },
    {
     "data": {
      "application/javascript": [
       "(function(root) {\n",
       "  function embed_document(root) {\n",
       "    \n",
       "  const docs_json = {\"45304f55-e52f-4286-a4ed-afe0b08852a0\":{\"defs\":[],\"roots\":{\"references\":[{\"attributes\":{\"below\":[{\"id\":\"3162\"}],\"center\":[{\"id\":\"3165\"},{\"id\":\"3169\"}],\"height\":300,\"left\":[{\"id\":\"3166\"}],\"renderers\":[{\"id\":\"3184\"},{\"id\":\"3190\"}],\"title\":{\"id\":\"3152\"},\"toolbar\":{\"id\":\"3175\"},\"width\":900,\"x_range\":{\"id\":\"3154\"},\"x_scale\":{\"id\":\"3158\"},\"y_range\":{\"id\":\"3156\"},\"y_scale\":{\"id\":\"3160\"}},\"id\":\"3151\",\"subtype\":\"Figure\",\"type\":\"Plot\"},{\"attributes\":{\"line_alpha\":{\"value\":0.2},\"line_color\":{\"field\":\"line_color\"},\"line_width\":{\"value\":2},\"xs\":{\"field\":\"xs\"},\"ys\":{\"field\":\"ys\"}},\"id\":\"3183\",\"type\":\"MultiLine\"},{\"attributes\":{\"axis\":{\"id\":\"3166\"},\"coordinates\":null,\"dimension\":1,\"group\":null,\"ticker\":null},\"id\":\"3169\",\"type\":\"Grid\"},{\"attributes\":{\"data\":{\"line_color\":[\"blue\"],\"xs\":[[0.0,3.5267798900604266,3.8203930854797346,7.323065996170044,7.648586988449093,11.161618947982788,11.448364019393921,14.944066047668453,15.231747865676876,18.765546083450317,19.069904088973995,22.628182888031,22.943392038345337,26.464859962463386,26.751960039138794,30.245115995407104,31.039957046508796,39.1361780166626,40.40844798088074,41.437660932540894,41.75935006141662,45.35754394531251,45.658137083053596,49.22113108634949,49.51337599754333,53.02172493934631,53.35509109497071,56.9125120639801,57.24019193649292,60.75532603263855,61.1083700656891,64.67464494705202,64.98952388763428,68.51139092445374,68.83725690841673,72.3690140247345,73.14113688468933,81.3345580101013,82.49970293045043,83.5749650001526,83.90613389015196,87.446830034256,87.7808029651642,91.39409589767456,91.69244408607483,95.19183087348938,95.48006796836852,98.98977303504944,99.31009101867676,102.86526989936827,103.18429899215698,106.68189501762392,107.01993799209596,110.51970291137695,110.80408906936646,114.31956100463867,115.05407404899597]],\"ys\":[[78.0,60.0,66.0,61.0,60.0,95.0,98.0,68.0,71.0,79.0,86.0,-6.0,-1.0,-2.0,-2.0,-5.0,-14.0,-1.0,15.0,45.0,51.0,18.0,9.0,-9.0,-3.0,21.0,23.0,29.0,28.0,7.0,61.0,5.0,-3.0,18.0,20.0,40.0,-2.0,57.0,39.0,102.0,113.0,47.0,39.0,61.0,60.0,124.0,127.0,131.0,129.0,29.0,30.0,35.0,51.0,162.0,173.0,236.0,6.0]]},\"selected\":{\"id\":\"3344\"},\"selection_policy\":{\"id\":\"3343\"}},\"id\":\"3180\",\"type\":\"ColumnDataSource\"},{\"attributes\":{},\"id\":\"3342\",\"type\":\"AllLabels\"},{\"attributes\":{},\"id\":\"3343\",\"type\":\"UnionRenderers\"},{\"attributes\":{},\"id\":\"3167\",\"type\":\"BasicTicker\"},{\"attributes\":{},\"id\":\"3163\",\"type\":\"BasicTicker\"},{\"attributes\":{\"axis_label\":\"Signal\",\"coordinates\":null,\"formatter\":{\"id\":\"3338\"},\"group\":null,\"major_label_policy\":{\"id\":\"3339\"},\"ticker\":{\"id\":\"3167\"}},\"id\":\"3166\",\"type\":\"LinearAxis\"},{\"attributes\":{\"line_color\":{\"field\":\"line_color\"},\"line_width\":{\"value\":2},\"xs\":{\"field\":\"xs\"},\"ys\":{\"field\":\"ys\"}},\"id\":\"3181\",\"type\":\"MultiLine\"},{\"attributes\":{},\"id\":\"3344\",\"type\":\"Selection\"},{\"attributes\":{\"line_alpha\":{\"value\":0.1},\"line_color\":{\"field\":\"line_color\"},\"line_width\":{\"value\":2},\"xs\":{\"field\":\"xs\"},\"ys\":{\"field\":\"ys\"}},\"id\":\"3182\",\"type\":\"MultiLine\"},{\"attributes\":{},\"id\":\"3345\",\"type\":\"UnionRenderers\"},{\"attributes\":{},\"id\":\"3338\",\"type\":\"BasicTickFormatter\"},{\"attributes\":{},\"id\":\"3346\",\"type\":\"Selection\"},{\"attributes\":{\"source\":{\"id\":\"3180\"}},\"id\":\"3185\",\"type\":\"CDSView\"},{\"attributes\":{},\"id\":\"3170\",\"type\":\"PanTool\"},{\"attributes\":{},\"id\":\"3171\",\"type\":\"WheelZoomTool\"},{\"attributes\":{\"coordinates\":null,\"group\":null,\"text\":\"wing_hist_pres_0915185245\"},\"id\":\"3152\",\"type\":\"Title\"},{\"attributes\":{\"data\":{\"x\":{\"__ndarray__\":\"AAAAAAAAAAAEAABg2DYMQPz//z8qkA5AAAAA0NFKHUD8//8vJ5geQAAAALi/UiZAAAAA+I/lJkD+//+fXOMtQP7//6endi5AAAAA1PrDMkD///875REzQP7//5fQoDZAAAAAJILxNkACAAAQAXc6QAAAAHSAwDpAAAAA7L8+PkACAACgOgo/QAAAAEhukUNAAAAABkg0REAAAABGBbhEQP///2Ey4URAAQAAAMStRkABAADWPdRGQAAAAAZOnEhA////TbbBSEAAAADix4JKQAEAAKBzrUpAAAAAMs10TEAAAACcvp5MQAAAAIauYE5AAgAAEt+NTkABAABiLStQQAAAAFxUP1BAAAAAobogUUD///+dlTVRQAAAAO2dF1JAAAAAYwhJUkD///9laVVUQP///yH7n1RAAQAAOszkVED///8Y/vlUQAEAAN2Y3FVAAQAArfjxVUAAAADeONlWQAAAAAFR7FZAAAAA9UbMV0D///9uud5XQAAAAHFYv1hAAAAAiNjTWED///+UYLdZQAAAAI7Ly1lAAQAAK6SrWkABAACqRsFaQAAAANBCoVtAAAAAMnazW0AAAACwc5RcQAAAAPN1w1xA\",\"dtype\":\"float64\",\"order\":\"little\",\"shape\":[57]},\"y\":{\"__ndarray__\":\"AAAAAAAAaUAAAAAAAABpQAAAAAAAAGlAAAAAAAAAaUAAAAAAAABpQAAAAAAAAGlAAAAAAAAAaUAAAAAAAABpQAAAAAAAAGlAAAAAAAAAaUAAAAAAAABpQAAAAAAAAGlAAAAAAAAAaUAAAAAAAABpQAAAAAAAAGlAAAAAAAAAaUAAAAAAAABpQAAAAAAAAGlAAAAAAAAAaUAAAAAAAABpQAAAAAAAAGlAAAAAAAAAaUAAAAAAAABpQAAAAAAAAGlAAAAAAAAAaUAAAAAAAABpQAAAAAAAAGlAAAAAAAAAaUAAAAAAAABpQAAAAAAAAGlAAAAAAAAAaUAAAAAAAABpQAAAAAAAAGlAAAAAAAAAaUAAAAAAAABpQAAAAAAAAGlAAAAAAAAAaUAAAAAAAABpQAAAAAAAAGlAAAAAAAAAaUAAAAAAAABpQAAAAAAAAGlAAAAAAAAAaUAAAAAAAABpQAAAAAAAAGlAAAAAAAAAaUAAAAAAAABpQAAAAAAAAGlAAAAAAAAAaUAAAAAAAABpQAAAAAAAAGlAAAAAAAAAaUAAAAAAAABpQAAAAAAAAGlAAAAAAAAAaUAAAAAAAABpQAAAAAAAAGlA\",\"dtype\":\"float64\",\"order\":\"little\",\"shape\":[57]}},\"selected\":{\"id\":\"3346\"},\"selection_policy\":{\"id\":\"3345\"}},\"id\":\"3186\",\"type\":\"ColumnDataSource\"},{\"attributes\":{\"overlay\":{\"id\":\"3174\"}},\"id\":\"3172\",\"type\":\"BoxZoomTool\"},{\"attributes\":{\"axis_label\":\"Time (s)\",\"coordinates\":null,\"formatter\":{\"id\":\"3341\"},\"group\":null,\"major_label_policy\":{\"id\":\"3342\"},\"ticker\":{\"id\":\"3163\"}},\"id\":\"3162\",\"type\":\"LinearAxis\"},{\"attributes\":{},\"id\":\"3160\",\"type\":\"LinearScale\"},{\"attributes\":{\"line_alpha\":0.1,\"line_dash\":[2,4],\"line_width\":2,\"x\":{\"field\":\"x\"},\"y\":{\"field\":\"y\"}},\"id\":\"3188\",\"type\":\"Line\"},{\"attributes\":{},\"id\":\"3173\",\"type\":\"ResetTool\"},{\"attributes\":{},\"id\":\"3158\",\"type\":\"LinearScale\"},{\"attributes\":{\"coordinates\":null,\"data_source\":{\"id\":\"3186\"},\"glyph\":{\"id\":\"3187\"},\"group\":null,\"hover_glyph\":null,\"muted_glyph\":{\"id\":\"3189\"},\"nonselection_glyph\":{\"id\":\"3188\"},\"view\":{\"id\":\"3191\"}},\"id\":\"3190\",\"type\":\"GlyphRenderer\"},{\"attributes\":{\"tools\":[{\"id\":\"3170\"},{\"id\":\"3171\"},{\"id\":\"3172\"},{\"id\":\"3173\"}]},\"id\":\"3175\",\"type\":\"Toolbar\"},{\"attributes\":{\"axis\":{\"id\":\"3162\"},\"coordinates\":null,\"group\":null,\"ticker\":null},\"id\":\"3165\",\"type\":\"Grid\"},{\"attributes\":{\"line_alpha\":0.2,\"line_dash\":[2,4],\"line_width\":2,\"x\":{\"field\":\"x\"},\"y\":{\"field\":\"y\"}},\"id\":\"3189\",\"type\":\"Line\"},{\"attributes\":{},\"id\":\"3156\",\"type\":\"DataRange1d\"},{\"attributes\":{\"line_dash\":[2,4],\"line_width\":2,\"x\":{\"field\":\"x\"},\"y\":{\"field\":\"y\"}},\"id\":\"3187\",\"type\":\"Line\"},{\"attributes\":{\"bottom_units\":\"screen\",\"coordinates\":null,\"fill_alpha\":0.5,\"fill_color\":\"lightgrey\",\"group\":null,\"left_units\":\"screen\",\"level\":\"overlay\",\"line_alpha\":1.0,\"line_color\":\"black\",\"line_dash\":[4,4],\"line_width\":2,\"right_units\":\"screen\",\"syncable\":false,\"top_units\":\"screen\"},\"id\":\"3174\",\"type\":\"BoxAnnotation\"},{\"attributes\":{\"source\":{\"id\":\"3186\"}},\"id\":\"3191\",\"type\":\"CDSView\"},{\"attributes\":{\"coordinates\":null,\"data_source\":{\"id\":\"3180\"},\"glyph\":{\"id\":\"3181\"},\"group\":null,\"hover_glyph\":null,\"muted_glyph\":{\"id\":\"3183\"},\"nonselection_glyph\":{\"id\":\"3182\"},\"view\":{\"id\":\"3185\"}},\"id\":\"3184\",\"type\":\"GlyphRenderer\"},{\"attributes\":{},\"id\":\"3341\",\"type\":\"BasicTickFormatter\"},{\"attributes\":{},\"id\":\"3154\",\"type\":\"DataRange1d\"},{\"attributes\":{},\"id\":\"3339\",\"type\":\"AllLabels\"}],\"root_ids\":[\"3151\"]},\"title\":\"Bokeh Application\",\"version\":\"2.4.2\"}};\n",
       "  const render_items = [{\"docid\":\"45304f55-e52f-4286-a4ed-afe0b08852a0\",\"root_ids\":[\"3151\"],\"roots\":{\"3151\":\"dc89031c-9321-4826-9217-f5427927f5cd\"}}];\n",
       "  root.Bokeh.embed.embed_items_notebook(docs_json, render_items);\n",
       "\n",
       "  }\n",
       "  if (root.Bokeh !== undefined) {\n",
       "    embed_document(root);\n",
       "  } else {\n",
       "    let attempts = 0;\n",
       "    const timer = setInterval(function(root) {\n",
       "      if (root.Bokeh !== undefined) {\n",
       "        clearInterval(timer);\n",
       "        embed_document(root);\n",
       "      } else {\n",
       "        attempts++;\n",
       "        if (attempts > 100) {\n",
       "          clearInterval(timer);\n",
       "          console.log(\"Bokeh: ERROR: Unable to run BokehJS code because BokehJS library is missing\");\n",
       "        }\n",
       "      }\n",
       "    }, 10, root)\n",
       "  }\n",
       "})(window);"
      ],
      "application/vnd.bokehjs_exec.v0+json": ""
     },
     "metadata": {
      "application/vnd.bokehjs_exec.v0+json": {
       "id": "3151"
      }
     },
     "output_type": "display_data"
    },
    {
     "data": {
      "text/html": [
       "\n",
       "\n",
       "\n",
       "\n",
       "\n",
       "\n",
       "  <div class=\"bk-root\" id=\"80b2edf8-9876-4905-b757-0d9b277907ea\" data-root-id=\"3408\"></div>\n"
      ]
     },
     "metadata": {},
     "output_type": "display_data"
    },
    {
     "data": {
      "application/javascript": [
       "(function(root) {\n",
       "  function embed_document(root) {\n",
       "    \n",
       "  const docs_json = {\"85359396-6dab-4b86-80d4-e17d7c8fa5f3\":{\"defs\":[],\"roots\":{\"references\":[{\"attributes\":{\"below\":[{\"id\":\"3419\"}],\"center\":[{\"id\":\"3422\"},{\"id\":\"3426\"}],\"height\":300,\"left\":[{\"id\":\"3423\"}],\"renderers\":[{\"id\":\"3441\"},{\"id\":\"3447\"}],\"title\":{\"id\":\"3409\"},\"toolbar\":{\"id\":\"3432\"},\"width\":900,\"x_range\":{\"id\":\"3411\"},\"x_scale\":{\"id\":\"3415\"},\"y_range\":{\"id\":\"3413\"},\"y_scale\":{\"id\":\"3417\"}},\"id\":\"3408\",\"subtype\":\"Figure\",\"type\":\"Plot\"},{\"attributes\":{\"coordinates\":null,\"data_source\":{\"id\":\"3443\"},\"glyph\":{\"id\":\"3444\"},\"group\":null,\"hover_glyph\":null,\"muted_glyph\":{\"id\":\"3446\"},\"nonselection_glyph\":{\"id\":\"3445\"},\"view\":{\"id\":\"3448\"}},\"id\":\"3447\",\"type\":\"GlyphRenderer\"},{\"attributes\":{\"data\":{\"x\":{\"__ndarray__\":\"AAAAAAAAAAACAAAARWwMQP7//38blA1A////T9MAHUABAAAwJZQdQAAAAPhp5CVAAgAAeKAuJkAAAAC4LUktQAAAALDMky1A////6wFXMkAAAABcFXwyQAAAAMg5CTZAAQAAYEwuNkD///9XC7w5QAAAALg/VzpAAQAACFnAQEAAAAA8vItBQAAAABwkHkJAAAAATJEwQkAAAAD2CvdDQAAAAGB4CURAAAAAZjDQRUD///+nrhxGQA==\",\"dtype\":\"float64\",\"order\":\"little\",\"shape\":[23]},\"y\":{\"__ndarray__\":\"AAAAAAAAaUAAAAAAAABpQAAAAAAAAGlAAAAAAAAAaUAAAAAAAABpQAAAAAAAAGlAAAAAAAAAaUAAAAAAAABpQAAAAAAAAGlAAAAAAAAAaUAAAAAAAABpQAAAAAAAAGlAAAAAAAAAaUAAAAAAAABpQAAAAAAAAGlAAAAAAAAAaUAAAAAAAABpQAAAAAAAAGlAAAAAAAAAaUAAAAAAAABpQAAAAAAAAGlAAAAAAAAAaUAAAAAAAABpQA==\",\"dtype\":\"float64\",\"order\":\"little\",\"shape\":[23]}},\"selected\":{\"id\":\"3615\"},\"selection_policy\":{\"id\":\"3614\"}},\"id\":\"3443\",\"type\":\"ColumnDataSource\"},{\"attributes\":{\"line_alpha\":{\"value\":0.1},\"line_color\":{\"field\":\"line_color\"},\"line_width\":{\"value\":2},\"xs\":{\"field\":\"xs\"},\"ys\":{\"field\":\"ys\"}},\"id\":\"3439\",\"type\":\"MultiLine\"},{\"attributes\":{\"line_alpha\":0.2,\"line_dash\":[2,4],\"line_width\":2,\"x\":{\"field\":\"x\"},\"y\":{\"field\":\"y\"}},\"id\":\"3446\",\"type\":\"Line\"},{\"attributes\":{\"line_alpha\":0.1,\"line_dash\":[2,4],\"line_width\":2,\"x\":{\"field\":\"x\"},\"y\":{\"field\":\"y\"}},\"id\":\"3445\",\"type\":\"Line\"},{\"attributes\":{},\"id\":\"3415\",\"type\":\"LinearScale\"},{\"attributes\":{\"coordinates\":null,\"data_source\":{\"id\":\"3437\"},\"glyph\":{\"id\":\"3438\"},\"group\":null,\"hover_glyph\":null,\"muted_glyph\":{\"id\":\"3440\"},\"nonselection_glyph\":{\"id\":\"3439\"},\"view\":{\"id\":\"3442\"}},\"id\":\"3441\",\"type\":\"GlyphRenderer\"},{\"attributes\":{},\"id\":\"3411\",\"type\":\"DataRange1d\"},{\"attributes\":{\"source\":{\"id\":\"3437\"}},\"id\":\"3442\",\"type\":\"CDSView\"},{\"attributes\":{\"coordinates\":null,\"group\":null,\"text\":\"wing_hist_pres_0914230418\"},\"id\":\"3409\",\"type\":\"Title\"},{\"attributes\":{\"source\":{\"id\":\"3443\"}},\"id\":\"3448\",\"type\":\"CDSView\"},{\"attributes\":{},\"id\":\"3610\",\"type\":\"BasicTickFormatter\"},{\"attributes\":{\"axis_label\":\"Signal\",\"coordinates\":null,\"formatter\":{\"id\":\"3607\"},\"group\":null,\"major_label_policy\":{\"id\":\"3608\"},\"ticker\":{\"id\":\"3424\"}},\"id\":\"3423\",\"type\":\"LinearAxis\"},{\"attributes\":{\"line_dash\":[2,4],\"line_width\":2,\"x\":{\"field\":\"x\"},\"y\":{\"field\":\"y\"}},\"id\":\"3444\",\"type\":\"Line\"},{\"attributes\":{},\"id\":\"3430\",\"type\":\"ResetTool\"},{\"attributes\":{},\"id\":\"3428\",\"type\":\"WheelZoomTool\"},{\"attributes\":{},\"id\":\"3424\",\"type\":\"BasicTicker\"},{\"attributes\":{},\"id\":\"3607\",\"type\":\"BasicTickFormatter\"},{\"attributes\":{},\"id\":\"3611\",\"type\":\"AllLabels\"},{\"attributes\":{\"data\":{\"line_color\":[\"blue\"],\"xs\":[[0.0,3.552865982055665,3.6973180770874015,7.2508060932159415,7.394673109054566,10.946120977401733,11.09106802940369,14.642926931381226,14.788671016693115,18.339873075485226,18.484700918197632,22.036037921905518,22.180852890014652,25.734548091888424,26.340816020965576,33.50271701812745,35.09168195724487,36.23547697067261,36.37943410873413,39.93002200126648,40.0739860534668,43.626477003097534,44.22408008575439]],\"ys\":[[63.0,7.0,6.0,6.0,7.0,2.0,0.0,1.0,5.0,8.0,10.0,4.0,4.0,30.0,0.0,23.0,27.0,29.0,38.0,78.0,77.0,120.0,82.0]]},\"selected\":{\"id\":\"3613\"},\"selection_policy\":{\"id\":\"3612\"}},\"id\":\"3437\",\"type\":\"ColumnDataSource\"},{\"attributes\":{\"overlay\":{\"id\":\"3431\"}},\"id\":\"3429\",\"type\":\"BoxZoomTool\"},{\"attributes\":{},\"id\":\"3608\",\"type\":\"AllLabels\"},{\"attributes\":{\"axis\":{\"id\":\"3419\"},\"coordinates\":null,\"group\":null,\"ticker\":null},\"id\":\"3422\",\"type\":\"Grid\"},{\"attributes\":{},\"id\":\"3420\",\"type\":\"BasicTicker\"},{\"attributes\":{},\"id\":\"3427\",\"type\":\"PanTool\"},{\"attributes\":{},\"id\":\"3614\",\"type\":\"UnionRenderers\"},{\"attributes\":{},\"id\":\"3413\",\"type\":\"DataRange1d\"},{\"attributes\":{\"axis\":{\"id\":\"3423\"},\"coordinates\":null,\"dimension\":1,\"group\":null,\"ticker\":null},\"id\":\"3426\",\"type\":\"Grid\"},{\"attributes\":{},\"id\":\"3615\",\"type\":\"Selection\"},{\"attributes\":{\"axis_label\":\"Time (s)\",\"coordinates\":null,\"formatter\":{\"id\":\"3610\"},\"group\":null,\"major_label_policy\":{\"id\":\"3611\"},\"ticker\":{\"id\":\"3420\"}},\"id\":\"3419\",\"type\":\"LinearAxis\"},{\"attributes\":{},\"id\":\"3417\",\"type\":\"LinearScale\"},{\"attributes\":{},\"id\":\"3612\",\"type\":\"UnionRenderers\"},{\"attributes\":{},\"id\":\"3613\",\"type\":\"Selection\"},{\"attributes\":{\"bottom_units\":\"screen\",\"coordinates\":null,\"fill_alpha\":0.5,\"fill_color\":\"lightgrey\",\"group\":null,\"left_units\":\"screen\",\"level\":\"overlay\",\"line_alpha\":1.0,\"line_color\":\"black\",\"line_dash\":[4,4],\"line_width\":2,\"right_units\":\"screen\",\"syncable\":false,\"top_units\":\"screen\"},\"id\":\"3431\",\"type\":\"BoxAnnotation\"},{\"attributes\":{\"line_color\":{\"field\":\"line_color\"},\"line_width\":{\"value\":2},\"xs\":{\"field\":\"xs\"},\"ys\":{\"field\":\"ys\"}},\"id\":\"3438\",\"type\":\"MultiLine\"},{\"attributes\":{\"tools\":[{\"id\":\"3427\"},{\"id\":\"3428\"},{\"id\":\"3429\"},{\"id\":\"3430\"}]},\"id\":\"3432\",\"type\":\"Toolbar\"},{\"attributes\":{\"line_alpha\":{\"value\":0.2},\"line_color\":{\"field\":\"line_color\"},\"line_width\":{\"value\":2},\"xs\":{\"field\":\"xs\"},\"ys\":{\"field\":\"ys\"}},\"id\":\"3440\",\"type\":\"MultiLine\"}],\"root_ids\":[\"3408\"]},\"title\":\"Bokeh Application\",\"version\":\"2.4.2\"}};\n",
       "  const render_items = [{\"docid\":\"85359396-6dab-4b86-80d4-e17d7c8fa5f3\",\"root_ids\":[\"3408\"],\"roots\":{\"3408\":\"80b2edf8-9876-4905-b757-0d9b277907ea\"}}];\n",
       "  root.Bokeh.embed.embed_items_notebook(docs_json, render_items);\n",
       "\n",
       "  }\n",
       "  if (root.Bokeh !== undefined) {\n",
       "    embed_document(root);\n",
       "  } else {\n",
       "    let attempts = 0;\n",
       "    const timer = setInterval(function(root) {\n",
       "      if (root.Bokeh !== undefined) {\n",
       "        clearInterval(timer);\n",
       "        embed_document(root);\n",
       "      } else {\n",
       "        attempts++;\n",
       "        if (attempts > 100) {\n",
       "          clearInterval(timer);\n",
       "          console.log(\"Bokeh: ERROR: Unable to run BokehJS code because BokehJS library is missing\");\n",
       "        }\n",
       "      }\n",
       "    }, 10, root)\n",
       "  }\n",
       "})(window);"
      ],
      "application/vnd.bokehjs_exec.v0+json": ""
     },
     "metadata": {
      "application/vnd.bokehjs_exec.v0+json": {
       "id": "3408"
      }
     },
     "output_type": "display_data"
    },
    {
     "data": {
      "text/html": [
       "\n",
       "\n",
       "\n",
       "\n",
       "\n",
       "\n",
       "  <div class=\"bk-root\" id=\"796e7da5-82ec-4f1b-a5c6-78f48d4f0933\" data-root-id=\"3677\"></div>\n"
      ]
     },
     "metadata": {},
     "output_type": "display_data"
    },
    {
     "data": {
      "application/javascript": [
       "(function(root) {\n",
       "  function embed_document(root) {\n",
       "    \n",
       "  const docs_json = {\"070c573e-7335-4d06-bef0-a9ad3526346f\":{\"defs\":[],\"roots\":{\"references\":[{\"attributes\":{\"below\":[{\"id\":\"3688\"}],\"center\":[{\"id\":\"3691\"},{\"id\":\"3695\"}],\"height\":300,\"left\":[{\"id\":\"3692\"}],\"renderers\":[{\"id\":\"3710\"},{\"id\":\"3716\"}],\"title\":{\"id\":\"3678\"},\"toolbar\":{\"id\":\"3701\"},\"width\":900,\"x_range\":{\"id\":\"3680\"},\"x_scale\":{\"id\":\"3684\"},\"y_range\":{\"id\":\"3682\"},\"y_scale\":{\"id\":\"3686\"}},\"id\":\"3677\",\"subtype\":\"Figure\",\"type\":\"Plot\"},{\"attributes\":{\"source\":{\"id\":\"3712\"}},\"id\":\"3717\",\"type\":\"CDSView\"},{\"attributes\":{\"overlay\":{\"id\":\"3700\"}},\"id\":\"3698\",\"type\":\"BoxZoomTool\"},{\"attributes\":{},\"id\":\"3888\",\"type\":\"BasicTickFormatter\"},{\"attributes\":{},\"id\":\"3891\",\"type\":\"BasicTickFormatter\"},{\"attributes\":{},\"id\":\"3889\",\"type\":\"AllLabels\"},{\"attributes\":{\"tools\":[{\"id\":\"3696\"},{\"id\":\"3697\"},{\"id\":\"3698\"},{\"id\":\"3699\"}]},\"id\":\"3701\",\"type\":\"Toolbar\"},{\"attributes\":{\"coordinates\":null,\"group\":null,\"text\":\"wing_hist_pres_0915184600\"},\"id\":\"3678\",\"type\":\"Title\"},{\"attributes\":{},\"id\":\"3894\",\"type\":\"Selection\"},{\"attributes\":{\"line_color\":{\"field\":\"line_color\"},\"line_width\":{\"value\":2},\"xs\":{\"field\":\"xs\"},\"ys\":{\"field\":\"ys\"}},\"id\":\"3707\",\"type\":\"MultiLine\"},{\"attributes\":{},\"id\":\"3893\",\"type\":\"UnionRenderers\"},{\"attributes\":{},\"id\":\"3697\",\"type\":\"WheelZoomTool\"},{\"attributes\":{},\"id\":\"3895\",\"type\":\"UnionRenderers\"},{\"attributes\":{},\"id\":\"3696\",\"type\":\"PanTool\"},{\"attributes\":{},\"id\":\"3892\",\"type\":\"AllLabels\"},{\"attributes\":{},\"id\":\"3684\",\"type\":\"LinearScale\"},{\"attributes\":{\"coordinates\":null,\"data_source\":{\"id\":\"3706\"},\"glyph\":{\"id\":\"3707\"},\"group\":null,\"hover_glyph\":null,\"muted_glyph\":{\"id\":\"3709\"},\"nonselection_glyph\":{\"id\":\"3708\"},\"view\":{\"id\":\"3711\"}},\"id\":\"3710\",\"type\":\"GlyphRenderer\"},{\"attributes\":{\"line_alpha\":{\"value\":0.2},\"line_color\":{\"field\":\"line_color\"},\"line_width\":{\"value\":2},\"xs\":{\"field\":\"xs\"},\"ys\":{\"field\":\"ys\"}},\"id\":\"3709\",\"type\":\"MultiLine\"},{\"attributes\":{},\"id\":\"3896\",\"type\":\"Selection\"},{\"attributes\":{\"data\":{\"line_color\":[\"blue\"],\"xs\":[[0.0,3.499826192855833,3.8123381137847865,7.350570201873779,7.67432618141174,11.20985817909241,11.573668003082275,15.07542014122009,15.362909078598022,18.923137187957767,19.22334814071655,22.82851004600525,23.127788066864014,26.658230066299446,26.988503217697144,30.57368803024292,31.327152013778687,39.49197602272033,40.81086707115174,41.837425231933594,42.15589904785157,45.68576717376708,46.04227709770202,49.53430604934693,49.8487000465393,53.34853911399841,53.63645315170289,57.18522500991821,57.55651903152466,61.043222188949585,61.34233903884888,64.83557200431824,65.13736510276793,68.70407605171202,68.99689722061157,72.4988691806793,73.29807209968565,81.41332221031189,82.6633131504059,83.66500520706177,83.95096015930176,87.46318411827085,87.75050520896909,91.29089617729188,91.59959602355957,95.09540104866029,95.38065505027771,98.90027308464049,99.21561908721925,102.77043318748474,103.06250500679018,106.58286213874815,106.87361621856688,110.36607718467712,110.66145610809323,114.15393114089966,114.92629313468933]],\"ys\":[[60.0,87.0,86.0,130.0,125.0,68.0,60.0,66.0,60.0,46.0,51.0,15.0,16.0,33.0,34.0,69.0,2.0,0.0,0.0,72.0,76.0,88.0,93.0,118.0,119.0,128.0,126.0,132.0,131.0,120.0,131.0,130.0,155.0,159.0,157.0,180.0,1.0,2.0,0.0,87.0,90.0,91.0,94.0,122.0,127.0,104.0,95.0,51.0,61.0,18.0,20.0,21.0,22.0,96.0,107.0,203.0,0.0]]},\"selected\":{\"id\":\"3894\"},\"selection_policy\":{\"id\":\"3893\"}},\"id\":\"3706\",\"type\":\"ColumnDataSource\"},{\"attributes\":{\"line_alpha\":{\"value\":0.1},\"line_color\":{\"field\":\"line_color\"},\"line_width\":{\"value\":2},\"xs\":{\"field\":\"xs\"},\"ys\":{\"field\":\"ys\"}},\"id\":\"3708\",\"type\":\"MultiLine\"},{\"attributes\":{\"axis_label\":\"Signal\",\"coordinates\":null,\"formatter\":{\"id\":\"3888\"},\"group\":null,\"major_label_policy\":{\"id\":\"3889\"},\"ticker\":{\"id\":\"3693\"}},\"id\":\"3692\",\"type\":\"LinearAxis\"},{\"attributes\":{\"axis\":{\"id\":\"3688\"},\"coordinates\":null,\"group\":null,\"ticker\":null},\"id\":\"3691\",\"type\":\"Grid\"},{\"attributes\":{\"source\":{\"id\":\"3706\"}},\"id\":\"3711\",\"type\":\"CDSView\"},{\"attributes\":{},\"id\":\"3693\",\"type\":\"BasicTicker\"},{\"attributes\":{\"data\":{\"x\":{\"__ndarray__\":\"AAAAAAAAAAD8///fpP8LQPj//x+rfw5AAAAA4PtmHUD8//+PgrIeQAIAAIhyayZAAAAA0LclJ0D+//93nSYuQAAAADjPuS5AAQAAuFLsMkD///9XLTkzQAAAADwZ1DZAAAAAuLYgN0ACAADEgag6QAAAAIwO/TpAAAAAON2SPkAAAAA8wFM/QP///xH5vkNAAQAAfspnREAAAADAMOtEQAEAAID0E0VA////N8fXRkD///9VaQVHQAEAACRkxEhA////M6LsSEAAAADunKxKQAEAAEx30UpAAAAAdLWXTEAAAAAEPMdMQAAAAE6IhU5AAAAAxNGrTkAAAAADejVQQP///5bKSFBA////lA8tUUAAAAAqzT9RQP///3jtH1JA////nBNTUkAAAADfc1pUQAEAALlzqlRAAAAAco/qVEAAAACI3PxUQP7//86k3VVA/v//RgjwVUABAAALntJWQAAAAMhf5lZAAQAADRvGV0AAAACnXNhXQP///xKeuVhAAQAAtMzNWEAAAADHTrFZQAEAABUAxFlA////nE2lWkD///9T6bdaQAAAAM9tl1tA/v//S1WqW0AAAAAC2olcQAAAAGNIu1xA\",\"dtype\":\"float64\",\"order\":\"little\",\"shape\":[57]},\"y\":{\"__ndarray__\":\"AAAAAAAAaUAAAAAAAABpQAAAAAAAAGlAAAAAAAAAaUAAAAAAAABpQAAAAAAAAGlAAAAAAAAAaUAAAAAAAABpQAAAAAAAAGlAAAAAAAAAaUAAAAAAAABpQAAAAAAAAGlAAAAAAAAAaUAAAAAAAABpQAAAAAAAAGlAAAAAAAAAaUAAAAAAAABpQAAAAAAAAGlAAAAAAAAAaUAAAAAAAABpQAAAAAAAAGlAAAAAAAAAaUAAAAAAAABpQAAAAAAAAGlAAAAAAAAAaUAAAAAAAABpQAAAAAAAAGlAAAAAAAAAaUAAAAAAAABpQAAAAAAAAGlAAAAAAAAAaUAAAAAAAABpQAAAAAAAAGlAAAAAAAAAaUAAAAAAAABpQAAAAAAAAGlAAAAAAAAAaUAAAAAAAABpQAAAAAAAAGlAAAAAAAAAaUAAAAAAAABpQAAAAAAAAGlAAAAAAAAAaUAAAAAAAABpQAAAAAAAAGlAAAAAAAAAaUAAAAAAAABpQAAAAAAAAGlAAAAAAAAAaUAAAAAAAABpQAAAAAAAAGlAAAAAAAAAaUAAAAAAAABpQAAAAAAAAGlAAAAAAAAAaUAAAAAAAABpQAAAAAAAAGlA\",\"dtype\":\"float64\",\"order\":\"little\",\"shape\":[57]}},\"selected\":{\"id\":\"3896\"},\"selection_policy\":{\"id\":\"3895\"}},\"id\":\"3712\",\"type\":\"ColumnDataSource\"},{\"attributes\":{},\"id\":\"3689\",\"type\":\"BasicTicker\"},{\"attributes\":{},\"id\":\"3680\",\"type\":\"DataRange1d\"},{\"attributes\":{\"axis\":{\"id\":\"3692\"},\"coordinates\":null,\"dimension\":1,\"group\":null,\"ticker\":null},\"id\":\"3695\",\"type\":\"Grid\"},{\"attributes\":{},\"id\":\"3682\",\"type\":\"DataRange1d\"},{\"attributes\":{\"line_alpha\":0.1,\"line_dash\":[2,4],\"line_width\":2,\"x\":{\"field\":\"x\"},\"y\":{\"field\":\"y\"}},\"id\":\"3714\",\"type\":\"Line\"},{\"attributes\":{\"coordinates\":null,\"data_source\":{\"id\":\"3712\"},\"glyph\":{\"id\":\"3713\"},\"group\":null,\"hover_glyph\":null,\"muted_glyph\":{\"id\":\"3715\"},\"nonselection_glyph\":{\"id\":\"3714\"},\"view\":{\"id\":\"3717\"}},\"id\":\"3716\",\"type\":\"GlyphRenderer\"},{\"attributes\":{\"axis_label\":\"Time (s)\",\"coordinates\":null,\"formatter\":{\"id\":\"3891\"},\"group\":null,\"major_label_policy\":{\"id\":\"3892\"},\"ticker\":{\"id\":\"3689\"}},\"id\":\"3688\",\"type\":\"LinearAxis\"},{\"attributes\":{\"line_alpha\":0.2,\"line_dash\":[2,4],\"line_width\":2,\"x\":{\"field\":\"x\"},\"y\":{\"field\":\"y\"}},\"id\":\"3715\",\"type\":\"Line\"},{\"attributes\":{},\"id\":\"3699\",\"type\":\"ResetTool\"},{\"attributes\":{\"line_dash\":[2,4],\"line_width\":2,\"x\":{\"field\":\"x\"},\"y\":{\"field\":\"y\"}},\"id\":\"3713\",\"type\":\"Line\"},{\"attributes\":{},\"id\":\"3686\",\"type\":\"LinearScale\"},{\"attributes\":{\"bottom_units\":\"screen\",\"coordinates\":null,\"fill_alpha\":0.5,\"fill_color\":\"lightgrey\",\"group\":null,\"left_units\":\"screen\",\"level\":\"overlay\",\"line_alpha\":1.0,\"line_color\":\"black\",\"line_dash\":[4,4],\"line_width\":2,\"right_units\":\"screen\",\"syncable\":false,\"top_units\":\"screen\"},\"id\":\"3700\",\"type\":\"BoxAnnotation\"}],\"root_ids\":[\"3677\"]},\"title\":\"Bokeh Application\",\"version\":\"2.4.2\"}};\n",
       "  const render_items = [{\"docid\":\"070c573e-7335-4d06-bef0-a9ad3526346f\",\"root_ids\":[\"3677\"],\"roots\":{\"3677\":\"796e7da5-82ec-4f1b-a5c6-78f48d4f0933\"}}];\n",
       "  root.Bokeh.embed.embed_items_notebook(docs_json, render_items);\n",
       "\n",
       "  }\n",
       "  if (root.Bokeh !== undefined) {\n",
       "    embed_document(root);\n",
       "  } else {\n",
       "    let attempts = 0;\n",
       "    const timer = setInterval(function(root) {\n",
       "      if (root.Bokeh !== undefined) {\n",
       "        clearInterval(timer);\n",
       "        embed_document(root);\n",
       "      } else {\n",
       "        attempts++;\n",
       "        if (attempts > 100) {\n",
       "          clearInterval(timer);\n",
       "          console.log(\"Bokeh: ERROR: Unable to run BokehJS code because BokehJS library is missing\");\n",
       "        }\n",
       "      }\n",
       "    }, 10, root)\n",
       "  }\n",
       "})(window);"
      ],
      "application/vnd.bokehjs_exec.v0+json": ""
     },
     "metadata": {
      "application/vnd.bokehjs_exec.v0+json": {
       "id": "3677"
      }
     },
     "output_type": "display_data"
    },
    {
     "data": {
      "text/html": [
       "\n",
       "\n",
       "\n",
       "\n",
       "\n",
       "\n",
       "  <div class=\"bk-root\" id=\"3bbdcdc0-db88-448a-b0c7-b31326caede2\" data-root-id=\"3958\"></div>\n"
      ]
     },
     "metadata": {},
     "output_type": "display_data"
    },
    {
     "data": {
      "application/javascript": [
       "(function(root) {\n",
       "  function embed_document(root) {\n",
       "    \n",
       "  const docs_json = {\"19c97fff-46df-4189-a1a0-774593c5374a\":{\"defs\":[],\"roots\":{\"references\":[{\"attributes\":{\"below\":[{\"id\":\"3969\"}],\"center\":[{\"id\":\"3972\"},{\"id\":\"3976\"}],\"height\":300,\"left\":[{\"id\":\"3973\"}],\"renderers\":[{\"id\":\"3991\"},{\"id\":\"3997\"}],\"title\":{\"id\":\"3959\"},\"toolbar\":{\"id\":\"3982\"},\"width\":900,\"x_range\":{\"id\":\"3961\"},\"x_scale\":{\"id\":\"3965\"},\"y_range\":{\"id\":\"3963\"},\"y_scale\":{\"id\":\"3967\"}},\"id\":\"3958\",\"subtype\":\"Figure\",\"type\":\"Plot\"},{\"attributes\":{},\"id\":\"4188\",\"type\":\"UnionRenderers\"},{\"attributes\":{\"tools\":[{\"id\":\"3977\"},{\"id\":\"3978\"},{\"id\":\"3979\"},{\"id\":\"3980\"}]},\"id\":\"3982\",\"type\":\"Toolbar\"},{\"attributes\":{\"source\":{\"id\":\"3987\"}},\"id\":\"3992\",\"type\":\"CDSView\"},{\"attributes\":{},\"id\":\"3965\",\"type\":\"LinearScale\"},{\"attributes\":{},\"id\":\"3977\",\"type\":\"PanTool\"},{\"attributes\":{},\"id\":\"4189\",\"type\":\"Selection\"},{\"attributes\":{\"data\":{\"x\":{\"__ndarray__\":\"AAAAAAAAAAD8//+fJ0IMQAAAAIBIKg9A/v///z6sHUD+//9fpwEfQAEAAGidiiZA/f//v5EpJ0D9//8P6S8uQPv//zd0zC5AAAAAFLTpMkAAAAAoTDgzQAAAAKytwDZAAAAArIUON0AAAACYSZE6QAIAAAxS2TpAAAAA+LFePkAAAAB8sxo/QAAAAAA/q0NA////r5ZJRED///+5xMlEQAAAAHSI8ERAAAAAIjy0RkAAAABaLNtGQP///yGQn0hAAQAA1nLLSEAAAACwJYpKQP///9l1r0pAAAAAxLhxTEAAAAC4sJZMQAAAAOwgV05AAAAAzo17TkAAAAAHtB1QQP///4VbMVBAAQAAc0wSUUD///81BidRQAAAABdmCFJAAAAAVwg6UkD+//8+d0RUQAAAAG7em1RA/v//PxncVEAAAADQoO9UQAAAACoiz1VA////66ThVUAAAABo0MJWQAAAALsu11ZA////HOi4V0D///9eK81XQAEAAJXYsFhA////SpXFWED////lsDJZQAAAAPIPR1lA////9WG0WUAAAACVFMdZQP///zYeM1pA/////z5GWkAAAAC6FrZaQAAAAP3CzVpAAgAA2C1vW0AAAAA5napbQAEAAPTi7FtA////r1cBXED///9Kl25cQAAAAFAEglxAAAAAVabwXEAAAAAhlgNdQAAAABzRc11AAAAANBOHXUAAAABiafZdQAAAAEsjEV5AAAAAYf+0XkAAAACSzwNfQAAAAFTJRV9AAAAAkl9aX0AAAACmZsdfQAAAAC0I3l9AAAAAaeQlYEAAAAD1kjFgQA==\",\"dtype\":\"float64\",\"order\":\"little\",\"shape\":[77]},\"y\":{\"__ndarray__\":\"AAAAAAAAaUAAAAAAAABpQAAAAAAAAGlAAAAAAAAAaUAAAAAAAABpQAAAAAAAAGlAAAAAAAAAaUAAAAAAAABpQAAAAAAAAGlAAAAAAAAAaUAAAAAAAABpQAAAAAAAAGlAAAAAAAAAaUAAAAAAAABpQAAAAAAAAGlAAAAAAAAAaUAAAAAAAABpQAAAAAAAAGlAAAAAAAAAaUAAAAAAAABpQAAAAAAAAGlAAAAAAAAAaUAAAAAAAABpQAAAAAAAAGlAAAAAAAAAaUAAAAAAAABpQAAAAAAAAGlAAAAAAAAAaUAAAAAAAABpQAAAAAAAAGlAAAAAAAAAaUAAAAAAAABpQAAAAAAAAGlAAAAAAAAAaUAAAAAAAABpQAAAAAAAAGlAAAAAAAAAaUAAAAAAAABpQAAAAAAAAGlAAAAAAAAAaUAAAAAAAABpQAAAAAAAAGlAAAAAAAAAaUAAAAAAAABpQAAAAAAAAGlAAAAAAAAAaUAAAAAAAABpQAAAAAAAAGlAAAAAAAAAaUAAAAAAAABpQAAAAAAAAGlAAAAAAAAAaUAAAAAAAABpQAAAAAAAAGlAAAAAAAAAaUAAAAAAAABpQAAAAAAAAGlAAAAAAAAAaUAAAAAAAABpQAAAAAAAAGlAAAAAAAAAaUAAAAAAAABpQAAAAAAAAGlAAAAAAAAAaUAAAAAAAABpQAAAAAAAAGlAAAAAAAAAaUAAAAAAAABpQAAAAAAAAGlAAAAAAAAAaUAAAAAAAABpQAAAAAAAAGlAAAAAAAAAaUAAAAAAAABpQAAAAAAAAGlAAAAAAAAAaUAAAAAAAABpQA==\",\"dtype\":\"float64\",\"order\":\"little\",\"shape\":[77]}},\"selected\":{\"id\":\"4189\"},\"selection_policy\":{\"id\":\"4188\"}},\"id\":\"3993\",\"type\":\"ColumnDataSource\"},{\"attributes\":{},\"id\":\"3978\",\"type\":\"WheelZoomTool\"},{\"attributes\":{\"overlay\":{\"id\":\"3981\"}},\"id\":\"3979\",\"type\":\"BoxZoomTool\"},{\"attributes\":{},\"id\":\"3967\",\"type\":\"LinearScale\"},{\"attributes\":{\"line_alpha\":0.1,\"line_dash\":[2,4],\"line_width\":2,\"x\":{\"field\":\"x\"},\"y\":{\"field\":\"y\"}},\"id\":\"3995\",\"type\":\"Line\"},{\"attributes\":{},\"id\":\"3980\",\"type\":\"ResetTool\"},{\"attributes\":{\"coordinates\":null,\"data_source\":{\"id\":\"3993\"},\"glyph\":{\"id\":\"3994\"},\"group\":null,\"hover_glyph\":null,\"muted_glyph\":{\"id\":\"3996\"},\"nonselection_glyph\":{\"id\":\"3995\"},\"view\":{\"id\":\"3998\"}},\"id\":\"3997\",\"type\":\"GlyphRenderer\"},{\"attributes\":{\"line_alpha\":0.2,\"line_dash\":[2,4],\"line_width\":2,\"x\":{\"field\":\"x\"},\"y\":{\"field\":\"y\"}},\"id\":\"3996\",\"type\":\"Line\"},{\"attributes\":{\"line_dash\":[2,4],\"line_width\":2,\"x\":{\"field\":\"x\"},\"y\":{\"field\":\"y\"}},\"id\":\"3994\",\"type\":\"Line\"},{\"attributes\":{\"axis_label\":\"Time (s)\",\"coordinates\":null,\"formatter\":{\"id\":\"4184\"},\"group\":null,\"major_label_policy\":{\"id\":\"4185\"},\"ticker\":{\"id\":\"3970\"}},\"id\":\"3969\",\"type\":\"LinearAxis\"},{\"attributes\":{\"axis\":{\"id\":\"3973\"},\"coordinates\":null,\"dimension\":1,\"group\":null,\"ticker\":null},\"id\":\"3976\",\"type\":\"Grid\"},{\"attributes\":{},\"id\":\"3974\",\"type\":\"BasicTicker\"},{\"attributes\":{\"coordinates\":null,\"group\":null,\"text\":\"wing_hist_pres_0915193624\"},\"id\":\"3959\",\"type\":\"Title\"},{\"attributes\":{\"bottom_units\":\"screen\",\"coordinates\":null,\"fill_alpha\":0.5,\"fill_color\":\"lightgrey\",\"group\":null,\"left_units\":\"screen\",\"level\":\"overlay\",\"line_alpha\":1.0,\"line_color\":\"black\",\"line_dash\":[4,4],\"line_width\":2,\"right_units\":\"screen\",\"syncable\":false,\"top_units\":\"screen\"},\"id\":\"3981\",\"type\":\"BoxAnnotation\"},{\"attributes\":{\"axis\":{\"id\":\"3969\"},\"coordinates\":null,\"group\":null,\"ticker\":null},\"id\":\"3972\",\"type\":\"Grid\"},{\"attributes\":{\"source\":{\"id\":\"3993\"}},\"id\":\"3998\",\"type\":\"CDSView\"},{\"attributes\":{\"data\":{\"line_color\":[\"blue\"],\"xs\":[[0.0,3.5323021411895734,3.895646095275879,7.418209075927733,7.751615047454832,11.270732164382936,11.581190109252924,15.093575000762934,15.39932417869567,18.912904024124146,19.21991205215454,22.752650022506714,23.056727170944214,26.56752920150757,26.84890818595887,30.369903087615967,31.10430121421814,39.337860107421875,40.574911117553704,41.57631611824035,41.87916421890259,45.408085107803345,45.71229100227356,49.24658608436584,49.58944201469422,53.079275131225586,53.37078404426574,56.88845109939575,57.17726802825928,60.680692195892334,60.96526503562927,64.46411299705505,64.77121114730834,68.28591609001161,68.60975408554076,72.13123106956482,72.90675902366638,81.0697782039642,82.4354510307312,83.43904113769528,83.74419021606445,87.23646020889282,87.52569103240965,91.04397010803223,91.36222720146179,94.88916707038878,95.20577216148375,98.7632191181183,99.08723711967467,100.79204702377318,101.11034822463989,102.8184790611267,103.11063122749329,104.79871916770934,105.09759521484374,106.84513711929321,107.21502614021301,109.73717308044436,110.66584610939026,111.70135211944581,112.02097702026366,113.72798418998717,114.03151321411133,115.76015210151672,116.05603814125061,117.80963802337646,118.11054706573486,119.850182056427,120.26777911186218,122.82808709144592,124.0595440864563,125.0904130935669,125.4120831489563,127.11564016342163,127.46924901008606,129.1841320991516,129.54918909072876]],\"ys\":[[0.0,0.0,6.0,0.0,0.0,0.0,0.0,0.0,0.0,0.0,0.0,11.0,10.0,4.0,1.0,0.0,0.0,0.0,27.0,84.0,89.0,88.0,89.0,93.0,67.0,39.0,42.0,0.0,3.0,28.0,40.0,58.0,65.0,82.0,91.0,43.0,0.0,67.0,59.0,112.0,125.0,112.0,92.0,95.0,101.0,0.0,0.0,43.0,6.0,70.0,79.0,91.0,92.0,104.0,112.0,104.0,113.0,114.0,115.0,115.0,108.0,113.0,112.0,129.0,113.0,107.0,112.0,122.0,120.0,122.0,42.0,50.0,68.0,76.0,78.0,241.0,-54.0]]},\"selected\":{\"id\":\"4187\"},\"selection_policy\":{\"id\":\"4186\"}},\"id\":\"3987\",\"type\":\"ColumnDataSource\"},{\"attributes\":{},\"id\":\"4182\",\"type\":\"AllLabels\"},{\"attributes\":{\"axis_label\":\"Signal\",\"coordinates\":null,\"formatter\":{\"id\":\"4181\"},\"group\":null,\"major_label_policy\":{\"id\":\"4182\"},\"ticker\":{\"id\":\"3974\"}},\"id\":\"3973\",\"type\":\"LinearAxis\"},{\"attributes\":{},\"id\":\"4184\",\"type\":\"BasicTickFormatter\"},{\"attributes\":{},\"id\":\"3970\",\"type\":\"BasicTicker\"},{\"attributes\":{\"line_alpha\":{\"value\":0.1},\"line_color\":{\"field\":\"line_color\"},\"line_width\":{\"value\":2},\"xs\":{\"field\":\"xs\"},\"ys\":{\"field\":\"ys\"}},\"id\":\"3989\",\"type\":\"MultiLine\"},{\"attributes\":{},\"id\":\"3963\",\"type\":\"DataRange1d\"},{\"attributes\":{},\"id\":\"4181\",\"type\":\"BasicTickFormatter\"},{\"attributes\":{},\"id\":\"4187\",\"type\":\"Selection\"},{\"attributes\":{\"line_alpha\":{\"value\":0.2},\"line_color\":{\"field\":\"line_color\"},\"line_width\":{\"value\":2},\"xs\":{\"field\":\"xs\"},\"ys\":{\"field\":\"ys\"}},\"id\":\"3990\",\"type\":\"MultiLine\"},{\"attributes\":{},\"id\":\"4185\",\"type\":\"AllLabels\"},{\"attributes\":{\"line_color\":{\"field\":\"line_color\"},\"line_width\":{\"value\":2},\"xs\":{\"field\":\"xs\"},\"ys\":{\"field\":\"ys\"}},\"id\":\"3988\",\"type\":\"MultiLine\"},{\"attributes\":{},\"id\":\"4186\",\"type\":\"UnionRenderers\"},{\"attributes\":{\"coordinates\":null,\"data_source\":{\"id\":\"3987\"},\"glyph\":{\"id\":\"3988\"},\"group\":null,\"hover_glyph\":null,\"muted_glyph\":{\"id\":\"3990\"},\"nonselection_glyph\":{\"id\":\"3989\"},\"view\":{\"id\":\"3992\"}},\"id\":\"3991\",\"type\":\"GlyphRenderer\"},{\"attributes\":{},\"id\":\"3961\",\"type\":\"DataRange1d\"}],\"root_ids\":[\"3958\"]},\"title\":\"Bokeh Application\",\"version\":\"2.4.2\"}};\n",
       "  const render_items = [{\"docid\":\"19c97fff-46df-4189-a1a0-774593c5374a\",\"root_ids\":[\"3958\"],\"roots\":{\"3958\":\"3bbdcdc0-db88-448a-b0c7-b31326caede2\"}}];\n",
       "  root.Bokeh.embed.embed_items_notebook(docs_json, render_items);\n",
       "\n",
       "  }\n",
       "  if (root.Bokeh !== undefined) {\n",
       "    embed_document(root);\n",
       "  } else {\n",
       "    let attempts = 0;\n",
       "    const timer = setInterval(function(root) {\n",
       "      if (root.Bokeh !== undefined) {\n",
       "        clearInterval(timer);\n",
       "        embed_document(root);\n",
       "      } else {\n",
       "        attempts++;\n",
       "        if (attempts > 100) {\n",
       "          clearInterval(timer);\n",
       "          console.log(\"Bokeh: ERROR: Unable to run BokehJS code because BokehJS library is missing\");\n",
       "        }\n",
       "      }\n",
       "    }, 10, root)\n",
       "  }\n",
       "})(window);"
      ],
      "application/vnd.bokehjs_exec.v0+json": ""
     },
     "metadata": {
      "application/vnd.bokehjs_exec.v0+json": {
       "id": "3958"
      }
     },
     "output_type": "display_data"
    },
    {
     "data": {
      "text/html": [
       "\n",
       "\n",
       "\n",
       "\n",
       "\n",
       "\n",
       "  <div class=\"bk-root\" id=\"d002afb1-395d-4303-bacf-b6e75b3661db\" data-root-id=\"4251\"></div>\n"
      ]
     },
     "metadata": {},
     "output_type": "display_data"
    },
    {
     "data": {
      "application/javascript": [
       "(function(root) {\n",
       "  function embed_document(root) {\n",
       "    \n",
       "  const docs_json = {\"e28fa839-bc26-451e-a65d-5d7f0ce1cd14\":{\"defs\":[],\"roots\":{\"references\":[{\"attributes\":{\"below\":[{\"id\":\"4262\"}],\"center\":[{\"id\":\"4265\"},{\"id\":\"4269\"}],\"height\":300,\"left\":[{\"id\":\"4266\"}],\"renderers\":[{\"id\":\"4284\"},{\"id\":\"4290\"}],\"title\":{\"id\":\"4252\"},\"toolbar\":{\"id\":\"4275\"},\"width\":900,\"x_range\":{\"id\":\"4254\"},\"x_scale\":{\"id\":\"4258\"},\"y_range\":{\"id\":\"4256\"},\"y_scale\":{\"id\":\"4260\"}},\"id\":\"4251\",\"subtype\":\"Figure\",\"type\":\"Plot\"},{\"attributes\":{\"axis_label\":\"Time (s)\",\"coordinates\":null,\"formatter\":{\"id\":\"4489\"},\"group\":null,\"major_label_policy\":{\"id\":\"4490\"},\"ticker\":{\"id\":\"4263\"}},\"id\":\"4262\",\"type\":\"LinearAxis\"},{\"attributes\":{},\"id\":\"4260\",\"type\":\"LinearScale\"},{\"attributes\":{\"line_alpha\":0.2,\"line_dash\":[2,4],\"line_width\":2,\"x\":{\"field\":\"x\"},\"y\":{\"field\":\"y\"}},\"id\":\"4289\",\"type\":\"Line\"},{\"attributes\":{},\"id\":\"4258\",\"type\":\"LinearScale\"},{\"attributes\":{\"coordinates\":null,\"data_source\":{\"id\":\"4286\"},\"glyph\":{\"id\":\"4287\"},\"group\":null,\"hover_glyph\":null,\"muted_glyph\":{\"id\":\"4289\"},\"nonselection_glyph\":{\"id\":\"4288\"},\"view\":{\"id\":\"4291\"}},\"id\":\"4290\",\"type\":\"GlyphRenderer\"},{\"attributes\":{},\"id\":\"4491\",\"type\":\"UnionRenderers\"},{\"attributes\":{},\"id\":\"4492\",\"type\":\"Selection\"},{\"attributes\":{\"source\":{\"id\":\"4280\"}},\"id\":\"4285\",\"type\":\"CDSView\"},{\"attributes\":{\"source\":{\"id\":\"4286\"}},\"id\":\"4291\",\"type\":\"CDSView\"},{\"attributes\":{\"line_dash\":[2,4],\"line_width\":2,\"x\":{\"field\":\"x\"},\"y\":{\"field\":\"y\"}},\"id\":\"4287\",\"type\":\"Line\"},{\"attributes\":{},\"id\":\"4486\",\"type\":\"BasicTickFormatter\"},{\"attributes\":{\"coordinates\":null,\"group\":null,\"text\":\"wing_hist_pres_0915191755\"},\"id\":\"4252\",\"type\":\"Title\"},{\"attributes\":{},\"id\":\"4271\",\"type\":\"WheelZoomTool\"},{\"attributes\":{\"tools\":[{\"id\":\"4270\"},{\"id\":\"4271\"},{\"id\":\"4272\"},{\"id\":\"4273\"}]},\"id\":\"4275\",\"type\":\"Toolbar\"},{\"attributes\":{\"line_color\":{\"field\":\"line_color\"},\"line_width\":{\"value\":2},\"xs\":{\"field\":\"xs\"},\"ys\":{\"field\":\"ys\"}},\"id\":\"4281\",\"type\":\"MultiLine\"},{\"attributes\":{\"overlay\":{\"id\":\"4274\"}},\"id\":\"4272\",\"type\":\"BoxZoomTool\"},{\"attributes\":{},\"id\":\"4487\",\"type\":\"AllLabels\"},{\"attributes\":{\"data\":{\"x\":{\"__ndarray__\":\"AAAAAAAAAAAAAAAAfvgLQAAAAKBNQA5AAAAAwAk3HUAAAABgEGMeQAAAAEA6LSZAAAAAWCS+JkAAAADYj80tQP7//2eBby5AAQAAQGq3MkAAAAC4N/8yQP7//4fIgTZAAAAAjOTTNkAAAAAEEVI6QP7//4/omjpAAAAARAYaPkAAAABoMOY+QAAAAPbahkNAAAAAxqQnREABAABIk6tEQAEAADLR1ERAAAAAWvefRkD///+HYsxGQAAAAEacjkhAAQAAnoC4SEABAAD8AHhKQAEAAPxvoUpAAAAAWk9jTEACAACKfIlMQAAAADD7TU5A/v//Pbh5TkAAAADMKiJQQAAAAEsFOVBAAAAA4QwaUUAAAACk4y5RQAAAAO1ID1JA////pYA+UkD///971kdUQAAAABZSmlRA////V5DbVED///+qRO9UQAAAAMlY0FVAAAAAs7TiVUAAAADhR8dWQP7//x6/2lZA////CaS6V0AAAABhOc5XQAAAAGxAr1hA////TBTEWEAAAAB1c6dZQP///yGOu1lAAQAAPUScWkD///+mBa9aQAAAAIRokltA////deCkW0AAAAB7aoRcQAAAAPjGrlxA\",\"dtype\":\"float64\",\"order\":\"little\",\"shape\":[57]},\"y\":{\"__ndarray__\":\"AAAAAAAAaUAAAAAAAABpQAAAAAAAAGlAAAAAAAAAaUAAAAAAAABpQAAAAAAAAGlAAAAAAAAAaUAAAAAAAABpQAAAAAAAAGlAAAAAAAAAaUAAAAAAAABpQAAAAAAAAGlAAAAAAAAAaUAAAAAAAABpQAAAAAAAAGlAAAAAAAAAaUAAAAAAAABpQAAAAAAAAGlAAAAAAAAAaUAAAAAAAABpQAAAAAAAAGlAAAAAAAAAaUAAAAAAAABpQAAAAAAAAGlAAAAAAAAAaUAAAAAAAABpQAAAAAAAAGlAAAAAAAAAaUAAAAAAAABpQAAAAAAAAGlAAAAAAAAAaUAAAAAAAABpQAAAAAAAAGlAAAAAAAAAaUAAAAAAAABpQAAAAAAAAGlAAAAAAAAAaUAAAAAAAABpQAAAAAAAAGlAAAAAAAAAaUAAAAAAAABpQAAAAAAAAGlAAAAAAAAAaUAAAAAAAABpQAAAAAAAAGlAAAAAAAAAaUAAAAAAAABpQAAAAAAAAGlAAAAAAAAAaUAAAAAAAABpQAAAAAAAAGlAAAAAAAAAaUAAAAAAAABpQAAAAAAAAGlAAAAAAAAAaUAAAAAAAABpQAAAAAAAAGlA\",\"dtype\":\"float64\",\"order\":\"little\",\"shape\":[57]}},\"selected\":{\"id\":\"4494\"},\"selection_policy\":{\"id\":\"4493\"}},\"id\":\"4286\",\"type\":\"ColumnDataSource\"},{\"attributes\":{},\"id\":\"4493\",\"type\":\"UnionRenderers\"},{\"attributes\":{},\"id\":\"4270\",\"type\":\"PanTool\"},{\"attributes\":{\"bottom_units\":\"screen\",\"coordinates\":null,\"fill_alpha\":0.5,\"fill_color\":\"lightgrey\",\"group\":null,\"left_units\":\"screen\",\"level\":\"overlay\",\"line_alpha\":1.0,\"line_color\":\"black\",\"line_dash\":[4,4],\"line_width\":2,\"right_units\":\"screen\",\"syncable\":false,\"top_units\":\"screen\"},\"id\":\"4274\",\"type\":\"BoxAnnotation\"},{\"attributes\":{},\"id\":\"4494\",\"type\":\"Selection\"},{\"attributes\":{\"line_alpha\":0.1,\"line_dash\":[2,4],\"line_width\":2,\"x\":{\"field\":\"x\"},\"y\":{\"field\":\"y\"}},\"id\":\"4288\",\"type\":\"Line\"},{\"attributes\":{},\"id\":\"4273\",\"type\":\"ResetTool\"},{\"attributes\":{},\"id\":\"4254\",\"type\":\"DataRange1d\"},{\"attributes\":{\"coordinates\":null,\"data_source\":{\"id\":\"4280\"},\"glyph\":{\"id\":\"4281\"},\"group\":null,\"hover_glyph\":null,\"muted_glyph\":{\"id\":\"4283\"},\"nonselection_glyph\":{\"id\":\"4282\"},\"view\":{\"id\":\"4285\"}},\"id\":\"4284\",\"type\":\"GlyphRenderer\"},{\"attributes\":{},\"id\":\"4256\",\"type\":\"DataRange1d\"},{\"attributes\":{},\"id\":\"4267\",\"type\":\"BasicTicker\"},{\"attributes\":{},\"id\":\"4489\",\"type\":\"BasicTickFormatter\"},{\"attributes\":{\"axis_label\":\"Signal\",\"coordinates\":null,\"formatter\":{\"id\":\"4486\"},\"group\":null,\"major_label_policy\":{\"id\":\"4487\"},\"ticker\":{\"id\":\"4267\"}},\"id\":\"4266\",\"type\":\"LinearAxis\"},{\"attributes\":{},\"id\":\"4490\",\"type\":\"AllLabels\"},{\"attributes\":{\"axis\":{\"id\":\"4262\"},\"coordinates\":null,\"group\":null,\"ticker\":null},\"id\":\"4265\",\"type\":\"Grid\"},{\"attributes\":{\"line_alpha\":{\"value\":0.2},\"line_color\":{\"field\":\"line_color\"},\"line_width\":{\"value\":2},\"xs\":{\"field\":\"xs\"},\"ys\":{\"field\":\"ys\"}},\"id\":\"4283\",\"type\":\"MultiLine\"},{\"attributes\":{\"data\":{\"line_color\":[\"blue\"],\"xs\":[[0.0,3.4963340759277344,3.781398057937622,7.30374813079834,7.596742153167725,11.088335037231445,11.371371030807495,14.901488065719604,15.217784166336056,18.716464996337894,18.996943950653076,22.506966114044182,22.82770609855652,26.32057213783264,26.60511112213134,30.10165810585022,30.899176120758057,39.05355715751648,40.30971598625183,41.34043216705323,41.66263413429261,45.249736070632935,45.59675693511962,49.11414408683777,49.441425085067756,52.937530040740974,53.26122999191285,56.775859117507935,57.07411313056947,60.60922813415527,60.95093512535094,64.53386211395264,64.89094805717468,68.4070360660553,68.73264408111572,72.23882603645325,72.97660207748412,81.1224660873413,82.41126012802124,83.43068504333495,83.73856616020201,87.2554190158844,87.54227900505066,91.11376214027405,91.41791510581967,94.91626214981078,95.22225213050842,98.73830699920654,99.06373906135558,102.6164219379425,102.93055009841918,106.44166493415834,106.73471999168395,110.28762912750244,110.57620000839232,114.06899905204773,114.73089408874512]],\"ys\":[[66.0,64.0,66.0,90.0,87.0,88.0,89.0,98.0,101.0,97.0,100.0,111.0,112.0,117.0,119.0,97.0,111.0,98.0,110.0,165.0,178.0,122.0,135.0,127.0,124.0,129.0,136.0,134.0,137.0,138.0,137.0,145.0,146.0,152.0,158.0,120.0,168.0,85.0,126.0,174.0,177.0,139.0,145.0,162.0,161.0,161.0,163.0,151.0,153.0,144.0,144.0,143.0,158.0,94.0,138.0,314.0,0.0]]},\"selected\":{\"id\":\"4492\"},\"selection_policy\":{\"id\":\"4491\"}},\"id\":\"4280\",\"type\":\"ColumnDataSource\"},{\"attributes\":{\"line_alpha\":{\"value\":0.1},\"line_color\":{\"field\":\"line_color\"},\"line_width\":{\"value\":2},\"xs\":{\"field\":\"xs\"},\"ys\":{\"field\":\"ys\"}},\"id\":\"4282\",\"type\":\"MultiLine\"},{\"attributes\":{},\"id\":\"4263\",\"type\":\"BasicTicker\"},{\"attributes\":{\"axis\":{\"id\":\"4266\"},\"coordinates\":null,\"dimension\":1,\"group\":null,\"ticker\":null},\"id\":\"4269\",\"type\":\"Grid\"}],\"root_ids\":[\"4251\"]},\"title\":\"Bokeh Application\",\"version\":\"2.4.2\"}};\n",
       "  const render_items = [{\"docid\":\"e28fa839-bc26-451e-a65d-5d7f0ce1cd14\",\"root_ids\":[\"4251\"],\"roots\":{\"4251\":\"d002afb1-395d-4303-bacf-b6e75b3661db\"}}];\n",
       "  root.Bokeh.embed.embed_items_notebook(docs_json, render_items);\n",
       "\n",
       "  }\n",
       "  if (root.Bokeh !== undefined) {\n",
       "    embed_document(root);\n",
       "  } else {\n",
       "    let attempts = 0;\n",
       "    const timer = setInterval(function(root) {\n",
       "      if (root.Bokeh !== undefined) {\n",
       "        clearInterval(timer);\n",
       "        embed_document(root);\n",
       "      } else {\n",
       "        attempts++;\n",
       "        if (attempts > 100) {\n",
       "          clearInterval(timer);\n",
       "          console.log(\"Bokeh: ERROR: Unable to run BokehJS code because BokehJS library is missing\");\n",
       "        }\n",
       "      }\n",
       "    }, 10, root)\n",
       "  }\n",
       "})(window);"
      ],
      "application/vnd.bokehjs_exec.v0+json": ""
     },
     "metadata": {
      "application/vnd.bokehjs_exec.v0+json": {
       "id": "4251"
      }
     },
     "output_type": "display_data"
    },
    {
     "name": "stdout",
     "output_type": "stream",
     "text": [
      "wing_hist_pres_0914221649.csv contains fewer than 10 data points\n"
     ]
    },
    {
     "data": {
      "text/html": [
       "\n",
       "\n",
       "\n",
       "\n",
       "\n",
       "\n",
       "  <div class=\"bk-root\" id=\"c86d3a34-c909-4c8f-8462-0601426dc7d8\" data-root-id=\"4556\"></div>\n"
      ]
     },
     "metadata": {},
     "output_type": "display_data"
    },
    {
     "data": {
      "application/javascript": [
       "(function(root) {\n",
       "  function embed_document(root) {\n",
       "    \n",
       "  const docs_json = {\"d5d2af6a-6058-49c9-b450-18338ed151b9\":{\"defs\":[],\"roots\":{\"references\":[{\"attributes\":{\"below\":[{\"id\":\"4567\"}],\"center\":[{\"id\":\"4570\"},{\"id\":\"4574\"}],\"height\":300,\"left\":[{\"id\":\"4571\"}],\"renderers\":[{\"id\":\"4589\"},{\"id\":\"4595\"}],\"title\":{\"id\":\"4557\"},\"toolbar\":{\"id\":\"4580\"},\"width\":900,\"x_range\":{\"id\":\"4559\"},\"x_scale\":{\"id\":\"4563\"},\"y_range\":{\"id\":\"4561\"},\"y_scale\":{\"id\":\"4565\"}},\"id\":\"4556\",\"subtype\":\"Figure\",\"type\":\"Plot\"},{\"attributes\":{},\"id\":\"4804\",\"type\":\"AllLabels\"},{\"attributes\":{\"bottom_units\":\"screen\",\"coordinates\":null,\"fill_alpha\":0.5,\"fill_color\":\"lightgrey\",\"group\":null,\"left_units\":\"screen\",\"level\":\"overlay\",\"line_alpha\":1.0,\"line_color\":\"black\",\"line_dash\":[4,4],\"line_width\":2,\"right_units\":\"screen\",\"syncable\":false,\"top_units\":\"screen\"},\"id\":\"4579\",\"type\":\"BoxAnnotation\"},{\"attributes\":{\"line_alpha\":{\"value\":0.2},\"line_color\":{\"field\":\"line_color\"},\"line_width\":{\"value\":2},\"xs\":{\"field\":\"xs\"},\"ys\":{\"field\":\"ys\"}},\"id\":\"4588\",\"type\":\"MultiLine\"},{\"attributes\":{},\"id\":\"4809\",\"type\":\"Selection\"},{\"attributes\":{},\"id\":\"4572\",\"type\":\"BasicTicker\"},{\"attributes\":{},\"id\":\"4808\",\"type\":\"UnionRenderers\"},{\"attributes\":{},\"id\":\"4810\",\"type\":\"UnionRenderers\"},{\"attributes\":{\"axis_label\":\"Signal\",\"coordinates\":null,\"formatter\":{\"id\":\"4803\"},\"group\":null,\"major_label_policy\":{\"id\":\"4804\"},\"ticker\":{\"id\":\"4572\"}},\"id\":\"4571\",\"type\":\"LinearAxis\"},{\"attributes\":{},\"id\":\"4807\",\"type\":\"AllLabels\"},{\"attributes\":{},\"id\":\"4811\",\"type\":\"Selection\"},{\"attributes\":{\"axis\":{\"id\":\"4567\"},\"coordinates\":null,\"group\":null,\"ticker\":null},\"id\":\"4570\",\"type\":\"Grid\"},{\"attributes\":{\"coordinates\":null,\"data_source\":{\"id\":\"4585\"},\"glyph\":{\"id\":\"4586\"},\"group\":null,\"hover_glyph\":null,\"muted_glyph\":{\"id\":\"4588\"},\"nonselection_glyph\":{\"id\":\"4587\"},\"view\":{\"id\":\"4590\"}},\"id\":\"4589\",\"type\":\"GlyphRenderer\"},{\"attributes\":{},\"id\":\"4568\",\"type\":\"BasicTicker\"},{\"attributes\":{\"axis\":{\"id\":\"4571\"},\"coordinates\":null,\"dimension\":1,\"group\":null,\"ticker\":null},\"id\":\"4574\",\"type\":\"Grid\"},{\"attributes\":{\"line_alpha\":{\"value\":0.1},\"line_color\":{\"field\":\"line_color\"},\"line_width\":{\"value\":2},\"xs\":{\"field\":\"xs\"},\"ys\":{\"field\":\"ys\"}},\"id\":\"4587\",\"type\":\"MultiLine\"},{\"attributes\":{\"axis_label\":\"Time (s)\",\"coordinates\":null,\"formatter\":{\"id\":\"4806\"},\"group\":null,\"major_label_policy\":{\"id\":\"4807\"},\"ticker\":{\"id\":\"4568\"}},\"id\":\"4567\",\"type\":\"LinearAxis\"},{\"attributes\":{\"source\":{\"id\":\"4585\"}},\"id\":\"4590\",\"type\":\"CDSView\"},{\"attributes\":{},\"id\":\"4565\",\"type\":\"LinearScale\"},{\"attributes\":{},\"id\":\"4806\",\"type\":\"BasicTickFormatter\"},{\"attributes\":{},\"id\":\"4563\",\"type\":\"LinearScale\"},{\"attributes\":{\"data\":{\"x\":{\"__ndarray__\":\"AAAAAAAAAAAAAACg62kMQAAAAICqkQ1A/P//f6P9HED+//+f9ZAdQAAAADgr4yVAAAAA4NMsJkAAAAAgQ0ctQAAAAFD0kC1AAQAAOO1VMkD///+jyHoyQAAAAPxwCDZAAQAAuEEtNkAAAADI2Lk5QAIAAFQNTzpA////p929QEAAAAAAiolBQAAAACL+G0JAAAAAPkUuQkD///+D+vRDQP///9tlB0RAAAAASP/NRUABAACcaeBFQAAAAOIFp0dAAQAACHG5R0D///+f/H9JQAEAABKmkklA////Zx9ZS0AAAADsiGtLQP7//68AMk1AAAAAGnBETUAAAACU/gpPQAAAADbPVU9AAAAAbxJ1UUD///+wwdpRQP///wz/I1JA////QzMtUkD///9wjhBTQAAAAMbEGVNA////Zg39U0ABAAB0RAZUQAAAAFqC6VRA////wMTyVED///9IE9ZVQAAAAKZG31VA////AZ/CVkACAAAC1ctWQAEAAPkxr1dA/v//SXu4V0D///9F0ptYQAEAAK3bwVhAAAAAX2OPWkD///9aefZaQP///9y0P1tAAAAAIt9IW0D///+QKSxcQAAAAM5tNVxA////LecYXUAAAAB8KyJdQP////SGBV5A////S8IOXkD+//8KKvJeQAAAAOlg+15AAAAAcsDeX0AAAACHGehfQAAAAKTFZWBAAACABm9qYEABAIBTH9xgQAAAAEXK7mBAAACAx7nTYUD//3+wDQdiQAEAgG6xK2JAAACA7kswYkD///8s+qFiQAAAAJaUpmJA////1EAYY0AAAABR3BxjQAAAAIaBjmNAAACA8xqTY0AAAIDOwgRkQAAAANRjCWRA////XRJ7ZEAAAIAXtn9kQP///xhy8WRAAACAtAz2ZEAAAACUwGdlQAAAAPxUemVAAQCA+UlfZkAAAIBfMZJmQAAAgIXNtmZA//9/mWK7ZkD//3/Kd/NmQP///+MR+GZA/v9/iCgwZ0AAAAC3wjRnQP///yrdbGdAAQAAen1xZ0D///+ikalnQP///442rmdA//9/xE3mZ0D//39F7+pnQAAAAEr9ImhAAgAA8bspaEA=\",\"dtype\":\"float64\",\"order\":\"little\",\"shape\":[103]},\"y\":{\"__ndarray__\":\"AAAAAAAAaUAAAAAAAABpQAAAAAAAAGlAAAAAAAAAaUAAAAAAAABpQAAAAAAAAGlAAAAAAAAAaUAAAAAAAABpQAAAAAAAAGlAAAAAAAAAaUAAAAAAAABpQAAAAAAAAGlAAAAAAAAAaUAAAAAAAABpQAAAAAAAAGlAAAAAAAAAaUAAAAAAAABpQAAAAAAAAGlAAAAAAAAAaUAAAAAAAABpQAAAAAAAAGlAAAAAAAAAaUAAAAAAAABpQAAAAAAAAGlAAAAAAAAAaUAAAAAAAABpQAAAAAAAAGlAAAAAAAAAaUAAAAAAAABpQAAAAAAAAGlAAAAAAAAAaUAAAAAAAABpQAAAAAAAAGlAAAAAAAAAaUAAAAAAAABpQAAAAAAAAGlAAAAAAAAAaUAAAAAAAABpQAAAAAAAAGlAAAAAAAAAaUAAAAAAAABpQAAAAAAAAGlAAAAAAAAAaUAAAAAAAABpQAAAAAAAAGlAAAAAAAAAaUAAAAAAAABpQAAAAAAAAGlAAAAAAAAAaUAAAAAAAABpQAAAAAAAAGlAAAAAAAAAaUAAAAAAAABpQAAAAAAAAGlAAAAAAAAAaUAAAAAAAABpQAAAAAAAAGlAAAAAAAAAaUAAAAAAAABpQAAAAAAAAGlAAAAAAAAAaUAAAAAAAABpQAAAAAAAAGlAAAAAAAAAaUAAAAAAAABpQAAAAAAAAGlAAAAAAAAAaUAAAAAAAABpQAAAAAAAAGlAAAAAAAAAaUAAAAAAAABpQAAAAAAAAGlAAAAAAAAAaUAAAAAAAABpQAAAAAAAAGlAAAAAAAAAaUAAAAAAAABpQAAAAAAAAGlAAAAAAAAAaUAAAAAAAABpQAAAAAAAAGlAAAAAAAAAaUAAAAAAAABpQAAAAAAAAGlAAAAAAAAAaUAAAAAAAABpQAAAAAAAAGlAAAAAAAAAaUAAAAAAAABpQAAAAAAAAGlAAAAAAAAAaUAAAAAAAABpQAAAAAAAAGlAAAAAAAAAaUAAAAAAAABpQAAAAAAAAGlAAAAAAAAAaUAAAAAAAABpQAAAAAAAAGlAAAAAAAAAaUAAAAAAAABpQAAAAAAAAGlAAAAAAAAAaUA=\",\"dtype\":\"float64\",\"order\":\"little\",\"shape\":[103]}},\"selected\":{\"id\":\"4811\"},\"selection_policy\":{\"id\":\"4810\"}},\"id\":\"4591\",\"type\":\"ColumnDataSource\"},{\"attributes\":{},\"id\":\"4559\",\"type\":\"DataRange1d\"},{\"attributes\":{\"data\":{\"line_color\":[\"blue\"],\"xs\":[[0.0,3.5517189502716064,3.6961259841918945,7.247694015502926,7.391561985015867,10.943689107894897,11.087553977966309,14.63918399810791,14.783113956451416,18.335650920867923,18.47962403297424,22.032974004745483,22.176784038543705,25.725964069366455,26.30879712104798,33.48332691192626,35.07452392578125,36.218693017959595,36.36148810386658,39.913895130157464,40.05779600143432,43.60935306549072,43.7532229423523,47.30486702919006,47.44876194000245,50.99989700317382,51.14569306373597,54.69627094268798,54.840116024017334,58.39064598083495,58.53467106819153,62.0858941078186,62.67038607597351,69.82925009727478,71.41807198524474,72.56244206428526,72.70625400543211,76.25869393348692,76.40263509750366,79.95394301414488,80.09792804718019,83.64858102798462,83.79325890541075,87.34492707252501,87.48868703842163,91.0409550666809,91.18487596511844,94.73742508888246,94.88252496719358,98.43470907211302,99.02903294563295,106.24044013023376,107.85115694999693,108.99541401863097,109.13861894607544,112.6900370121002,112.83482694625854,116.38911008834837,116.53390407562256,120.08636212348937,120.2306089401245,123.78381609916684,123.92778992652893,127.48049592971802,127.62655806541443,131.18037605285645,131.32605290412903,134.87882399559024,135.46219110488892,142.61642813682556,144.2204210758209,145.3654091358185,145.50926899909973,149.0617890357971,149.20563793182373,152.75791406631467,152.90189409255981,156.4533109664917,156.59703993797302,160.14878010749817,160.29343605041504,163.84599208831784,163.99097800254822,167.54517793655393,167.68905091285706,171.2422580718994,171.82287406921387,178.9777801036835,180.5685269832611,181.71258807182312,181.85578608512876,183.608372926712,183.75218391418454,185.50494790077204,185.64876890182495,187.40199804306027,187.54656696319583,189.29902791976926,189.4441599845886,191.19699311256406,191.34170794486997,193.0934190750122,193.30419206619268]],\"ys\":[[8.0,7.0,15.0,11.0,21.0,45.0,65.0,21.0,48.0,37.0,35.0,1.0,0.0,0.0,0.0,0.0,2.0,0.0,0.0,0.0,1.0,0.0,1.0,1.0,17.0,0.0,1.0,5.0,19.0,5.0,5.0,8.0,5.0,23.0,12.0,18.0,25.0,16.0,22.0,17.0,48.0,16.0,25.0,39.0,49.0,23.0,23.0,8.0,23.0,24.0,38.0,69.0,69.0,72.0,71.0,76.0,76.0,40.0,51.0,30.0,74.0,23.0,65.0,75.0,75.0,0.0,2.0,1.0,1.0,22.0,16.0,11.0,49.0,38.0,33.0,75.0,75.0,74.0,74.0,0.0,16.0,74.0,74.0,7.0,0.0,15.0,0.0,11.0,33.0,61.0,66.0,80.0,80.0,91.0,91.0,86.0,92.0,89.0,97.0,105.0,104.0,406.0,406.0]]},\"selected\":{\"id\":\"4809\"},\"selection_policy\":{\"id\":\"4808\"}},\"id\":\"4585\",\"type\":\"ColumnDataSource\"},{\"attributes\":{\"line_alpha\":0.1,\"line_dash\":[2,4],\"line_width\":2,\"x\":{\"field\":\"x\"},\"y\":{\"field\":\"y\"}},\"id\":\"4593\",\"type\":\"Line\"},{\"attributes\":{},\"id\":\"4803\",\"type\":\"BasicTickFormatter\"},{\"attributes\":{\"line_color\":{\"field\":\"line_color\"},\"line_width\":{\"value\":2},\"xs\":{\"field\":\"xs\"},\"ys\":{\"field\":\"ys\"}},\"id\":\"4586\",\"type\":\"MultiLine\"},{\"attributes\":{\"coordinates\":null,\"data_source\":{\"id\":\"4591\"},\"glyph\":{\"id\":\"4592\"},\"group\":null,\"hover_glyph\":null,\"muted_glyph\":{\"id\":\"4594\"},\"nonselection_glyph\":{\"id\":\"4593\"},\"view\":{\"id\":\"4596\"}},\"id\":\"4595\",\"type\":\"GlyphRenderer\"},{\"attributes\":{\"coordinates\":null,\"group\":null,\"text\":\"wing_hist_pres_0914230817\"},\"id\":\"4557\",\"type\":\"Title\"},{\"attributes\":{},\"id\":\"4575\",\"type\":\"PanTool\"},{\"attributes\":{\"line_alpha\":0.2,\"line_dash\":[2,4],\"line_width\":2,\"x\":{\"field\":\"x\"},\"y\":{\"field\":\"y\"}},\"id\":\"4594\",\"type\":\"Line\"},{\"attributes\":{\"line_dash\":[2,4],\"line_width\":2,\"x\":{\"field\":\"x\"},\"y\":{\"field\":\"y\"}},\"id\":\"4592\",\"type\":\"Line\"},{\"attributes\":{},\"id\":\"4576\",\"type\":\"WheelZoomTool\"},{\"attributes\":{},\"id\":\"4561\",\"type\":\"DataRange1d\"},{\"attributes\":{\"tools\":[{\"id\":\"4575\"},{\"id\":\"4576\"},{\"id\":\"4577\"},{\"id\":\"4578\"}]},\"id\":\"4580\",\"type\":\"Toolbar\"},{\"attributes\":{\"source\":{\"id\":\"4591\"}},\"id\":\"4596\",\"type\":\"CDSView\"},{\"attributes\":{\"overlay\":{\"id\":\"4579\"}},\"id\":\"4577\",\"type\":\"BoxZoomTool\"},{\"attributes\":{},\"id\":\"4578\",\"type\":\"ResetTool\"}],\"root_ids\":[\"4556\"]},\"title\":\"Bokeh Application\",\"version\":\"2.4.2\"}};\n",
       "  const render_items = [{\"docid\":\"d5d2af6a-6058-49c9-b450-18338ed151b9\",\"root_ids\":[\"4556\"],\"roots\":{\"4556\":\"c86d3a34-c909-4c8f-8462-0601426dc7d8\"}}];\n",
       "  root.Bokeh.embed.embed_items_notebook(docs_json, render_items);\n",
       "\n",
       "  }\n",
       "  if (root.Bokeh !== undefined) {\n",
       "    embed_document(root);\n",
       "  } else {\n",
       "    let attempts = 0;\n",
       "    const timer = setInterval(function(root) {\n",
       "      if (root.Bokeh !== undefined) {\n",
       "        clearInterval(timer);\n",
       "        embed_document(root);\n",
       "      } else {\n",
       "        attempts++;\n",
       "        if (attempts > 100) {\n",
       "          clearInterval(timer);\n",
       "          console.log(\"Bokeh: ERROR: Unable to run BokehJS code because BokehJS library is missing\");\n",
       "        }\n",
       "      }\n",
       "    }, 10, root)\n",
       "  }\n",
       "})(window);"
      ],
      "application/vnd.bokehjs_exec.v0+json": ""
     },
     "metadata": {
      "application/vnd.bokehjs_exec.v0+json": {
       "id": "4556"
      }
     },
     "output_type": "display_data"
    },
    {
     "name": "stdout",
     "output_type": "stream",
     "text": [
      "wing_hist_pres_0915144816.csv contains fewer than 10 data points\n",
      "wing_hist_pres_0914231856.csv contains fewer than 10 data points\n",
      "wing_hist_pres_0914232914.csv contains fewer than 10 data points\n"
     ]
    },
    {
     "data": {
      "text/html": [
       "\n",
       "\n",
       "\n",
       "\n",
       "\n",
       "\n",
       "  <div class=\"bk-root\" id=\"36aece29-5d69-48b3-b21f-368c1e714eb6\" data-root-id=\"4873\"></div>\n"
      ]
     },
     "metadata": {},
     "output_type": "display_data"
    },
    {
     "data": {
      "application/javascript": [
       "(function(root) {\n",
       "  function embed_document(root) {\n",
       "    \n",
       "  const docs_json = {\"c685758f-e0b3-4335-8be4-a24adc721fbf\":{\"defs\":[],\"roots\":{\"references\":[{\"attributes\":{\"below\":[{\"id\":\"4884\"}],\"center\":[{\"id\":\"4887\"},{\"id\":\"4891\"}],\"height\":300,\"left\":[{\"id\":\"4888\"}],\"renderers\":[{\"id\":\"4906\"},{\"id\":\"4912\"}],\"title\":{\"id\":\"4874\"},\"toolbar\":{\"id\":\"4897\"},\"width\":900,\"x_range\":{\"id\":\"4876\"},\"x_scale\":{\"id\":\"4880\"},\"y_range\":{\"id\":\"4878\"},\"y_scale\":{\"id\":\"4882\"}},\"id\":\"4873\",\"subtype\":\"Figure\",\"type\":\"Plot\"},{\"attributes\":{\"source\":{\"id\":\"4902\"}},\"id\":\"4907\",\"type\":\"CDSView\"},{\"attributes\":{},\"id\":\"5138\",\"type\":\"Selection\"},{\"attributes\":{},\"id\":\"4892\",\"type\":\"PanTool\"},{\"attributes\":{},\"id\":\"5139\",\"type\":\"UnionRenderers\"},{\"attributes\":{},\"id\":\"4893\",\"type\":\"WheelZoomTool\"},{\"attributes\":{\"data\":{\"x\":{\"__ndarray__\":\"AAAAAAAAAAD6//8fo3EMQP7//7/Wmg1A/////+gCHUD9//8vSpcdQAAAAMj95SVAAAAAIKcvJkD+//+3hkktQAAAAGAnky1AAAAAZLdWMkAAAAAsjXsyQAAAABB7CDZAAAAANHYtNkAAAAB0u7o5QP///6uWTzpAAAAAoq69QEAAAABIKIlBQAAAAJibG0JAAAAA/PotQkABAACgufRDQAAAANCtP0RA\",\"dtype\":\"float64\",\"order\":\"little\",\"shape\":[21]},\"y\":{\"__ndarray__\":\"AAAAAAAAaUAAAAAAAABpQAAAAAAAAGlAAAAAAAAAaUAAAAAAAABpQAAAAAAAAGlAAAAAAAAAaUAAAAAAAABpQAAAAAAAAGlAAAAAAAAAaUAAAAAAAABpQAAAAAAAAGlAAAAAAAAAaUAAAAAAAABpQAAAAAAAAGlAAAAAAAAAaUAAAAAAAABpQAAAAAAAAGlAAAAAAAAAaUAAAAAAAABpQAAAAAAAAGlA\",\"dtype\":\"float64\",\"order\":\"little\",\"shape\":[21]}},\"selected\":{\"id\":\"5140\"},\"selection_policy\":{\"id\":\"5139\"}},\"id\":\"4908\",\"type\":\"ColumnDataSource\"},{\"attributes\":{\"overlay\":{\"id\":\"4896\"}},\"id\":\"4894\",\"type\":\"BoxZoomTool\"},{\"attributes\":{},\"id\":\"5140\",\"type\":\"Selection\"},{\"attributes\":{\"line_alpha\":0.1,\"line_dash\":[2,4],\"line_width\":2,\"x\":{\"field\":\"x\"},\"y\":{\"field\":\"y\"}},\"id\":\"4910\",\"type\":\"Line\"},{\"attributes\":{},\"id\":\"4895\",\"type\":\"ResetTool\"},{\"attributes\":{\"coordinates\":null,\"data_source\":{\"id\":\"4908\"},\"glyph\":{\"id\":\"4909\"},\"group\":null,\"hover_glyph\":null,\"muted_glyph\":{\"id\":\"4911\"},\"nonselection_glyph\":{\"id\":\"4910\"},\"view\":{\"id\":\"4913\"}},\"id\":\"4912\",\"type\":\"GlyphRenderer\"},{\"attributes\":{\"tools\":[{\"id\":\"4892\"},{\"id\":\"4893\"},{\"id\":\"4894\"},{\"id\":\"4895\"}]},\"id\":\"4897\",\"type\":\"Toolbar\"},{\"attributes\":{\"axis_label\":\"Signal\",\"coordinates\":null,\"formatter\":{\"id\":\"5132\"},\"group\":null,\"major_label_policy\":{\"id\":\"5133\"},\"ticker\":{\"id\":\"4889\"}},\"id\":\"4888\",\"type\":\"LinearAxis\"},{\"attributes\":{\"line_alpha\":0.2,\"line_dash\":[2,4],\"line_width\":2,\"x\":{\"field\":\"x\"},\"y\":{\"field\":\"y\"}},\"id\":\"4911\",\"type\":\"Line\"},{\"attributes\":{\"line_dash\":[2,4],\"line_width\":2,\"x\":{\"field\":\"x\"},\"y\":{\"field\":\"y\"}},\"id\":\"4909\",\"type\":\"Line\"},{\"attributes\":{\"bottom_units\":\"screen\",\"coordinates\":null,\"fill_alpha\":0.5,\"fill_color\":\"lightgrey\",\"group\":null,\"left_units\":\"screen\",\"level\":\"overlay\",\"line_alpha\":1.0,\"line_color\":\"black\",\"line_dash\":[4,4],\"line_width\":2,\"right_units\":\"screen\",\"syncable\":false,\"top_units\":\"screen\"},\"id\":\"4896\",\"type\":\"BoxAnnotation\"},{\"attributes\":{\"axis\":{\"id\":\"4884\"},\"coordinates\":null,\"group\":null,\"ticker\":null},\"id\":\"4887\",\"type\":\"Grid\"},{\"attributes\":{\"line_color\":{\"field\":\"line_color\"},\"line_width\":{\"value\":2},\"xs\":{\"field\":\"xs\"},\"ys\":{\"field\":\"ys\"}},\"id\":\"4903\",\"type\":\"MultiLine\"},{\"attributes\":{\"source\":{\"id\":\"4908\"}},\"id\":\"4913\",\"type\":\"CDSView\"},{\"attributes\":{},\"id\":\"4889\",\"type\":\"BasicTicker\"},{\"attributes\":{},\"id\":\"4878\",\"type\":\"DataRange1d\"},{\"attributes\":{\"axis_label\":\"Time (s)\",\"coordinates\":null,\"formatter\":{\"id\":\"5135\"},\"group\":null,\"major_label_policy\":{\"id\":\"5136\"},\"ticker\":{\"id\":\"4885\"}},\"id\":\"4884\",\"type\":\"LinearAxis\"},{\"attributes\":{},\"id\":\"5132\",\"type\":\"BasicTickFormatter\"},{\"attributes\":{},\"id\":\"4885\",\"type\":\"BasicTicker\"},{\"attributes\":{},\"id\":\"4876\",\"type\":\"DataRange1d\"},{\"attributes\":{\"axis\":{\"id\":\"4888\"},\"coordinates\":null,\"dimension\":1,\"group\":null,\"ticker\":null},\"id\":\"4891\",\"type\":\"Grid\"},{\"attributes\":{\"data\":{\"line_color\":[\"blue\"],\"xs\":[[0.0,3.555486917495725,3.7006049156188956,7.25284194946289,7.397743940353391,10.949201822280884,11.093071937561035,14.643605947494503,14.787409782409668,18.338735818862915,18.482622861862183,22.033127784729004,22.177584886550903,25.72942280769348,26.310892820358273,33.48189187049866,35.07154178619385,36.21568584442139,36.35922193527222,39.91191482543946,40.49749183654785]],\"ys\":[[8.0,47.0,44.0,26.0,38.0,26.0,38.0,-45.0,-14.0,-3.0,-1.0,-34.0,-33.0,18.0,-63.0,25.0,43.0,35.0,46.0,168.0,169.0]]},\"selected\":{\"id\":\"5138\"},\"selection_policy\":{\"id\":\"5137\"}},\"id\":\"4902\",\"type\":\"ColumnDataSource\"},{\"attributes\":{},\"id\":\"4882\",\"type\":\"LinearScale\"},{\"attributes\":{},\"id\":\"5133\",\"type\":\"AllLabels\"},{\"attributes\":{\"coordinates\":null,\"data_source\":{\"id\":\"4902\"},\"glyph\":{\"id\":\"4903\"},\"group\":null,\"hover_glyph\":null,\"muted_glyph\":{\"id\":\"4905\"},\"nonselection_glyph\":{\"id\":\"4904\"},\"view\":{\"id\":\"4907\"}},\"id\":\"4906\",\"type\":\"GlyphRenderer\"},{\"attributes\":{},\"id\":\"5135\",\"type\":\"BasicTickFormatter\"},{\"attributes\":{\"coordinates\":null,\"group\":null,\"text\":\"wing_hist_force_0914221951\"},\"id\":\"4874\",\"type\":\"Title\"},{\"attributes\":{\"line_alpha\":{\"value\":0.2},\"line_color\":{\"field\":\"line_color\"},\"line_width\":{\"value\":2},\"xs\":{\"field\":\"xs\"},\"ys\":{\"field\":\"ys\"}},\"id\":\"4905\",\"type\":\"MultiLine\"},{\"attributes\":{},\"id\":\"4880\",\"type\":\"LinearScale\"},{\"attributes\":{},\"id\":\"5137\",\"type\":\"UnionRenderers\"},{\"attributes\":{},\"id\":\"5136\",\"type\":\"AllLabels\"},{\"attributes\":{\"line_alpha\":{\"value\":0.1},\"line_color\":{\"field\":\"line_color\"},\"line_width\":{\"value\":2},\"xs\":{\"field\":\"xs\"},\"ys\":{\"field\":\"ys\"}},\"id\":\"4904\",\"type\":\"MultiLine\"}],\"root_ids\":[\"4873\"]},\"title\":\"Bokeh Application\",\"version\":\"2.4.2\"}};\n",
       "  const render_items = [{\"docid\":\"c685758f-e0b3-4335-8be4-a24adc721fbf\",\"root_ids\":[\"4873\"],\"roots\":{\"4873\":\"36aece29-5d69-48b3-b21f-368c1e714eb6\"}}];\n",
       "  root.Bokeh.embed.embed_items_notebook(docs_json, render_items);\n",
       "\n",
       "  }\n",
       "  if (root.Bokeh !== undefined) {\n",
       "    embed_document(root);\n",
       "  } else {\n",
       "    let attempts = 0;\n",
       "    const timer = setInterval(function(root) {\n",
       "      if (root.Bokeh !== undefined) {\n",
       "        clearInterval(timer);\n",
       "        embed_document(root);\n",
       "      } else {\n",
       "        attempts++;\n",
       "        if (attempts > 100) {\n",
       "          clearInterval(timer);\n",
       "          console.log(\"Bokeh: ERROR: Unable to run BokehJS code because BokehJS library is missing\");\n",
       "        }\n",
       "      }\n",
       "    }, 10, root)\n",
       "  }\n",
       "})(window);"
      ],
      "application/vnd.bokehjs_exec.v0+json": ""
     },
     "metadata": {
      "application/vnd.bokehjs_exec.v0+json": {
       "id": "4873"
      }
     },
     "output_type": "display_data"
    },
    {
     "data": {
      "text/html": [
       "\n",
       "\n",
       "\n",
       "\n",
       "\n",
       "\n",
       "  <div class=\"bk-root\" id=\"3ffd9c84-af59-40bc-b085-fb3ca0755799\" data-root-id=\"5202\"></div>\n"
      ]
     },
     "metadata": {},
     "output_type": "display_data"
    },
    {
     "data": {
      "application/javascript": [
       "(function(root) {\n",
       "  function embed_document(root) {\n",
       "    \n",
       "  const docs_json = {\"360ff1f8-ad17-46c3-8b35-9cf5456a8001\":{\"defs\":[],\"roots\":{\"references\":[{\"attributes\":{\"below\":[{\"id\":\"5213\"}],\"center\":[{\"id\":\"5216\"},{\"id\":\"5220\"}],\"height\":300,\"left\":[{\"id\":\"5217\"}],\"renderers\":[{\"id\":\"5235\"},{\"id\":\"5241\"}],\"title\":{\"id\":\"5203\"},\"toolbar\":{\"id\":\"5226\"},\"width\":900,\"x_range\":{\"id\":\"5205\"},\"x_scale\":{\"id\":\"5209\"},\"y_range\":{\"id\":\"5207\"},\"y_scale\":{\"id\":\"5211\"}},\"id\":\"5202\",\"subtype\":\"Figure\",\"type\":\"Plot\"},{\"attributes\":{},\"id\":\"5218\",\"type\":\"BasicTicker\"},{\"attributes\":{\"axis\":{\"id\":\"5217\"},\"coordinates\":null,\"dimension\":1,\"group\":null,\"ticker\":null},\"id\":\"5220\",\"type\":\"Grid\"},{\"attributes\":{},\"id\":\"5214\",\"type\":\"BasicTicker\"},{\"attributes\":{},\"id\":\"5479\",\"type\":\"Selection\"},{\"attributes\":{\"axis_label\":\"Time (s)\",\"coordinates\":null,\"formatter\":{\"id\":\"5476\"},\"group\":null,\"major_label_policy\":{\"id\":\"5477\"},\"ticker\":{\"id\":\"5214\"}},\"id\":\"5213\",\"type\":\"LinearAxis\"},{\"attributes\":{\"line_dash\":[2,4],\"line_width\":2,\"x\":{\"field\":\"x\"},\"y\":{\"field\":\"y\"}},\"id\":\"5238\",\"type\":\"Line\"},{\"attributes\":{\"source\":{\"id\":\"5237\"}},\"id\":\"5242\",\"type\":\"CDSView\"},{\"attributes\":{\"data\":{\"line_color\":[\"blue\"],\"xs\":[[0.0,3.501746892929077,3.7964138984680176,7.327812910079956,7.629334926605225,11.155404806137085,11.453398942947388,15.016830921173096,15.328501939773563,18.843473911285404,19.22177600860596,22.74686288833618,23.098206996917725,26.6058030128479,26.908804893493652,30.427812814712517,31.165732860565186,39.34383487701417,40.58712482452393,41.58865189552307,41.88436388969421,45.385926008224494,45.72509002685546,49.219841957092285,49.52384090423585,50.326928853988655]],\"ys\":[[70.0,129.0,111.0,50.0,63.0,114.0,118.0,122.0,118.0,1.0,5.0,6.0,7.0,7.0,8.0,1.0,0.0,11.0,14.0,44.0,47.0,82.0,68.0,150.0,207.0,18.0]]},\"selected\":{\"id\":\"5479\"},\"selection_policy\":{\"id\":\"5478\"}},\"id\":\"5231\",\"type\":\"ColumnDataSource\"},{\"attributes\":{\"coordinates\":null,\"data_source\":{\"id\":\"5237\"},\"glyph\":{\"id\":\"5238\"},\"group\":null,\"hover_glyph\":null,\"muted_glyph\":{\"id\":\"5240\"},\"nonselection_glyph\":{\"id\":\"5239\"},\"view\":{\"id\":\"5242\"}},\"id\":\"5241\",\"type\":\"GlyphRenderer\"},{\"attributes\":{},\"id\":\"5473\",\"type\":\"BasicTickFormatter\"},{\"attributes\":{\"data\":{\"x\":{\"__ndarray__\":\"AAAAAAAAAAAAAADgkwMMQAAAAEAOXw5AAAAAMK5PHUAAAABgcIQeQAAAADiRTyZAAAAA6CPoJkAAAAAQngguQAIAAGgxqC5AAQAA6O3XMkABAABQxjgzQAAAAGgyvzZAAAAAGCQZN0AAAADoFZs6QAAAAHCn6DpA/v//I4VtPkAAAAB4bSo/QAEAAMgCrENAAQAA6CZLREAAAADyWMtEQP///9Uy8URAAQAABmaxRkD///+/z9xGQAAAAMgjnEhAAQAAOA3DSEABAADO2ClJQA==\",\"dtype\":\"float64\",\"order\":\"little\",\"shape\":[26]},\"y\":{\"__ndarray__\":\"AAAAAAAAaUAAAAAAAABpQAAAAAAAAGlAAAAAAAAAaUAAAAAAAABpQAAAAAAAAGlAAAAAAAAAaUAAAAAAAABpQAAAAAAAAGlAAAAAAAAAaUAAAAAAAABpQAAAAAAAAGlAAAAAAAAAaUAAAAAAAABpQAAAAAAAAGlAAAAAAAAAaUAAAAAAAABpQAAAAAAAAGlAAAAAAAAAaUAAAAAAAABpQAAAAAAAAGlAAAAAAAAAaUAAAAAAAABpQAAAAAAAAGlAAAAAAAAAaUAAAAAAAABpQA==\",\"dtype\":\"float64\",\"order\":\"little\",\"shape\":[26]}},\"selected\":{\"id\":\"5481\"},\"selection_policy\":{\"id\":\"5480\"}},\"id\":\"5237\",\"type\":\"ColumnDataSource\"},{\"attributes\":{\"coordinates\":null,\"data_source\":{\"id\":\"5231\"},\"glyph\":{\"id\":\"5232\"},\"group\":null,\"hover_glyph\":null,\"muted_glyph\":{\"id\":\"5234\"},\"nonselection_glyph\":{\"id\":\"5233\"},\"view\":{\"id\":\"5236\"}},\"id\":\"5235\",\"type\":\"GlyphRenderer\"},{\"attributes\":{\"line_alpha\":0.2,\"line_dash\":[2,4],\"line_width\":2,\"x\":{\"field\":\"x\"},\"y\":{\"field\":\"y\"}},\"id\":\"5240\",\"type\":\"Line\"},{\"attributes\":{},\"id\":\"5476\",\"type\":\"BasicTickFormatter\"},{\"attributes\":{\"tools\":[{\"id\":\"5221\"},{\"id\":\"5222\"},{\"id\":\"5223\"},{\"id\":\"5224\"}]},\"id\":\"5226\",\"type\":\"Toolbar\"},{\"attributes\":{},\"id\":\"5474\",\"type\":\"AllLabels\"},{\"attributes\":{\"bottom_units\":\"screen\",\"coordinates\":null,\"fill_alpha\":0.5,\"fill_color\":\"lightgrey\",\"group\":null,\"left_units\":\"screen\",\"level\":\"overlay\",\"line_alpha\":1.0,\"line_color\":\"black\",\"line_dash\":[4,4],\"line_width\":2,\"right_units\":\"screen\",\"syncable\":false,\"top_units\":\"screen\"},\"id\":\"5225\",\"type\":\"BoxAnnotation\"},{\"attributes\":{},\"id\":\"5222\",\"type\":\"WheelZoomTool\"},{\"attributes\":{\"coordinates\":null,\"group\":null,\"text\":\"wing_hist_pres_0915164430\"},\"id\":\"5203\",\"type\":\"Title\"},{\"attributes\":{},\"id\":\"5224\",\"type\":\"ResetTool\"},{\"attributes\":{\"overlay\":{\"id\":\"5225\"}},\"id\":\"5223\",\"type\":\"BoxZoomTool\"},{\"attributes\":{},\"id\":\"5477\",\"type\":\"AllLabels\"},{\"attributes\":{},\"id\":\"5480\",\"type\":\"UnionRenderers\"},{\"attributes\":{},\"id\":\"5205\",\"type\":\"DataRange1d\"},{\"attributes\":{},\"id\":\"5211\",\"type\":\"LinearScale\"},{\"attributes\":{\"line_alpha\":{\"value\":0.2},\"line_color\":{\"field\":\"line_color\"},\"line_width\":{\"value\":2},\"xs\":{\"field\":\"xs\"},\"ys\":{\"field\":\"ys\"}},\"id\":\"5234\",\"type\":\"MultiLine\"},{\"attributes\":{},\"id\":\"5221\",\"type\":\"PanTool\"},{\"attributes\":{},\"id\":\"5481\",\"type\":\"Selection\"},{\"attributes\":{\"source\":{\"id\":\"5231\"}},\"id\":\"5236\",\"type\":\"CDSView\"},{\"attributes\":{},\"id\":\"5207\",\"type\":\"DataRange1d\"},{\"attributes\":{},\"id\":\"5209\",\"type\":\"LinearScale\"},{\"attributes\":{\"line_color\":{\"field\":\"line_color\"},\"line_width\":{\"value\":2},\"xs\":{\"field\":\"xs\"},\"ys\":{\"field\":\"ys\"}},\"id\":\"5232\",\"type\":\"MultiLine\"},{\"attributes\":{\"axis_label\":\"Signal\",\"coordinates\":null,\"formatter\":{\"id\":\"5473\"},\"group\":null,\"major_label_policy\":{\"id\":\"5474\"},\"ticker\":{\"id\":\"5218\"}},\"id\":\"5217\",\"type\":\"LinearAxis\"},{\"attributes\":{\"line_alpha\":0.1,\"line_dash\":[2,4],\"line_width\":2,\"x\":{\"field\":\"x\"},\"y\":{\"field\":\"y\"}},\"id\":\"5239\",\"type\":\"Line\"},{\"attributes\":{},\"id\":\"5478\",\"type\":\"UnionRenderers\"},{\"attributes\":{\"line_alpha\":{\"value\":0.1},\"line_color\":{\"field\":\"line_color\"},\"line_width\":{\"value\":2},\"xs\":{\"field\":\"xs\"},\"ys\":{\"field\":\"ys\"}},\"id\":\"5233\",\"type\":\"MultiLine\"},{\"attributes\":{\"axis\":{\"id\":\"5213\"},\"coordinates\":null,\"group\":null,\"ticker\":null},\"id\":\"5216\",\"type\":\"Grid\"}],\"root_ids\":[\"5202\"]},\"title\":\"Bokeh Application\",\"version\":\"2.4.2\"}};\n",
       "  const render_items = [{\"docid\":\"360ff1f8-ad17-46c3-8b35-9cf5456a8001\",\"root_ids\":[\"5202\"],\"roots\":{\"5202\":\"3ffd9c84-af59-40bc-b085-fb3ca0755799\"}}];\n",
       "  root.Bokeh.embed.embed_items_notebook(docs_json, render_items);\n",
       "\n",
       "  }\n",
       "  if (root.Bokeh !== undefined) {\n",
       "    embed_document(root);\n",
       "  } else {\n",
       "    let attempts = 0;\n",
       "    const timer = setInterval(function(root) {\n",
       "      if (root.Bokeh !== undefined) {\n",
       "        clearInterval(timer);\n",
       "        embed_document(root);\n",
       "      } else {\n",
       "        attempts++;\n",
       "        if (attempts > 100) {\n",
       "          clearInterval(timer);\n",
       "          console.log(\"Bokeh: ERROR: Unable to run BokehJS code because BokehJS library is missing\");\n",
       "        }\n",
       "      }\n",
       "    }, 10, root)\n",
       "  }\n",
       "})(window);"
      ],
      "application/vnd.bokehjs_exec.v0+json": ""
     },
     "metadata": {
      "application/vnd.bokehjs_exec.v0+json": {
       "id": "5202"
      }
     },
     "output_type": "display_data"
    },
    {
     "data": {
      "text/html": [
       "\n",
       "\n",
       "\n",
       "\n",
       "\n",
       "\n",
       "  <div class=\"bk-root\" id=\"7dd010d4-b05a-4e0d-ace9-0dff55ba5047\" data-root-id=\"5543\"></div>\n"
      ]
     },
     "metadata": {},
     "output_type": "display_data"
    },
    {
     "data": {
      "application/javascript": [
       "(function(root) {\n",
       "  function embed_document(root) {\n",
       "    \n",
       "  const docs_json = {\"eefb9687-8f54-4b3f-b674-19149157556a\":{\"defs\":[],\"roots\":{\"references\":[{\"attributes\":{\"below\":[{\"id\":\"5554\"}],\"center\":[{\"id\":\"5557\"},{\"id\":\"5561\"}],\"height\":300,\"left\":[{\"id\":\"5558\"}],\"renderers\":[{\"id\":\"5576\"},{\"id\":\"5582\"}],\"title\":{\"id\":\"5544\"},\"toolbar\":{\"id\":\"5567\"},\"width\":900,\"x_range\":{\"id\":\"5546\"},\"x_scale\":{\"id\":\"5550\"},\"y_range\":{\"id\":\"5548\"},\"y_scale\":{\"id\":\"5552\"}},\"id\":\"5543\",\"subtype\":\"Figure\",\"type\":\"Plot\"},{\"attributes\":{\"line_alpha\":{\"value\":0.2},\"line_color\":{\"field\":\"line_color\"},\"line_width\":{\"value\":2},\"xs\":{\"field\":\"xs\"},\"ys\":{\"field\":\"ys\"}},\"id\":\"5575\",\"type\":\"MultiLine\"},{\"attributes\":{\"overlay\":{\"id\":\"5566\"}},\"id\":\"5564\",\"type\":\"BoxZoomTool\"},{\"attributes\":{},\"id\":\"5563\",\"type\":\"WheelZoomTool\"},{\"attributes\":{},\"id\":\"5831\",\"type\":\"UnionRenderers\"},{\"attributes\":{},\"id\":\"5830\",\"type\":\"AllLabels\"},{\"attributes\":{},\"id\":\"5829\",\"type\":\"BasicTickFormatter\"},{\"attributes\":{\"line_alpha\":{\"value\":0.1},\"line_color\":{\"field\":\"line_color\"},\"line_width\":{\"value\":2},\"xs\":{\"field\":\"xs\"},\"ys\":{\"field\":\"ys\"}},\"id\":\"5574\",\"type\":\"MultiLine\"},{\"attributes\":{\"bottom_units\":\"screen\",\"coordinates\":null,\"fill_alpha\":0.5,\"fill_color\":\"lightgrey\",\"group\":null,\"left_units\":\"screen\",\"level\":\"overlay\",\"line_alpha\":1.0,\"line_color\":\"black\",\"line_dash\":[4,4],\"line_width\":2,\"right_units\":\"screen\",\"syncable\":false,\"top_units\":\"screen\"},\"id\":\"5566\",\"type\":\"BoxAnnotation\"},{\"attributes\":{\"source\":{\"id\":\"5572\"}},\"id\":\"5577\",\"type\":\"CDSView\"},{\"attributes\":{},\"id\":\"5562\",\"type\":\"PanTool\"},{\"attributes\":{\"tools\":[{\"id\":\"5562\"},{\"id\":\"5563\"},{\"id\":\"5564\"},{\"id\":\"5565\"}]},\"id\":\"5567\",\"type\":\"Toolbar\"},{\"attributes\":{},\"id\":\"5548\",\"type\":\"DataRange1d\"},{\"attributes\":{},\"id\":\"5832\",\"type\":\"Selection\"},{\"attributes\":{\"coordinates\":null,\"data_source\":{\"id\":\"5572\"},\"glyph\":{\"id\":\"5573\"},\"group\":null,\"hover_glyph\":null,\"muted_glyph\":{\"id\":\"5575\"},\"nonselection_glyph\":{\"id\":\"5574\"},\"view\":{\"id\":\"5577\"}},\"id\":\"5576\",\"type\":\"GlyphRenderer\"},{\"attributes\":{\"axis_label\":\"Signal\",\"coordinates\":null,\"formatter\":{\"id\":\"5826\"},\"group\":null,\"major_label_policy\":{\"id\":\"5827\"},\"ticker\":{\"id\":\"5559\"}},\"id\":\"5558\",\"type\":\"LinearAxis\"},{\"attributes\":{},\"id\":\"5833\",\"type\":\"UnionRenderers\"},{\"attributes\":{\"data\":{\"x\":{\"__ndarray__\":\"AAAAAAAAAAAAAAAAInYMQAQAAODuJQ9AAgAA4MmlHUD+////3yYfQAEAAFh1rSZAAQAAyIZGJ0ABAAAQ1VwuQP///wfpAC9AAAAA8GYFM0ACAAB4IFYzQAAAAKBM4zZAAgAAyF8uN0AAAADEG606QAAAAHD39TpA/v//71t4PkAAAABAKEM/QAAAAIIbuUNA/v//rZtcREAAAACAd+BEQAEAAAqeCEVA/v//n/zJRkAAAACsofhGQAAAAMy3ukhAAAAADATjSED///+PFaZKQAEAAI47zUpA/v//6/WYTEAAAAD2ksZMQAAAAFCEiE5AAAAAWgqwTkABAABIaDhQQAAAADOiTlBAAAAAa0cyUUD////xPUZRQAAAAC42J1JAAAAAqkJWUkD///9AZV1UQP///5qrrVRAAAAAz0rvVEABAABs6wJVQAEAAC4B4lVAAAAAj6X1VUD///8e9NVWQP///2Sn6FZAAAAAEcLJV0ABAADMB+BXQAAAAADFw1hAAQAABfvXWEAAAABdarxZQP///7sB1FlAAQAA8L+zWkAAAABbXcdaQP///4MrqVtAAQAA4A2/W0D////LeqJcQAAAAMiU01xAAAAAqTHcXkAAAABxPC5fQAAAALiRb19AAAAAiLiEX0AAAIAqfTJgQP//f1KIPGBAAAAAHFysYEABAADSbrVgQAAAANZ/JWFAAAAA+5IuYUD///+6fZ5hQAAAgALgqGFAAACAbzUZYkAAAACsqSJiQAAAgDrlkmJAAACA/BeeYkAAAACbHA9jQAAAgPLoGGNAAAAAGQCJY0D///8NPKNjQAAAAIltqmRA//9//bvSZEAAAACNbvNkQAAAAHx+/mRAAACACikWZUA=\",\"dtype\":\"float64\",\"order\":\"little\",\"shape\":[82]},\"y\":{\"__ndarray__\":\"AAAAAAAAaUAAAAAAAABpQAAAAAAAAGlAAAAAAAAAaUAAAAAAAABpQAAAAAAAAGlAAAAAAAAAaUAAAAAAAABpQAAAAAAAAGlAAAAAAAAAaUAAAAAAAABpQAAAAAAAAGlAAAAAAAAAaUAAAAAAAABpQAAAAAAAAGlAAAAAAAAAaUAAAAAAAABpQAAAAAAAAGlAAAAAAAAAaUAAAAAAAABpQAAAAAAAAGlAAAAAAAAAaUAAAAAAAABpQAAAAAAAAGlAAAAAAAAAaUAAAAAAAABpQAAAAAAAAGlAAAAAAAAAaUAAAAAAAABpQAAAAAAAAGlAAAAAAAAAaUAAAAAAAABpQAAAAAAAAGlAAAAAAAAAaUAAAAAAAABpQAAAAAAAAGlAAAAAAAAAaUAAAAAAAABpQAAAAAAAAGlAAAAAAAAAaUAAAAAAAABpQAAAAAAAAGlAAAAAAAAAaUAAAAAAAABpQAAAAAAAAGlAAAAAAAAAaUAAAAAAAABpQAAAAAAAAGlAAAAAAAAAaUAAAAAAAABpQAAAAAAAAGlAAAAAAAAAaUAAAAAAAABpQAAAAAAAAGlAAAAAAAAAaUAAAAAAAABpQAAAAAAAAGlAAAAAAAAAaUAAAAAAAABpQAAAAAAAAGlAAAAAAAAAaUAAAAAAAABpQAAAAAAAAGlAAAAAAAAAaUAAAAAAAABpQAAAAAAAAGlAAAAAAAAAaUAAAAAAAABpQAAAAAAAAGlAAAAAAAAAaUAAAAAAAABpQAAAAAAAAGlAAAAAAAAAaUAAAAAAAABpQAAAAAAAAGlAAAAAAAAAaUAAAAAAAABpQAAAAAAAAGlAAAAAAAAAaUAAAAAAAABpQAAAAAAAAGlAAAAAAAAAaUA=\",\"dtype\":\"float64\",\"order\":\"little\",\"shape\":[82]}},\"selected\":{\"id\":\"5834\"},\"selection_policy\":{\"id\":\"5833\"}},\"id\":\"5578\",\"type\":\"ColumnDataSource\"},{\"attributes\":{},\"id\":\"5559\",\"type\":\"BasicTicker\"},{\"attributes\":{},\"id\":\"5826\",\"type\":\"BasicTickFormatter\"},{\"attributes\":{\"line_alpha\":0.1,\"line_dash\":[2,4],\"line_width\":2,\"x\":{\"field\":\"x\"},\"y\":{\"field\":\"y\"}},\"id\":\"5580\",\"type\":\"Line\"},{\"attributes\":{},\"id\":\"5827\",\"type\":\"AllLabels\"},{\"attributes\":{},\"id\":\"5834\",\"type\":\"Selection\"},{\"attributes\":{\"line_alpha\":0.2,\"line_dash\":[2,4],\"line_width\":2,\"x\":{\"field\":\"x\"},\"y\":{\"field\":\"y\"}},\"id\":\"5581\",\"type\":\"Line\"},{\"attributes\":{},\"id\":\"5555\",\"type\":\"BasicTicker\"},{\"attributes\":{\"axis\":{\"id\":\"5554\"},\"coordinates\":null,\"group\":null,\"ticker\":null},\"id\":\"5557\",\"type\":\"Grid\"},{\"attributes\":{\"coordinates\":null,\"data_source\":{\"id\":\"5578\"},\"glyph\":{\"id\":\"5579\"},\"group\":null,\"hover_glyph\":null,\"muted_glyph\":{\"id\":\"5581\"},\"nonselection_glyph\":{\"id\":\"5580\"},\"view\":{\"id\":\"5583\"}},\"id\":\"5582\",\"type\":\"GlyphRenderer\"},{\"attributes\":{\"axis\":{\"id\":\"5558\"},\"coordinates\":null,\"dimension\":1,\"group\":null,\"ticker\":null},\"id\":\"5561\",\"type\":\"Grid\"},{\"attributes\":{\"source\":{\"id\":\"5578\"}},\"id\":\"5583\",\"type\":\"CDSView\"},{\"attributes\":{\"axis_label\":\"Time (s)\",\"coordinates\":null,\"formatter\":{\"id\":\"5829\"},\"group\":null,\"major_label_policy\":{\"id\":\"5830\"},\"ticker\":{\"id\":\"5555\"}},\"id\":\"5554\",\"type\":\"LinearAxis\"},{\"attributes\":{},\"id\":\"5546\",\"type\":\"DataRange1d\"},{\"attributes\":{\"coordinates\":null,\"group\":null,\"text\":\"wing_hist_pres_0915200052\"},\"id\":\"5544\",\"type\":\"Title\"},{\"attributes\":{},\"id\":\"5550\",\"type\":\"LinearScale\"},{\"attributes\":{\"data\":{\"line_color\":[\"blue\"],\"xs\":[[0.0,3.5576820373535156,3.893522024154665,7.4119029045105,7.787963867187498,11.338785886764528,11.637747049331667,15.181313037872316,15.501777887344359,19.02110195159912,19.33643293380738,22.887887954711914,23.1811490058899,26.676204919815063,26.960806846618652,30.470152854919426,31.262332916259766,39.44615197181702,40.72350096702574,41.75364685058594,42.06732296943665,45.578022003173814,45.94243383407593,49.45873403549194,49.773561000823975,53.29753303527831,53.6033799648285,57.195004940032945,57.55135989189148,61.066537857055664,61.37531590461731,64.88136482238771,65.22864985466003,68.78560900688171,69.09753084182738,72.61268186569214,73.34781885147095,81.45930504798888,82.7135989665985,83.73894095420837,84.04561901092531,87.5313220024109,87.83822989463806,91.34302496910094,91.63521695137023,95.15246987342834,95.5004758834839,99.05889892578125,99.37469601631166,102.94399189949036,103.3126058578491,106.80858993530275,107.11507296562195,110.64328098297118,110.98522186279298,114.53874492645262,115.30595588684082,123.44053101539612,124.72243905067444,125.7432689666748,126.07376289367676,129.57777905464172,129.89164090156552,133.38624382019043,133.66977787017825,137.17185497283936,137.4554419517517,140.95284795761106,141.2773449420929,144.78777289390564,145.0832118988037,148.59048199653625,148.94042801856995,152.47224187850952,152.77843594551086,156.28126192092896,157.1010808944702,165.32587099075317,166.58544802665708,167.6072449684143,167.95293998718262,168.69250988960266]],\"ys\":[[53.0,75.0,73.0,32.0,26.0,12.0,14.0,22.0,18.0,29.0,18.0,34.0,24.0,37.0,37.0,35.0,29.0,33.0,21.0,32.0,34.0,11.0,11.0,0.0,0.0,0.0,0.0,-1.0,2.0,-1.0,0.0,0.0,0.0,37.0,50.0,58.0,91.0,17.0,81.0,104.0,106.0,93.0,101.0,70.0,78.0,27.0,35.0,-1.0,-1.0,1.0,7.0,8.0,13.0,6.0,6.0,0.0,0.0,0.0,0.0,0.0,0.0,0.0,0.0,0.0,0.0,10.0,13.0,13.0,17.0,22.0,37.0,18.0,14.0,0.0,0.0,0.0,0.0,1.0,78.0,48.0,281.0,280.0]]},\"selected\":{\"id\":\"5832\"},\"selection_policy\":{\"id\":\"5831\"}},\"id\":\"5572\",\"type\":\"ColumnDataSource\"},{\"attributes\":{\"line_dash\":[2,4],\"line_width\":2,\"x\":{\"field\":\"x\"},\"y\":{\"field\":\"y\"}},\"id\":\"5579\",\"type\":\"Line\"},{\"attributes\":{},\"id\":\"5565\",\"type\":\"ResetTool\"},{\"attributes\":{\"line_color\":{\"field\":\"line_color\"},\"line_width\":{\"value\":2},\"xs\":{\"field\":\"xs\"},\"ys\":{\"field\":\"ys\"}},\"id\":\"5573\",\"type\":\"MultiLine\"},{\"attributes\":{},\"id\":\"5552\",\"type\":\"LinearScale\"}],\"root_ids\":[\"5543\"]},\"title\":\"Bokeh Application\",\"version\":\"2.4.2\"}};\n",
       "  const render_items = [{\"docid\":\"eefb9687-8f54-4b3f-b674-19149157556a\",\"root_ids\":[\"5543\"],\"roots\":{\"5543\":\"7dd010d4-b05a-4e0d-ace9-0dff55ba5047\"}}];\n",
       "  root.Bokeh.embed.embed_items_notebook(docs_json, render_items);\n",
       "\n",
       "  }\n",
       "  if (root.Bokeh !== undefined) {\n",
       "    embed_document(root);\n",
       "  } else {\n",
       "    let attempts = 0;\n",
       "    const timer = setInterval(function(root) {\n",
       "      if (root.Bokeh !== undefined) {\n",
       "        clearInterval(timer);\n",
       "        embed_document(root);\n",
       "      } else {\n",
       "        attempts++;\n",
       "        if (attempts > 100) {\n",
       "          clearInterval(timer);\n",
       "          console.log(\"Bokeh: ERROR: Unable to run BokehJS code because BokehJS library is missing\");\n",
       "        }\n",
       "      }\n",
       "    }, 10, root)\n",
       "  }\n",
       "})(window);"
      ],
      "application/vnd.bokehjs_exec.v0+json": ""
     },
     "metadata": {
      "application/vnd.bokehjs_exec.v0+json": {
       "id": "5543"
      }
     },
     "output_type": "display_data"
    },
    {
     "data": {
      "text/html": [
       "\n",
       "\n",
       "\n",
       "\n",
       "\n",
       "\n",
       "  <div class=\"bk-root\" id=\"6f59cf04-8901-4ef6-96c6-83572105097b\" data-root-id=\"5896\"></div>\n"
      ]
     },
     "metadata": {},
     "output_type": "display_data"
    },
    {
     "data": {
      "application/javascript": [
       "(function(root) {\n",
       "  function embed_document(root) {\n",
       "    \n",
       "  const docs_json = {\"d958ca5a-0b4b-4d7b-afd1-1876efdafabd\":{\"defs\":[],\"roots\":{\"references\":[{\"attributes\":{\"below\":[{\"id\":\"5907\"}],\"center\":[{\"id\":\"5910\"},{\"id\":\"5914\"}],\"height\":300,\"left\":[{\"id\":\"5911\"}],\"renderers\":[{\"id\":\"5929\"},{\"id\":\"5935\"}],\"title\":{\"id\":\"5897\"},\"toolbar\":{\"id\":\"5920\"},\"width\":900,\"x_range\":{\"id\":\"5899\"},\"x_scale\":{\"id\":\"5903\"},\"y_range\":{\"id\":\"5901\"},\"y_scale\":{\"id\":\"5905\"}},\"id\":\"5896\",\"subtype\":\"Figure\",\"type\":\"Plot\"},{\"attributes\":{},\"id\":\"6195\",\"type\":\"AllLabels\"},{\"attributes\":{},\"id\":\"6196\",\"type\":\"UnionRenderers\"},{\"attributes\":{\"source\":{\"id\":\"5925\"}},\"id\":\"5930\",\"type\":\"CDSView\"},{\"attributes\":{},\"id\":\"5915\",\"type\":\"PanTool\"},{\"attributes\":{},\"id\":\"6197\",\"type\":\"Selection\"},{\"attributes\":{\"data\":{\"x\":{\"__ndarray__\":\"AAAAAAAAAAAAAAAAIHIMQAAAAAAEmg1A/v//v98BHUD+////OZUdQAAAANBp5SVA////7xMvJkD+//9XVkktQP7//w8Nky1A/v//B71WMkABAAAoknsyQAAAAJQACTZAAAAAzOYtNkAAAAAE/Lo5QAEAADRqUjpAAAAANuXAQEAAAABWEI9BQP///6+KIUJAAAAAiuozQkD///8VgvpDQAAAAC4GDURAAQAAsMTTRUAAAADiVR5GQA==\",\"dtype\":\"float64\",\"order\":\"little\",\"shape\":[23]},\"y\":{\"__ndarray__\":\"AAAAAAAAaUAAAAAAAABpQAAAAAAAAGlAAAAAAAAAaUAAAAAAAABpQAAAAAAAAGlAAAAAAAAAaUAAAAAAAABpQAAAAAAAAGlAAAAAAAAAaUAAAAAAAABpQAAAAAAAAGlAAAAAAAAAaUAAAAAAAABpQAAAAAAAAGlAAAAAAAAAaUAAAAAAAABpQAAAAAAAAGlAAAAAAAAAaUAAAAAAAABpQAAAAAAAAGlAAAAAAAAAaUAAAAAAAABpQA==\",\"dtype\":\"float64\",\"order\":\"little\",\"shape\":[23]}},\"selected\":{\"id\":\"6199\"},\"selection_policy\":{\"id\":\"6198\"}},\"id\":\"5931\",\"type\":\"ColumnDataSource\"},{\"attributes\":{},\"id\":\"5916\",\"type\":\"WheelZoomTool\"},{\"attributes\":{},\"id\":\"6198\",\"type\":\"UnionRenderers\"},{\"attributes\":{\"overlay\":{\"id\":\"5919\"}},\"id\":\"5917\",\"type\":\"BoxZoomTool\"},{\"attributes\":{},\"id\":\"6199\",\"type\":\"Selection\"},{\"attributes\":{\"axis_label\":\"Signal\",\"coordinates\":null,\"formatter\":{\"id\":\"6191\"},\"group\":null,\"major_label_policy\":{\"id\":\"6192\"},\"ticker\":{\"id\":\"5912\"}},\"id\":\"5911\",\"type\":\"LinearAxis\"},{\"attributes\":{},\"id\":\"5918\",\"type\":\"ResetTool\"},{\"attributes\":{\"line_alpha\":0.1,\"line_dash\":[2,4],\"line_width\":2,\"x\":{\"field\":\"x\"},\"y\":{\"field\":\"y\"}},\"id\":\"5933\",\"type\":\"Line\"},{\"attributes\":{\"tools\":[{\"id\":\"5915\"},{\"id\":\"5916\"},{\"id\":\"5917\"},{\"id\":\"5918\"}]},\"id\":\"5920\",\"type\":\"Toolbar\"},{\"attributes\":{},\"id\":\"5903\",\"type\":\"LinearScale\"},{\"attributes\":{\"coordinates\":null,\"data_source\":{\"id\":\"5931\"},\"glyph\":{\"id\":\"5932\"},\"group\":null,\"hover_glyph\":null,\"muted_glyph\":{\"id\":\"5934\"},\"nonselection_glyph\":{\"id\":\"5933\"},\"view\":{\"id\":\"5936\"}},\"id\":\"5935\",\"type\":\"GlyphRenderer\"},{\"attributes\":{\"line_alpha\":0.2,\"line_dash\":[2,4],\"line_width\":2,\"x\":{\"field\":\"x\"},\"y\":{\"field\":\"y\"}},\"id\":\"5934\",\"type\":\"Line\"},{\"attributes\":{\"bottom_units\":\"screen\",\"coordinates\":null,\"fill_alpha\":0.5,\"fill_color\":\"lightgrey\",\"group\":null,\"left_units\":\"screen\",\"level\":\"overlay\",\"line_alpha\":1.0,\"line_color\":\"black\",\"line_dash\":[4,4],\"line_width\":2,\"right_units\":\"screen\",\"syncable\":false,\"top_units\":\"screen\"},\"id\":\"5919\",\"type\":\"BoxAnnotation\"},{\"attributes\":{\"axis_label\":\"Time (s)\",\"coordinates\":null,\"formatter\":{\"id\":\"6194\"},\"group\":null,\"major_label_policy\":{\"id\":\"6195\"},\"ticker\":{\"id\":\"5908\"}},\"id\":\"5907\",\"type\":\"LinearAxis\"},{\"attributes\":{\"line_dash\":[2,4],\"line_width\":2,\"x\":{\"field\":\"x\"},\"y\":{\"field\":\"y\"}},\"id\":\"5932\",\"type\":\"Line\"},{\"attributes\":{\"source\":{\"id\":\"5931\"}},\"id\":\"5936\",\"type\":\"CDSView\"},{\"attributes\":{\"coordinates\":null,\"data_source\":{\"id\":\"5925\"},\"glyph\":{\"id\":\"5926\"},\"group\":null,\"hover_glyph\":null,\"muted_glyph\":{\"id\":\"5928\"},\"nonselection_glyph\":{\"id\":\"5927\"},\"view\":{\"id\":\"5930\"}},\"id\":\"5929\",\"type\":\"GlyphRenderer\"},{\"attributes\":{},\"id\":\"5908\",\"type\":\"BasicTicker\"},{\"attributes\":{},\"id\":\"5899\",\"type\":\"DataRange1d\"},{\"attributes\":{},\"id\":\"5905\",\"type\":\"LinearScale\"},{\"attributes\":{},\"id\":\"5901\",\"type\":\"DataRange1d\"},{\"attributes\":{\"line_alpha\":{\"value\":0.2},\"line_color\":{\"field\":\"line_color\"},\"line_width\":{\"value\":2},\"xs\":{\"field\":\"xs\"},\"ys\":{\"field\":\"ys\"}},\"id\":\"5928\",\"type\":\"MultiLine\"},{\"attributes\":{\"coordinates\":null,\"group\":null,\"text\":\"wing_hist_pres_0914222125\"},\"id\":\"5897\",\"type\":\"Title\"},{\"attributes\":{},\"id\":\"6192\",\"type\":\"AllLabels\"},{\"attributes\":{\"axis\":{\"id\":\"5911\"},\"coordinates\":null,\"dimension\":1,\"group\":null,\"ticker\":null},\"id\":\"5914\",\"type\":\"Grid\"},{\"attributes\":{\"data\":{\"line_color\":[\"blue\"],\"xs\":[[0.0,3.55572509765625,3.7002029418945312,7.251830101013182,7.3957290649414045,10.948072910308838,11.091948986053465,14.643236875534054,14.787209033966061,18.338821887969964,18.48269891738892,22.035165071487427,22.17930293083191,25.73040795326233,26.321933031082157,33.50699496269226,35.1176860332489,36.262044906616204,36.40559506416321,39.95709490776061,40.10175108909607,43.65443992614747,44.23699593544006]],\"ys\":[[0.0,24.0,25.0,30.0,29.0,80.0,76.0,27.0,32.0,29.0,51.0,69.0,76.0,57.0,9.0,33.0,48.0,63.0,69.0,83.0,82.0,89.0,74.0]]},\"selected\":{\"id\":\"6197\"},\"selection_policy\":{\"id\":\"6196\"}},\"id\":\"5925\",\"type\":\"ColumnDataSource\"},{\"attributes\":{},\"id\":\"6191\",\"type\":\"BasicTickFormatter\"},{\"attributes\":{\"axis\":{\"id\":\"5907\"},\"coordinates\":null,\"group\":null,\"ticker\":null},\"id\":\"5910\",\"type\":\"Grid\"},{\"attributes\":{},\"id\":\"5912\",\"type\":\"BasicTicker\"},{\"attributes\":{},\"id\":\"6194\",\"type\":\"BasicTickFormatter\"},{\"attributes\":{\"line_color\":{\"field\":\"line_color\"},\"line_width\":{\"value\":2},\"xs\":{\"field\":\"xs\"},\"ys\":{\"field\":\"ys\"}},\"id\":\"5926\",\"type\":\"MultiLine\"},{\"attributes\":{\"line_alpha\":{\"value\":0.1},\"line_color\":{\"field\":\"line_color\"},\"line_width\":{\"value\":2},\"xs\":{\"field\":\"xs\"},\"ys\":{\"field\":\"ys\"}},\"id\":\"5927\",\"type\":\"MultiLine\"}],\"root_ids\":[\"5896\"]},\"title\":\"Bokeh Application\",\"version\":\"2.4.2\"}};\n",
       "  const render_items = [{\"docid\":\"d958ca5a-0b4b-4d7b-afd1-1876efdafabd\",\"root_ids\":[\"5896\"],\"roots\":{\"5896\":\"6f59cf04-8901-4ef6-96c6-83572105097b\"}}];\n",
       "  root.Bokeh.embed.embed_items_notebook(docs_json, render_items);\n",
       "\n",
       "  }\n",
       "  if (root.Bokeh !== undefined) {\n",
       "    embed_document(root);\n",
       "  } else {\n",
       "    let attempts = 0;\n",
       "    const timer = setInterval(function(root) {\n",
       "      if (root.Bokeh !== undefined) {\n",
       "        clearInterval(timer);\n",
       "        embed_document(root);\n",
       "      } else {\n",
       "        attempts++;\n",
       "        if (attempts > 100) {\n",
       "          clearInterval(timer);\n",
       "          console.log(\"Bokeh: ERROR: Unable to run BokehJS code because BokehJS library is missing\");\n",
       "        }\n",
       "      }\n",
       "    }, 10, root)\n",
       "  }\n",
       "})(window);"
      ],
      "application/vnd.bokehjs_exec.v0+json": ""
     },
     "metadata": {
      "application/vnd.bokehjs_exec.v0+json": {
       "id": "5896"
      }
     },
     "output_type": "display_data"
    },
    {
     "name": "stdout",
     "output_type": "stream",
     "text": [
      "wing_hist_force_0915145214.csv contains fewer than 10 data points\n",
      "wing_hist_pres_0914221836.csv contains fewer than 10 data points\n"
     ]
    },
    {
     "data": {
      "text/html": [
       "\n",
       "\n",
       "\n",
       "\n",
       "\n",
       "\n",
       "  <div class=\"bk-root\" id=\"e66badde-adc2-4173-938c-aac0531779b8\" data-root-id=\"6261\"></div>\n"
      ]
     },
     "metadata": {},
     "output_type": "display_data"
    },
    {
     "data": {
      "application/javascript": [
       "(function(root) {\n",
       "  function embed_document(root) {\n",
       "    \n",
       "  const docs_json = {\"7c4a2c74-1791-4e36-9df9-31c7abbe6369\":{\"defs\":[],\"roots\":{\"references\":[{\"attributes\":{\"below\":[{\"id\":\"6272\"}],\"center\":[{\"id\":\"6275\"},{\"id\":\"6279\"}],\"height\":300,\"left\":[{\"id\":\"6276\"}],\"renderers\":[{\"id\":\"6294\"},{\"id\":\"6300\"}],\"title\":{\"id\":\"6262\"},\"toolbar\":{\"id\":\"6285\"},\"width\":900,\"x_range\":{\"id\":\"6264\"},\"x_scale\":{\"id\":\"6268\"},\"y_range\":{\"id\":\"6266\"},\"y_scale\":{\"id\":\"6270\"}},\"id\":\"6261\",\"subtype\":\"Figure\",\"type\":\"Plot\"},{\"attributes\":{\"axis\":{\"id\":\"6276\"},\"coordinates\":null,\"dimension\":1,\"group\":null,\"ticker\":null},\"id\":\"6279\",\"type\":\"Grid\"},{\"attributes\":{\"coordinates\":null,\"group\":null,\"text\":\"wing_hist_force_0914222335\"},\"id\":\"6262\",\"type\":\"Title\"},{\"attributes\":{\"coordinates\":null,\"data_source\":{\"id\":\"6290\"},\"glyph\":{\"id\":\"6291\"},\"group\":null,\"hover_glyph\":null,\"muted_glyph\":{\"id\":\"6293\"},\"nonselection_glyph\":{\"id\":\"6292\"},\"view\":{\"id\":\"6295\"}},\"id\":\"6294\",\"type\":\"GlyphRenderer\"},{\"attributes\":{},\"id\":\"6264\",\"type\":\"DataRange1d\"},{\"attributes\":{\"axis_label\":\"Time (s)\",\"coordinates\":null,\"formatter\":{\"id\":\"6571\"},\"group\":null,\"major_label_policy\":{\"id\":\"6572\"},\"ticker\":{\"id\":\"6273\"}},\"id\":\"6272\",\"type\":\"LinearAxis\"},{\"attributes\":{\"coordinates\":null,\"data_source\":{\"id\":\"6296\"},\"glyph\":{\"id\":\"6297\"},\"group\":null,\"hover_glyph\":null,\"muted_glyph\":{\"id\":\"6299\"},\"nonselection_glyph\":{\"id\":\"6298\"},\"view\":{\"id\":\"6301\"}},\"id\":\"6300\",\"type\":\"GlyphRenderer\"},{\"attributes\":{\"line_alpha\":0.2,\"line_dash\":[2,4],\"line_width\":2,\"x\":{\"field\":\"x\"},\"y\":{\"field\":\"y\"}},\"id\":\"6299\",\"type\":\"Line\"},{\"attributes\":{\"line_alpha\":0.1,\"line_dash\":[2,4],\"line_width\":2,\"x\":{\"field\":\"x\"},\"y\":{\"field\":\"y\"}},\"id\":\"6298\",\"type\":\"Line\"},{\"attributes\":{\"line_alpha\":{\"value\":0.2},\"line_color\":{\"field\":\"line_color\"},\"line_width\":{\"value\":2},\"xs\":{\"field\":\"xs\"},\"ys\":{\"field\":\"ys\"}},\"id\":\"6293\",\"type\":\"MultiLine\"},{\"attributes\":{},\"id\":\"6266\",\"type\":\"DataRange1d\"},{\"attributes\":{\"source\":{\"id\":\"6296\"}},\"id\":\"6301\",\"type\":\"CDSView\"},{\"attributes\":{\"bottom_units\":\"screen\",\"coordinates\":null,\"fill_alpha\":0.5,\"fill_color\":\"lightgrey\",\"group\":null,\"left_units\":\"screen\",\"level\":\"overlay\",\"line_alpha\":1.0,\"line_color\":\"black\",\"line_dash\":[4,4],\"line_width\":2,\"right_units\":\"screen\",\"syncable\":false,\"top_units\":\"screen\"},\"id\":\"6284\",\"type\":\"BoxAnnotation\"},{\"attributes\":{},\"id\":\"6270\",\"type\":\"LinearScale\"},{\"attributes\":{},\"id\":\"6573\",\"type\":\"UnionRenderers\"},{\"attributes\":{},\"id\":\"6268\",\"type\":\"LinearScale\"},{\"attributes\":{\"tools\":[{\"id\":\"6280\"},{\"id\":\"6281\"},{\"id\":\"6282\"},{\"id\":\"6283\"}]},\"id\":\"6285\",\"type\":\"Toolbar\"},{\"attributes\":{\"line_alpha\":{\"value\":0.1},\"line_color\":{\"field\":\"line_color\"},\"line_width\":{\"value\":2},\"xs\":{\"field\":\"xs\"},\"ys\":{\"field\":\"ys\"}},\"id\":\"6292\",\"type\":\"MultiLine\"},{\"attributes\":{},\"id\":\"6568\",\"type\":\"BasicTickFormatter\"},{\"attributes\":{\"line_color\":{\"field\":\"line_color\"},\"line_width\":{\"value\":2},\"xs\":{\"field\":\"xs\"},\"ys\":{\"field\":\"ys\"}},\"id\":\"6291\",\"type\":\"MultiLine\"},{\"attributes\":{},\"id\":\"6281\",\"type\":\"WheelZoomTool\"},{\"attributes\":{},\"id\":\"6571\",\"type\":\"BasicTickFormatter\"},{\"attributes\":{},\"id\":\"6574\",\"type\":\"Selection\"},{\"attributes\":{\"data\":{\"line_color\":[\"blue\"],\"xs\":[[0.0,3.55336594581604,3.698413133621216,7.250898122787476,7.394779920578005,10.946486949920656,11.09108805656433,14.6424241065979,14.78633713722229,18.33872413635254,18.482679128646854,22.03510403633118,22.1791250705719,25.731473922729492,26.311125993728638,33.484066963195794,35.124479055404656,36.26864600181579,36.411641120910645,39.961972951889045,40.10579895973205,43.65532612800597,43.799299955368035,47.350702047348015,47.495445013046265,51.04804110527037,51.191944122314446,54.743252992630005,54.88722491264344,58.437720060348504,58.581553936004646,62.13408708572386,62.7177939414978,69.87455010414122,71.46249508857727,72.60731697082521,72.75116300582886,76.3036539554596,76.44753813743591,79.99993610382081,80.14390301704405,83.69940710067749,84.28510093688963]],\"ys\":[[-95.0,43.0,43.0,95.0,107.0,74.0,90.0,-6.0,-30.0,-291.0,-296.0,-415.0,-381.0,-294.0,-261.0,-152.0,-153.0,-144.0,-152.0,34.0,107.0,44.0,55.0,84.0,102.0,22.0,39.0,14.0,25.0,-145.0,-123.0,-315.0,-118.0,-184.0,-93.0,-112.0,-102.0,86.0,93.0,142.0,161.0,277.0,131.0]]},\"selected\":{\"id\":\"6574\"},\"selection_policy\":{\"id\":\"6573\"}},\"id\":\"6290\",\"type\":\"ColumnDataSource\"},{\"attributes\":{},\"id\":\"6280\",\"type\":\"PanTool\"},{\"attributes\":{},\"id\":\"6569\",\"type\":\"AllLabels\"},{\"attributes\":{},\"id\":\"6575\",\"type\":\"UnionRenderers\"},{\"attributes\":{\"data\":{\"x\":{\"__ndarray__\":\"AAAAAAAAAAAAAAAgS20MQAAAAKBZlg1AAAAAcOsAHUACAAAwQZQdQAEAAPCZ5CVA////F6MuJkAAAADQ60gtQAAAAMiaki1AAAAAoLZWMkABAADckHsyQAEAAJT8CDZAAAAAJNstNkAAAADgQbs5QAAAAPSlTzpA////5/W9QED////t7o9BQP////1iIkJAAAAAqLA0QkABAADuIftDQP///9GKDURA/v//ueHTRUD///91T+ZFQP///83jrEdAAAAAvmq/R0D+//81JoZJQP///5+RmElAAAAA6iJfS0ABAACWkHFLQP///zUHOE1AAQAAXHBKTUD+///DKRFPQAAAAKzgW09A////oPh3UUAAAACFmd1RQAEAAEjeJlJAAAAADhMwUkAAAAARbxNTQAAAAHekHFNAAQAA9P7/U0D///+0NQlUQAAAABbD7FRA////Fz8SVUA=\",\"dtype\":\"float64\",\"order\":\"little\",\"shape\":[43]},\"y\":{\"__ndarray__\":\"AAAAAAAAaUAAAAAAAABpQAAAAAAAAGlAAAAAAAAAaUAAAAAAAABpQAAAAAAAAGlAAAAAAAAAaUAAAAAAAABpQAAAAAAAAGlAAAAAAAAAaUAAAAAAAABpQAAAAAAAAGlAAAAAAAAAaUAAAAAAAABpQAAAAAAAAGlAAAAAAAAAaUAAAAAAAABpQAAAAAAAAGlAAAAAAAAAaUAAAAAAAABpQAAAAAAAAGlAAAAAAAAAaUAAAAAAAABpQAAAAAAAAGlAAAAAAAAAaUAAAAAAAABpQAAAAAAAAGlAAAAAAAAAaUAAAAAAAABpQAAAAAAAAGlAAAAAAAAAaUAAAAAAAABpQAAAAAAAAGlAAAAAAAAAaUAAAAAAAABpQAAAAAAAAGlAAAAAAAAAaUAAAAAAAABpQAAAAAAAAGlAAAAAAAAAaUAAAAAAAABpQAAAAAAAAGlAAAAAAAAAaUA=\",\"dtype\":\"float64\",\"order\":\"little\",\"shape\":[43]}},\"selected\":{\"id\":\"6576\"},\"selection_policy\":{\"id\":\"6575\"}},\"id\":\"6296\",\"type\":\"ColumnDataSource\"},{\"attributes\":{},\"id\":\"6283\",\"type\":\"ResetTool\"},{\"attributes\":{\"axis\":{\"id\":\"6272\"},\"coordinates\":null,\"group\":null,\"ticker\":null},\"id\":\"6275\",\"type\":\"Grid\"},{\"attributes\":{},\"id\":\"6576\",\"type\":\"Selection\"},{\"attributes\":{\"source\":{\"id\":\"6290\"}},\"id\":\"6295\",\"type\":\"CDSView\"},{\"attributes\":{\"overlay\":{\"id\":\"6284\"}},\"id\":\"6282\",\"type\":\"BoxZoomTool\"},{\"attributes\":{\"axis_label\":\"Signal\",\"coordinates\":null,\"formatter\":{\"id\":\"6568\"},\"group\":null,\"major_label_policy\":{\"id\":\"6569\"},\"ticker\":{\"id\":\"6277\"}},\"id\":\"6276\",\"type\":\"LinearAxis\"},{\"attributes\":{\"line_dash\":[2,4],\"line_width\":2,\"x\":{\"field\":\"x\"},\"y\":{\"field\":\"y\"}},\"id\":\"6297\",\"type\":\"Line\"},{\"attributes\":{},\"id\":\"6277\",\"type\":\"BasicTicker\"},{\"attributes\":{},\"id\":\"6273\",\"type\":\"BasicTicker\"},{\"attributes\":{},\"id\":\"6572\",\"type\":\"AllLabels\"}],\"root_ids\":[\"6261\"]},\"title\":\"Bokeh Application\",\"version\":\"2.4.2\"}};\n",
       "  const render_items = [{\"docid\":\"7c4a2c74-1791-4e36-9df9-31c7abbe6369\",\"root_ids\":[\"6261\"],\"roots\":{\"6261\":\"e66badde-adc2-4173-938c-aac0531779b8\"}}];\n",
       "  root.Bokeh.embed.embed_items_notebook(docs_json, render_items);\n",
       "\n",
       "  }\n",
       "  if (root.Bokeh !== undefined) {\n",
       "    embed_document(root);\n",
       "  } else {\n",
       "    let attempts = 0;\n",
       "    const timer = setInterval(function(root) {\n",
       "      if (root.Bokeh !== undefined) {\n",
       "        clearInterval(timer);\n",
       "        embed_document(root);\n",
       "      } else {\n",
       "        attempts++;\n",
       "        if (attempts > 100) {\n",
       "          clearInterval(timer);\n",
       "          console.log(\"Bokeh: ERROR: Unable to run BokehJS code because BokehJS library is missing\");\n",
       "        }\n",
       "      }\n",
       "    }, 10, root)\n",
       "  }\n",
       "})(window);"
      ],
      "application/vnd.bokehjs_exec.v0+json": ""
     },
     "metadata": {
      "application/vnd.bokehjs_exec.v0+json": {
       "id": "6261"
      }
     },
     "output_type": "display_data"
    },
    {
     "data": {
      "text/html": [
       "\n",
       "\n",
       "\n",
       "\n",
       "\n",
       "\n",
       "  <div class=\"bk-root\" id=\"67931359-0312-4083-a047-36ffdfd231c4\" data-root-id=\"6638\"></div>\n"
      ]
     },
     "metadata": {},
     "output_type": "display_data"
    },
    {
     "data": {
      "application/javascript": [
       "(function(root) {\n",
       "  function embed_document(root) {\n",
       "    \n",
       "  const docs_json = {\"f728eb6e-59aa-46e9-9a93-de7b82d8d32a\":{\"defs\":[],\"roots\":{\"references\":[{\"attributes\":{\"below\":[{\"id\":\"6649\"}],\"center\":[{\"id\":\"6652\"},{\"id\":\"6656\"}],\"height\":300,\"left\":[{\"id\":\"6653\"}],\"renderers\":[{\"id\":\"6671\"},{\"id\":\"6677\"}],\"title\":{\"id\":\"6639\"},\"toolbar\":{\"id\":\"6662\"},\"width\":900,\"x_range\":{\"id\":\"6641\"},\"x_scale\":{\"id\":\"6645\"},\"y_range\":{\"id\":\"6643\"},\"y_scale\":{\"id\":\"6647\"}},\"id\":\"6638\",\"subtype\":\"Figure\",\"type\":\"Plot\"},{\"attributes\":{\"line_dash\":[2,4],\"line_width\":2,\"x\":{\"field\":\"x\"},\"y\":{\"field\":\"y\"}},\"id\":\"6674\",\"type\":\"Line\"},{\"attributes\":{\"overlay\":{\"id\":\"6661\"}},\"id\":\"6659\",\"type\":\"BoxZoomTool\"},{\"attributes\":{},\"id\":\"6960\",\"type\":\"BasicTickFormatter\"},{\"attributes\":{},\"id\":\"6958\",\"type\":\"AllLabels\"},{\"attributes\":{\"tools\":[{\"id\":\"6657\"},{\"id\":\"6658\"},{\"id\":\"6659\"},{\"id\":\"6660\"}]},\"id\":\"6662\",\"type\":\"Toolbar\"},{\"attributes\":{\"source\":{\"id\":\"6673\"}},\"id\":\"6678\",\"type\":\"CDSView\"},{\"attributes\":{},\"id\":\"6957\",\"type\":\"BasicTickFormatter\"},{\"attributes\":{\"bottom_units\":\"screen\",\"coordinates\":null,\"fill_alpha\":0.5,\"fill_color\":\"lightgrey\",\"group\":null,\"left_units\":\"screen\",\"level\":\"overlay\",\"line_alpha\":1.0,\"line_color\":\"black\",\"line_dash\":[4,4],\"line_width\":2,\"right_units\":\"screen\",\"syncable\":false,\"top_units\":\"screen\"},\"id\":\"6661\",\"type\":\"BoxAnnotation\"},{\"attributes\":{\"line_color\":{\"field\":\"line_color\"},\"line_width\":{\"value\":2},\"xs\":{\"field\":\"xs\"},\"ys\":{\"field\":\"ys\"}},\"id\":\"6668\",\"type\":\"MultiLine\"},{\"attributes\":{},\"id\":\"6643\",\"type\":\"DataRange1d\"},{\"attributes\":{},\"id\":\"6961\",\"type\":\"AllLabels\"},{\"attributes\":{},\"id\":\"6658\",\"type\":\"WheelZoomTool\"},{\"attributes\":{},\"id\":\"6962\",\"type\":\"UnionRenderers\"},{\"attributes\":{},\"id\":\"6641\",\"type\":\"DataRange1d\"},{\"attributes\":{},\"id\":\"6657\",\"type\":\"PanTool\"},{\"attributes\":{\"line_alpha\":{\"value\":0.2},\"line_color\":{\"field\":\"line_color\"},\"line_width\":{\"value\":2},\"xs\":{\"field\":\"xs\"},\"ys\":{\"field\":\"ys\"}},\"id\":\"6670\",\"type\":\"MultiLine\"},{\"attributes\":{},\"id\":\"6963\",\"type\":\"Selection\"},{\"attributes\":{},\"id\":\"6964\",\"type\":\"UnionRenderers\"},{\"attributes\":{\"coordinates\":null,\"data_source\":{\"id\":\"6667\"},\"glyph\":{\"id\":\"6668\"},\"group\":null,\"hover_glyph\":null,\"muted_glyph\":{\"id\":\"6670\"},\"nonselection_glyph\":{\"id\":\"6669\"},\"view\":{\"id\":\"6672\"}},\"id\":\"6671\",\"type\":\"GlyphRenderer\"},{\"attributes\":{},\"id\":\"6965\",\"type\":\"Selection\"},{\"attributes\":{\"axis_label\":\"Signal\",\"coordinates\":null,\"formatter\":{\"id\":\"6957\"},\"group\":null,\"major_label_policy\":{\"id\":\"6958\"},\"ticker\":{\"id\":\"6654\"}},\"id\":\"6653\",\"type\":\"LinearAxis\"},{\"attributes\":{\"axis\":{\"id\":\"6649\"},\"coordinates\":null,\"group\":null,\"ticker\":null},\"id\":\"6652\",\"type\":\"Grid\"},{\"attributes\":{\"line_alpha\":{\"value\":0.1},\"line_color\":{\"field\":\"line_color\"},\"line_width\":{\"value\":2},\"xs\":{\"field\":\"xs\"},\"ys\":{\"field\":\"ys\"}},\"id\":\"6669\",\"type\":\"MultiLine\"},{\"attributes\":{},\"id\":\"6654\",\"type\":\"BasicTicker\"},{\"attributes\":{\"source\":{\"id\":\"6667\"}},\"id\":\"6672\",\"type\":\"CDSView\"},{\"attributes\":{},\"id\":\"6650\",\"type\":\"BasicTicker\"},{\"attributes\":{\"data\":{\"x\":{\"__ndarray__\":\"AAAAAAAAAAAAAADAuPsLQAQAAMDQfw5AAgAAEMFPHUACAADg4nEeQAEAACCdMSZAAQAA4J7GJkD///9PcNAtQAMAAFjejS5AAAAA1PXUMkAAAACA1SEzQAAAADCLoTZAAAAAvJPvNkD+///7r3c6QAAAABQHQDtA\",\"dtype\":\"float64\",\"order\":\"little\",\"shape\":[15]},\"y\":{\"__ndarray__\":\"AAAAAAAAaUAAAAAAAABpQAAAAAAAAGlAAAAAAAAAaUAAAAAAAABpQAAAAAAAAGlAAAAAAAAAaUAAAAAAAABpQAAAAAAAAGlAAAAAAAAAaUAAAAAAAABpQAAAAAAAAGlAAAAAAAAAaUAAAAAAAABpQAAAAAAAAGlA\",\"dtype\":\"float64\",\"order\":\"little\",\"shape\":[15]}},\"selected\":{\"id\":\"6965\"},\"selection_policy\":{\"id\":\"6964\"}},\"id\":\"6673\",\"type\":\"ColumnDataSource\"},{\"attributes\":{\"coordinates\":null,\"group\":null,\"text\":\"wing_hist_pres_0915191257\"},\"id\":\"6639\",\"type\":\"Title\"},{\"attributes\":{\"axis\":{\"id\":\"6653\"},\"coordinates\":null,\"dimension\":1,\"group\":null,\"ticker\":null},\"id\":\"6656\",\"type\":\"Grid\"},{\"attributes\":{},\"id\":\"6645\",\"type\":\"LinearScale\"},{\"attributes\":{\"line_alpha\":0.2,\"line_dash\":[2,4],\"line_width\":2,\"x\":{\"field\":\"x\"},\"y\":{\"field\":\"y\"}},\"id\":\"6676\",\"type\":\"Line\"},{\"attributes\":{},\"id\":\"6647\",\"type\":\"LinearScale\"},{\"attributes\":{\"line_alpha\":0.1,\"line_dash\":[2,4],\"line_width\":2,\"x\":{\"field\":\"x\"},\"y\":{\"field\":\"y\"}},\"id\":\"6675\",\"type\":\"Line\"},{\"attributes\":{},\"id\":\"6660\",\"type\":\"ResetTool\"},{\"attributes\":{\"axis_label\":\"Time (s)\",\"coordinates\":null,\"formatter\":{\"id\":\"6960\"},\"group\":null,\"major_label_policy\":{\"id\":\"6961\"},\"ticker\":{\"id\":\"6650\"}},\"id\":\"6649\",\"type\":\"LinearAxis\"},{\"attributes\":{\"coordinates\":null,\"data_source\":{\"id\":\"6673\"},\"glyph\":{\"id\":\"6674\"},\"group\":null,\"hover_glyph\":null,\"muted_glyph\":{\"id\":\"6676\"},\"nonselection_glyph\":{\"id\":\"6675\"},\"view\":{\"id\":\"6678\"}},\"id\":\"6677\",\"type\":\"GlyphRenderer\"},{\"attributes\":{\"data\":{\"line_color\":[\"blue\"],\"xs\":[[0.0,3.497910976409912,3.8124098777771014,7.3278849124908465,7.6112170219421404,11.096901893615724,11.387930870056154,14.90710687637329,15.277086973190313,18.831876039505005,19.132164001464844,22.631030082702637,22.935847997665405,26.467529058456414,27.250108003616333]],\"ys\":[[51.0,43.0,48.0,55.0,55.0,56.0,66.0,49.0,47.0,69.0,62.0,82.0,87.0,220.0,2.0]]},\"selected\":{\"id\":\"6963\"},\"selection_policy\":{\"id\":\"6962\"}},\"id\":\"6667\",\"type\":\"ColumnDataSource\"}],\"root_ids\":[\"6638\"]},\"title\":\"Bokeh Application\",\"version\":\"2.4.2\"}};\n",
       "  const render_items = [{\"docid\":\"f728eb6e-59aa-46e9-9a93-de7b82d8d32a\",\"root_ids\":[\"6638\"],\"roots\":{\"6638\":\"67931359-0312-4083-a047-36ffdfd231c4\"}}];\n",
       "  root.Bokeh.embed.embed_items_notebook(docs_json, render_items);\n",
       "\n",
       "  }\n",
       "  if (root.Bokeh !== undefined) {\n",
       "    embed_document(root);\n",
       "  } else {\n",
       "    let attempts = 0;\n",
       "    const timer = setInterval(function(root) {\n",
       "      if (root.Bokeh !== undefined) {\n",
       "        clearInterval(timer);\n",
       "        embed_document(root);\n",
       "      } else {\n",
       "        attempts++;\n",
       "        if (attempts > 100) {\n",
       "          clearInterval(timer);\n",
       "          console.log(\"Bokeh: ERROR: Unable to run BokehJS code because BokehJS library is missing\");\n",
       "        }\n",
       "      }\n",
       "    }, 10, root)\n",
       "  }\n",
       "})(window);"
      ],
      "application/vnd.bokehjs_exec.v0+json": ""
     },
     "metadata": {
      "application/vnd.bokehjs_exec.v0+json": {
       "id": "6638"
      }
     },
     "output_type": "display_data"
    },
    {
     "name": "stdout",
     "output_type": "stream",
     "text": [
      "wing_hist_pres_0915145214.csv contains fewer than 10 data points\n",
      "wing_hist_force_0914221836.csv contains fewer than 10 data points\n"
     ]
    },
    {
     "data": {
      "text/html": [
       "\n",
       "\n",
       "\n",
       "\n",
       "\n",
       "\n",
       "  <div class=\"bk-root\" id=\"8cdd9f95-4cfe-419c-a8f2-83d540e43cb1\" data-root-id=\"7027\"></div>\n"
      ]
     },
     "metadata": {},
     "output_type": "display_data"
    },
    {
     "data": {
      "application/javascript": [
       "(function(root) {\n",
       "  function embed_document(root) {\n",
       "    \n",
       "  const docs_json = {\"377238a4-3173-4c1c-ba30-b6375c3d96fc\":{\"defs\":[],\"roots\":{\"references\":[{\"attributes\":{\"below\":[{\"id\":\"7038\"}],\"center\":[{\"id\":\"7041\"},{\"id\":\"7045\"}],\"height\":300,\"left\":[{\"id\":\"7042\"}],\"renderers\":[{\"id\":\"7060\"},{\"id\":\"7066\"}],\"title\":{\"id\":\"7028\"},\"toolbar\":{\"id\":\"7051\"},\"width\":900,\"x_range\":{\"id\":\"7030\"},\"x_scale\":{\"id\":\"7034\"},\"y_range\":{\"id\":\"7032\"},\"y_scale\":{\"id\":\"7036\"}},\"id\":\"7027\",\"subtype\":\"Figure\",\"type\":\"Plot\"},{\"attributes\":{\"line_color\":{\"field\":\"line_color\"},\"line_width\":{\"value\":2},\"xs\":{\"field\":\"xs\"},\"ys\":{\"field\":\"ys\"}},\"id\":\"7057\",\"type\":\"MultiLine\"},{\"attributes\":{},\"id\":\"7361\",\"type\":\"BasicTickFormatter\"},{\"attributes\":{\"axis\":{\"id\":\"7042\"},\"coordinates\":null,\"dimension\":1,\"group\":null,\"ticker\":null},\"id\":\"7045\",\"type\":\"Grid\"},{\"attributes\":{\"tools\":[{\"id\":\"7046\"},{\"id\":\"7047\"},{\"id\":\"7048\"},{\"id\":\"7049\"}]},\"id\":\"7051\",\"type\":\"Toolbar\"},{\"attributes\":{\"axis_label\":\"Signal\",\"coordinates\":null,\"formatter\":{\"id\":\"7358\"},\"group\":null,\"major_label_policy\":{\"id\":\"7359\"},\"ticker\":{\"id\":\"7043\"}},\"id\":\"7042\",\"type\":\"LinearAxis\"},{\"attributes\":{\"line_alpha\":{\"value\":0.2},\"line_color\":{\"field\":\"line_color\"},\"line_width\":{\"value\":2},\"xs\":{\"field\":\"xs\"},\"ys\":{\"field\":\"ys\"}},\"id\":\"7059\",\"type\":\"MultiLine\"},{\"attributes\":{},\"id\":\"7362\",\"type\":\"AllLabels\"},{\"attributes\":{},\"id\":\"7363\",\"type\":\"UnionRenderers\"},{\"attributes\":{},\"id\":\"7364\",\"type\":\"Selection\"},{\"attributes\":{\"source\":{\"id\":\"7056\"}},\"id\":\"7061\",\"type\":\"CDSView\"},{\"attributes\":{},\"id\":\"7046\",\"type\":\"PanTool\"},{\"attributes\":{},\"id\":\"7365\",\"type\":\"UnionRenderers\"},{\"attributes\":{\"coordinates\":null,\"data_source\":{\"id\":\"7056\"},\"glyph\":{\"id\":\"7057\"},\"group\":null,\"hover_glyph\":null,\"muted_glyph\":{\"id\":\"7059\"},\"nonselection_glyph\":{\"id\":\"7058\"},\"view\":{\"id\":\"7061\"}},\"id\":\"7060\",\"type\":\"GlyphRenderer\"},{\"attributes\":{},\"id\":\"7047\",\"type\":\"WheelZoomTool\"},{\"attributes\":{\"data\":{\"x\":{\"__ndarray__\":\"AAAAAAAAAAAAAADAuPsLQAQAAMDQfw5AAgAAEMFPHUACAADg4nEeQAEAACCdMSZAAQAA4J7GJkD///9PcNAtQAMAAFjejS5AAAAA1PXUMkAAAACA1SEzQAAAADCLoTZAAAAAvJPvNkD+///7r3c6QAAAABQHQDtA\",\"dtype\":\"float64\",\"order\":\"little\",\"shape\":[15]},\"y\":{\"__ndarray__\":\"AAAAAAAAaUAAAAAAAABpQAAAAAAAAGlAAAAAAAAAaUAAAAAAAABpQAAAAAAAAGlAAAAAAAAAaUAAAAAAAABpQAAAAAAAAGlAAAAAAAAAaUAAAAAAAABpQAAAAAAAAGlAAAAAAAAAaUAAAAAAAABpQAAAAAAAAGlA\",\"dtype\":\"float64\",\"order\":\"little\",\"shape\":[15]}},\"selected\":{\"id\":\"7366\"},\"selection_policy\":{\"id\":\"7365\"}},\"id\":\"7062\",\"type\":\"ColumnDataSource\"},{\"attributes\":{},\"id\":\"7043\",\"type\":\"BasicTicker\"},{\"attributes\":{},\"id\":\"7032\",\"type\":\"DataRange1d\"},{\"attributes\":{\"overlay\":{\"id\":\"7050\"}},\"id\":\"7048\",\"type\":\"BoxZoomTool\"},{\"attributes\":{},\"id\":\"7366\",\"type\":\"Selection\"},{\"attributes\":{},\"id\":\"7049\",\"type\":\"ResetTool\"},{\"attributes\":{\"data\":{\"line_color\":[\"blue\"],\"xs\":[[0.0,3.497910976409912,3.8124098777771014,7.3278849124908465,7.6112170219421404,11.096901893615724,11.387930870056154,14.90710687637329,15.277086973190313,18.831876039505005,19.132164001464844,22.631030082702637,22.935847997665405,26.467529058456414,27.250108003616333]],\"ys\":[[28.0,83.0,79.0,26.0,19.0,6.0,25.0,-28.0,-16.0,60.0,62.0,70.0,84.0,289.0,-219.0]]},\"selected\":{\"id\":\"7364\"},\"selection_policy\":{\"id\":\"7363\"}},\"id\":\"7056\",\"type\":\"ColumnDataSource\"},{\"attributes\":{\"line_alpha\":0.1,\"line_dash\":[2,4],\"line_width\":2,\"x\":{\"field\":\"x\"},\"y\":{\"field\":\"y\"}},\"id\":\"7064\",\"type\":\"Line\"},{\"attributes\":{},\"id\":\"7034\",\"type\":\"LinearScale\"},{\"attributes\":{\"coordinates\":null,\"data_source\":{\"id\":\"7062\"},\"glyph\":{\"id\":\"7063\"},\"group\":null,\"hover_glyph\":null,\"muted_glyph\":{\"id\":\"7065\"},\"nonselection_glyph\":{\"id\":\"7064\"},\"view\":{\"id\":\"7067\"}},\"id\":\"7066\",\"type\":\"GlyphRenderer\"},{\"attributes\":{\"axis_label\":\"Time (s)\",\"coordinates\":null,\"formatter\":{\"id\":\"7361\"},\"group\":null,\"major_label_policy\":{\"id\":\"7362\"},\"ticker\":{\"id\":\"7039\"}},\"id\":\"7038\",\"type\":\"LinearAxis\"},{\"attributes\":{\"line_alpha\":0.2,\"line_dash\":[2,4],\"line_width\":2,\"x\":{\"field\":\"x\"},\"y\":{\"field\":\"y\"}},\"id\":\"7065\",\"type\":\"Line\"},{\"attributes\":{\"bottom_units\":\"screen\",\"coordinates\":null,\"fill_alpha\":0.5,\"fill_color\":\"lightgrey\",\"group\":null,\"left_units\":\"screen\",\"level\":\"overlay\",\"line_alpha\":1.0,\"line_color\":\"black\",\"line_dash\":[4,4],\"line_width\":2,\"right_units\":\"screen\",\"syncable\":false,\"top_units\":\"screen\"},\"id\":\"7050\",\"type\":\"BoxAnnotation\"},{\"attributes\":{\"coordinates\":null,\"group\":null,\"text\":\"wing_hist_force_0915191257\"},\"id\":\"7028\",\"type\":\"Title\"},{\"attributes\":{\"axis\":{\"id\":\"7038\"},\"coordinates\":null,\"group\":null,\"ticker\":null},\"id\":\"7041\",\"type\":\"Grid\"},{\"attributes\":{\"line_dash\":[2,4],\"line_width\":2,\"x\":{\"field\":\"x\"},\"y\":{\"field\":\"y\"}},\"id\":\"7063\",\"type\":\"Line\"},{\"attributes\":{\"line_alpha\":{\"value\":0.1},\"line_color\":{\"field\":\"line_color\"},\"line_width\":{\"value\":2},\"xs\":{\"field\":\"xs\"},\"ys\":{\"field\":\"ys\"}},\"id\":\"7058\",\"type\":\"MultiLine\"},{\"attributes\":{\"source\":{\"id\":\"7062\"}},\"id\":\"7067\",\"type\":\"CDSView\"},{\"attributes\":{},\"id\":\"7030\",\"type\":\"DataRange1d\"},{\"attributes\":{},\"id\":\"7036\",\"type\":\"LinearScale\"},{\"attributes\":{},\"id\":\"7359\",\"type\":\"AllLabels\"},{\"attributes\":{},\"id\":\"7039\",\"type\":\"BasicTicker\"},{\"attributes\":{},\"id\":\"7358\",\"type\":\"BasicTickFormatter\"}],\"root_ids\":[\"7027\"]},\"title\":\"Bokeh Application\",\"version\":\"2.4.2\"}};\n",
       "  const render_items = [{\"docid\":\"377238a4-3173-4c1c-ba30-b6375c3d96fc\",\"root_ids\":[\"7027\"],\"roots\":{\"7027\":\"8cdd9f95-4cfe-419c-a8f2-83d540e43cb1\"}}];\n",
       "  root.Bokeh.embed.embed_items_notebook(docs_json, render_items);\n",
       "\n",
       "  }\n",
       "  if (root.Bokeh !== undefined) {\n",
       "    embed_document(root);\n",
       "  } else {\n",
       "    let attempts = 0;\n",
       "    const timer = setInterval(function(root) {\n",
       "      if (root.Bokeh !== undefined) {\n",
       "        clearInterval(timer);\n",
       "        embed_document(root);\n",
       "      } else {\n",
       "        attempts++;\n",
       "        if (attempts > 100) {\n",
       "          clearInterval(timer);\n",
       "          console.log(\"Bokeh: ERROR: Unable to run BokehJS code because BokehJS library is missing\");\n",
       "        }\n",
       "      }\n",
       "    }, 10, root)\n",
       "  }\n",
       "})(window);"
      ],
      "application/vnd.bokehjs_exec.v0+json": ""
     },
     "metadata": {
      "application/vnd.bokehjs_exec.v0+json": {
       "id": "7027"
      }
     },
     "output_type": "display_data"
    },
    {
     "data": {
      "text/html": [
       "\n",
       "\n",
       "\n",
       "\n",
       "\n",
       "\n",
       "  <div class=\"bk-root\" id=\"c93bc6ae-c9ee-44cf-a695-aca29d212be8\" data-root-id=\"7428\"></div>\n"
      ]
     },
     "metadata": {},
     "output_type": "display_data"
    },
    {
     "data": {
      "application/javascript": [
       "(function(root) {\n",
       "  function embed_document(root) {\n",
       "    \n",
       "  const docs_json = {\"79566db8-f65a-430f-843a-2fe5f92594f4\":{\"defs\":[],\"roots\":{\"references\":[{\"attributes\":{\"below\":[{\"id\":\"7439\"}],\"center\":[{\"id\":\"7442\"},{\"id\":\"7446\"}],\"height\":300,\"left\":[{\"id\":\"7443\"}],\"renderers\":[{\"id\":\"7461\"},{\"id\":\"7467\"}],\"title\":{\"id\":\"7429\"},\"toolbar\":{\"id\":\"7452\"},\"width\":900,\"x_range\":{\"id\":\"7431\"},\"x_scale\":{\"id\":\"7435\"},\"y_range\":{\"id\":\"7433\"},\"y_scale\":{\"id\":\"7437\"}},\"id\":\"7428\",\"subtype\":\"Figure\",\"type\":\"Plot\"},{\"attributes\":{\"data\":{\"x\":{\"__ndarray__\":\"AAAAAAAAAAAAAAAgS20MQAAAAKBZlg1AAAAAcOsAHUACAAAwQZQdQAEAAPCZ5CVA////F6MuJkAAAADQ60gtQAAAAMiaki1AAAAAoLZWMkABAADckHsyQAEAAJT8CDZAAAAAJNstNkAAAADgQbs5QAAAAPSlTzpA////5/W9QED////t7o9BQP////1iIkJAAAAAqLA0QkABAADuIftDQP///9GKDURA/v//ueHTRUD///91T+ZFQP///83jrEdAAAAAvmq/R0D+//81JoZJQP///5+RmElAAAAA6iJfS0ABAACWkHFLQP///zUHOE1AAQAAXHBKTUD+///DKRFPQAAAAKzgW09A////oPh3UUAAAACFmd1RQAEAAEjeJlJAAAAADhMwUkAAAAARbxNTQAAAAHekHFNAAQAA9P7/U0D///+0NQlUQAAAABbD7FRA////Fz8SVUA=\",\"dtype\":\"float64\",\"order\":\"little\",\"shape\":[43]},\"y\":{\"__ndarray__\":\"AAAAAAAAaUAAAAAAAABpQAAAAAAAAGlAAAAAAAAAaUAAAAAAAABpQAAAAAAAAGlAAAAAAAAAaUAAAAAAAABpQAAAAAAAAGlAAAAAAAAAaUAAAAAAAABpQAAAAAAAAGlAAAAAAAAAaUAAAAAAAABpQAAAAAAAAGlAAAAAAAAAaUAAAAAAAABpQAAAAAAAAGlAAAAAAAAAaUAAAAAAAABpQAAAAAAAAGlAAAAAAAAAaUAAAAAAAABpQAAAAAAAAGlAAAAAAAAAaUAAAAAAAABpQAAAAAAAAGlAAAAAAAAAaUAAAAAAAABpQAAAAAAAAGlAAAAAAAAAaUAAAAAAAABpQAAAAAAAAGlAAAAAAAAAaUAAAAAAAABpQAAAAAAAAGlAAAAAAAAAaUAAAAAAAABpQAAAAAAAAGlAAAAAAAAAaUAAAAAAAABpQAAAAAAAAGlAAAAAAAAAaUA=\",\"dtype\":\"float64\",\"order\":\"little\",\"shape\":[43]}},\"selected\":{\"id\":\"7779\"},\"selection_policy\":{\"id\":\"7778\"}},\"id\":\"7463\",\"type\":\"ColumnDataSource\"},{\"attributes\":{},\"id\":\"7431\",\"type\":\"DataRange1d\"},{\"attributes\":{},\"id\":\"7774\",\"type\":\"BasicTickFormatter\"},{\"attributes\":{},\"id\":\"7433\",\"type\":\"DataRange1d\"},{\"attributes\":{},\"id\":\"7771\",\"type\":\"BasicTickFormatter\"},{\"attributes\":{},\"id\":\"7435\",\"type\":\"LinearScale\"},{\"attributes\":{\"line_alpha\":0.1,\"line_dash\":[2,4],\"line_width\":2,\"x\":{\"field\":\"x\"},\"y\":{\"field\":\"y\"}},\"id\":\"7465\",\"type\":\"Line\"},{\"attributes\":{\"line_dash\":[2,4],\"line_width\":2,\"x\":{\"field\":\"x\"},\"y\":{\"field\":\"y\"}},\"id\":\"7464\",\"type\":\"Line\"},{\"attributes\":{\"coordinates\":null,\"data_source\":{\"id\":\"7463\"},\"glyph\":{\"id\":\"7464\"},\"group\":null,\"hover_glyph\":null,\"muted_glyph\":{\"id\":\"7466\"},\"nonselection_glyph\":{\"id\":\"7465\"},\"view\":{\"id\":\"7468\"}},\"id\":\"7467\",\"type\":\"GlyphRenderer\"},{\"attributes\":{\"line_color\":{\"field\":\"line_color\"},\"line_width\":{\"value\":2},\"xs\":{\"field\":\"xs\"},\"ys\":{\"field\":\"ys\"}},\"id\":\"7458\",\"type\":\"MultiLine\"},{\"attributes\":{},\"id\":\"7777\",\"type\":\"Selection\"},{\"attributes\":{\"coordinates\":null,\"group\":null,\"text\":\"wing_hist_pres_0914222335\"},\"id\":\"7429\",\"type\":\"Title\"},{\"attributes\":{\"line_alpha\":0.2,\"line_dash\":[2,4],\"line_width\":2,\"x\":{\"field\":\"x\"},\"y\":{\"field\":\"y\"}},\"id\":\"7466\",\"type\":\"Line\"},{\"attributes\":{},\"id\":\"7450\",\"type\":\"ResetTool\"},{\"attributes\":{\"axis\":{\"id\":\"7439\"},\"coordinates\":null,\"group\":null,\"ticker\":null},\"id\":\"7442\",\"type\":\"Grid\"},{\"attributes\":{},\"id\":\"7448\",\"type\":\"WheelZoomTool\"},{\"attributes\":{},\"id\":\"7444\",\"type\":\"BasicTicker\"},{\"attributes\":{\"source\":{\"id\":\"7463\"}},\"id\":\"7468\",\"type\":\"CDSView\"},{\"attributes\":{\"data\":{\"line_color\":[\"blue\"],\"xs\":[[0.0,3.55336594581604,3.698413133621216,7.250898122787476,7.394779920578005,10.946486949920656,11.09108805656433,14.6424241065979,14.78633713722229,18.33872413635254,18.482679128646854,22.03510403633118,22.1791250705719,25.731473922729492,26.311125993728638,33.484066963195794,35.124479055404656,36.26864600181579,36.411641120910645,39.961972951889045,40.10579895973205,43.65532612800597,43.799299955368035,47.350702047348015,47.495445013046265,51.04804110527037,51.191944122314446,54.743252992630005,54.88722491264344,58.437720060348504,58.581553936004646,62.13408708572386,62.7177939414978,69.87455010414122,71.46249508857727,72.60731697082521,72.75116300582886,76.3036539554596,76.44753813743591,79.99993610382081,80.14390301704405,83.69940710067749,84.28510093688963]],\"ys\":[[21.0,39.0,36.0,33.0,45.0,41.0,46.0,82.0,67.0,13.0,21.0,5.0,5.0,3.0,66.0,1.0,0.0,1.0,0.0,41.0,70.0,52.0,52.0,73.0,79.0,47.0,45.0,152.0,156.0,129.0,138.0,35.0,131.0,0.0,6.0,2.0,2.0,55.0,51.0,76.0,75.0,119.0,73.0]]},\"selected\":{\"id\":\"7777\"},\"selection_policy\":{\"id\":\"7776\"}},\"id\":\"7457\",\"type\":\"ColumnDataSource\"},{\"attributes\":{},\"id\":\"7447\",\"type\":\"PanTool\"},{\"attributes\":{\"coordinates\":null,\"data_source\":{\"id\":\"7457\"},\"glyph\":{\"id\":\"7458\"},\"group\":null,\"hover_glyph\":null,\"muted_glyph\":{\"id\":\"7460\"},\"nonselection_glyph\":{\"id\":\"7459\"},\"view\":{\"id\":\"7462\"}},\"id\":\"7461\",\"type\":\"GlyphRenderer\"},{\"attributes\":{},\"id\":\"7440\",\"type\":\"BasicTicker\"},{\"attributes\":{\"axis_label\":\"Time (s)\",\"coordinates\":null,\"formatter\":{\"id\":\"7774\"},\"group\":null,\"major_label_policy\":{\"id\":\"7775\"},\"ticker\":{\"id\":\"7440\"}},\"id\":\"7439\",\"type\":\"LinearAxis\"},{\"attributes\":{\"line_alpha\":{\"value\":0.2},\"line_color\":{\"field\":\"line_color\"},\"line_width\":{\"value\":2},\"xs\":{\"field\":\"xs\"},\"ys\":{\"field\":\"ys\"}},\"id\":\"7460\",\"type\":\"MultiLine\"},{\"attributes\":{},\"id\":\"7772\",\"type\":\"AllLabels\"},{\"attributes\":{},\"id\":\"7775\",\"type\":\"AllLabels\"},{\"attributes\":{\"tools\":[{\"id\":\"7447\"},{\"id\":\"7448\"},{\"id\":\"7449\"},{\"id\":\"7450\"}]},\"id\":\"7452\",\"type\":\"Toolbar\"},{\"attributes\":{\"axis\":{\"id\":\"7443\"},\"coordinates\":null,\"dimension\":1,\"group\":null,\"ticker\":null},\"id\":\"7446\",\"type\":\"Grid\"},{\"attributes\":{},\"id\":\"7776\",\"type\":\"UnionRenderers\"},{\"attributes\":{},\"id\":\"7779\",\"type\":\"Selection\"},{\"attributes\":{\"axis_label\":\"Signal\",\"coordinates\":null,\"formatter\":{\"id\":\"7771\"},\"group\":null,\"major_label_policy\":{\"id\":\"7772\"},\"ticker\":{\"id\":\"7444\"}},\"id\":\"7443\",\"type\":\"LinearAxis\"},{\"attributes\":{},\"id\":\"7778\",\"type\":\"UnionRenderers\"},{\"attributes\":{},\"id\":\"7437\",\"type\":\"LinearScale\"},{\"attributes\":{\"line_alpha\":{\"value\":0.1},\"line_color\":{\"field\":\"line_color\"},\"line_width\":{\"value\":2},\"xs\":{\"field\":\"xs\"},\"ys\":{\"field\":\"ys\"}},\"id\":\"7459\",\"type\":\"MultiLine\"},{\"attributes\":{\"overlay\":{\"id\":\"7451\"}},\"id\":\"7449\",\"type\":\"BoxZoomTool\"},{\"attributes\":{\"bottom_units\":\"screen\",\"coordinates\":null,\"fill_alpha\":0.5,\"fill_color\":\"lightgrey\",\"group\":null,\"left_units\":\"screen\",\"level\":\"overlay\",\"line_alpha\":1.0,\"line_color\":\"black\",\"line_dash\":[4,4],\"line_width\":2,\"right_units\":\"screen\",\"syncable\":false,\"top_units\":\"screen\"},\"id\":\"7451\",\"type\":\"BoxAnnotation\"},{\"attributes\":{\"source\":{\"id\":\"7457\"}},\"id\":\"7462\",\"type\":\"CDSView\"}],\"root_ids\":[\"7428\"]},\"title\":\"Bokeh Application\",\"version\":\"2.4.2\"}};\n",
       "  const render_items = [{\"docid\":\"79566db8-f65a-430f-843a-2fe5f92594f4\",\"root_ids\":[\"7428\"],\"roots\":{\"7428\":\"c93bc6ae-c9ee-44cf-a695-aca29d212be8\"}}];\n",
       "  root.Bokeh.embed.embed_items_notebook(docs_json, render_items);\n",
       "\n",
       "  }\n",
       "  if (root.Bokeh !== undefined) {\n",
       "    embed_document(root);\n",
       "  } else {\n",
       "    let attempts = 0;\n",
       "    const timer = setInterval(function(root) {\n",
       "      if (root.Bokeh !== undefined) {\n",
       "        clearInterval(timer);\n",
       "        embed_document(root);\n",
       "      } else {\n",
       "        attempts++;\n",
       "        if (attempts > 100) {\n",
       "          clearInterval(timer);\n",
       "          console.log(\"Bokeh: ERROR: Unable to run BokehJS code because BokehJS library is missing\");\n",
       "        }\n",
       "      }\n",
       "    }, 10, root)\n",
       "  }\n",
       "})(window);"
      ],
      "application/vnd.bokehjs_exec.v0+json": ""
     },
     "metadata": {
      "application/vnd.bokehjs_exec.v0+json": {
       "id": "7428"
      }
     },
     "output_type": "display_data"
    },
    {
     "data": {
      "text/html": [
       "\n",
       "\n",
       "\n",
       "\n",
       "\n",
       "\n",
       "  <div class=\"bk-root\" id=\"850b43f1-9918-4a2c-88e3-4a5cc30d7dc0\" data-root-id=\"7841\"></div>\n"
      ]
     },
     "metadata": {},
     "output_type": "display_data"
    },
    {
     "data": {
      "application/javascript": [
       "(function(root) {\n",
       "  function embed_document(root) {\n",
       "    \n",
       "  const docs_json = {\"324e169c-9d58-4fd9-bd82-9678ce2c78d6\":{\"defs\":[],\"roots\":{\"references\":[{\"attributes\":{\"below\":[{\"id\":\"7852\"}],\"center\":[{\"id\":\"7855\"},{\"id\":\"7859\"}],\"height\":300,\"left\":[{\"id\":\"7856\"}],\"renderers\":[{\"id\":\"7874\"},{\"id\":\"7880\"}],\"title\":{\"id\":\"7842\"},\"toolbar\":{\"id\":\"7865\"},\"width\":900,\"x_range\":{\"id\":\"7844\"},\"x_scale\":{\"id\":\"7848\"},\"y_range\":{\"id\":\"7846\"},\"y_scale\":{\"id\":\"7850\"}},\"id\":\"7841\",\"subtype\":\"Figure\",\"type\":\"Plot\"},{\"attributes\":{\"coordinates\":null,\"data_source\":{\"id\":\"7876\"},\"glyph\":{\"id\":\"7877\"},\"group\":null,\"hover_glyph\":null,\"muted_glyph\":{\"id\":\"7879\"},\"nonselection_glyph\":{\"id\":\"7878\"},\"view\":{\"id\":\"7881\"}},\"id\":\"7880\",\"type\":\"GlyphRenderer\"},{\"attributes\":{\"line_color\":{\"field\":\"line_color\"},\"line_width\":{\"value\":2},\"xs\":{\"field\":\"xs\"},\"ys\":{\"field\":\"ys\"}},\"id\":\"7871\",\"type\":\"MultiLine\"},{\"attributes\":{\"line_alpha\":0.2,\"line_dash\":[2,4],\"line_width\":2,\"x\":{\"field\":\"x\"},\"y\":{\"field\":\"y\"}},\"id\":\"7879\",\"type\":\"Line\"},{\"attributes\":{},\"id\":\"7861\",\"type\":\"WheelZoomTool\"},{\"attributes\":{\"line_dash\":[2,4],\"line_width\":2,\"x\":{\"field\":\"x\"},\"y\":{\"field\":\"y\"}},\"id\":\"7877\",\"type\":\"Line\"},{\"attributes\":{\"bottom_units\":\"screen\",\"coordinates\":null,\"fill_alpha\":0.5,\"fill_color\":\"lightgrey\",\"group\":null,\"left_units\":\"screen\",\"level\":\"overlay\",\"line_alpha\":1.0,\"line_color\":\"black\",\"line_dash\":[4,4],\"line_width\":2,\"right_units\":\"screen\",\"syncable\":false,\"top_units\":\"screen\"},\"id\":\"7864\",\"type\":\"BoxAnnotation\"},{\"attributes\":{},\"id\":\"7860\",\"type\":\"PanTool\"},{\"attributes\":{},\"id\":\"8196\",\"type\":\"BasicTickFormatter\"},{\"attributes\":{},\"id\":\"7846\",\"type\":\"DataRange1d\"},{\"attributes\":{\"source\":{\"id\":\"7876\"}},\"id\":\"7881\",\"type\":\"CDSView\"},{\"attributes\":{},\"id\":\"8197\",\"type\":\"AllLabels\"},{\"attributes\":{\"axis_label\":\"Time (s)\",\"coordinates\":null,\"formatter\":{\"id\":\"8199\"},\"group\":null,\"major_label_policy\":{\"id\":\"8200\"},\"ticker\":{\"id\":\"7853\"}},\"id\":\"7852\",\"type\":\"LinearAxis\"},{\"attributes\":{},\"id\":\"8199\",\"type\":\"BasicTickFormatter\"},{\"attributes\":{},\"id\":\"8200\",\"type\":\"AllLabels\"},{\"attributes\":{\"coordinates\":null,\"data_source\":{\"id\":\"7870\"},\"glyph\":{\"id\":\"7871\"},\"group\":null,\"hover_glyph\":null,\"muted_glyph\":{\"id\":\"7873\"},\"nonselection_glyph\":{\"id\":\"7872\"},\"view\":{\"id\":\"7875\"}},\"id\":\"7874\",\"type\":\"GlyphRenderer\"},{\"attributes\":{\"axis\":{\"id\":\"7856\"},\"coordinates\":null,\"dimension\":1,\"group\":null,\"ticker\":null},\"id\":\"7859\",\"type\":\"Grid\"},{\"attributes\":{},\"id\":\"8201\",\"type\":\"UnionRenderers\"},{\"attributes\":{\"tools\":[{\"id\":\"7860\"},{\"id\":\"7861\"},{\"id\":\"7862\"},{\"id\":\"7863\"}]},\"id\":\"7865\",\"type\":\"Toolbar\"},{\"attributes\":{\"data\":{\"line_color\":[\"blue\"],\"xs\":[[0.0,3.555486917495725,3.7006049156188956,7.25284194946289,7.397743940353391,10.949201822280884,11.093071937561035,14.643605947494503,14.787409782409668,18.338735818862915,18.482622861862183,22.033127784729004,22.177584886550903,25.72942280769348,26.310892820358273,33.48189187049866,35.07154178619385,36.21568584442139,36.35922193527222,39.91191482543946,40.49749183654785]],\"ys\":[[6.0,28.0,26.0,28.0,29.0,46.0,54.0,6.0,36.0,50.0,51.0,42.0,42.0,51.0,2.0,39.0,48.0,36.0,52.0,121.0,126.0]]},\"selected\":{\"id\":\"8202\"},\"selection_policy\":{\"id\":\"8201\"}},\"id\":\"7870\",\"type\":\"ColumnDataSource\"},{\"attributes\":{},\"id\":\"7857\",\"type\":\"BasicTicker\"},{\"attributes\":{},\"id\":\"8202\",\"type\":\"Selection\"},{\"attributes\":{\"axis\":{\"id\":\"7852\"},\"coordinates\":null,\"group\":null,\"ticker\":null},\"id\":\"7855\",\"type\":\"Grid\"},{\"attributes\":{\"axis_label\":\"Signal\",\"coordinates\":null,\"formatter\":{\"id\":\"8196\"},\"group\":null,\"major_label_policy\":{\"id\":\"8197\"},\"ticker\":{\"id\":\"7857\"}},\"id\":\"7856\",\"type\":\"LinearAxis\"},{\"attributes\":{},\"id\":\"8203\",\"type\":\"UnionRenderers\"},{\"attributes\":{\"line_alpha\":{\"value\":0.2},\"line_color\":{\"field\":\"line_color\"},\"line_width\":{\"value\":2},\"xs\":{\"field\":\"xs\"},\"ys\":{\"field\":\"ys\"}},\"id\":\"7873\",\"type\":\"MultiLine\"},{\"attributes\":{\"overlay\":{\"id\":\"7864\"}},\"id\":\"7862\",\"type\":\"BoxZoomTool\"},{\"attributes\":{},\"id\":\"8204\",\"type\":\"Selection\"},{\"attributes\":{},\"id\":\"7863\",\"type\":\"ResetTool\"},{\"attributes\":{},\"id\":\"7853\",\"type\":\"BasicTicker\"},{\"attributes\":{},\"id\":\"7850\",\"type\":\"LinearScale\"},{\"attributes\":{\"line_alpha\":{\"value\":0.1},\"line_color\":{\"field\":\"line_color\"},\"line_width\":{\"value\":2},\"xs\":{\"field\":\"xs\"},\"ys\":{\"field\":\"ys\"}},\"id\":\"7872\",\"type\":\"MultiLine\"},{\"attributes\":{\"source\":{\"id\":\"7870\"}},\"id\":\"7875\",\"type\":\"CDSView\"},{\"attributes\":{\"data\":{\"x\":{\"__ndarray__\":\"AAAAAAAAAAD6//8fo3EMQP7//7/Wmg1A/////+gCHUD9//8vSpcdQAAAAMj95SVAAAAAIKcvJkD+//+3hkktQAAAAGAnky1AAAAAZLdWMkAAAAAsjXsyQAAAABB7CDZAAAAANHYtNkAAAAB0u7o5QP///6uWTzpAAAAAoq69QEAAAABIKIlBQAAAAJibG0JAAAAA/PotQkABAACgufRDQAAAANCtP0RA\",\"dtype\":\"float64\",\"order\":\"little\",\"shape\":[21]},\"y\":{\"__ndarray__\":\"AAAAAAAAaUAAAAAAAABpQAAAAAAAAGlAAAAAAAAAaUAAAAAAAABpQAAAAAAAAGlAAAAAAAAAaUAAAAAAAABpQAAAAAAAAGlAAAAAAAAAaUAAAAAAAABpQAAAAAAAAGlAAAAAAAAAaUAAAAAAAABpQAAAAAAAAGlAAAAAAAAAaUAAAAAAAABpQAAAAAAAAGlAAAAAAAAAaUAAAAAAAABpQAAAAAAAAGlA\",\"dtype\":\"float64\",\"order\":\"little\",\"shape\":[21]}},\"selected\":{\"id\":\"8204\"},\"selection_policy\":{\"id\":\"8203\"}},\"id\":\"7876\",\"type\":\"ColumnDataSource\"},{\"attributes\":{},\"id\":\"7844\",\"type\":\"DataRange1d\"},{\"attributes\":{\"coordinates\":null,\"group\":null,\"text\":\"wing_hist_pres_0914221951\"},\"id\":\"7842\",\"type\":\"Title\"},{\"attributes\":{},\"id\":\"7848\",\"type\":\"LinearScale\"},{\"attributes\":{\"line_alpha\":0.1,\"line_dash\":[2,4],\"line_width\":2,\"x\":{\"field\":\"x\"},\"y\":{\"field\":\"y\"}},\"id\":\"7878\",\"type\":\"Line\"}],\"root_ids\":[\"7841\"]},\"title\":\"Bokeh Application\",\"version\":\"2.4.2\"}};\n",
       "  const render_items = [{\"docid\":\"324e169c-9d58-4fd9-bd82-9678ce2c78d6\",\"root_ids\":[\"7841\"],\"roots\":{\"7841\":\"850b43f1-9918-4a2c-88e3-4a5cc30d7dc0\"}}];\n",
       "  root.Bokeh.embed.embed_items_notebook(docs_json, render_items);\n",
       "\n",
       "  }\n",
       "  if (root.Bokeh !== undefined) {\n",
       "    embed_document(root);\n",
       "  } else {\n",
       "    let attempts = 0;\n",
       "    const timer = setInterval(function(root) {\n",
       "      if (root.Bokeh !== undefined) {\n",
       "        clearInterval(timer);\n",
       "        embed_document(root);\n",
       "      } else {\n",
       "        attempts++;\n",
       "        if (attempts > 100) {\n",
       "          clearInterval(timer);\n",
       "          console.log(\"Bokeh: ERROR: Unable to run BokehJS code because BokehJS library is missing\");\n",
       "        }\n",
       "      }\n",
       "    }, 10, root)\n",
       "  }\n",
       "})(window);"
      ],
      "application/vnd.bokehjs_exec.v0+json": ""
     },
     "metadata": {
      "application/vnd.bokehjs_exec.v0+json": {
       "id": "7841"
      }
     },
     "output_type": "display_data"
    },
    {
     "name": "stdout",
     "output_type": "stream",
     "text": [
      "wing_hist_force_0914232914.csv contains fewer than 10 data points\n"
     ]
    },
    {
     "data": {
      "text/html": [
       "\n",
       "\n",
       "\n",
       "\n",
       "\n",
       "\n",
       "  <div class=\"bk-root\" id=\"ea98a910-9b52-4c6d-a00c-f18df6367c58\" data-root-id=\"8266\"></div>\n"
      ]
     },
     "metadata": {},
     "output_type": "display_data"
    },
    {
     "data": {
      "application/javascript": [
       "(function(root) {\n",
       "  function embed_document(root) {\n",
       "    \n",
       "  const docs_json = {\"7b1cddee-d107-4067-b134-6a08b30dbd85\":{\"defs\":[],\"roots\":{\"references\":[{\"attributes\":{\"below\":[{\"id\":\"8277\"}],\"center\":[{\"id\":\"8280\"},{\"id\":\"8284\"}],\"height\":300,\"left\":[{\"id\":\"8281\"}],\"renderers\":[{\"id\":\"8299\"},{\"id\":\"8305\"}],\"title\":{\"id\":\"8267\"},\"toolbar\":{\"id\":\"8290\"},\"width\":900,\"x_range\":{\"id\":\"8269\"},\"x_scale\":{\"id\":\"8273\"},\"y_range\":{\"id\":\"8271\"},\"y_scale\":{\"id\":\"8275\"}},\"id\":\"8266\",\"subtype\":\"Figure\",\"type\":\"Plot\"},{\"attributes\":{\"line_alpha\":{\"value\":0.1},\"line_color\":{\"field\":\"line_color\"},\"line_width\":{\"value\":2},\"xs\":{\"field\":\"xs\"},\"ys\":{\"field\":\"ys\"}},\"id\":\"8297\",\"type\":\"MultiLine\"},{\"attributes\":{},\"id\":\"8633\",\"type\":\"BasicTickFormatter\"},{\"attributes\":{},\"id\":\"8269\",\"type\":\"DataRange1d\"},{\"attributes\":{\"axis\":{\"id\":\"8281\"},\"coordinates\":null,\"dimension\":1,\"group\":null,\"ticker\":null},\"id\":\"8284\",\"type\":\"Grid\"},{\"attributes\":{\"axis_label\":\"Time (s)\",\"coordinates\":null,\"formatter\":{\"id\":\"8636\"},\"group\":null,\"major_label_policy\":{\"id\":\"8637\"},\"ticker\":{\"id\":\"8278\"}},\"id\":\"8277\",\"type\":\"LinearAxis\"},{\"attributes\":{\"line_color\":{\"field\":\"line_color\"},\"line_width\":{\"value\":2},\"xs\":{\"field\":\"xs\"},\"ys\":{\"field\":\"ys\"}},\"id\":\"8296\",\"type\":\"MultiLine\"},{\"attributes\":{},\"id\":\"8282\",\"type\":\"BasicTicker\"},{\"attributes\":{},\"id\":\"8636\",\"type\":\"BasicTickFormatter\"},{\"attributes\":{\"axis_label\":\"Signal\",\"coordinates\":null,\"formatter\":{\"id\":\"8633\"},\"group\":null,\"major_label_policy\":{\"id\":\"8634\"},\"ticker\":{\"id\":\"8282\"}},\"id\":\"8281\",\"type\":\"LinearAxis\"},{\"attributes\":{\"coordinates\":null,\"data_source\":{\"id\":\"8295\"},\"glyph\":{\"id\":\"8296\"},\"group\":null,\"hover_glyph\":null,\"muted_glyph\":{\"id\":\"8298\"},\"nonselection_glyph\":{\"id\":\"8297\"},\"view\":{\"id\":\"8300\"}},\"id\":\"8299\",\"type\":\"GlyphRenderer\"},{\"attributes\":{},\"id\":\"8637\",\"type\":\"AllLabels\"},{\"attributes\":{\"line_alpha\":{\"value\":0.2},\"line_color\":{\"field\":\"line_color\"},\"line_width\":{\"value\":2},\"xs\":{\"field\":\"xs\"},\"ys\":{\"field\":\"ys\"}},\"id\":\"8298\",\"type\":\"MultiLine\"},{\"attributes\":{},\"id\":\"8638\",\"type\":\"UnionRenderers\"},{\"attributes\":{},\"id\":\"8275\",\"type\":\"LinearScale\"},{\"attributes\":{},\"id\":\"8634\",\"type\":\"AllLabels\"},{\"attributes\":{},\"id\":\"8285\",\"type\":\"PanTool\"},{\"attributes\":{},\"id\":\"8639\",\"type\":\"Selection\"},{\"attributes\":{\"source\":{\"id\":\"8295\"}},\"id\":\"8300\",\"type\":\"CDSView\"},{\"attributes\":{},\"id\":\"8286\",\"type\":\"WheelZoomTool\"},{\"attributes\":{},\"id\":\"8640\",\"type\":\"UnionRenderers\"},{\"attributes\":{\"overlay\":{\"id\":\"8289\"}},\"id\":\"8287\",\"type\":\"BoxZoomTool\"},{\"attributes\":{\"data\":{\"x\":{\"__ndarray__\":\"AAAAAAAAAAAAAADgkwMMQAAAAEAOXw5AAAAAMK5PHUAAAABgcIQeQAAAADiRTyZAAAAA6CPoJkAAAAAQngguQAIAAGgxqC5AAQAA6O3XMkABAABQxjgzQAAAAGgyvzZAAAAAGCQZN0AAAADoFZs6QAAAAHCn6DpA/v//I4VtPkAAAAB4bSo/QAEAAMgCrENAAQAA6CZLREAAAADyWMtEQP///9Uy8URAAQAABmaxRkD///+/z9xGQAAAAMgjnEhAAQAAOA3DSEABAADO2ClJQA==\",\"dtype\":\"float64\",\"order\":\"little\",\"shape\":[26]},\"y\":{\"__ndarray__\":\"AAAAAAAAaUAAAAAAAABpQAAAAAAAAGlAAAAAAAAAaUAAAAAAAABpQAAAAAAAAGlAAAAAAAAAaUAAAAAAAABpQAAAAAAAAGlAAAAAAAAAaUAAAAAAAABpQAAAAAAAAGlAAAAAAAAAaUAAAAAAAABpQAAAAAAAAGlAAAAAAAAAaUAAAAAAAABpQAAAAAAAAGlAAAAAAAAAaUAAAAAAAABpQAAAAAAAAGlAAAAAAAAAaUAAAAAAAABpQAAAAAAAAGlAAAAAAAAAaUAAAAAAAABpQA==\",\"dtype\":\"float64\",\"order\":\"little\",\"shape\":[26]}},\"selected\":{\"id\":\"8641\"},\"selection_policy\":{\"id\":\"8640\"}},\"id\":\"8301\",\"type\":\"ColumnDataSource\"},{\"attributes\":{},\"id\":\"8271\",\"type\":\"DataRange1d\"},{\"attributes\":{},\"id\":\"8288\",\"type\":\"ResetTool\"},{\"attributes\":{},\"id\":\"8641\",\"type\":\"Selection\"},{\"attributes\":{\"coordinates\":null,\"group\":null,\"text\":\"wing_hist_force_0915164430\"},\"id\":\"8267\",\"type\":\"Title\"},{\"attributes\":{\"tools\":[{\"id\":\"8285\"},{\"id\":\"8286\"},{\"id\":\"8287\"},{\"id\":\"8288\"}]},\"id\":\"8290\",\"type\":\"Toolbar\"},{\"attributes\":{},\"id\":\"8273\",\"type\":\"LinearScale\"},{\"attributes\":{\"line_alpha\":0.1,\"line_dash\":[2,4],\"line_width\":2,\"x\":{\"field\":\"x\"},\"y\":{\"field\":\"y\"}},\"id\":\"8303\",\"type\":\"Line\"},{\"attributes\":{\"bottom_units\":\"screen\",\"coordinates\":null,\"fill_alpha\":0.5,\"fill_color\":\"lightgrey\",\"group\":null,\"left_units\":\"screen\",\"level\":\"overlay\",\"line_alpha\":1.0,\"line_color\":\"black\",\"line_dash\":[4,4],\"line_width\":2,\"right_units\":\"screen\",\"syncable\":false,\"top_units\":\"screen\"},\"id\":\"8289\",\"type\":\"BoxAnnotation\"},{\"attributes\":{\"coordinates\":null,\"data_source\":{\"id\":\"8301\"},\"glyph\":{\"id\":\"8302\"},\"group\":null,\"hover_glyph\":null,\"muted_glyph\":{\"id\":\"8304\"},\"nonselection_glyph\":{\"id\":\"8303\"},\"view\":{\"id\":\"8306\"}},\"id\":\"8305\",\"type\":\"GlyphRenderer\"},{\"attributes\":{\"data\":{\"line_color\":[\"blue\"],\"xs\":[[0.0,3.501746892929077,3.7964138984680176,7.327812910079956,7.629334926605225,11.155404806137085,11.453398942947388,15.016830921173096,15.328501939773563,18.843473911285404,19.22177600860596,22.74686288833618,23.098206996917725,26.6058030128479,26.908804893493652,30.427812814712517,31.165732860565186,39.34383487701417,40.58712482452393,41.58865189552307,41.88436388969421,45.385926008224494,45.72509002685546,49.219841957092285,49.52384090423585,50.326928853988655]],\"ys\":[[69.0,125.0,110.0,34.0,46.0,92.0,94.0,114.0,106.0,-145.0,-123.0,-183.0,-182.0,-178.0,-178.0,-188.0,-145.0,-39.0,-32.0,51.0,55.0,81.0,79.0,127.0,198.0,17.0]]},\"selected\":{\"id\":\"8639\"},\"selection_policy\":{\"id\":\"8638\"}},\"id\":\"8295\",\"type\":\"ColumnDataSource\"},{\"attributes\":{\"line_alpha\":0.2,\"line_dash\":[2,4],\"line_width\":2,\"x\":{\"field\":\"x\"},\"y\":{\"field\":\"y\"}},\"id\":\"8304\",\"type\":\"Line\"},{\"attributes\":{\"line_dash\":[2,4],\"line_width\":2,\"x\":{\"field\":\"x\"},\"y\":{\"field\":\"y\"}},\"id\":\"8302\",\"type\":\"Line\"},{\"attributes\":{\"axis\":{\"id\":\"8277\"},\"coordinates\":null,\"group\":null,\"ticker\":null},\"id\":\"8280\",\"type\":\"Grid\"},{\"attributes\":{},\"id\":\"8278\",\"type\":\"BasicTicker\"},{\"attributes\":{\"source\":{\"id\":\"8301\"}},\"id\":\"8306\",\"type\":\"CDSView\"}],\"root_ids\":[\"8266\"]},\"title\":\"Bokeh Application\",\"version\":\"2.4.2\"}};\n",
       "  const render_items = [{\"docid\":\"7b1cddee-d107-4067-b134-6a08b30dbd85\",\"root_ids\":[\"8266\"],\"roots\":{\"8266\":\"ea98a910-9b52-4c6d-a00c-f18df6367c58\"}}];\n",
       "  root.Bokeh.embed.embed_items_notebook(docs_json, render_items);\n",
       "\n",
       "  }\n",
       "  if (root.Bokeh !== undefined) {\n",
       "    embed_document(root);\n",
       "  } else {\n",
       "    let attempts = 0;\n",
       "    const timer = setInterval(function(root) {\n",
       "      if (root.Bokeh !== undefined) {\n",
       "        clearInterval(timer);\n",
       "        embed_document(root);\n",
       "      } else {\n",
       "        attempts++;\n",
       "        if (attempts > 100) {\n",
       "          clearInterval(timer);\n",
       "          console.log(\"Bokeh: ERROR: Unable to run BokehJS code because BokehJS library is missing\");\n",
       "        }\n",
       "      }\n",
       "    }, 10, root)\n",
       "  }\n",
       "})(window);"
      ],
      "application/vnd.bokehjs_exec.v0+json": ""
     },
     "metadata": {
      "application/vnd.bokehjs_exec.v0+json": {
       "id": "8266"
      }
     },
     "output_type": "display_data"
    },
    {
     "data": {
      "text/html": [
       "\n",
       "\n",
       "\n",
       "\n",
       "\n",
       "\n",
       "  <div class=\"bk-root\" id=\"8a9049f3-4207-41dd-9a08-259ba1c168a3\" data-root-id=\"8703\"></div>\n"
      ]
     },
     "metadata": {},
     "output_type": "display_data"
    },
    {
     "data": {
      "application/javascript": [
       "(function(root) {\n",
       "  function embed_document(root) {\n",
       "    \n",
       "  const docs_json = {\"a7f7717d-8d8c-45c4-8889-405c816d78d8\":{\"defs\":[],\"roots\":{\"references\":[{\"attributes\":{\"below\":[{\"id\":\"8714\"}],\"center\":[{\"id\":\"8717\"},{\"id\":\"8721\"}],\"height\":300,\"left\":[{\"id\":\"8718\"}],\"renderers\":[{\"id\":\"8736\"},{\"id\":\"8742\"}],\"title\":{\"id\":\"8704\"},\"toolbar\":{\"id\":\"8727\"},\"width\":900,\"x_range\":{\"id\":\"8706\"},\"x_scale\":{\"id\":\"8710\"},\"y_range\":{\"id\":\"8708\"},\"y_scale\":{\"id\":\"8712\"}},\"id\":\"8703\",\"subtype\":\"Figure\",\"type\":\"Plot\"},{\"attributes\":{},\"id\":\"8710\",\"type\":\"LinearScale\"},{\"attributes\":{},\"id\":\"9090\",\"type\":\"Selection\"},{\"attributes\":{},\"id\":\"8715\",\"type\":\"BasicTicker\"},{\"attributes\":{\"coordinates\":null,\"data_source\":{\"id\":\"8732\"},\"glyph\":{\"id\":\"8733\"},\"group\":null,\"hover_glyph\":null,\"muted_glyph\":{\"id\":\"8735\"},\"nonselection_glyph\":{\"id\":\"8734\"},\"view\":{\"id\":\"8737\"}},\"id\":\"8736\",\"type\":\"GlyphRenderer\"},{\"attributes\":{\"axis\":{\"id\":\"8718\"},\"coordinates\":null,\"dimension\":1,\"group\":null,\"ticker\":null},\"id\":\"8721\",\"type\":\"Grid\"},{\"attributes\":{\"data\":{\"line_color\":[\"blue\"],\"xs\":[[0.0,3.5576820373535156,3.893522024154665,7.4119029045105,7.787963867187498,11.338785886764528,11.637747049331667,15.181313037872316,15.501777887344359,19.02110195159912,19.33643293380738,22.887887954711914,23.1811490058899,26.676204919815063,26.960806846618652,30.470152854919426,31.262332916259766,39.44615197181702,40.72350096702574,41.75364685058594,42.06732296943665,45.578022003173814,45.94243383407593,49.45873403549194,49.773561000823975,53.29753303527831,53.6033799648285,57.195004940032945,57.55135989189148,61.066537857055664,61.37531590461731,64.88136482238771,65.22864985466003,68.78560900688171,69.09753084182738,72.61268186569214,73.34781885147095,81.45930504798888,82.7135989665985,83.73894095420837,84.04561901092531,87.5313220024109,87.83822989463806,91.34302496910094,91.63521695137023,95.15246987342834,95.5004758834839,99.05889892578125,99.37469601631166,102.94399189949036,103.3126058578491,106.80858993530275,107.11507296562195,110.64328098297118,110.98522186279298,114.53874492645262,115.30595588684082,123.44053101539612,124.72243905067444,125.7432689666748,126.07376289367676,129.57777905464172,129.89164090156552,133.38624382019043,133.66977787017825,137.17185497283936,137.4554419517517,140.95284795761106,141.2773449420929,144.78777289390564,145.0832118988037,148.59048199653625,148.94042801856995,152.47224187850952,152.77843594551086,156.28126192092896,157.1010808944702,165.32587099075317,166.58544802665708,167.6072449684143,167.95293998718262,168.69250988960266]],\"ys\":[[62.0,75.0,63.0,30.0,35.0,-13.0,-6.0,-28.0,-32.0,-14.0,-26.0,-56.0,-80.0,-28.0,-16.0,47.0,42.0,-48.0,-17.0,41.0,40.0,-1.0,-17.0,-66.0,-62.0,-55.0,-69.0,-37.0,-25.0,-71.0,-62.0,-17.0,-23.0,37.0,51.0,56.0,93.0,19.0,91.0,97.0,102.0,70.0,76.0,26.0,29.0,-9.0,-3.0,-27.0,-31.0,-48.0,-43.0,-124.0,-96.0,-57.0,-45.0,-119.0,-310.0,-243.0,-157.0,-172.0,-161.0,-191.0,-178.0,-202.0,-189.0,-121.0,-112.0,-95.0,-88.0,-64.0,-31.0,-103.0,-95.0,-183.0,-146.0,-151.0,-144.0,-84.0,-44.0,-109.0,365.0,366.0]]},\"selected\":{\"id\":\"9088\"},\"selection_policy\":{\"id\":\"9087\"}},\"id\":\"8732\",\"type\":\"ColumnDataSource\"},{\"attributes\":{\"line_color\":{\"field\":\"line_color\"},\"line_width\":{\"value\":2},\"xs\":{\"field\":\"xs\"},\"ys\":{\"field\":\"ys\"}},\"id\":\"8733\",\"type\":\"MultiLine\"},{\"attributes\":{\"axis_label\":\"Time (s)\",\"coordinates\":null,\"formatter\":{\"id\":\"9085\"},\"group\":null,\"major_label_policy\":{\"id\":\"9086\"},\"ticker\":{\"id\":\"8715\"}},\"id\":\"8714\",\"type\":\"LinearAxis\"},{\"attributes\":{},\"id\":\"9087\",\"type\":\"UnionRenderers\"},{\"attributes\":{},\"id\":\"8712\",\"type\":\"LinearScale\"},{\"attributes\":{\"source\":{\"id\":\"8732\"}},\"id\":\"8737\",\"type\":\"CDSView\"},{\"attributes\":{},\"id\":\"9085\",\"type\":\"BasicTickFormatter\"},{\"attributes\":{\"data\":{\"x\":{\"__ndarray__\":\"AAAAAAAAAAAAAAAAInYMQAQAAODuJQ9AAgAA4MmlHUD+////3yYfQAEAAFh1rSZAAQAAyIZGJ0ABAAAQ1VwuQP///wfpAC9AAAAA8GYFM0ACAAB4IFYzQAAAAKBM4zZAAgAAyF8uN0AAAADEG606QAAAAHD39TpA/v//71t4PkAAAABAKEM/QAAAAIIbuUNA/v//rZtcREAAAACAd+BEQAEAAAqeCEVA/v//n/zJRkAAAACsofhGQAAAAMy3ukhAAAAADATjSED///+PFaZKQAEAAI47zUpA/v//6/WYTEAAAAD2ksZMQAAAAFCEiE5AAAAAWgqwTkABAABIaDhQQAAAADOiTlBAAAAAa0cyUUD////xPUZRQAAAAC42J1JAAAAAqkJWUkD///9AZV1UQP///5qrrVRAAAAAz0rvVEABAABs6wJVQAEAAC4B4lVAAAAAj6X1VUD///8e9NVWQP///2Sn6FZAAAAAEcLJV0ABAADMB+BXQAAAAADFw1hAAQAABfvXWEAAAABdarxZQP///7sB1FlAAQAA8L+zWkAAAABbXcdaQP///4MrqVtAAQAA4A2/W0D////LeqJcQAAAAMiU01xAAAAAqTHcXkAAAABxPC5fQAAAALiRb19AAAAAiLiEX0AAAIAqfTJgQP//f1KIPGBAAAAAHFysYEABAADSbrVgQAAAANZ/JWFAAAAA+5IuYUD///+6fZ5hQAAAgALgqGFAAACAbzUZYkAAAACsqSJiQAAAgDrlkmJAAACA/BeeYkAAAACbHA9jQAAAgPLoGGNAAAAAGQCJY0D///8NPKNjQAAAAIltqmRA//9//bvSZEAAAACNbvNkQAAAAHx+/mRAAACACikWZUA=\",\"dtype\":\"float64\",\"order\":\"little\",\"shape\":[82]},\"y\":{\"__ndarray__\":\"AAAAAAAAaUAAAAAAAABpQAAAAAAAAGlAAAAAAAAAaUAAAAAAAABpQAAAAAAAAGlAAAAAAAAAaUAAAAAAAABpQAAAAAAAAGlAAAAAAAAAaUAAAAAAAABpQAAAAAAAAGlAAAAAAAAAaUAAAAAAAABpQAAAAAAAAGlAAAAAAAAAaUAAAAAAAABpQAAAAAAAAGlAAAAAAAAAaUAAAAAAAABpQAAAAAAAAGlAAAAAAAAAaUAAAAAAAABpQAAAAAAAAGlAAAAAAAAAaUAAAAAAAABpQAAAAAAAAGlAAAAAAAAAaUAAAAAAAABpQAAAAAAAAGlAAAAAAAAAaUAAAAAAAABpQAAAAAAAAGlAAAAAAAAAaUAAAAAAAABpQAAAAAAAAGlAAAAAAAAAaUAAAAAAAABpQAAAAAAAAGlAAAAAAAAAaUAAAAAAAABpQAAAAAAAAGlAAAAAAAAAaUAAAAAAAABpQAAAAAAAAGlAAAAAAAAAaUAAAAAAAABpQAAAAAAAAGlAAAAAAAAAaUAAAAAAAABpQAAAAAAAAGlAAAAAAAAAaUAAAAAAAABpQAAAAAAAAGlAAAAAAAAAaUAAAAAAAABpQAAAAAAAAGlAAAAAAAAAaUAAAAAAAABpQAAAAAAAAGlAAAAAAAAAaUAAAAAAAABpQAAAAAAAAGlAAAAAAAAAaUAAAAAAAABpQAAAAAAAAGlAAAAAAAAAaUAAAAAAAABpQAAAAAAAAGlAAAAAAAAAaUAAAAAAAABpQAAAAAAAAGlAAAAAAAAAaUAAAAAAAABpQAAAAAAAAGlAAAAAAAAAaUAAAAAAAABpQAAAAAAAAGlAAAAAAAAAaUAAAAAAAABpQAAAAAAAAGlAAAAAAAAAaUA=\",\"dtype\":\"float64\",\"order\":\"little\",\"shape\":[82]}},\"selected\":{\"id\":\"9090\"},\"selection_policy\":{\"id\":\"9089\"}},\"id\":\"8738\",\"type\":\"ColumnDataSource\"},{\"attributes\":{\"bottom_units\":\"screen\",\"coordinates\":null,\"fill_alpha\":0.5,\"fill_color\":\"lightgrey\",\"group\":null,\"left_units\":\"screen\",\"level\":\"overlay\",\"line_alpha\":1.0,\"line_color\":\"black\",\"line_dash\":[4,4],\"line_width\":2,\"right_units\":\"screen\",\"syncable\":false,\"top_units\":\"screen\"},\"id\":\"8726\",\"type\":\"BoxAnnotation\"},{\"attributes\":{\"line_alpha\":0.1,\"line_dash\":[2,4],\"line_width\":2,\"x\":{\"field\":\"x\"},\"y\":{\"field\":\"y\"}},\"id\":\"8740\",\"type\":\"Line\"},{\"attributes\":{\"coordinates\":null,\"data_source\":{\"id\":\"8738\"},\"glyph\":{\"id\":\"8739\"},\"group\":null,\"hover_glyph\":null,\"muted_glyph\":{\"id\":\"8741\"},\"nonselection_glyph\":{\"id\":\"8740\"},\"view\":{\"id\":\"8743\"}},\"id\":\"8742\",\"type\":\"GlyphRenderer\"},{\"attributes\":{\"line_alpha\":0.2,\"line_dash\":[2,4],\"line_width\":2,\"x\":{\"field\":\"x\"},\"y\":{\"field\":\"y\"}},\"id\":\"8741\",\"type\":\"Line\"},{\"attributes\":{\"line_dash\":[2,4],\"line_width\":2,\"x\":{\"field\":\"x\"},\"y\":{\"field\":\"y\"}},\"id\":\"8739\",\"type\":\"Line\"},{\"attributes\":{},\"id\":\"8706\",\"type\":\"DataRange1d\"},{\"attributes\":{},\"id\":\"8708\",\"type\":\"DataRange1d\"},{\"attributes\":{\"source\":{\"id\":\"8738\"}},\"id\":\"8743\",\"type\":\"CDSView\"},{\"attributes\":{\"tools\":[{\"id\":\"8722\"},{\"id\":\"8723\"},{\"id\":\"8724\"},{\"id\":\"8725\"}]},\"id\":\"8727\",\"type\":\"Toolbar\"},{\"attributes\":{\"line_alpha\":{\"value\":0.2},\"line_color\":{\"field\":\"line_color\"},\"line_width\":{\"value\":2},\"xs\":{\"field\":\"xs\"},\"ys\":{\"field\":\"ys\"}},\"id\":\"8735\",\"type\":\"MultiLine\"},{\"attributes\":{\"coordinates\":null,\"group\":null,\"text\":\"wing_hist_force_0915200052\"},\"id\":\"8704\",\"type\":\"Title\"},{\"attributes\":{},\"id\":\"8722\",\"type\":\"PanTool\"},{\"attributes\":{\"axis_label\":\"Signal\",\"coordinates\":null,\"formatter\":{\"id\":\"9082\"},\"group\":null,\"major_label_policy\":{\"id\":\"9083\"},\"ticker\":{\"id\":\"8719\"}},\"id\":\"8718\",\"type\":\"LinearAxis\"},{\"attributes\":{\"overlay\":{\"id\":\"8726\"}},\"id\":\"8724\",\"type\":\"BoxZoomTool\"},{\"attributes\":{},\"id\":\"9082\",\"type\":\"BasicTickFormatter\"},{\"attributes\":{},\"id\":\"8725\",\"type\":\"ResetTool\"},{\"attributes\":{},\"id\":\"9083\",\"type\":\"AllLabels\"},{\"attributes\":{},\"id\":\"8719\",\"type\":\"BasicTicker\"},{\"attributes\":{},\"id\":\"9089\",\"type\":\"UnionRenderers\"},{\"attributes\":{},\"id\":\"8723\",\"type\":\"WheelZoomTool\"},{\"attributes\":{},\"id\":\"9086\",\"type\":\"AllLabels\"},{\"attributes\":{},\"id\":\"9088\",\"type\":\"Selection\"},{\"attributes\":{\"line_alpha\":{\"value\":0.1},\"line_color\":{\"field\":\"line_color\"},\"line_width\":{\"value\":2},\"xs\":{\"field\":\"xs\"},\"ys\":{\"field\":\"ys\"}},\"id\":\"8734\",\"type\":\"MultiLine\"},{\"attributes\":{\"axis\":{\"id\":\"8714\"},\"coordinates\":null,\"group\":null,\"ticker\":null},\"id\":\"8717\",\"type\":\"Grid\"}],\"root_ids\":[\"8703\"]},\"title\":\"Bokeh Application\",\"version\":\"2.4.2\"}};\n",
       "  const render_items = [{\"docid\":\"a7f7717d-8d8c-45c4-8889-405c816d78d8\",\"root_ids\":[\"8703\"],\"roots\":{\"8703\":\"8a9049f3-4207-41dd-9a08-259ba1c168a3\"}}];\n",
       "  root.Bokeh.embed.embed_items_notebook(docs_json, render_items);\n",
       "\n",
       "  }\n",
       "  if (root.Bokeh !== undefined) {\n",
       "    embed_document(root);\n",
       "  } else {\n",
       "    let attempts = 0;\n",
       "    const timer = setInterval(function(root) {\n",
       "      if (root.Bokeh !== undefined) {\n",
       "        clearInterval(timer);\n",
       "        embed_document(root);\n",
       "      } else {\n",
       "        attempts++;\n",
       "        if (attempts > 100) {\n",
       "          clearInterval(timer);\n",
       "          console.log(\"Bokeh: ERROR: Unable to run BokehJS code because BokehJS library is missing\");\n",
       "        }\n",
       "      }\n",
       "    }, 10, root)\n",
       "  }\n",
       "})(window);"
      ],
      "application/vnd.bokehjs_exec.v0+json": ""
     },
     "metadata": {
      "application/vnd.bokehjs_exec.v0+json": {
       "id": "8703"
      }
     },
     "output_type": "display_data"
    },
    {
     "data": {
      "text/html": [
       "\n",
       "\n",
       "\n",
       "\n",
       "\n",
       "\n",
       "  <div class=\"bk-root\" id=\"726669bf-e3ba-48bb-9453-18b9389dfc96\" data-root-id=\"9152\"></div>\n"
      ]
     },
     "metadata": {},
     "output_type": "display_data"
    },
    {
     "data": {
      "application/javascript": [
       "(function(root) {\n",
       "  function embed_document(root) {\n",
       "    \n",
       "  const docs_json = {\"37bfff08-0422-4bac-81da-a4c4bea83240\":{\"defs\":[],\"roots\":{\"references\":[{\"attributes\":{\"below\":[{\"id\":\"9163\"}],\"center\":[{\"id\":\"9166\"},{\"id\":\"9170\"}],\"height\":300,\"left\":[{\"id\":\"9167\"}],\"renderers\":[{\"id\":\"9185\"},{\"id\":\"9191\"}],\"title\":{\"id\":\"9153\"},\"toolbar\":{\"id\":\"9176\"},\"width\":900,\"x_range\":{\"id\":\"9155\"},\"x_scale\":{\"id\":\"9159\"},\"y_range\":{\"id\":\"9157\"},\"y_scale\":{\"id\":\"9161\"}},\"id\":\"9152\",\"subtype\":\"Figure\",\"type\":\"Plot\"},{\"attributes\":{\"tools\":[{\"id\":\"9171\"},{\"id\":\"9172\"},{\"id\":\"9173\"},{\"id\":\"9174\"}]},\"id\":\"9176\",\"type\":\"Toolbar\"},{\"attributes\":{\"line_alpha\":0.1,\"line_dash\":[2,4],\"line_width\":2,\"x\":{\"field\":\"x\"},\"y\":{\"field\":\"y\"}},\"id\":\"9189\",\"type\":\"Line\"},{\"attributes\":{\"overlay\":{\"id\":\"9175\"}},\"id\":\"9173\",\"type\":\"BoxZoomTool\"},{\"attributes\":{\"coordinates\":null,\"data_source\":{\"id\":\"9187\"},\"glyph\":{\"id\":\"9188\"},\"group\":null,\"hover_glyph\":null,\"muted_glyph\":{\"id\":\"9190\"},\"nonselection_glyph\":{\"id\":\"9189\"},\"view\":{\"id\":\"9192\"}},\"id\":\"9191\",\"type\":\"GlyphRenderer\"},{\"attributes\":{},\"id\":\"9172\",\"type\":\"WheelZoomTool\"},{\"attributes\":{\"bottom_units\":\"screen\",\"coordinates\":null,\"fill_alpha\":0.5,\"fill_color\":\"lightgrey\",\"group\":null,\"left_units\":\"screen\",\"level\":\"overlay\",\"line_alpha\":1.0,\"line_color\":\"black\",\"line_dash\":[4,4],\"line_width\":2,\"right_units\":\"screen\",\"syncable\":false,\"top_units\":\"screen\"},\"id\":\"9175\",\"type\":\"BoxAnnotation\"},{\"attributes\":{\"line_alpha\":0.2,\"line_dash\":[2,4],\"line_width\":2,\"x\":{\"field\":\"x\"},\"y\":{\"field\":\"y\"}},\"id\":\"9190\",\"type\":\"Line\"},{\"attributes\":{},\"id\":\"9174\",\"type\":\"ResetTool\"},{\"attributes\":{\"line_dash\":[2,4],\"line_width\":2,\"x\":{\"field\":\"x\"},\"y\":{\"field\":\"y\"}},\"id\":\"9188\",\"type\":\"Line\"},{\"attributes\":{},\"id\":\"9159\",\"type\":\"LinearScale\"},{\"attributes\":{},\"id\":\"9171\",\"type\":\"PanTool\"},{\"attributes\":{\"source\":{\"id\":\"9187\"}},\"id\":\"9192\",\"type\":\"CDSView\"},{\"attributes\":{},\"id\":\"9157\",\"type\":\"DataRange1d\"},{\"attributes\":{\"line_color\":{\"field\":\"line_color\"},\"line_width\":{\"value\":2},\"xs\":{\"field\":\"xs\"},\"ys\":{\"field\":\"ys\"}},\"id\":\"9182\",\"type\":\"MultiLine\"},{\"attributes\":{},\"id\":\"9543\",\"type\":\"BasicTickFormatter\"},{\"attributes\":{},\"id\":\"9544\",\"type\":\"AllLabels\"},{\"attributes\":{},\"id\":\"9161\",\"type\":\"LinearScale\"},{\"attributes\":{},\"id\":\"9546\",\"type\":\"BasicTickFormatter\"},{\"attributes\":{\"coordinates\":null,\"data_source\":{\"id\":\"9181\"},\"glyph\":{\"id\":\"9182\"},\"group\":null,\"hover_glyph\":null,\"muted_glyph\":{\"id\":\"9184\"},\"nonselection_glyph\":{\"id\":\"9183\"},\"view\":{\"id\":\"9186\"}},\"id\":\"9185\",\"type\":\"GlyphRenderer\"},{\"attributes\":{},\"id\":\"9548\",\"type\":\"UnionRenderers\"},{\"attributes\":{},\"id\":\"9547\",\"type\":\"AllLabels\"},{\"attributes\":{\"data\":{\"line_color\":[\"blue\"],\"xs\":[[0.0,3.55572509765625,3.7002029418945312,7.251830101013182,7.3957290649414045,10.948072910308838,11.091948986053465,14.643236875534054,14.787209033966061,18.338821887969964,18.48269891738892,22.035165071487427,22.17930293083191,25.73040795326233,26.321933031082157,33.50699496269226,35.1176860332489,36.262044906616204,36.40559506416321,39.95709490776061,40.10175108909607,43.65443992614747,44.23699593544006]],\"ys\":[[-134.0,-14.0,-11.0,82.0,92.0,72.0,48.0,-76.0,-45.0,-188.0,-171.0,-216.0,-199.0,-195.0,-208.0,-137.0,-118.0,-90.0,-63.0,63.0,51.0,174.0,162.0]]},\"selected\":{\"id\":\"9549\"},\"selection_policy\":{\"id\":\"9548\"}},\"id\":\"9181\",\"type\":\"ColumnDataSource\"},{\"attributes\":{},\"id\":\"9549\",\"type\":\"Selection\"},{\"attributes\":{\"coordinates\":null,\"group\":null,\"text\":\"wing_hist_force_0914222125\"},\"id\":\"9153\",\"type\":\"Title\"},{\"attributes\":{},\"id\":\"9550\",\"type\":\"UnionRenderers\"},{\"attributes\":{},\"id\":\"9155\",\"type\":\"DataRange1d\"},{\"attributes\":{\"line_alpha\":{\"value\":0.2},\"line_color\":{\"field\":\"line_color\"},\"line_width\":{\"value\":2},\"xs\":{\"field\":\"xs\"},\"ys\":{\"field\":\"ys\"}},\"id\":\"9184\",\"type\":\"MultiLine\"},{\"attributes\":{\"axis_label\":\"Signal\",\"coordinates\":null,\"formatter\":{\"id\":\"9543\"},\"group\":null,\"major_label_policy\":{\"id\":\"9544\"},\"ticker\":{\"id\":\"9168\"}},\"id\":\"9167\",\"type\":\"LinearAxis\"},{\"attributes\":{},\"id\":\"9551\",\"type\":\"Selection\"},{\"attributes\":{},\"id\":\"9168\",\"type\":\"BasicTicker\"},{\"attributes\":{\"axis\":{\"id\":\"9163\"},\"coordinates\":null,\"group\":null,\"ticker\":null},\"id\":\"9166\",\"type\":\"Grid\"},{\"attributes\":{\"line_alpha\":{\"value\":0.1},\"line_color\":{\"field\":\"line_color\"},\"line_width\":{\"value\":2},\"xs\":{\"field\":\"xs\"},\"ys\":{\"field\":\"ys\"}},\"id\":\"9183\",\"type\":\"MultiLine\"},{\"attributes\":{\"source\":{\"id\":\"9181\"}},\"id\":\"9186\",\"type\":\"CDSView\"},{\"attributes\":{},\"id\":\"9164\",\"type\":\"BasicTicker\"},{\"attributes\":{\"axis_label\":\"Time (s)\",\"coordinates\":null,\"formatter\":{\"id\":\"9546\"},\"group\":null,\"major_label_policy\":{\"id\":\"9547\"},\"ticker\":{\"id\":\"9164\"}},\"id\":\"9163\",\"type\":\"LinearAxis\"},{\"attributes\":{\"data\":{\"x\":{\"__ndarray__\":\"AAAAAAAAAAAAAAAAIHIMQAAAAAAEmg1A/v//v98BHUD+////OZUdQAAAANBp5SVA////7xMvJkD+//9XVkktQP7//w8Nky1A/v//B71WMkABAAAoknsyQAAAAJQACTZAAAAAzOYtNkAAAAAE/Lo5QAEAADRqUjpAAAAANuXAQEAAAABWEI9BQP///6+KIUJAAAAAiuozQkD///8VgvpDQAAAAC4GDURAAQAAsMTTRUAAAADiVR5GQA==\",\"dtype\":\"float64\",\"order\":\"little\",\"shape\":[23]},\"y\":{\"__ndarray__\":\"AAAAAAAAaUAAAAAAAABpQAAAAAAAAGlAAAAAAAAAaUAAAAAAAABpQAAAAAAAAGlAAAAAAAAAaUAAAAAAAABpQAAAAAAAAGlAAAAAAAAAaUAAAAAAAABpQAAAAAAAAGlAAAAAAAAAaUAAAAAAAABpQAAAAAAAAGlAAAAAAAAAaUAAAAAAAABpQAAAAAAAAGlAAAAAAAAAaUAAAAAAAABpQAAAAAAAAGlAAAAAAAAAaUAAAAAAAABpQA==\",\"dtype\":\"float64\",\"order\":\"little\",\"shape\":[23]}},\"selected\":{\"id\":\"9551\"},\"selection_policy\":{\"id\":\"9550\"}},\"id\":\"9187\",\"type\":\"ColumnDataSource\"},{\"attributes\":{\"axis\":{\"id\":\"9167\"},\"coordinates\":null,\"dimension\":1,\"group\":null,\"ticker\":null},\"id\":\"9170\",\"type\":\"Grid\"}],\"root_ids\":[\"9152\"]},\"title\":\"Bokeh Application\",\"version\":\"2.4.2\"}};\n",
       "  const render_items = [{\"docid\":\"37bfff08-0422-4bac-81da-a4c4bea83240\",\"root_ids\":[\"9152\"],\"roots\":{\"9152\":\"726669bf-e3ba-48bb-9453-18b9389dfc96\"}}];\n",
       "  root.Bokeh.embed.embed_items_notebook(docs_json, render_items);\n",
       "\n",
       "  }\n",
       "  if (root.Bokeh !== undefined) {\n",
       "    embed_document(root);\n",
       "  } else {\n",
       "    let attempts = 0;\n",
       "    const timer = setInterval(function(root) {\n",
       "      if (root.Bokeh !== undefined) {\n",
       "        clearInterval(timer);\n",
       "        embed_document(root);\n",
       "      } else {\n",
       "        attempts++;\n",
       "        if (attempts > 100) {\n",
       "          clearInterval(timer);\n",
       "          console.log(\"Bokeh: ERROR: Unable to run BokehJS code because BokehJS library is missing\");\n",
       "        }\n",
       "      }\n",
       "    }, 10, root)\n",
       "  }\n",
       "})(window);"
      ],
      "application/vnd.bokehjs_exec.v0+json": ""
     },
     "metadata": {
      "application/vnd.bokehjs_exec.v0+json": {
       "id": "9152"
      }
     },
     "output_type": "display_data"
    },
    {
     "data": {
      "text/html": [
       "\n",
       "\n",
       "\n",
       "\n",
       "\n",
       "\n",
       "  <div class=\"bk-root\" id=\"b5f96a22-b8da-4bb2-b8d1-3fc66a37ef37\" data-root-id=\"9613\"></div>\n"
      ]
     },
     "metadata": {},
     "output_type": "display_data"
    },
    {
     "data": {
      "application/javascript": [
       "(function(root) {\n",
       "  function embed_document(root) {\n",
       "    \n",
       "  const docs_json = {\"bbb05b1e-c60e-4d79-a1f4-4dbab09420dd\":{\"defs\":[],\"roots\":{\"references\":[{\"attributes\":{\"below\":[{\"id\":\"9624\"}],\"center\":[{\"id\":\"9627\"},{\"id\":\"9631\"}],\"height\":300,\"left\":[{\"id\":\"9628\"}],\"renderers\":[{\"id\":\"9646\"},{\"id\":\"9652\"}],\"title\":{\"id\":\"9614\"},\"toolbar\":{\"id\":\"9637\"},\"width\":900,\"x_range\":{\"id\":\"9616\"},\"x_scale\":{\"id\":\"9620\"},\"y_range\":{\"id\":\"9618\"},\"y_scale\":{\"id\":\"9622\"}},\"id\":\"9613\",\"subtype\":\"Figure\",\"type\":\"Plot\"},{\"attributes\":{},\"id\":\"10016\",\"type\":\"BasicTickFormatter\"},{\"attributes\":{\"bottom_units\":\"screen\",\"coordinates\":null,\"fill_alpha\":0.5,\"fill_color\":\"lightgrey\",\"group\":null,\"left_units\":\"screen\",\"level\":\"overlay\",\"line_alpha\":1.0,\"line_color\":\"black\",\"line_dash\":[4,4],\"line_width\":2,\"right_units\":\"screen\",\"syncable\":false,\"top_units\":\"screen\"},\"id\":\"9636\",\"type\":\"BoxAnnotation\"},{\"attributes\":{\"line_alpha\":0.2,\"line_dash\":[2,4],\"line_width\":2,\"x\":{\"field\":\"x\"},\"y\":{\"field\":\"y\"}},\"id\":\"9651\",\"type\":\"Line\"},{\"attributes\":{\"coordinates\":null,\"data_source\":{\"id\":\"9642\"},\"glyph\":{\"id\":\"9643\"},\"group\":null,\"hover_glyph\":null,\"muted_glyph\":{\"id\":\"9645\"},\"nonselection_glyph\":{\"id\":\"9644\"},\"view\":{\"id\":\"9647\"}},\"id\":\"9646\",\"type\":\"GlyphRenderer\"},{\"attributes\":{\"source\":{\"id\":\"9648\"}},\"id\":\"9653\",\"type\":\"CDSView\"},{\"attributes\":{\"coordinates\":null,\"data_source\":{\"id\":\"9648\"},\"glyph\":{\"id\":\"9649\"},\"group\":null,\"hover_glyph\":null,\"muted_glyph\":{\"id\":\"9651\"},\"nonselection_glyph\":{\"id\":\"9650\"},\"view\":{\"id\":\"9653\"}},\"id\":\"9652\",\"type\":\"GlyphRenderer\"},{\"attributes\":{\"coordinates\":null,\"group\":null,\"text\":\"wing_hist_pres_0915193107\"},\"id\":\"9614\",\"type\":\"Title\"},{\"attributes\":{\"axis\":{\"id\":\"9628\"},\"coordinates\":null,\"dimension\":1,\"group\":null,\"ticker\":null},\"id\":\"9631\",\"type\":\"Grid\"},{\"attributes\":{},\"id\":\"9635\",\"type\":\"ResetTool\"},{\"attributes\":{},\"id\":\"9625\",\"type\":\"BasicTicker\"},{\"attributes\":{},\"id\":\"10017\",\"type\":\"AllLabels\"},{\"attributes\":{},\"id\":\"10019\",\"type\":\"BasicTickFormatter\"},{\"attributes\":{\"axis_label\":\"Signal\",\"coordinates\":null,\"formatter\":{\"id\":\"10016\"},\"group\":null,\"major_label_policy\":{\"id\":\"10017\"},\"ticker\":{\"id\":\"9629\"}},\"id\":\"9628\",\"type\":\"LinearAxis\"},{\"attributes\":{\"line_color\":{\"field\":\"line_color\"},\"line_width\":{\"value\":2},\"xs\":{\"field\":\"xs\"},\"ys\":{\"field\":\"ys\"}},\"id\":\"9643\",\"type\":\"MultiLine\"},{\"attributes\":{\"axis\":{\"id\":\"9624\"},\"coordinates\":null,\"group\":null,\"ticker\":null},\"id\":\"9627\",\"type\":\"Grid\"},{\"attributes\":{\"data\":{\"line_color\":[\"blue\"],\"xs\":[[0.0,3.503465175628662,3.813832998275757,7.309930086135866,7.597805023193361,11.14827609062195,11.501304149627684,15.026526212692266,15.336847066879274,18.84644603729248,19.174250125885017,22.659043073654175,22.986266136169434,26.541800022125244,26.907570123672485,30.411015033721924,31.149679183959954,39.239541053771966,40.5467209815979,41.56923317909241,41.85097408294676,45.3708381652832,45.68180298805236,49.20106315612794,49.53858804702759,53.066628217697144,53.395339012145996,56.94590401649475,57.255720138549805,60.786938190460205,61.10708403587341,64.62377214431763,64.94387221336365,68.46788001060487,68.7697341442108,72.31310200691222,73.05869007110596,81.28681206703187,82.55802512168881,83.5844659805298,83.8994090557098,87.39857220649718,87.6779420375824,91.17697405815123,91.52867817878723,95.05647420883182,95.36785221099852,98.88022017478944,99.16619110107425,102.66836905479431,102.97740721702577,106.47426605224608,106.7633740901947,110.29279112815858,110.63802909851076,114.13994121551515,114.83712005615233,123.00433611869809,124.31414699554443,125.2984011173248,125.60045909881592,129.1188681125641,129.41715908050537,132.91209411621094,133.23886919021606,136.74366998672485,137.0628020763397,140.58607602119446,140.90272021293637,144.42014813423154,144.7586121559143,148.27988600730896,148.57293701171875,152.0706419944763,152.41259908676147,155.91578912734985,156.6711611747742,164.88581013679504,166.18296813964844,167.17658805847168,167.48494505882263,171.0554780960083,171.39384198188776,174.93547701835635,175.2847640514374,178.8054552078247,179.11497020721436,182.69228100776675,183.01189208030695,186.52194809913635,186.9327371120453,190.42809319496158,190.73508119583127,194.2596790790558,194.62267398834229,198.14381504058838,198.8880650997162,207.08329510688776,208.3306851387024,209.32874608039856,209.630142211914,211.33007502555844,211.61321306228635,213.30943799018857,213.59318900108337,215.30804705619812,215.59736704826355,217.3046941757202,217.59394121170044,219.26833915710446,219.67120504379272]],\"ys\":[[30.0,31.0,28.0,43.0,51.0,27.0,32.0,26.0,26.0,47.0,48.0,51.0,50.0,49.0,47.0,49.0,82.0,45.0,76.0,104.0,106.0,75.0,78.0,78.0,81.0,80.0,82.0,84.0,83.0,75.0,80.0,82.0,79.0,90.0,100.0,76.0,114.0,74.0,127.0,143.0,155.0,107.0,108.0,112.0,120.0,120.0,121.0,89.0,95.0,89.0,100.0,73.0,83.0,111.0,117.0,170.0,0.0,8.0,61.0,80.0,82.0,31.0,34.0,50.0,52.0,51.0,51.0,0.0,0.0,22.0,28.0,42.0,43.0,23.0,24.0,34.0,29.0,22.0,20.0,152.0,158.0,100.0,103.0,97.0,97.0,105.0,107.0,111.0,113.0,89.0,89.0,90.0,90.0,88.0,90.0,128.0,90.0,69.0,101.0,159.0,158.0,175.0,175.0,180.0,183.0,189.0,192.0,197.0,197.0,206.0,208.0]]},\"selected\":{\"id\":\"10022\"},\"selection_policy\":{\"id\":\"10021\"}},\"id\":\"9642\",\"type\":\"ColumnDataSource\"},{\"attributes\":{},\"id\":\"9629\",\"type\":\"BasicTicker\"},{\"attributes\":{},\"id\":\"10020\",\"type\":\"AllLabels\"},{\"attributes\":{},\"id\":\"10021\",\"type\":\"UnionRenderers\"},{\"attributes\":{},\"id\":\"10022\",\"type\":\"Selection\"},{\"attributes\":{\"line_alpha\":{\"value\":0.1},\"line_color\":{\"field\":\"line_color\"},\"line_width\":{\"value\":2},\"xs\":{\"field\":\"xs\"},\"ys\":{\"field\":\"ys\"}},\"id\":\"9644\",\"type\":\"MultiLine\"},{\"attributes\":{\"line_alpha\":{\"value\":0.2},\"line_color\":{\"field\":\"line_color\"},\"line_width\":{\"value\":2},\"xs\":{\"field\":\"xs\"},\"ys\":{\"field\":\"ys\"}},\"id\":\"9645\",\"type\":\"MultiLine\"},{\"attributes\":{},\"id\":\"10023\",\"type\":\"UnionRenderers\"},{\"attributes\":{},\"id\":\"9632\",\"type\":\"PanTool\"},{\"attributes\":{},\"id\":\"9618\",\"type\":\"DataRange1d\"},{\"attributes\":{\"line_alpha\":0.1,\"line_dash\":[2,4],\"line_width\":2,\"x\":{\"field\":\"x\"},\"y\":{\"field\":\"y\"}},\"id\":\"9650\",\"type\":\"Line\"},{\"attributes\":{},\"id\":\"9633\",\"type\":\"WheelZoomTool\"},{\"attributes\":{},\"id\":\"10024\",\"type\":\"Selection\"},{\"attributes\":{},\"id\":\"9616\",\"type\":\"DataRange1d\"},{\"attributes\":{\"source\":{\"id\":\"9642\"}},\"id\":\"9647\",\"type\":\"CDSView\"},{\"attributes\":{\"tools\":[{\"id\":\"9632\"},{\"id\":\"9633\"},{\"id\":\"9634\"},{\"id\":\"9635\"}]},\"id\":\"9637\",\"type\":\"Toolbar\"},{\"attributes\":{\"axis_label\":\"Time (s)\",\"coordinates\":null,\"formatter\":{\"id\":\"10019\"},\"group\":null,\"major_label_policy\":{\"id\":\"10020\"},\"ticker\":{\"id\":\"9625\"}},\"id\":\"9624\",\"type\":\"LinearAxis\"},{\"attributes\":{\"data\":{\"x\":{\"__ndarray__\":\"AAAAAAAAAAAAAADAGAcMQAAAAOC6gg5AAgAAUF49HUACAAAAJ2QeQAEAANjqSyZA////76oAJ0ADAADYlA0uQAEAADh3rC5AAAAAsLDYMkACAAComywzQAAAAAy3qDZAAAAA8Hv8NkAAAABos4o6QAAAAIRW6DpAAAAASDhpPkD+//9fUSY/QP///0epnkNAAAAA9PpFREAAAACi3MhEQP7//7fs7ERAAAAAoHevRkD///9RRddGQAEAAHC8mUhAAAAAdPDESEAAAABGh4hKQAAAAHiaskpAAAAAYhN5TEAAAABwu6BMQAAAAGS6ZE5AAAAA7rSNTkAAAADi6ydQQAAAAGdoPFBAAQAAv/EdUUD///9SQzFRQP///9wJFFJAAAAAlMFDUkABAAAhW1JUQP7//662o1RAAQAA5GflVED9///qj/lUQP///zSC2VVAAAAAZ2PrVUD///+KU8tWQAAAAN3V4VZAAgAARp3DV0D////jitdXQAEAAIdVuFhAAgAA4KLKWEAAAACPxqpZQAEAANeNvllA////X1qeWkAAAAAf27BaQAEAABe9kltAAQAAeNWoW0ABAADM9IhcQP///1+TtVxA/v//CkfAXkAAAAD8GhRfQP7//wAZU19AAAAA7G1mX0AAAIDEzSNgQAAAAF5ZLWBAAAAA4C+dYEAAAADRpKdgQAAAACXMF2FA//9/eQIiYUAAAIAiwZJhQP//fxXjnGFA//9/2nENYkAAAACNRhhiQAAAgNP0iGJAAAAAgFWSYkD///+yQgJjQAAAAAM0DWNAAAAAJU59Y0ABAAAnepVjQAAAgI5YnGRAAAAA4NrFZEAAAACcpuVkQAAAgKuE72RAAAAAesZhZUD+/39ammxlQAEAgG3v3WVAAQCAyRzpZUAAAABKxllmQAAAANatY2ZAAQCAKifWZkD+/39rYeBmQAAAgMyzUGdAAACA+9hdZ0ABAIDwss1nQP///8iF12dAAACASk9IaEAAAADy7FNoQAAAACKaxGhAAACAB2vcaED+/39aquJpQAAAAPmUCmpAAACAFoUqakD+//8fKjRqQP//f/mPampA////cJ9zakD//3/q5qlqQAAAgGf7smpAAACAhdvpakAAAIChHfNqQP///w3AKWtAAAAAkQEza0D///87lmhrQAAAAIN6dWtA\",\"dtype\":\"float64\",\"order\":\"little\",\"shape\":[111]},\"y\":{\"__ndarray__\":\"AAAAAAAAaUAAAAAAAABpQAAAAAAAAGlAAAAAAAAAaUAAAAAAAABpQAAAAAAAAGlAAAAAAAAAaUAAAAAAAABpQAAAAAAAAGlAAAAAAAAAaUAAAAAAAABpQAAAAAAAAGlAAAAAAAAAaUAAAAAAAABpQAAAAAAAAGlAAAAAAAAAaUAAAAAAAABpQAAAAAAAAGlAAAAAAAAAaUAAAAAAAABpQAAAAAAAAGlAAAAAAAAAaUAAAAAAAABpQAAAAAAAAGlAAAAAAAAAaUAAAAAAAABpQAAAAAAAAGlAAAAAAAAAaUAAAAAAAABpQAAAAAAAAGlAAAAAAAAAaUAAAAAAAABpQAAAAAAAAGlAAAAAAAAAaUAAAAAAAABpQAAAAAAAAGlAAAAAAAAAaUAAAAAAAABpQAAAAAAAAGlAAAAAAAAAaUAAAAAAAABpQAAAAAAAAGlAAAAAAAAAaUAAAAAAAABpQAAAAAAAAGlAAAAAAAAAaUAAAAAAAABpQAAAAAAAAGlAAAAAAAAAaUAAAAAAAABpQAAAAAAAAGlAAAAAAAAAaUAAAAAAAABpQAAAAAAAAGlAAAAAAAAAaUAAAAAAAABpQAAAAAAAAGlAAAAAAAAAaUAAAAAAAABpQAAAAAAAAGlAAAAAAAAAaUAAAAAAAABpQAAAAAAAAGlAAAAAAAAAaUAAAAAAAABpQAAAAAAAAGlAAAAAAAAAaUAAAAAAAABpQAAAAAAAAGlAAAAAAAAAaUAAAAAAAABpQAAAAAAAAGlAAAAAAAAAaUAAAAAAAABpQAAAAAAAAGlAAAAAAAAAaUAAAAAAAABpQAAAAAAAAGlAAAAAAAAAaUAAAAAAAABpQAAAAAAAAGlAAAAAAAAAaUAAAAAAAABpQAAAAAAAAGlAAAAAAAAAaUAAAAAAAABpQAAAAAAAAGlAAAAAAAAAaUAAAAAAAABpQAAAAAAAAGlAAAAAAAAAaUAAAAAAAABpQAAAAAAAAGlAAAAAAAAAaUAAAAAAAABpQAAAAAAAAGlAAAAAAAAAaUAAAAAAAABpQAAAAAAAAGlAAAAAAAAAaUAAAAAAAABpQAAAAAAAAGlAAAAAAAAAaUAAAAAAAABpQAAAAAAAAGlAAAAAAAAAaUAAAAAAAABpQAAAAAAAAGlAAAAAAAAAaUAAAAAAAABpQAAAAAAAAGlA\",\"dtype\":\"float64\",\"order\":\"little\",\"shape\":[111]}},\"selected\":{\"id\":\"10024\"},\"selection_policy\":{\"id\":\"10023\"}},\"id\":\"9648\",\"type\":\"ColumnDataSource\"},{\"attributes\":{\"overlay\":{\"id\":\"9636\"}},\"id\":\"9634\",\"type\":\"BoxZoomTool\"},{\"attributes\":{},\"id\":\"9622\",\"type\":\"LinearScale\"},{\"attributes\":{\"line_dash\":[2,4],\"line_width\":2,\"x\":{\"field\":\"x\"},\"y\":{\"field\":\"y\"}},\"id\":\"9649\",\"type\":\"Line\"},{\"attributes\":{},\"id\":\"9620\",\"type\":\"LinearScale\"}],\"root_ids\":[\"9613\"]},\"title\":\"Bokeh Application\",\"version\":\"2.4.2\"}};\n",
       "  const render_items = [{\"docid\":\"bbb05b1e-c60e-4d79-a1f4-4dbab09420dd\",\"root_ids\":[\"9613\"],\"roots\":{\"9613\":\"b5f96a22-b8da-4bb2-b8d1-3fc66a37ef37\"}}];\n",
       "  root.Bokeh.embed.embed_items_notebook(docs_json, render_items);\n",
       "\n",
       "  }\n",
       "  if (root.Bokeh !== undefined) {\n",
       "    embed_document(root);\n",
       "  } else {\n",
       "    let attempts = 0;\n",
       "    const timer = setInterval(function(root) {\n",
       "      if (root.Bokeh !== undefined) {\n",
       "        clearInterval(timer);\n",
       "        embed_document(root);\n",
       "      } else {\n",
       "        attempts++;\n",
       "        if (attempts > 100) {\n",
       "          clearInterval(timer);\n",
       "          console.log(\"Bokeh: ERROR: Unable to run BokehJS code because BokehJS library is missing\");\n",
       "        }\n",
       "      }\n",
       "    }, 10, root)\n",
       "  }\n",
       "})(window);"
      ],
      "application/vnd.bokehjs_exec.v0+json": ""
     },
     "metadata": {
      "application/vnd.bokehjs_exec.v0+json": {
       "id": "9613"
      }
     },
     "output_type": "display_data"
    },
    {
     "name": "stdout",
     "output_type": "stream",
     "text": [
      "wing_hist_pres_0914220921.csv contains fewer than 10 data points\n"
     ]
    },
    {
     "data": {
      "text/html": [
       "\n",
       "\n",
       "\n",
       "\n",
       "\n",
       "\n",
       "  <div class=\"bk-root\" id=\"472e00a1-9af7-48d9-b914-319588605915\" data-root-id=\"10086\"></div>\n"
      ]
     },
     "metadata": {},
     "output_type": "display_data"
    },
    {
     "data": {
      "application/javascript": [
       "(function(root) {\n",
       "  function embed_document(root) {\n",
       "    \n",
       "  const docs_json = {\"d24c63d2-5b39-47e0-bd48-a31e5024cfde\":{\"defs\":[],\"roots\":{\"references\":[{\"attributes\":{\"below\":[{\"id\":\"10097\"}],\"center\":[{\"id\":\"10100\"},{\"id\":\"10104\"}],\"height\":300,\"left\":[{\"id\":\"10101\"}],\"renderers\":[{\"id\":\"10119\"},{\"id\":\"10125\"}],\"title\":{\"id\":\"10087\"},\"toolbar\":{\"id\":\"10110\"},\"width\":900,\"x_range\":{\"id\":\"10089\"},\"x_scale\":{\"id\":\"10093\"},\"y_range\":{\"id\":\"10091\"},\"y_scale\":{\"id\":\"10095\"}},\"id\":\"10086\",\"subtype\":\"Figure\",\"type\":\"Plot\"},{\"attributes\":{},\"id\":\"10102\",\"type\":\"BasicTicker\"},{\"attributes\":{},\"id\":\"10508\",\"type\":\"UnionRenderers\"},{\"attributes\":{},\"id\":\"10105\",\"type\":\"PanTool\"},{\"attributes\":{},\"id\":\"10506\",\"type\":\"UnionRenderers\"},{\"attributes\":{\"line_alpha\":{\"value\":0.1},\"line_color\":{\"field\":\"line_color\"},\"line_width\":{\"value\":2},\"xs\":{\"field\":\"xs\"},\"ys\":{\"field\":\"ys\"}},\"id\":\"10117\",\"type\":\"MultiLine\"},{\"attributes\":{},\"id\":\"10106\",\"type\":\"WheelZoomTool\"},{\"attributes\":{\"line_alpha\":0.2,\"line_dash\":[2,4],\"line_width\":2,\"x\":{\"field\":\"x\"},\"y\":{\"field\":\"y\"}},\"id\":\"10124\",\"type\":\"Line\"},{\"attributes\":{\"axis\":{\"id\":\"10097\"},\"coordinates\":null,\"group\":null,\"ticker\":null},\"id\":\"10100\",\"type\":\"Grid\"},{\"attributes\":{\"line_alpha\":0.1,\"line_dash\":[2,4],\"line_width\":2,\"x\":{\"field\":\"x\"},\"y\":{\"field\":\"y\"}},\"id\":\"10123\",\"type\":\"Line\"},{\"attributes\":{},\"id\":\"10507\",\"type\":\"Selection\"},{\"attributes\":{\"axis_label\":\"Signal\",\"coordinates\":null,\"formatter\":{\"id\":\"10501\"},\"group\":null,\"major_label_policy\":{\"id\":\"10502\"},\"ticker\":{\"id\":\"10102\"}},\"id\":\"10101\",\"type\":\"LinearAxis\"},{\"attributes\":{\"source\":{\"id\":\"10121\"}},\"id\":\"10126\",\"type\":\"CDSView\"},{\"attributes\":{\"coordinates\":null,\"data_source\":{\"id\":\"10115\"},\"glyph\":{\"id\":\"10116\"},\"group\":null,\"hover_glyph\":null,\"muted_glyph\":{\"id\":\"10118\"},\"nonselection_glyph\":{\"id\":\"10117\"},\"view\":{\"id\":\"10120\"}},\"id\":\"10119\",\"type\":\"GlyphRenderer\"},{\"attributes\":{},\"id\":\"10502\",\"type\":\"AllLabels\"},{\"attributes\":{},\"id\":\"10501\",\"type\":\"BasicTickFormatter\"},{\"attributes\":{\"line_alpha\":{\"value\":0.2},\"line_color\":{\"field\":\"line_color\"},\"line_width\":{\"value\":2},\"xs\":{\"field\":\"xs\"},\"ys\":{\"field\":\"ys\"}},\"id\":\"10118\",\"type\":\"MultiLine\"},{\"attributes\":{},\"id\":\"10098\",\"type\":\"BasicTicker\"},{\"attributes\":{},\"id\":\"10509\",\"type\":\"Selection\"},{\"attributes\":{},\"id\":\"10505\",\"type\":\"AllLabels\"},{\"attributes\":{\"axis_label\":\"Time (s)\",\"coordinates\":null,\"formatter\":{\"id\":\"10504\"},\"group\":null,\"major_label_policy\":{\"id\":\"10505\"},\"ticker\":{\"id\":\"10098\"}},\"id\":\"10097\",\"type\":\"LinearAxis\"},{\"attributes\":{},\"id\":\"10095\",\"type\":\"LinearScale\"},{\"attributes\":{\"source\":{\"id\":\"10115\"}},\"id\":\"10120\",\"type\":\"CDSView\"},{\"attributes\":{\"data\":{\"x\":{\"__ndarray__\":\"AAAAAAAAAAD8//+/GwgMQPz//z9gQg5ABAAAIDQ7HUAAAADQkW4eQAAAAAh8XiZA/v//p1v3JkD+//9HnQkuQP7//6dZqS5A/v//Q0zaMkAAAABs/yczQAAAAJCCrDZAAAAASGj8NkAAAADwvIE6QAIAAPBx0jpAAAAA+DFXPkAAAAAsxCM/QAAAAMbMpENAAAAAwqpCREAAAAAilMFEQAAAAIo+50RAAAAAKJ6pRkD////pYdhGQP///+uNmEhAAQAA8I/BSEAAAAB25oJKQP///4HKqkpAAQAAdLgKS0A=\",\"dtype\":\"float64\",\"order\":\"little\",\"shape\":[28]},\"y\":{\"__ndarray__\":\"AAAAAAAAaUAAAAAAAABpQAAAAAAAAGlAAAAAAAAAaUAAAAAAAABpQAAAAAAAAGlAAAAAAAAAaUAAAAAAAABpQAAAAAAAAGlAAAAAAAAAaUAAAAAAAABpQAAAAAAAAGlAAAAAAAAAaUAAAAAAAABpQAAAAAAAAGlAAAAAAAAAaUAAAAAAAABpQAAAAAAAAGlAAAAAAAAAaUAAAAAAAABpQAAAAAAAAGlAAAAAAAAAaUAAAAAAAABpQAAAAAAAAGlAAAAAAAAAaUAAAAAAAABpQAAAAAAAAGlAAAAAAAAAaUA=\",\"dtype\":\"float64\",\"order\":\"little\",\"shape\":[28]}},\"selected\":{\"id\":\"10509\"},\"selection_policy\":{\"id\":\"10508\"}},\"id\":\"10121\",\"type\":\"ColumnDataSource\"},{\"attributes\":{},\"id\":\"10093\",\"type\":\"LinearScale\"},{\"attributes\":{\"overlay\":{\"id\":\"10109\"}},\"id\":\"10107\",\"type\":\"BoxZoomTool\"},{\"attributes\":{},\"id\":\"10108\",\"type\":\"ResetTool\"},{\"attributes\":{\"coordinates\":null,\"data_source\":{\"id\":\"10121\"},\"glyph\":{\"id\":\"10122\"},\"group\":null,\"hover_glyph\":null,\"muted_glyph\":{\"id\":\"10124\"},\"nonselection_glyph\":{\"id\":\"10123\"},\"view\":{\"id\":\"10126\"}},\"id\":\"10125\",\"type\":\"GlyphRenderer\"},{\"attributes\":{\"bottom_units\":\"screen\",\"coordinates\":null,\"fill_alpha\":0.5,\"fill_color\":\"lightgrey\",\"group\":null,\"left_units\":\"screen\",\"level\":\"overlay\",\"line_alpha\":1.0,\"line_color\":\"black\",\"line_dash\":[4,4],\"line_width\":2,\"right_units\":\"screen\",\"syncable\":false,\"top_units\":\"screen\"},\"id\":\"10109\",\"type\":\"BoxAnnotation\"},{\"attributes\":{},\"id\":\"10089\",\"type\":\"DataRange1d\"},{\"attributes\":{},\"id\":\"10091\",\"type\":\"DataRange1d\"},{\"attributes\":{},\"id\":\"10504\",\"type\":\"BasicTickFormatter\"},{\"attributes\":{\"line_dash\":[2,4],\"line_width\":2,\"x\":{\"field\":\"x\"},\"y\":{\"field\":\"y\"}},\"id\":\"10122\",\"type\":\"Line\"},{\"attributes\":{\"coordinates\":null,\"group\":null,\"text\":\"wing_hist_pres_0915193846\"},\"id\":\"10087\",\"type\":\"Title\"},{\"attributes\":{\"axis\":{\"id\":\"10101\"},\"coordinates\":null,\"dimension\":1,\"group\":null,\"ticker\":null},\"id\":\"10104\",\"type\":\"Grid\"},{\"attributes\":{\"tools\":[{\"id\":\"10105\"},{\"id\":\"10106\"},{\"id\":\"10107\"},{\"id\":\"10108\"}]},\"id\":\"10110\",\"type\":\"Toolbar\"},{\"attributes\":{\"data\":{\"line_color\":[\"blue\"],\"xs\":[[0.0,3.5039591789245588,3.7824101448059064,7.307816028594974,7.607978105545044,11.184540033340454,11.483121156692501,15.018778085708615,15.330762147903439,18.852726221084588,19.156241178512573,22.673867225646973,22.985966205596924,26.506789207458496,26.822051048278816,30.340606212615967,31.13971209526062,39.28749918937683,40.52083611488342,41.512333154678345,41.80659604072571,45.32513904571533,45.69048810005187,49.19183111190795,49.512205123901374,53.02265810966492,53.334305047988884,54.083754062652595]],\"ys\":[[27.0,52.0,61.0,66.0,66.0,75.0,73.0,84.0,87.0,101.0,104.0,107.0,103.0,96.0,95.0,82.0,119.0,96.0,89.0,178.0,179.0,186.0,196.0,183.0,187.0,197.0,201.0,175.0]]},\"selected\":{\"id\":\"10507\"},\"selection_policy\":{\"id\":\"10506\"}},\"id\":\"10115\",\"type\":\"ColumnDataSource\"},{\"attributes\":{\"line_color\":{\"field\":\"line_color\"},\"line_width\":{\"value\":2},\"xs\":{\"field\":\"xs\"},\"ys\":{\"field\":\"ys\"}},\"id\":\"10116\",\"type\":\"MultiLine\"}],\"root_ids\":[\"10086\"]},\"title\":\"Bokeh Application\",\"version\":\"2.4.2\"}};\n",
       "  const render_items = [{\"docid\":\"d24c63d2-5b39-47e0-bd48-a31e5024cfde\",\"root_ids\":[\"10086\"],\"roots\":{\"10086\":\"472e00a1-9af7-48d9-b914-319588605915\"}}];\n",
       "  root.Bokeh.embed.embed_items_notebook(docs_json, render_items);\n",
       "\n",
       "  }\n",
       "  if (root.Bokeh !== undefined) {\n",
       "    embed_document(root);\n",
       "  } else {\n",
       "    let attempts = 0;\n",
       "    const timer = setInterval(function(root) {\n",
       "      if (root.Bokeh !== undefined) {\n",
       "        clearInterval(timer);\n",
       "        embed_document(root);\n",
       "      } else {\n",
       "        attempts++;\n",
       "        if (attempts > 100) {\n",
       "          clearInterval(timer);\n",
       "          console.log(\"Bokeh: ERROR: Unable to run BokehJS code because BokehJS library is missing\");\n",
       "        }\n",
       "      }\n",
       "    }, 10, root)\n",
       "  }\n",
       "})(window);"
      ],
      "application/vnd.bokehjs_exec.v0+json": ""
     },
     "metadata": {
      "application/vnd.bokehjs_exec.v0+json": {
       "id": "10086"
      }
     },
     "output_type": "display_data"
    },
    {
     "name": "stdout",
     "output_type": "stream",
     "text": [
      "wing_hist_pres_0915145637.csv contains fewer than 10 data points\n"
     ]
    },
    {
     "data": {
      "text/html": [
       "\n",
       "\n",
       "\n",
       "\n",
       "\n",
       "\n",
       "  <div class=\"bk-root\" id=\"9c68aef7-7842-4ad8-9baa-0afa84bc26cc\" data-root-id=\"10571\"></div>\n"
      ]
     },
     "metadata": {},
     "output_type": "display_data"
    },
    {
     "data": {
      "application/javascript": [
       "(function(root) {\n",
       "  function embed_document(root) {\n",
       "    \n",
       "  const docs_json = {\"1225f0de-3c2c-44c4-b9a3-587c1d3fce7c\":{\"defs\":[],\"roots\":{\"references\":[{\"attributes\":{\"below\":[{\"id\":\"10582\"}],\"center\":[{\"id\":\"10585\"},{\"id\":\"10589\"}],\"height\":300,\"left\":[{\"id\":\"10586\"}],\"renderers\":[{\"id\":\"10604\"},{\"id\":\"10610\"}],\"title\":{\"id\":\"10572\"},\"toolbar\":{\"id\":\"10595\"},\"width\":900,\"x_range\":{\"id\":\"10574\"},\"x_scale\":{\"id\":\"10578\"},\"y_range\":{\"id\":\"10576\"},\"y_scale\":{\"id\":\"10580\"}},\"id\":\"10571\",\"subtype\":\"Figure\",\"type\":\"Plot\"},{\"attributes\":{\"line_dash\":[2,4],\"line_width\":2,\"x\":{\"field\":\"x\"},\"y\":{\"field\":\"y\"}},\"id\":\"10607\",\"type\":\"Line\"},{\"attributes\":{\"axis_label\":\"Time (s)\",\"coordinates\":null,\"formatter\":{\"id\":\"11001\"},\"group\":null,\"major_label_policy\":{\"id\":\"11002\"},\"ticker\":{\"id\":\"10583\"}},\"id\":\"10582\",\"type\":\"LinearAxis\"},{\"attributes\":{\"data\":{\"x\":{\"__ndarray__\":\"AAAAAAAAAAAAAAAAdGoMQAAAAGDqkg1AAgAAAPr/HEACAADwQJQdQP///y/75CVAAAAAQC0vJkAAAADo2EktQP7///+6ky1AAAAAZBFXMkD///9D2HwyQAIAAOAECjZAAAAAEN4uNkAAAACIcLw5QAEAAFxEVDpAAAAAlBC+QEAAAAAg54lBQP///3NdHEJA////FakuQkABAADMQPVDQAAAAELMB0RAAQAAqKbORUAAAADqceFFQP///z0FqEdAAAAAQG+6R0D+//8LQoFJQAAAABjvk0lAAAAAAodaS0AAAACoGm1LQAAAAHTMM01A////7zNGTUD+//9r5gxPQAAAAF6cXk9A\",\"dtype\":\"float64\",\"order\":\"little\",\"shape\":[33]},\"y\":{\"__ndarray__\":\"AAAAAAAAaUAAAAAAAABpQAAAAAAAAGlAAAAAAAAAaUAAAAAAAABpQAAAAAAAAGlAAAAAAAAAaUAAAAAAAABpQAAAAAAAAGlAAAAAAAAAaUAAAAAAAABpQAAAAAAAAGlAAAAAAAAAaUAAAAAAAABpQAAAAAAAAGlAAAAAAAAAaUAAAAAAAABpQAAAAAAAAGlAAAAAAAAAaUAAAAAAAABpQAAAAAAAAGlAAAAAAAAAaUAAAAAAAABpQAAAAAAAAGlAAAAAAAAAaUAAAAAAAABpQAAAAAAAAGlAAAAAAAAAaUAAAAAAAABpQAAAAAAAAGlAAAAAAAAAaUAAAAAAAABpQAAAAAAAAGlA\",\"dtype\":\"float64\",\"order\":\"little\",\"shape\":[33]}},\"selected\":{\"id\":\"11006\"},\"selection_policy\":{\"id\":\"11005\"}},\"id\":\"10606\",\"type\":\"ColumnDataSource\"},{\"attributes\":{},\"id\":\"11001\",\"type\":\"BasicTickFormatter\"},{\"attributes\":{},\"id\":\"10999\",\"type\":\"AllLabels\"},{\"attributes\":{\"source\":{\"id\":\"10606\"}},\"id\":\"10611\",\"type\":\"CDSView\"},{\"attributes\":{\"source\":{\"id\":\"10600\"}},\"id\":\"10605\",\"type\":\"CDSView\"},{\"attributes\":{\"data\":{\"line_color\":[\"blue\"],\"xs\":[[0.0,3.5519790649414062,3.6967360973358154,7.249977111816408,7.394778966903688,10.947228908538817,11.092142105102539,14.644232988357544,14.78853607177734,18.34010910987854,18.48767495155334,22.039136886596687,22.18307590484619,25.73609209060669,26.329168081283573,33.48488092422485,35.07736587524414,36.221601963043206,36.36453509330749,39.916039943695075,40.06092095375061,43.6144609451294,43.76128888130188,47.31265997886657,47.456520080566406,51.00982809066771,51.155734062194824,54.707245111465454,54.852375984191895,58.40467691421509,58.54846000671386,62.10078191757201,62.73914694786072]],\"ys\":[[18.0,54.0,62.0,71.0,72.0,-89.0,-68.0,-177.0,-156.0,-208.0,-187.0,-252.0,-246.0,-156.0,-285.0,-161.0,-149.0,-139.0,-139.0,-12.0,-13.0,-11.0,-23.0,-100.0,-98.0,-184.0,-161.0,-145.0,-134.0,10.0,15.0,196.0,-343.0]]},\"selected\":{\"id\":\"11004\"},\"selection_policy\":{\"id\":\"11003\"}},\"id\":\"10600\",\"type\":\"ColumnDataSource\"},{\"attributes\":{\"tools\":[{\"id\":\"10590\"},{\"id\":\"10591\"},{\"id\":\"10592\"},{\"id\":\"10593\"}]},\"id\":\"10595\",\"type\":\"Toolbar\"},{\"attributes\":{},\"id\":\"10574\",\"type\":\"DataRange1d\"},{\"attributes\":{\"line_alpha\":0.1,\"line_dash\":[2,4],\"line_width\":2,\"x\":{\"field\":\"x\"},\"y\":{\"field\":\"y\"}},\"id\":\"10608\",\"type\":\"Line\"},{\"attributes\":{\"bottom_units\":\"screen\",\"coordinates\":null,\"fill_alpha\":0.5,\"fill_color\":\"lightgrey\",\"group\":null,\"left_units\":\"screen\",\"level\":\"overlay\",\"line_alpha\":1.0,\"line_color\":\"black\",\"line_dash\":[4,4],\"line_width\":2,\"right_units\":\"screen\",\"syncable\":false,\"top_units\":\"screen\"},\"id\":\"10594\",\"type\":\"BoxAnnotation\"},{\"attributes\":{\"line_alpha\":0.2,\"line_dash\":[2,4],\"line_width\":2,\"x\":{\"field\":\"x\"},\"y\":{\"field\":\"y\"}},\"id\":\"10609\",\"type\":\"Line\"},{\"attributes\":{\"coordinates\":null,\"group\":null,\"text\":\"wing_hist_force_0914221555\"},\"id\":\"10572\",\"type\":\"Title\"},{\"attributes\":{},\"id\":\"10593\",\"type\":\"ResetTool\"},{\"attributes\":{\"axis_label\":\"Signal\",\"coordinates\":null,\"formatter\":{\"id\":\"10998\"},\"group\":null,\"major_label_policy\":{\"id\":\"10999\"},\"ticker\":{\"id\":\"10587\"}},\"id\":\"10586\",\"type\":\"LinearAxis\"},{\"attributes\":{\"coordinates\":null,\"data_source\":{\"id\":\"10606\"},\"glyph\":{\"id\":\"10607\"},\"group\":null,\"hover_glyph\":null,\"muted_glyph\":{\"id\":\"10609\"},\"nonselection_glyph\":{\"id\":\"10608\"},\"view\":{\"id\":\"10611\"}},\"id\":\"10610\",\"type\":\"GlyphRenderer\"},{\"attributes\":{\"overlay\":{\"id\":\"10594\"}},\"id\":\"10592\",\"type\":\"BoxZoomTool\"},{\"attributes\":{},\"id\":\"10590\",\"type\":\"PanTool\"},{\"attributes\":{},\"id\":\"10591\",\"type\":\"WheelZoomTool\"},{\"attributes\":{},\"id\":\"10576\",\"type\":\"DataRange1d\"},{\"attributes\":{},\"id\":\"11006\",\"type\":\"Selection\"},{\"attributes\":{\"axis\":{\"id\":\"10582\"},\"coordinates\":null,\"group\":null,\"ticker\":null},\"id\":\"10585\",\"type\":\"Grid\"},{\"attributes\":{},\"id\":\"10587\",\"type\":\"BasicTicker\"},{\"attributes\":{},\"id\":\"10578\",\"type\":\"LinearScale\"},{\"attributes\":{},\"id\":\"11005\",\"type\":\"UnionRenderers\"},{\"attributes\":{\"line_alpha\":{\"value\":0.2},\"line_color\":{\"field\":\"line_color\"},\"line_width\":{\"value\":2},\"xs\":{\"field\":\"xs\"},\"ys\":{\"field\":\"ys\"}},\"id\":\"10603\",\"type\":\"MultiLine\"},{\"attributes\":{\"coordinates\":null,\"data_source\":{\"id\":\"10600\"},\"glyph\":{\"id\":\"10601\"},\"group\":null,\"hover_glyph\":null,\"muted_glyph\":{\"id\":\"10603\"},\"nonselection_glyph\":{\"id\":\"10602\"},\"view\":{\"id\":\"10605\"}},\"id\":\"10604\",\"type\":\"GlyphRenderer\"},{\"attributes\":{\"axis\":{\"id\":\"10586\"},\"coordinates\":null,\"dimension\":1,\"group\":null,\"ticker\":null},\"id\":\"10589\",\"type\":\"Grid\"},{\"attributes\":{},\"id\":\"10998\",\"type\":\"BasicTickFormatter\"},{\"attributes\":{},\"id\":\"10580\",\"type\":\"LinearScale\"},{\"attributes\":{\"line_alpha\":{\"value\":0.1},\"line_color\":{\"field\":\"line_color\"},\"line_width\":{\"value\":2},\"xs\":{\"field\":\"xs\"},\"ys\":{\"field\":\"ys\"}},\"id\":\"10602\",\"type\":\"MultiLine\"},{\"attributes\":{},\"id\":\"11004\",\"type\":\"Selection\"},{\"attributes\":{},\"id\":\"10583\",\"type\":\"BasicTicker\"},{\"attributes\":{},\"id\":\"11003\",\"type\":\"UnionRenderers\"},{\"attributes\":{\"line_color\":{\"field\":\"line_color\"},\"line_width\":{\"value\":2},\"xs\":{\"field\":\"xs\"},\"ys\":{\"field\":\"ys\"}},\"id\":\"10601\",\"type\":\"MultiLine\"},{\"attributes\":{},\"id\":\"11002\",\"type\":\"AllLabels\"}],\"root_ids\":[\"10571\"]},\"title\":\"Bokeh Application\",\"version\":\"2.4.2\"}};\n",
       "  const render_items = [{\"docid\":\"1225f0de-3c2c-44c4-b9a3-587c1d3fce7c\",\"root_ids\":[\"10571\"],\"roots\":{\"10571\":\"9c68aef7-7842-4ad8-9baa-0afa84bc26cc\"}}];\n",
       "  root.Bokeh.embed.embed_items_notebook(docs_json, render_items);\n",
       "\n",
       "  }\n",
       "  if (root.Bokeh !== undefined) {\n",
       "    embed_document(root);\n",
       "  } else {\n",
       "    let attempts = 0;\n",
       "    const timer = setInterval(function(root) {\n",
       "      if (root.Bokeh !== undefined) {\n",
       "        clearInterval(timer);\n",
       "        embed_document(root);\n",
       "      } else {\n",
       "        attempts++;\n",
       "        if (attempts > 100) {\n",
       "          clearInterval(timer);\n",
       "          console.log(\"Bokeh: ERROR: Unable to run BokehJS code because BokehJS library is missing\");\n",
       "        }\n",
       "      }\n",
       "    }, 10, root)\n",
       "  }\n",
       "})(window);"
      ],
      "application/vnd.bokehjs_exec.v0+json": ""
     },
     "metadata": {
      "application/vnd.bokehjs_exec.v0+json": {
       "id": "10571"
      }
     },
     "output_type": "display_data"
    },
    {
     "data": {
      "text/html": [
       "\n",
       "\n",
       "\n",
       "\n",
       "\n",
       "\n",
       "  <div class=\"bk-root\" id=\"00a0ccd6-d882-4fe4-9bc5-772c138fd8e6\" data-root-id=\"11068\"></div>\n"
      ]
     },
     "metadata": {},
     "output_type": "display_data"
    },
    {
     "data": {
      "application/javascript": [
       "(function(root) {\n",
       "  function embed_document(root) {\n",
       "    \n",
       "  const docs_json = {\"fe043345-17cc-46e4-8c45-a973a02fc1bc\":{\"defs\":[],\"roots\":{\"references\":[{\"attributes\":{\"below\":[{\"id\":\"11079\"}],\"center\":[{\"id\":\"11082\"},{\"id\":\"11086\"}],\"height\":300,\"left\":[{\"id\":\"11083\"}],\"renderers\":[{\"id\":\"11101\"},{\"id\":\"11107\"}],\"title\":{\"id\":\"11069\"},\"toolbar\":{\"id\":\"11092\"},\"width\":900,\"x_range\":{\"id\":\"11071\"},\"x_scale\":{\"id\":\"11075\"},\"y_range\":{\"id\":\"11073\"},\"y_scale\":{\"id\":\"11077\"}},\"id\":\"11068\",\"subtype\":\"Figure\",\"type\":\"Plot\"},{\"attributes\":{},\"id\":\"11073\",\"type\":\"DataRange1d\"},{\"attributes\":{},\"id\":\"11071\",\"type\":\"DataRange1d\"},{\"attributes\":{\"line_alpha\":0.1,\"line_dash\":[2,4],\"line_width\":2,\"x\":{\"field\":\"x\"},\"y\":{\"field\":\"y\"}},\"id\":\"11105\",\"type\":\"Line\"},{\"attributes\":{\"line_alpha\":0.2,\"line_dash\":[2,4],\"line_width\":2,\"x\":{\"field\":\"x\"},\"y\":{\"field\":\"y\"}},\"id\":\"11106\",\"type\":\"Line\"},{\"attributes\":{\"coordinates\":null,\"data_source\":{\"id\":\"11103\"},\"glyph\":{\"id\":\"11104\"},\"group\":null,\"hover_glyph\":null,\"muted_glyph\":{\"id\":\"11106\"},\"nonselection_glyph\":{\"id\":\"11105\"},\"view\":{\"id\":\"11108\"}},\"id\":\"11107\",\"type\":\"GlyphRenderer\"},{\"attributes\":{\"line_alpha\":{\"value\":0.1},\"line_color\":{\"field\":\"line_color\"},\"line_width\":{\"value\":2},\"xs\":{\"field\":\"xs\"},\"ys\":{\"field\":\"ys\"}},\"id\":\"11099\",\"type\":\"MultiLine\"},{\"attributes\":{},\"id\":\"11088\",\"type\":\"WheelZoomTool\"},{\"attributes\":{\"line_color\":{\"field\":\"line_color\"},\"line_width\":{\"value\":2},\"xs\":{\"field\":\"xs\"},\"ys\":{\"field\":\"ys\"}},\"id\":\"11098\",\"type\":\"MultiLine\"},{\"attributes\":{},\"id\":\"11090\",\"type\":\"ResetTool\"},{\"attributes\":{},\"id\":\"11087\",\"type\":\"PanTool\"},{\"attributes\":{\"coordinates\":null,\"data_source\":{\"id\":\"11097\"},\"glyph\":{\"id\":\"11098\"},\"group\":null,\"hover_glyph\":null,\"muted_glyph\":{\"id\":\"11100\"},\"nonselection_glyph\":{\"id\":\"11099\"},\"view\":{\"id\":\"11102\"}},\"id\":\"11101\",\"type\":\"GlyphRenderer\"},{\"attributes\":{\"source\":{\"id\":\"11103\"}},\"id\":\"11108\",\"type\":\"CDSView\"},{\"attributes\":{},\"id\":\"11084\",\"type\":\"BasicTicker\"},{\"attributes\":{\"coordinates\":null,\"group\":null,\"text\":\"wing_hist_force_0914231020\"},\"id\":\"11069\",\"type\":\"Title\"},{\"attributes\":{\"data\":{\"line_color\":[\"blue\"],\"xs\":[[0.0,1.5537948608398446,1.6976900100708,3.248534917831421,3.39245295524597,4.9472129344940186,5.090939044952393,6.6420979499816895,6.786885023117067,8.338826894760134,8.482785940170286,8.694709062576292]],\"ys\":[[57.0,59.0,58.0,58.0,62.0,59.0,74.0,-262.0,-286.0,-154.0,757.0,886.0]]},\"selected\":{\"id\":\"11513\"},\"selection_policy\":{\"id\":\"11512\"}},\"id\":\"11097\",\"type\":\"ColumnDataSource\"},{\"attributes\":{},\"id\":\"11508\",\"type\":\"AllLabels\"},{\"attributes\":{\"axis\":{\"id\":\"11079\"},\"coordinates\":null,\"group\":null,\"ticker\":null},\"id\":\"11082\",\"type\":\"Grid\"},{\"attributes\":{},\"id\":\"11507\",\"type\":\"BasicTickFormatter\"},{\"attributes\":{\"axis_label\":\"Signal\",\"coordinates\":null,\"formatter\":{\"id\":\"11507\"},\"group\":null,\"major_label_policy\":{\"id\":\"11508\"},\"ticker\":{\"id\":\"11084\"}},\"id\":\"11083\",\"type\":\"LinearAxis\"},{\"attributes\":{\"data\":{\"x\":{\"__ndarray__\":\"AAAAAAAAAAAEAAAAWNz4P/z///+8Kfs/AAAA4P/8CUD8//9fviMLQAAAADDyyRNAAAAAIB9dFEAAAAAggpEaQAIAADDFJRtAAQAAuHqtIED///+3L/cgQP///+ewYyFA\",\"dtype\":\"float64\",\"order\":\"little\",\"shape\":[12]},\"y\":{\"__ndarray__\":\"AAAAAAAAaUAAAAAAAABpQAAAAAAAAGlAAAAAAAAAaUAAAAAAAABpQAAAAAAAAGlAAAAAAAAAaUAAAAAAAABpQAAAAAAAAGlAAAAAAAAAaUAAAAAAAABpQAAAAAAAAGlA\",\"dtype\":\"float64\",\"order\":\"little\",\"shape\":[12]}},\"selected\":{\"id\":\"11515\"},\"selection_policy\":{\"id\":\"11514\"}},\"id\":\"11103\",\"type\":\"ColumnDataSource\"},{\"attributes\":{},\"id\":\"11510\",\"type\":\"BasicTickFormatter\"},{\"attributes\":{\"bottom_units\":\"screen\",\"coordinates\":null,\"fill_alpha\":0.5,\"fill_color\":\"lightgrey\",\"group\":null,\"left_units\":\"screen\",\"level\":\"overlay\",\"line_alpha\":1.0,\"line_color\":\"black\",\"line_dash\":[4,4],\"line_width\":2,\"right_units\":\"screen\",\"syncable\":false,\"top_units\":\"screen\"},\"id\":\"11091\",\"type\":\"BoxAnnotation\"},{\"attributes\":{\"tools\":[{\"id\":\"11087\"},{\"id\":\"11088\"},{\"id\":\"11089\"},{\"id\":\"11090\"}]},\"id\":\"11092\",\"type\":\"Toolbar\"},{\"attributes\":{},\"id\":\"11080\",\"type\":\"BasicTicker\"},{\"attributes\":{},\"id\":\"11511\",\"type\":\"AllLabels\"},{\"attributes\":{\"axis_label\":\"Time (s)\",\"coordinates\":null,\"formatter\":{\"id\":\"11510\"},\"group\":null,\"major_label_policy\":{\"id\":\"11511\"},\"ticker\":{\"id\":\"11080\"}},\"id\":\"11079\",\"type\":\"LinearAxis\"},{\"attributes\":{\"line_dash\":[2,4],\"line_width\":2,\"x\":{\"field\":\"x\"},\"y\":{\"field\":\"y\"}},\"id\":\"11104\",\"type\":\"Line\"},{\"attributes\":{\"overlay\":{\"id\":\"11091\"}},\"id\":\"11089\",\"type\":\"BoxZoomTool\"},{\"attributes\":{\"axis\":{\"id\":\"11083\"},\"coordinates\":null,\"dimension\":1,\"group\":null,\"ticker\":null},\"id\":\"11086\",\"type\":\"Grid\"},{\"attributes\":{},\"id\":\"11513\",\"type\":\"Selection\"},{\"attributes\":{},\"id\":\"11077\",\"type\":\"LinearScale\"},{\"attributes\":{},\"id\":\"11512\",\"type\":\"UnionRenderers\"},{\"attributes\":{\"line_alpha\":{\"value\":0.2},\"line_color\":{\"field\":\"line_color\"},\"line_width\":{\"value\":2},\"xs\":{\"field\":\"xs\"},\"ys\":{\"field\":\"ys\"}},\"id\":\"11100\",\"type\":\"MultiLine\"},{\"attributes\":{},\"id\":\"11514\",\"type\":\"UnionRenderers\"},{\"attributes\":{},\"id\":\"11515\",\"type\":\"Selection\"},{\"attributes\":{},\"id\":\"11075\",\"type\":\"LinearScale\"},{\"attributes\":{\"source\":{\"id\":\"11097\"}},\"id\":\"11102\",\"type\":\"CDSView\"}],\"root_ids\":[\"11068\"]},\"title\":\"Bokeh Application\",\"version\":\"2.4.2\"}};\n",
       "  const render_items = [{\"docid\":\"fe043345-17cc-46e4-8c45-a973a02fc1bc\",\"root_ids\":[\"11068\"],\"roots\":{\"11068\":\"00a0ccd6-d882-4fe4-9bc5-772c138fd8e6\"}}];\n",
       "  root.Bokeh.embed.embed_items_notebook(docs_json, render_items);\n",
       "\n",
       "  }\n",
       "  if (root.Bokeh !== undefined) {\n",
       "    embed_document(root);\n",
       "  } else {\n",
       "    let attempts = 0;\n",
       "    const timer = setInterval(function(root) {\n",
       "      if (root.Bokeh !== undefined) {\n",
       "        clearInterval(timer);\n",
       "        embed_document(root);\n",
       "      } else {\n",
       "        attempts++;\n",
       "        if (attempts > 100) {\n",
       "          clearInterval(timer);\n",
       "          console.log(\"Bokeh: ERROR: Unable to run BokehJS code because BokehJS library is missing\");\n",
       "        }\n",
       "      }\n",
       "    }, 10, root)\n",
       "  }\n",
       "})(window);"
      ],
      "application/vnd.bokehjs_exec.v0+json": ""
     },
     "metadata": {
      "application/vnd.bokehjs_exec.v0+json": {
       "id": "11068"
      }
     },
     "output_type": "display_data"
    },
    {
     "data": {
      "text/html": [
       "\n",
       "\n",
       "\n",
       "\n",
       "\n",
       "\n",
       "  <div class=\"bk-root\" id=\"9cafb42a-014a-480c-826c-cc19c17938d7\" data-root-id=\"11577\"></div>\n"
      ]
     },
     "metadata": {},
     "output_type": "display_data"
    },
    {
     "data": {
      "application/javascript": [
       "(function(root) {\n",
       "  function embed_document(root) {\n",
       "    \n",
       "  const docs_json = {\"73909cb4-2c87-4b07-82f2-e71dfe317da4\":{\"defs\":[],\"roots\":{\"references\":[{\"attributes\":{\"below\":[{\"id\":\"11588\"}],\"center\":[{\"id\":\"11591\"},{\"id\":\"11595\"}],\"height\":300,\"left\":[{\"id\":\"11592\"}],\"renderers\":[{\"id\":\"11610\"},{\"id\":\"11616\"}],\"title\":{\"id\":\"11578\"},\"toolbar\":{\"id\":\"11601\"},\"width\":900,\"x_range\":{\"id\":\"11580\"},\"x_scale\":{\"id\":\"11584\"},\"y_range\":{\"id\":\"11582\"},\"y_scale\":{\"id\":\"11586\"}},\"id\":\"11577\",\"subtype\":\"Figure\",\"type\":\"Plot\"},{\"attributes\":{},\"id\":\"11589\",\"type\":\"BasicTicker\"},{\"attributes\":{},\"id\":\"12032\",\"type\":\"AllLabels\"},{\"attributes\":{},\"id\":\"11593\",\"type\":\"BasicTicker\"},{\"attributes\":{\"axis_label\":\"Signal\",\"coordinates\":null,\"formatter\":{\"id\":\"12028\"},\"group\":null,\"major_label_policy\":{\"id\":\"12029\"},\"ticker\":{\"id\":\"11593\"}},\"id\":\"11592\",\"type\":\"LinearAxis\"},{\"attributes\":{},\"id\":\"12034\",\"type\":\"Selection\"},{\"attributes\":{},\"id\":\"11580\",\"type\":\"DataRange1d\"},{\"attributes\":{\"bottom_units\":\"screen\",\"coordinates\":null,\"fill_alpha\":0.5,\"fill_color\":\"lightgrey\",\"group\":null,\"left_units\":\"screen\",\"level\":\"overlay\",\"line_alpha\":1.0,\"line_color\":\"black\",\"line_dash\":[4,4],\"line_width\":2,\"right_units\":\"screen\",\"syncable\":false,\"top_units\":\"screen\"},\"id\":\"11600\",\"type\":\"BoxAnnotation\"},{\"attributes\":{},\"id\":\"11599\",\"type\":\"ResetTool\"},{\"attributes\":{},\"id\":\"11586\",\"type\":\"LinearScale\"},{\"attributes\":{},\"id\":\"12028\",\"type\":\"BasicTickFormatter\"},{\"attributes\":{},\"id\":\"12029\",\"type\":\"AllLabels\"},{\"attributes\":{},\"id\":\"12031\",\"type\":\"BasicTickFormatter\"},{\"attributes\":{},\"id\":\"12035\",\"type\":\"UnionRenderers\"},{\"attributes\":{\"line_alpha\":{\"value\":0.2},\"line_color\":{\"field\":\"line_color\"},\"line_width\":{\"value\":2},\"xs\":{\"field\":\"xs\"},\"ys\":{\"field\":\"ys\"}},\"id\":\"11609\",\"type\":\"MultiLine\"},{\"attributes\":{\"axis_label\":\"Time (s)\",\"coordinates\":null,\"formatter\":{\"id\":\"12031\"},\"group\":null,\"major_label_policy\":{\"id\":\"12032\"},\"ticker\":{\"id\":\"11589\"}},\"id\":\"11588\",\"type\":\"LinearAxis\"},{\"attributes\":{\"coordinates\":null,\"data_source\":{\"id\":\"11606\"},\"glyph\":{\"id\":\"11607\"},\"group\":null,\"hover_glyph\":null,\"muted_glyph\":{\"id\":\"11609\"},\"nonselection_glyph\":{\"id\":\"11608\"},\"view\":{\"id\":\"11611\"}},\"id\":\"11610\",\"type\":\"GlyphRenderer\"},{\"attributes\":{},\"id\":\"12036\",\"type\":\"Selection\"},{\"attributes\":{},\"id\":\"11582\",\"type\":\"DataRange1d\"},{\"attributes\":{\"line_alpha\":{\"value\":0.1},\"line_color\":{\"field\":\"line_color\"},\"line_width\":{\"value\":2},\"xs\":{\"field\":\"xs\"},\"ys\":{\"field\":\"ys\"}},\"id\":\"11608\",\"type\":\"MultiLine\"},{\"attributes\":{\"axis\":{\"id\":\"11592\"},\"coordinates\":null,\"dimension\":1,\"group\":null,\"ticker\":null},\"id\":\"11595\",\"type\":\"Grid\"},{\"attributes\":{\"source\":{\"id\":\"11606\"}},\"id\":\"11611\",\"type\":\"CDSView\"},{\"attributes\":{\"data\":{\"x\":{\"__ndarray__\":\"AAAAAAAAAAAEAAAAl0sMQAgAAGCx3w5ABAAAkGWKHUAEAACAmMseQAAAAEgOcSZAAgAA4HAPJ0ACAAAYhg8uQAAAAMD/ny5AAAAAQOrOMkABAACIRCEzQAEAAJCHojZAAQAA6ADtNkABAAC0BHU6QAEAAGBCwTpAAQAAYF9HPkABAACsSwk/QAAAAPD2nkNAAAAA8KlAREACAACaX79EQAAAADI65kRAAgAA7BWwRkAAAABUANhGQAAAAJyMmkhAAAAAxLbDSEAAAAAeiYVKQAAAAHpNq0pAAAAAAmpsTEAAAABoP5RMQAAAAEpiVU5A/v//3y57TkD///9jHh9QQAAAAEFHM1BAAAAA1vwWUUAAAAD2ey1RQP///zx7ElJAAQAAOdRBUkD///+F4kxUQP///1aTnFRA////xn7cVED///8JnvVUQP///xTJY1VAAQAAJNJ2VUD+//+wT49VQA==\",\"dtype\":\"float64\",\"order\":\"little\",\"shape\":[44]},\"y\":{\"__ndarray__\":\"AAAAAAAAaUAAAAAAAABpQAAAAAAAAGlAAAAAAAAAaUAAAAAAAABpQAAAAAAAAGlAAAAAAAAAaUAAAAAAAABpQAAAAAAAAGlAAAAAAAAAaUAAAAAAAABpQAAAAAAAAGlAAAAAAAAAaUAAAAAAAABpQAAAAAAAAGlAAAAAAAAAaUAAAAAAAABpQAAAAAAAAGlAAAAAAAAAaUAAAAAAAABpQAAAAAAAAGlAAAAAAAAAaUAAAAAAAABpQAAAAAAAAGlAAAAAAAAAaUAAAAAAAABpQAAAAAAAAGlAAAAAAAAAaUAAAAAAAABpQAAAAAAAAGlAAAAAAAAAaUAAAAAAAABpQAAAAAAAAGlAAAAAAAAAaUAAAAAAAABpQAAAAAAAAGlAAAAAAAAAaUAAAAAAAABpQAAAAAAAAGlAAAAAAAAAaUAAAAAAAABpQAAAAAAAAGlAAAAAAAAAaUAAAAAAAABpQA==\",\"dtype\":\"float64\",\"order\":\"little\",\"shape\":[44]}},\"selected\":{\"id\":\"12036\"},\"selection_policy\":{\"id\":\"12035\"}},\"id\":\"11612\",\"type\":\"ColumnDataSource\"},{\"attributes\":{},\"id\":\"11584\",\"type\":\"LinearScale\"},{\"attributes\":{\"tools\":[{\"id\":\"11596\"},{\"id\":\"11597\"},{\"id\":\"11598\"},{\"id\":\"11599\"}]},\"id\":\"11601\",\"type\":\"Toolbar\"},{\"attributes\":{\"line_alpha\":0.1,\"line_dash\":[2,4],\"line_width\":2,\"x\":{\"field\":\"x\"},\"y\":{\"field\":\"y\"}},\"id\":\"11614\",\"type\":\"Line\"},{\"attributes\":{\"coordinates\":null,\"data_source\":{\"id\":\"11612\"},\"glyph\":{\"id\":\"11613\"},\"group\":null,\"hover_glyph\":null,\"muted_glyph\":{\"id\":\"11615\"},\"nonselection_glyph\":{\"id\":\"11614\"},\"view\":{\"id\":\"11617\"}},\"id\":\"11616\",\"type\":\"GlyphRenderer\"},{\"attributes\":{\"coordinates\":null,\"group\":null,\"text\":\"wing_hist_pres_0915194735\"},\"id\":\"11578\",\"type\":\"Title\"},{\"attributes\":{\"line_color\":{\"field\":\"line_color\"},\"line_width\":{\"value\":2},\"xs\":{\"field\":\"xs\"},\"ys\":{\"field\":\"ys\"}},\"id\":\"11607\",\"type\":\"MultiLine\"},{\"attributes\":{\"line_alpha\":0.2,\"line_dash\":[2,4],\"line_width\":2,\"x\":{\"field\":\"x\"},\"y\":{\"field\":\"y\"}},\"id\":\"11615\",\"type\":\"Line\"},{\"attributes\":{\"line_dash\":[2,4],\"line_width\":2,\"x\":{\"field\":\"x\"},\"y\":{\"field\":\"y\"}},\"id\":\"11613\",\"type\":\"Line\"},{\"attributes\":{},\"id\":\"11596\",\"type\":\"PanTool\"},{\"attributes\":{},\"id\":\"11597\",\"type\":\"WheelZoomTool\"},{\"attributes\":{\"source\":{\"id\":\"11612\"}},\"id\":\"11617\",\"type\":\"CDSView\"},{\"attributes\":{\"data\":{\"line_color\":[\"blue\"],\"xs\":[[0.0,3.5369091033935565,3.8592250347137487,7.385153055191044,7.698823928833011,11.22081208229065,11.530158042907718,15.030319929122928,15.312498092651367,18.80826187133789,19.129951953887943,22.63488101959229,22.92579507827759,26.457103013992313,26.754919052124027,30.27879905700684,31.036310911178592,39.24191093444824,40.50518608093262,41.49510502815248,41.79865097999573,45.37566900253297,45.68751001358032,49.20741605758667,49.5290150642395,53.04324698448181,53.33830189704895,56.84698510169983,57.15818500518799,60.66706204414368,60.962368011474595,64.4862298965454,64.80122399330139,68.35918188095093,68.71069097518921,72.28877186775206,73.02857804298402,81.20132589340209,82.44649291038512,83.44523787498473,83.83777093887328,85.5591480731964,85.85657596588136,86.23923897743222]],\"ys\":[[68.0,2.0,2.0,2.0,2.0,24.0,23.0,36.0,39.0,16.0,20.0,1.0,1.0,38.0,40.0,56.0,50.0,58.0,62.0,82.0,84.0,92.0,89.0,37.0,14.0,54.0,53.0,47.0,59.0,40.0,50.0,84.0,84.0,117.0,136.0,97.0,73.0,96.0,90.0,138.0,167.0,179.0,219.0,213.0]]},\"selected\":{\"id\":\"12034\"},\"selection_policy\":{\"id\":\"12033\"}},\"id\":\"11606\",\"type\":\"ColumnDataSource\"},{\"attributes\":{},\"id\":\"12033\",\"type\":\"UnionRenderers\"},{\"attributes\":{\"overlay\":{\"id\":\"11600\"}},\"id\":\"11598\",\"type\":\"BoxZoomTool\"},{\"attributes\":{\"axis\":{\"id\":\"11588\"},\"coordinates\":null,\"group\":null,\"ticker\":null},\"id\":\"11591\",\"type\":\"Grid\"}],\"root_ids\":[\"11577\"]},\"title\":\"Bokeh Application\",\"version\":\"2.4.2\"}};\n",
       "  const render_items = [{\"docid\":\"73909cb4-2c87-4b07-82f2-e71dfe317da4\",\"root_ids\":[\"11577\"],\"roots\":{\"11577\":\"9cafb42a-014a-480c-826c-cc19c17938d7\"}}];\n",
       "  root.Bokeh.embed.embed_items_notebook(docs_json, render_items);\n",
       "\n",
       "  }\n",
       "  if (root.Bokeh !== undefined) {\n",
       "    embed_document(root);\n",
       "  } else {\n",
       "    let attempts = 0;\n",
       "    const timer = setInterval(function(root) {\n",
       "      if (root.Bokeh !== undefined) {\n",
       "        clearInterval(timer);\n",
       "        embed_document(root);\n",
       "      } else {\n",
       "        attempts++;\n",
       "        if (attempts > 100) {\n",
       "          clearInterval(timer);\n",
       "          console.log(\"Bokeh: ERROR: Unable to run BokehJS code because BokehJS library is missing\");\n",
       "        }\n",
       "      }\n",
       "    }, 10, root)\n",
       "  }\n",
       "})(window);"
      ],
      "application/vnd.bokehjs_exec.v0+json": ""
     },
     "metadata": {
      "application/vnd.bokehjs_exec.v0+json": {
       "id": "11577"
      }
     },
     "output_type": "display_data"
    },
    {
     "name": "stdout",
     "output_type": "stream",
     "text": [
      "wing_hist_pres_0915145150.csv contains fewer than 10 data points\n",
      "wing_hist_pres_0915155551.csv contains fewer than 10 data points\n"
     ]
    },
    {
     "data": {
      "text/html": [
       "\n",
       "\n",
       "\n",
       "\n",
       "\n",
       "\n",
       "  <div class=\"bk-root\" id=\"d7fb14da-4520-4909-85b2-2b0b7b2ea6d5\" data-root-id=\"12098\"></div>\n"
      ]
     },
     "metadata": {},
     "output_type": "display_data"
    },
    {
     "data": {
      "application/javascript": [
       "(function(root) {\n",
       "  function embed_document(root) {\n",
       "    \n",
       "  const docs_json = {\"aa6715cb-7eb8-431c-8768-74a35a47afff\":{\"defs\":[],\"roots\":{\"references\":[{\"attributes\":{\"below\":[{\"id\":\"12109\"}],\"center\":[{\"id\":\"12112\"},{\"id\":\"12116\"}],\"height\":300,\"left\":[{\"id\":\"12113\"}],\"renderers\":[{\"id\":\"12131\"},{\"id\":\"12137\"}],\"title\":{\"id\":\"12099\"},\"toolbar\":{\"id\":\"12122\"},\"width\":900,\"x_range\":{\"id\":\"12101\"},\"x_scale\":{\"id\":\"12105\"},\"y_range\":{\"id\":\"12103\"},\"y_scale\":{\"id\":\"12107\"}},\"id\":\"12098\",\"subtype\":\"Figure\",\"type\":\"Plot\"},{\"attributes\":{\"tools\":[{\"id\":\"12117\"},{\"id\":\"12118\"},{\"id\":\"12119\"},{\"id\":\"12120\"}]},\"id\":\"12122\",\"type\":\"Toolbar\"},{\"attributes\":{\"line_alpha\":{\"value\":0.1},\"line_color\":{\"field\":\"line_color\"},\"line_width\":{\"value\":2},\"xs\":{\"field\":\"xs\"},\"ys\":{\"field\":\"ys\"}},\"id\":\"12129\",\"type\":\"MultiLine\"},{\"attributes\":{},\"id\":\"12567\",\"type\":\"Selection\"},{\"attributes\":{},\"id\":\"12101\",\"type\":\"DataRange1d\"},{\"attributes\":{\"source\":{\"id\":\"12127\"}},\"id\":\"12132\",\"type\":\"CDSView\"},{\"attributes\":{},\"id\":\"12117\",\"type\":\"PanTool\"},{\"attributes\":{},\"id\":\"12568\",\"type\":\"UnionRenderers\"},{\"attributes\":{},\"id\":\"12118\",\"type\":\"WheelZoomTool\"},{\"attributes\":{\"data\":{\"x\":{\"__ndarray__\":\"AAAAAAAAAAAEAAAACysMQAAAAGBhzA5A/P//Dx1kHUAAAACgToseQAAAACAvTSZAAAAAwAXyJkACAAAQpvktQAAAAHgplS5AAAAAVOzQMkD///+7PB0zQAAAAPj4oTZAAAAAJOf1NkACAACQm346QAAAAISCQjtA\",\"dtype\":\"float64\",\"order\":\"little\",\"shape\":[15]},\"y\":{\"__ndarray__\":\"AAAAAAAAaUAAAAAAAABpQAAAAAAAAGlAAAAAAAAAaUAAAAAAAABpQAAAAAAAAGlAAAAAAAAAaUAAAAAAAABpQAAAAAAAAGlAAAAAAAAAaUAAAAAAAABpQAAAAAAAAGlAAAAAAAAAaUAAAAAAAABpQAAAAAAAAGlA\",\"dtype\":\"float64\",\"order\":\"little\",\"shape\":[15]}},\"selected\":{\"id\":\"12569\"},\"selection_policy\":{\"id\":\"12568\"}},\"id\":\"12133\",\"type\":\"ColumnDataSource\"},{\"attributes\":{\"overlay\":{\"id\":\"12121\"}},\"id\":\"12119\",\"type\":\"BoxZoomTool\"},{\"attributes\":{},\"id\":\"12569\",\"type\":\"Selection\"},{\"attributes\":{},\"id\":\"12120\",\"type\":\"ResetTool\"},{\"attributes\":{},\"id\":\"12105\",\"type\":\"LinearScale\"},{\"attributes\":{\"line_alpha\":0.1,\"line_dash\":[2,4],\"line_width\":2,\"x\":{\"field\":\"x\"},\"y\":{\"field\":\"y\"}},\"id\":\"12135\",\"type\":\"Line\"},{\"attributes\":{\"coordinates\":null,\"data_source\":{\"id\":\"12133\"},\"glyph\":{\"id\":\"12134\"},\"group\":null,\"hover_glyph\":null,\"muted_glyph\":{\"id\":\"12136\"},\"nonselection_glyph\":{\"id\":\"12135\"},\"view\":{\"id\":\"12138\"}},\"id\":\"12137\",\"type\":\"GlyphRenderer\"},{\"attributes\":{},\"id\":\"12114\",\"type\":\"BasicTicker\"},{\"attributes\":{\"bottom_units\":\"screen\",\"coordinates\":null,\"fill_alpha\":0.5,\"fill_color\":\"lightgrey\",\"group\":null,\"left_units\":\"screen\",\"level\":\"overlay\",\"line_alpha\":1.0,\"line_color\":\"black\",\"line_dash\":[4,4],\"line_width\":2,\"right_units\":\"screen\",\"syncable\":false,\"top_units\":\"screen\"},\"id\":\"12121\",\"type\":\"BoxAnnotation\"},{\"attributes\":{\"coordinates\":null,\"group\":null,\"text\":\"wing_hist_pres_0915191507\"},\"id\":\"12099\",\"type\":\"Title\"},{\"attributes\":{\"line_alpha\":0.2,\"line_dash\":[2,4],\"line_width\":2,\"x\":{\"field\":\"x\"},\"y\":{\"field\":\"y\"}},\"id\":\"12136\",\"type\":\"Line\"},{\"attributes\":{\"axis_label\":\"Signal\",\"coordinates\":null,\"formatter\":{\"id\":\"12561\"},\"group\":null,\"major_label_policy\":{\"id\":\"12562\"},\"ticker\":{\"id\":\"12114\"}},\"id\":\"12113\",\"type\":\"LinearAxis\"},{\"attributes\":{\"line_dash\":[2,4],\"line_width\":2,\"x\":{\"field\":\"x\"},\"y\":{\"field\":\"y\"}},\"id\":\"12134\",\"type\":\"Line\"},{\"attributes\":{\"data\":{\"line_color\":[\"blue\"],\"xs\":[[0.0,3.5210170745849627,3.84979510307312,7.347767114639279,7.63604211807251,11.150750160217285,11.472700119018555,14.98759508132935,15.291332006454468,18.81610608100891,19.114207983016964,22.632705211639404,22.96055817604065,26.494561195373542,27.259804010391235]],\"ys\":[[24.0,32.0,39.0,64.0,70.0,67.0,76.0,58.0,54.0,65.0,58.0,78.0,118.0,228.0,0.0]]},\"selected\":{\"id\":\"12567\"},\"selection_policy\":{\"id\":\"12566\"}},\"id\":\"12127\",\"type\":\"ColumnDataSource\"},{\"attributes\":{\"axis\":{\"id\":\"12109\"},\"coordinates\":null,\"group\":null,\"ticker\":null},\"id\":\"12112\",\"type\":\"Grid\"},{\"attributes\":{\"axis\":{\"id\":\"12113\"},\"coordinates\":null,\"dimension\":1,\"group\":null,\"ticker\":null},\"id\":\"12116\",\"type\":\"Grid\"},{\"attributes\":{\"source\":{\"id\":\"12133\"}},\"id\":\"12138\",\"type\":\"CDSView\"},{\"attributes\":{},\"id\":\"12562\",\"type\":\"AllLabels\"},{\"attributes\":{},\"id\":\"12566\",\"type\":\"UnionRenderers\"},{\"attributes\":{\"line_color\":{\"field\":\"line_color\"},\"line_width\":{\"value\":2},\"xs\":{\"field\":\"xs\"},\"ys\":{\"field\":\"ys\"}},\"id\":\"12128\",\"type\":\"MultiLine\"},{\"attributes\":{\"coordinates\":null,\"data_source\":{\"id\":\"12127\"},\"glyph\":{\"id\":\"12128\"},\"group\":null,\"hover_glyph\":null,\"muted_glyph\":{\"id\":\"12130\"},\"nonselection_glyph\":{\"id\":\"12129\"},\"view\":{\"id\":\"12132\"}},\"id\":\"12131\",\"type\":\"GlyphRenderer\"},{\"attributes\":{},\"id\":\"12564\",\"type\":\"BasicTickFormatter\"},{\"attributes\":{},\"id\":\"12107\",\"type\":\"LinearScale\"},{\"attributes\":{},\"id\":\"12561\",\"type\":\"BasicTickFormatter\"},{\"attributes\":{},\"id\":\"12110\",\"type\":\"BasicTicker\"},{\"attributes\":{\"axis_label\":\"Time (s)\",\"coordinates\":null,\"formatter\":{\"id\":\"12564\"},\"group\":null,\"major_label_policy\":{\"id\":\"12565\"},\"ticker\":{\"id\":\"12110\"}},\"id\":\"12109\",\"type\":\"LinearAxis\"},{\"attributes\":{},\"id\":\"12103\",\"type\":\"DataRange1d\"},{\"attributes\":{\"line_alpha\":{\"value\":0.2},\"line_color\":{\"field\":\"line_color\"},\"line_width\":{\"value\":2},\"xs\":{\"field\":\"xs\"},\"ys\":{\"field\":\"ys\"}},\"id\":\"12130\",\"type\":\"MultiLine\"},{\"attributes\":{},\"id\":\"12565\",\"type\":\"AllLabels\"}],\"root_ids\":[\"12098\"]},\"title\":\"Bokeh Application\",\"version\":\"2.4.2\"}};\n",
       "  const render_items = [{\"docid\":\"aa6715cb-7eb8-431c-8768-74a35a47afff\",\"root_ids\":[\"12098\"],\"roots\":{\"12098\":\"d7fb14da-4520-4909-85b2-2b0b7b2ea6d5\"}}];\n",
       "  root.Bokeh.embed.embed_items_notebook(docs_json, render_items);\n",
       "\n",
       "  }\n",
       "  if (root.Bokeh !== undefined) {\n",
       "    embed_document(root);\n",
       "  } else {\n",
       "    let attempts = 0;\n",
       "    const timer = setInterval(function(root) {\n",
       "      if (root.Bokeh !== undefined) {\n",
       "        clearInterval(timer);\n",
       "        embed_document(root);\n",
       "      } else {\n",
       "        attempts++;\n",
       "        if (attempts > 100) {\n",
       "          clearInterval(timer);\n",
       "          console.log(\"Bokeh: ERROR: Unable to run BokehJS code because BokehJS library is missing\");\n",
       "        }\n",
       "      }\n",
       "    }, 10, root)\n",
       "  }\n",
       "})(window);"
      ],
      "application/vnd.bokehjs_exec.v0+json": ""
     },
     "metadata": {
      "application/vnd.bokehjs_exec.v0+json": {
       "id": "12098"
      }
     },
     "output_type": "display_data"
    },
    {
     "name": "stdout",
     "output_type": "stream",
     "text": [
      "wing_hist_force_0914221420.csv contains fewer than 10 data points\n",
      "wing_hist_force_0915184327.csv contains fewer than 10 data points\n",
      "wing_hist_force_0915164204.csv contains fewer than 10 data points\n"
     ]
    },
    {
     "data": {
      "text/html": [
       "\n",
       "\n",
       "\n",
       "\n",
       "\n",
       "\n",
       "  <div class=\"bk-root\" id=\"c6ce18d6-d638-478a-a8e6-b73276edc379\" data-root-id=\"12631\"></div>\n"
      ]
     },
     "metadata": {},
     "output_type": "display_data"
    },
    {
     "data": {
      "application/javascript": [
       "(function(root) {\n",
       "  function embed_document(root) {\n",
       "    \n",
       "  const docs_json = {\"2c35d378-e31c-4ef4-8140-6c4c9160e4a7\":{\"defs\":[],\"roots\":{\"references\":[{\"attributes\":{\"below\":[{\"id\":\"12642\"}],\"center\":[{\"id\":\"12645\"},{\"id\":\"12649\"}],\"height\":300,\"left\":[{\"id\":\"12646\"}],\"renderers\":[{\"id\":\"12664\"},{\"id\":\"12670\"}],\"title\":{\"id\":\"12632\"},\"toolbar\":{\"id\":\"12655\"},\"width\":900,\"x_range\":{\"id\":\"12634\"},\"x_scale\":{\"id\":\"12638\"},\"y_range\":{\"id\":\"12636\"},\"y_scale\":{\"id\":\"12640\"}},\"id\":\"12631\",\"subtype\":\"Figure\",\"type\":\"Plot\"},{\"attributes\":{\"axis_label\":\"Signal\",\"coordinates\":null,\"formatter\":{\"id\":\"13106\"},\"group\":null,\"major_label_policy\":{\"id\":\"13107\"},\"ticker\":{\"id\":\"12647\"}},\"id\":\"12646\",\"type\":\"LinearAxis\"},{\"attributes\":{},\"id\":\"13111\",\"type\":\"UnionRenderers\"},{\"attributes\":{\"source\":{\"id\":\"12660\"}},\"id\":\"12665\",\"type\":\"CDSView\"},{\"attributes\":{},\"id\":\"12647\",\"type\":\"BasicTicker\"},{\"attributes\":{},\"id\":\"13112\",\"type\":\"Selection\"},{\"attributes\":{\"axis\":{\"id\":\"12642\"},\"coordinates\":null,\"group\":null,\"ticker\":null},\"id\":\"12645\",\"type\":\"Grid\"},{\"attributes\":{},\"id\":\"13113\",\"type\":\"UnionRenderers\"},{\"attributes\":{\"bottom_units\":\"screen\",\"coordinates\":null,\"fill_alpha\":0.5,\"fill_color\":\"lightgrey\",\"group\":null,\"left_units\":\"screen\",\"level\":\"overlay\",\"line_alpha\":1.0,\"line_color\":\"black\",\"line_dash\":[4,4],\"line_width\":2,\"right_units\":\"screen\",\"syncable\":false,\"top_units\":\"screen\"},\"id\":\"12654\",\"type\":\"BoxAnnotation\"},{\"attributes\":{\"axis_label\":\"Time (s)\",\"coordinates\":null,\"formatter\":{\"id\":\"13109\"},\"group\":null,\"major_label_policy\":{\"id\":\"13110\"},\"ticker\":{\"id\":\"12643\"}},\"id\":\"12642\",\"type\":\"LinearAxis\"},{\"attributes\":{},\"id\":\"12643\",\"type\":\"BasicTicker\"},{\"attributes\":{\"data\":{\"x\":{\"__ndarray__\":\"AAAAAAAAAAD+///fc2sMQAIAAGAJkg1AAwAA4JX9HEABAABg9ZAdQAAAAIBv4yVAAAAAMCMtJkAAAAA4ZUctQAAAAAALkS1AAAAAeONVMkD////juXoyQP////8iCDZAAgAAPPEsNkAAAACEKbo5QAIAACgTTzpAAAAAYqK7QEAAAAA+IIhBQAAAAASWGkJAAAAAxuEsQkAAAACccHdCQA==\",\"dtype\":\"float64\",\"order\":\"little\",\"shape\":[20]},\"y\":{\"__ndarray__\":\"AAAAAAAAaUAAAAAAAABpQAAAAAAAAGlAAAAAAAAAaUAAAAAAAABpQAAAAAAAAGlAAAAAAAAAaUAAAAAAAABpQAAAAAAAAGlAAAAAAAAAaUAAAAAAAABpQAAAAAAAAGlAAAAAAAAAaUAAAAAAAABpQAAAAAAAAGlAAAAAAAAAaUAAAAAAAABpQAAAAAAAAGlAAAAAAAAAaUAAAAAAAABpQA==\",\"dtype\":\"float64\",\"order\":\"little\",\"shape\":[20]}},\"selected\":{\"id\":\"13114\"},\"selection_policy\":{\"id\":\"13113\"}},\"id\":\"12666\",\"type\":\"ColumnDataSource\"},{\"attributes\":{\"axis\":{\"id\":\"12646\"},\"coordinates\":null,\"dimension\":1,\"group\":null,\"ticker\":null},\"id\":\"12649\",\"type\":\"Grid\"},{\"attributes\":{},\"id\":\"13114\",\"type\":\"Selection\"},{\"attributes\":{},\"id\":\"12636\",\"type\":\"DataRange1d\"},{\"attributes\":{},\"id\":\"12640\",\"type\":\"LinearScale\"},{\"attributes\":{\"line_alpha\":{\"value\":0.2},\"line_color\":{\"field\":\"line_color\"},\"line_width\":{\"value\":2},\"xs\":{\"field\":\"xs\"},\"ys\":{\"field\":\"ys\"}},\"id\":\"12663\",\"type\":\"MultiLine\"},{\"attributes\":{\"coordinates\":null,\"group\":null,\"text\":\"wing_hist_force_0914221755\"},\"id\":\"12632\",\"type\":\"Title\"},{\"attributes\":{\"line_alpha\":0.1,\"line_dash\":[2,4],\"line_width\":2,\"x\":{\"field\":\"x\"},\"y\":{\"field\":\"y\"}},\"id\":\"12668\",\"type\":\"Line\"},{\"attributes\":{\"coordinates\":null,\"data_source\":{\"id\":\"12666\"},\"glyph\":{\"id\":\"12667\"},\"group\":null,\"hover_glyph\":null,\"muted_glyph\":{\"id\":\"12669\"},\"nonselection_glyph\":{\"id\":\"12668\"},\"view\":{\"id\":\"12671\"}},\"id\":\"12670\",\"type\":\"GlyphRenderer\"},{\"attributes\":{\"line_alpha\":0.2,\"line_dash\":[2,4],\"line_width\":2,\"x\":{\"field\":\"x\"},\"y\":{\"field\":\"y\"}},\"id\":\"12669\",\"type\":\"Line\"},{\"attributes\":{\"line_dash\":[2,4],\"line_width\":2,\"x\":{\"field\":\"x\"},\"y\":{\"field\":\"y\"}},\"id\":\"12667\",\"type\":\"Line\"},{\"attributes\":{},\"id\":\"12651\",\"type\":\"WheelZoomTool\"},{\"attributes\":{},\"id\":\"12634\",\"type\":\"DataRange1d\"},{\"attributes\":{},\"id\":\"12638\",\"type\":\"LinearScale\"},{\"attributes\":{\"source\":{\"id\":\"12666\"}},\"id\":\"12671\",\"type\":\"CDSView\"},{\"attributes\":{\"line_color\":{\"field\":\"line_color\"},\"line_width\":{\"value\":2},\"xs\":{\"field\":\"xs\"},\"ys\":{\"field\":\"ys\"}},\"id\":\"12661\",\"type\":\"MultiLine\"},{\"attributes\":{},\"id\":\"12653\",\"type\":\"ResetTool\"},{\"attributes\":{\"data\":{\"line_color\":[\"blue\"],\"xs\":[[0.0,3.5524671077728263,3.6963069438934335,7.247642040252688,7.391561031341554,10.944210052490234,11.088159084320068,14.63944411277771,14.783287048339844,18.33550214767456,18.479398965835568,22.031784057617184,22.175555944442756,25.727195978164673,26.308886051177986,33.465893030166626,35.06348395347595,36.20770311355591,36.350640058517456,36.93312406539917]],\"ys\":[[19.0,13.0,16.0,-11.0,-17.0,-16.0,-25.0,-73.0,-70.0,-14.0,-10.0,-27.0,-30.0,23.0,4.0,53.0,89.0,132.0,139.0,170.0]]},\"selected\":{\"id\":\"13112\"},\"selection_policy\":{\"id\":\"13111\"}},\"id\":\"12660\",\"type\":\"ColumnDataSource\"},{\"attributes\":{},\"id\":\"13106\",\"type\":\"BasicTickFormatter\"},{\"attributes\":{},\"id\":\"12650\",\"type\":\"PanTool\"},{\"attributes\":{\"coordinates\":null,\"data_source\":{\"id\":\"12660\"},\"glyph\":{\"id\":\"12661\"},\"group\":null,\"hover_glyph\":null,\"muted_glyph\":{\"id\":\"12663\"},\"nonselection_glyph\":{\"id\":\"12662\"},\"view\":{\"id\":\"12665\"}},\"id\":\"12664\",\"type\":\"GlyphRenderer\"},{\"attributes\":{\"overlay\":{\"id\":\"12654\"}},\"id\":\"12652\",\"type\":\"BoxZoomTool\"},{\"attributes\":{\"tools\":[{\"id\":\"12650\"},{\"id\":\"12651\"},{\"id\":\"12652\"},{\"id\":\"12653\"}]},\"id\":\"12655\",\"type\":\"Toolbar\"},{\"attributes\":{},\"id\":\"13107\",\"type\":\"AllLabels\"},{\"attributes\":{},\"id\":\"13109\",\"type\":\"BasicTickFormatter\"},{\"attributes\":{\"line_alpha\":{\"value\":0.1},\"line_color\":{\"field\":\"line_color\"},\"line_width\":{\"value\":2},\"xs\":{\"field\":\"xs\"},\"ys\":{\"field\":\"ys\"}},\"id\":\"12662\",\"type\":\"MultiLine\"},{\"attributes\":{},\"id\":\"13110\",\"type\":\"AllLabels\"}],\"root_ids\":[\"12631\"]},\"title\":\"Bokeh Application\",\"version\":\"2.4.2\"}};\n",
       "  const render_items = [{\"docid\":\"2c35d378-e31c-4ef4-8140-6c4c9160e4a7\",\"root_ids\":[\"12631\"],\"roots\":{\"12631\":\"c6ce18d6-d638-478a-a8e6-b73276edc379\"}}];\n",
       "  root.Bokeh.embed.embed_items_notebook(docs_json, render_items);\n",
       "\n",
       "  }\n",
       "  if (root.Bokeh !== undefined) {\n",
       "    embed_document(root);\n",
       "  } else {\n",
       "    let attempts = 0;\n",
       "    const timer = setInterval(function(root) {\n",
       "      if (root.Bokeh !== undefined) {\n",
       "        clearInterval(timer);\n",
       "        embed_document(root);\n",
       "      } else {\n",
       "        attempts++;\n",
       "        if (attempts > 100) {\n",
       "          clearInterval(timer);\n",
       "          console.log(\"Bokeh: ERROR: Unable to run BokehJS code because BokehJS library is missing\");\n",
       "        }\n",
       "      }\n",
       "    }, 10, root)\n",
       "  }\n",
       "})(window);"
      ],
      "application/vnd.bokehjs_exec.v0+json": ""
     },
     "metadata": {
      "application/vnd.bokehjs_exec.v0+json": {
       "id": "12631"
      }
     },
     "output_type": "display_data"
    },
    {
     "data": {
      "text/html": [
       "\n",
       "\n",
       "\n",
       "\n",
       "\n",
       "\n",
       "  <div class=\"bk-root\" id=\"1fc83841-47da-4ec3-bb54-1f1427e205d6\" data-root-id=\"13176\"></div>\n"
      ]
     },
     "metadata": {},
     "output_type": "display_data"
    },
    {
     "data": {
      "application/javascript": [
       "(function(root) {\n",
       "  function embed_document(root) {\n",
       "    \n",
       "  const docs_json = {\"02b0b9c1-3c00-4f74-9b78-93c5d313063f\":{\"defs\":[],\"roots\":{\"references\":[{\"attributes\":{\"below\":[{\"id\":\"13187\"}],\"center\":[{\"id\":\"13190\"},{\"id\":\"13194\"}],\"height\":300,\"left\":[{\"id\":\"13191\"}],\"renderers\":[{\"id\":\"13209\"},{\"id\":\"13215\"}],\"title\":{\"id\":\"13177\"},\"toolbar\":{\"id\":\"13200\"},\"width\":900,\"x_range\":{\"id\":\"13179\"},\"x_scale\":{\"id\":\"13183\"},\"y_range\":{\"id\":\"13181\"},\"y_scale\":{\"id\":\"13185\"}},\"id\":\"13176\",\"subtype\":\"Figure\",\"type\":\"Plot\"},{\"attributes\":{\"line_alpha\":{\"value\":0.1},\"line_color\":{\"field\":\"line_color\"},\"line_width\":{\"value\":2},\"xs\":{\"field\":\"xs\"},\"ys\":{\"field\":\"ys\"}},\"id\":\"13207\",\"type\":\"MultiLine\"},{\"attributes\":{\"source\":{\"id\":\"13205\"}},\"id\":\"13210\",\"type\":\"CDSView\"},{\"attributes\":{\"tools\":[{\"id\":\"13195\"},{\"id\":\"13196\"},{\"id\":\"13197\"},{\"id\":\"13198\"}]},\"id\":\"13200\",\"type\":\"Toolbar\"},{\"attributes\":{\"coordinates\":null,\"data_source\":{\"id\":\"13205\"},\"glyph\":{\"id\":\"13206\"},\"group\":null,\"hover_glyph\":null,\"muted_glyph\":{\"id\":\"13208\"},\"nonselection_glyph\":{\"id\":\"13207\"},\"view\":{\"id\":\"13210\"}},\"id\":\"13209\",\"type\":\"GlyphRenderer\"},{\"attributes\":{\"bottom_units\":\"screen\",\"coordinates\":null,\"fill_alpha\":0.5,\"fill_color\":\"lightgrey\",\"group\":null,\"left_units\":\"screen\",\"level\":\"overlay\",\"line_alpha\":1.0,\"line_color\":\"black\",\"line_dash\":[4,4],\"line_width\":2,\"right_units\":\"screen\",\"syncable\":false,\"top_units\":\"screen\"},\"id\":\"13199\",\"type\":\"BoxAnnotation\"},{\"attributes\":{\"line_alpha\":0.1,\"line_dash\":[2,4],\"line_width\":2,\"x\":{\"field\":\"x\"},\"y\":{\"field\":\"y\"}},\"id\":\"13213\",\"type\":\"Line\"},{\"attributes\":{\"data\":{\"x\":{\"__ndarray__\":\"AAAAAAAAAAAAAADA9tcKQAAAAAB7/gtAAAAAcERnG0D+//9fovobQAEAAABMsSRAAAAAEOr6JEACAAAY9K4rQAAAANCo+CtAAAAAuExWMUABAACoIHsxQP///ycR1TRAAQAAtOj5NED+//8r8lM4QP///08X6ThA\",\"dtype\":\"float64\",\"order\":\"little\",\"shape\":[15]},\"y\":{\"__ndarray__\":\"AAAAAAAAaUAAAAAAAABpQAAAAAAAAGlAAAAAAAAAaUAAAAAAAABpQAAAAAAAAGlAAAAAAAAAaUAAAAAAAABpQAAAAAAAAGlAAAAAAAAAaUAAAAAAAABpQAAAAAAAAGlAAAAAAAAAaUAAAAAAAABpQAAAAAAAAGlA\",\"dtype\":\"float64\",\"order\":\"little\",\"shape\":[15]}},\"selected\":{\"id\":\"13671\"},\"selection_policy\":{\"id\":\"13670\"}},\"id\":\"13211\",\"type\":\"ColumnDataSource\"},{\"attributes\":{\"axis\":{\"id\":\"13187\"},\"coordinates\":null,\"group\":null,\"ticker\":null},\"id\":\"13190\",\"type\":\"Grid\"},{\"attributes\":{},\"id\":\"13188\",\"type\":\"BasicTicker\"},{\"attributes\":{},\"id\":\"13198\",\"type\":\"ResetTool\"},{\"attributes\":{\"overlay\":{\"id\":\"13199\"}},\"id\":\"13197\",\"type\":\"BoxZoomTool\"},{\"attributes\":{},\"id\":\"13195\",\"type\":\"PanTool\"},{\"attributes\":{},\"id\":\"13667\",\"type\":\"AllLabels\"},{\"attributes\":{},\"id\":\"13663\",\"type\":\"BasicTickFormatter\"},{\"attributes\":{},\"id\":\"13668\",\"type\":\"UnionRenderers\"},{\"attributes\":{},\"id\":\"13183\",\"type\":\"LinearScale\"},{\"attributes\":{\"coordinates\":null,\"data_source\":{\"id\":\"13211\"},\"glyph\":{\"id\":\"13212\"},\"group\":null,\"hover_glyph\":null,\"muted_glyph\":{\"id\":\"13214\"},\"nonselection_glyph\":{\"id\":\"13213\"},\"view\":{\"id\":\"13216\"}},\"id\":\"13215\",\"type\":\"GlyphRenderer\"},{\"attributes\":{\"axis_label\":\"Signal\",\"coordinates\":null,\"formatter\":{\"id\":\"13663\"},\"group\":null,\"major_label_policy\":{\"id\":\"13664\"},\"ticker\":{\"id\":\"13192\"}},\"id\":\"13191\",\"type\":\"LinearAxis\"},{\"attributes\":{\"line_alpha\":0.2,\"line_dash\":[2,4],\"line_width\":2,\"x\":{\"field\":\"x\"},\"y\":{\"field\":\"y\"}},\"id\":\"13214\",\"type\":\"Line\"},{\"attributes\":{},\"id\":\"13671\",\"type\":\"Selection\"},{\"attributes\":{\"line_dash\":[2,4],\"line_width\":2,\"x\":{\"field\":\"x\"},\"y\":{\"field\":\"y\"}},\"id\":\"13212\",\"type\":\"Line\"},{\"attributes\":{},\"id\":\"13669\",\"type\":\"Selection\"},{\"attributes\":{},\"id\":\"13179\",\"type\":\"DataRange1d\"},{\"attributes\":{\"source\":{\"id\":\"13211\"}},\"id\":\"13216\",\"type\":\"CDSView\"},{\"attributes\":{},\"id\":\"13192\",\"type\":\"BasicTicker\"},{\"attributes\":{\"axis_label\":\"Time (s)\",\"coordinates\":null,\"formatter\":{\"id\":\"13666\"},\"group\":null,\"major_label_policy\":{\"id\":\"13667\"},\"ticker\":{\"id\":\"13188\"}},\"id\":\"13187\",\"type\":\"LinearAxis\"},{\"attributes\":{\"line_color\":{\"field\":\"line_color\"},\"line_width\":{\"value\":2},\"xs\":{\"field\":\"xs\"},\"ys\":{\"field\":\"ys\"}},\"id\":\"13206\",\"type\":\"MultiLine\"},{\"attributes\":{},\"id\":\"13185\",\"type\":\"LinearScale\"},{\"attributes\":{},\"id\":\"13181\",\"type\":\"DataRange1d\"},{\"attributes\":{},\"id\":\"13196\",\"type\":\"WheelZoomTool\"},{\"attributes\":{},\"id\":\"13664\",\"type\":\"AllLabels\"},{\"attributes\":{\"data\":{\"line_color\":[\"blue\"],\"xs\":[[0.0,3.3554511070251465,3.499258041381836,6.850847005844116,6.994760036468504,10.346282958984377,10.49006700515747,13.841706037521366,13.985662937164307,17.33710813522339,17.480967044830326,20.83229303359985,20.976207017898563,24.327913999557488,24.910511970520016]],\"ys\":[[11.0,26.0,34.0,26.0,26.0,26.0,26.0,24.0,33.0,62.0,67.0,36.0,45.0,92.0,101.0]]},\"selected\":{\"id\":\"13669\"},\"selection_policy\":{\"id\":\"13668\"}},\"id\":\"13205\",\"type\":\"ColumnDataSource\"},{\"attributes\":{},\"id\":\"13670\",\"type\":\"UnionRenderers\"},{\"attributes\":{\"axis\":{\"id\":\"13191\"},\"coordinates\":null,\"dimension\":1,\"group\":null,\"ticker\":null},\"id\":\"13194\",\"type\":\"Grid\"},{\"attributes\":{\"line_alpha\":{\"value\":0.2},\"line_color\":{\"field\":\"line_color\"},\"line_width\":{\"value\":2},\"xs\":{\"field\":\"xs\"},\"ys\":{\"field\":\"ys\"}},\"id\":\"13208\",\"type\":\"MultiLine\"},{\"attributes\":{},\"id\":\"13666\",\"type\":\"BasicTickFormatter\"},{\"attributes\":{\"coordinates\":null,\"group\":null,\"text\":\"wing_hist_pres_0914232116\"},\"id\":\"13177\",\"type\":\"Title\"}],\"root_ids\":[\"13176\"]},\"title\":\"Bokeh Application\",\"version\":\"2.4.2\"}};\n",
       "  const render_items = [{\"docid\":\"02b0b9c1-3c00-4f74-9b78-93c5d313063f\",\"root_ids\":[\"13176\"],\"roots\":{\"13176\":\"1fc83841-47da-4ec3-bb54-1f1427e205d6\"}}];\n",
       "  root.Bokeh.embed.embed_items_notebook(docs_json, render_items);\n",
       "\n",
       "  }\n",
       "  if (root.Bokeh !== undefined) {\n",
       "    embed_document(root);\n",
       "  } else {\n",
       "    let attempts = 0;\n",
       "    const timer = setInterval(function(root) {\n",
       "      if (root.Bokeh !== undefined) {\n",
       "        clearInterval(timer);\n",
       "        embed_document(root);\n",
       "      } else {\n",
       "        attempts++;\n",
       "        if (attempts > 100) {\n",
       "          clearInterval(timer);\n",
       "          console.log(\"Bokeh: ERROR: Unable to run BokehJS code because BokehJS library is missing\");\n",
       "        }\n",
       "      }\n",
       "    }, 10, root)\n",
       "  }\n",
       "})(window);"
      ],
      "application/vnd.bokehjs_exec.v0+json": ""
     },
     "metadata": {
      "application/vnd.bokehjs_exec.v0+json": {
       "id": "13176"
      }
     },
     "output_type": "display_data"
    },
    {
     "name": "stdout",
     "output_type": "stream",
     "text": [
      "wing_hist_pres_0914221354.csv contains fewer than 10 data points\n",
      "wing_hist_pres_0915184327.csv contains fewer than 10 data points\n",
      "wing_hist_pres_0915164204.csv contains fewer than 10 data points\n"
     ]
    },
    {
     "data": {
      "text/html": [
       "\n",
       "\n",
       "\n",
       "\n",
       "\n",
       "\n",
       "  <div class=\"bk-root\" id=\"ce176ec1-1407-4964-acac-bb25eded6f8e\" data-root-id=\"13733\"></div>\n"
      ]
     },
     "metadata": {},
     "output_type": "display_data"
    },
    {
     "data": {
      "application/javascript": [
       "(function(root) {\n",
       "  function embed_document(root) {\n",
       "    \n",
       "  const docs_json = {\"66e3befe-76a5-4e0d-9455-57506089f43e\":{\"defs\":[],\"roots\":{\"references\":[{\"attributes\":{\"below\":[{\"id\":\"13744\"}],\"center\":[{\"id\":\"13747\"},{\"id\":\"13751\"}],\"height\":300,\"left\":[{\"id\":\"13748\"}],\"renderers\":[{\"id\":\"13766\"},{\"id\":\"13772\"}],\"title\":{\"id\":\"13734\"},\"toolbar\":{\"id\":\"13757\"},\"width\":900,\"x_range\":{\"id\":\"13736\"},\"x_scale\":{\"id\":\"13740\"},\"y_range\":{\"id\":\"13738\"},\"y_scale\":{\"id\":\"13742\"}},\"id\":\"13733\",\"subtype\":\"Figure\",\"type\":\"Plot\"},{\"attributes\":{\"tools\":[{\"id\":\"13752\"},{\"id\":\"13753\"},{\"id\":\"13754\"},{\"id\":\"13755\"}]},\"id\":\"13757\",\"type\":\"Toolbar\"},{\"attributes\":{\"overlay\":{\"id\":\"13756\"}},\"id\":\"13754\",\"type\":\"BoxZoomTool\"},{\"attributes\":{},\"id\":\"14240\",\"type\":\"Selection\"},{\"attributes\":{\"data\":{\"line_color\":[\"blue\"],\"xs\":[[0.0,3.5524671077728263,3.6963069438934335,7.247642040252688,7.391561031341554,10.944210052490234,11.088159084320068,14.63944411277771,14.783287048339844,18.33550214767456,18.479398965835568,22.031784057617184,22.175555944442756,25.727195978164673,26.308886051177986,33.465893030166626,35.06348395347595,36.20770311355591,36.350640058517456,36.93312406539917]],\"ys\":[[18.0,14.0,16.0,7.0,8.0,6.0,2.0,1.0,2.0,17.0,18.0,9.0,9.0,14.0,31.0,52.0,53.0,60.0,60.0,70.0]]},\"selected\":{\"id\":\"14238\"},\"selection_policy\":{\"id\":\"14237\"}},\"id\":\"13762\",\"type\":\"ColumnDataSource\"},{\"attributes\":{},\"id\":\"13755\",\"type\":\"ResetTool\"},{\"attributes\":{\"axis_label\":\"Time (s)\",\"coordinates\":null,\"formatter\":{\"id\":\"14235\"},\"group\":null,\"major_label_policy\":{\"id\":\"14236\"},\"ticker\":{\"id\":\"13745\"}},\"id\":\"13744\",\"type\":\"LinearAxis\"},{\"attributes\":{},\"id\":\"13742\",\"type\":\"LinearScale\"},{\"attributes\":{},\"id\":\"14232\",\"type\":\"BasicTickFormatter\"},{\"attributes\":{\"coordinates\":null,\"group\":null,\"text\":\"wing_hist_pres_0914221755\"},\"id\":\"13734\",\"type\":\"Title\"},{\"attributes\":{},\"id\":\"14235\",\"type\":\"BasicTickFormatter\"},{\"attributes\":{\"bottom_units\":\"screen\",\"coordinates\":null,\"fill_alpha\":0.5,\"fill_color\":\"lightgrey\",\"group\":null,\"left_units\":\"screen\",\"level\":\"overlay\",\"line_alpha\":1.0,\"line_color\":\"black\",\"line_dash\":[4,4],\"line_width\":2,\"right_units\":\"screen\",\"syncable\":false,\"top_units\":\"screen\"},\"id\":\"13756\",\"type\":\"BoxAnnotation\"},{\"attributes\":{},\"id\":\"14233\",\"type\":\"AllLabels\"},{\"attributes\":{\"source\":{\"id\":\"13768\"}},\"id\":\"13773\",\"type\":\"CDSView\"},{\"attributes\":{},\"id\":\"13736\",\"type\":\"DataRange1d\"},{\"attributes\":{\"line_alpha\":0.1,\"line_dash\":[2,4],\"line_width\":2,\"x\":{\"field\":\"x\"},\"y\":{\"field\":\"y\"}},\"id\":\"13770\",\"type\":\"Line\"},{\"attributes\":{},\"id\":\"13745\",\"type\":\"BasicTicker\"},{\"attributes\":{\"coordinates\":null,\"data_source\":{\"id\":\"13762\"},\"glyph\":{\"id\":\"13763\"},\"group\":null,\"hover_glyph\":null,\"muted_glyph\":{\"id\":\"13765\"},\"nonselection_glyph\":{\"id\":\"13764\"},\"view\":{\"id\":\"13767\"}},\"id\":\"13766\",\"type\":\"GlyphRenderer\"},{\"attributes\":{},\"id\":\"14236\",\"type\":\"AllLabels\"},{\"attributes\":{\"line_alpha\":{\"value\":0.2},\"line_color\":{\"field\":\"line_color\"},\"line_width\":{\"value\":2},\"xs\":{\"field\":\"xs\"},\"ys\":{\"field\":\"ys\"}},\"id\":\"13765\",\"type\":\"MultiLine\"},{\"attributes\":{\"axis\":{\"id\":\"13748\"},\"coordinates\":null,\"dimension\":1,\"group\":null,\"ticker\":null},\"id\":\"13751\",\"type\":\"Grid\"},{\"attributes\":{},\"id\":\"14237\",\"type\":\"UnionRenderers\"},{\"attributes\":{\"coordinates\":null,\"data_source\":{\"id\":\"13768\"},\"glyph\":{\"id\":\"13769\"},\"group\":null,\"hover_glyph\":null,\"muted_glyph\":{\"id\":\"13771\"},\"nonselection_glyph\":{\"id\":\"13770\"},\"view\":{\"id\":\"13773\"}},\"id\":\"13772\",\"type\":\"GlyphRenderer\"},{\"attributes\":{},\"id\":\"14238\",\"type\":\"Selection\"},{\"attributes\":{\"line_dash\":[2,4],\"line_width\":2,\"x\":{\"field\":\"x\"},\"y\":{\"field\":\"y\"}},\"id\":\"13769\",\"type\":\"Line\"},{\"attributes\":{},\"id\":\"13740\",\"type\":\"LinearScale\"},{\"attributes\":{\"axis_label\":\"Signal\",\"coordinates\":null,\"formatter\":{\"id\":\"14232\"},\"group\":null,\"major_label_policy\":{\"id\":\"14233\"},\"ticker\":{\"id\":\"13749\"}},\"id\":\"13748\",\"type\":\"LinearAxis\"},{\"attributes\":{\"line_color\":{\"field\":\"line_color\"},\"line_width\":{\"value\":2},\"xs\":{\"field\":\"xs\"},\"ys\":{\"field\":\"ys\"}},\"id\":\"13763\",\"type\":\"MultiLine\"},{\"attributes\":{},\"id\":\"14239\",\"type\":\"UnionRenderers\"},{\"attributes\":{\"line_alpha\":0.2,\"line_dash\":[2,4],\"line_width\":2,\"x\":{\"field\":\"x\"},\"y\":{\"field\":\"y\"}},\"id\":\"13771\",\"type\":\"Line\"},{\"attributes\":{\"axis\":{\"id\":\"13744\"},\"coordinates\":null,\"group\":null,\"ticker\":null},\"id\":\"13747\",\"type\":\"Grid\"},{\"attributes\":{},\"id\":\"13749\",\"type\":\"BasicTicker\"},{\"attributes\":{\"line_alpha\":{\"value\":0.1},\"line_color\":{\"field\":\"line_color\"},\"line_width\":{\"value\":2},\"xs\":{\"field\":\"xs\"},\"ys\":{\"field\":\"ys\"}},\"id\":\"13764\",\"type\":\"MultiLine\"},{\"attributes\":{\"source\":{\"id\":\"13762\"}},\"id\":\"13767\",\"type\":\"CDSView\"},{\"attributes\":{},\"id\":\"13738\",\"type\":\"DataRange1d\"},{\"attributes\":{\"data\":{\"x\":{\"__ndarray__\":\"AAAAAAAAAAD+///fc2sMQAIAAGAJkg1AAwAA4JX9HEABAABg9ZAdQAAAAIBv4yVAAAAAMCMtJkAAAAA4ZUctQAAAAAALkS1AAAAAeONVMkD////juXoyQP////8iCDZAAgAAPPEsNkAAAACEKbo5QAIAACgTTzpAAAAAYqK7QEAAAAA+IIhBQAAAAASWGkJAAAAAxuEsQkAAAACccHdCQA==\",\"dtype\":\"float64\",\"order\":\"little\",\"shape\":[20]},\"y\":{\"__ndarray__\":\"AAAAAAAAaUAAAAAAAABpQAAAAAAAAGlAAAAAAAAAaUAAAAAAAABpQAAAAAAAAGlAAAAAAAAAaUAAAAAAAABpQAAAAAAAAGlAAAAAAAAAaUAAAAAAAABpQAAAAAAAAGlAAAAAAAAAaUAAAAAAAABpQAAAAAAAAGlAAAAAAAAAaUAAAAAAAABpQAAAAAAAAGlAAAAAAAAAaUAAAAAAAABpQA==\",\"dtype\":\"float64\",\"order\":\"little\",\"shape\":[20]}},\"selected\":{\"id\":\"14240\"},\"selection_policy\":{\"id\":\"14239\"}},\"id\":\"13768\",\"type\":\"ColumnDataSource\"},{\"attributes\":{},\"id\":\"13753\",\"type\":\"WheelZoomTool\"},{\"attributes\":{},\"id\":\"13752\",\"type\":\"PanTool\"}],\"root_ids\":[\"13733\"]},\"title\":\"Bokeh Application\",\"version\":\"2.4.2\"}};\n",
       "  const render_items = [{\"docid\":\"66e3befe-76a5-4e0d-9455-57506089f43e\",\"root_ids\":[\"13733\"],\"roots\":{\"13733\":\"ce176ec1-1407-4964-acac-bb25eded6f8e\"}}];\n",
       "  root.Bokeh.embed.embed_items_notebook(docs_json, render_items);\n",
       "\n",
       "  }\n",
       "  if (root.Bokeh !== undefined) {\n",
       "    embed_document(root);\n",
       "  } else {\n",
       "    let attempts = 0;\n",
       "    const timer = setInterval(function(root) {\n",
       "      if (root.Bokeh !== undefined) {\n",
       "        clearInterval(timer);\n",
       "        embed_document(root);\n",
       "      } else {\n",
       "        attempts++;\n",
       "        if (attempts > 100) {\n",
       "          clearInterval(timer);\n",
       "          console.log(\"Bokeh: ERROR: Unable to run BokehJS code because BokehJS library is missing\");\n",
       "        }\n",
       "      }\n",
       "    }, 10, root)\n",
       "  }\n",
       "})(window);"
      ],
      "application/vnd.bokehjs_exec.v0+json": ""
     },
     "metadata": {
      "application/vnd.bokehjs_exec.v0+json": {
       "id": "13733"
      }
     },
     "output_type": "display_data"
    },
    {
     "data": {
      "text/html": [
       "\n",
       "\n",
       "\n",
       "\n",
       "\n",
       "\n",
       "  <div class=\"bk-root\" id=\"930d06f2-9e3c-46b7-a55a-a2ef3ad2ec5d\" data-root-id=\"14302\"></div>\n"
      ]
     },
     "metadata": {},
     "output_type": "display_data"
    },
    {
     "data": {
      "application/javascript": [
       "(function(root) {\n",
       "  function embed_document(root) {\n",
       "    \n",
       "  const docs_json = {\"9f00dc34-ebd3-4ac1-a9db-98c74e95cc51\":{\"defs\":[],\"roots\":{\"references\":[{\"attributes\":{\"below\":[{\"id\":\"14313\"}],\"center\":[{\"id\":\"14316\"},{\"id\":\"14320\"}],\"height\":300,\"left\":[{\"id\":\"14317\"}],\"renderers\":[{\"id\":\"14335\"},{\"id\":\"14341\"}],\"title\":{\"id\":\"14303\"},\"toolbar\":{\"id\":\"14326\"},\"width\":900,\"x_range\":{\"id\":\"14305\"},\"x_scale\":{\"id\":\"14309\"},\"y_range\":{\"id\":\"14307\"},\"y_scale\":{\"id\":\"14311\"}},\"id\":\"14302\",\"subtype\":\"Figure\",\"type\":\"Plot\"},{\"attributes\":{\"overlay\":{\"id\":\"14325\"}},\"id\":\"14323\",\"type\":\"BoxZoomTool\"},{\"attributes\":{},\"id\":\"14816\",\"type\":\"BasicTickFormatter\"},{\"attributes\":{\"line_color\":{\"field\":\"line_color\"},\"line_width\":{\"value\":2},\"xs\":{\"field\":\"xs\"},\"ys\":{\"field\":\"ys\"}},\"id\":\"14332\",\"type\":\"MultiLine\"},{\"attributes\":{},\"id\":\"14307\",\"type\":\"DataRange1d\"},{\"attributes\":{\"line_alpha\":{\"value\":0.2},\"line_color\":{\"field\":\"line_color\"},\"line_width\":{\"value\":2},\"xs\":{\"field\":\"xs\"},\"ys\":{\"field\":\"ys\"}},\"id\":\"14334\",\"type\":\"MultiLine\"},{\"attributes\":{},\"id\":\"14814\",\"type\":\"AllLabels\"},{\"attributes\":{},\"id\":\"14311\",\"type\":\"LinearScale\"},{\"attributes\":{\"coordinates\":null,\"data_source\":{\"id\":\"14331\"},\"glyph\":{\"id\":\"14332\"},\"group\":null,\"hover_glyph\":null,\"muted_glyph\":{\"id\":\"14334\"},\"nonselection_glyph\":{\"id\":\"14333\"},\"view\":{\"id\":\"14336\"}},\"id\":\"14335\",\"type\":\"GlyphRenderer\"},{\"attributes\":{},\"id\":\"14817\",\"type\":\"AllLabels\"},{\"attributes\":{},\"id\":\"14818\",\"type\":\"UnionRenderers\"},{\"attributes\":{},\"id\":\"14819\",\"type\":\"Selection\"},{\"attributes\":{\"axis_label\":\"Signal\",\"coordinates\":null,\"formatter\":{\"id\":\"14813\"},\"group\":null,\"major_label_policy\":{\"id\":\"14814\"},\"ticker\":{\"id\":\"14318\"}},\"id\":\"14317\",\"type\":\"LinearAxis\"},{\"attributes\":{\"line_alpha\":{\"value\":0.1},\"line_color\":{\"field\":\"line_color\"},\"line_width\":{\"value\":2},\"xs\":{\"field\":\"xs\"},\"ys\":{\"field\":\"ys\"}},\"id\":\"14333\",\"type\":\"MultiLine\"},{\"attributes\":{},\"id\":\"14820\",\"type\":\"UnionRenderers\"},{\"attributes\":{\"source\":{\"id\":\"14331\"}},\"id\":\"14336\",\"type\":\"CDSView\"},{\"attributes\":{},\"id\":\"14318\",\"type\":\"BasicTicker\"},{\"attributes\":{\"axis\":{\"id\":\"14313\"},\"coordinates\":null,\"group\":null,\"ticker\":null},\"id\":\"14316\",\"type\":\"Grid\"},{\"attributes\":{},\"id\":\"14821\",\"type\":\"Selection\"},{\"attributes\":{\"axis\":{\"id\":\"14317\"},\"coordinates\":null,\"dimension\":1,\"group\":null,\"ticker\":null},\"id\":\"14320\",\"type\":\"Grid\"},{\"attributes\":{\"data\":{\"x\":{\"__ndarray__\":\"AAAAAAAAAAAAAADA9tcKQAAAAAB7/gtAAAAAcERnG0D+//9fovobQAEAAABMsSRAAAAAEOr6JEACAAAY9K4rQAAAANCo+CtAAAAAuExWMUABAACoIHsxQP///ycR1TRAAQAAtOj5NED+//8r8lM4QP///08X6ThA\",\"dtype\":\"float64\",\"order\":\"little\",\"shape\":[15]},\"y\":{\"__ndarray__\":\"AAAAAAAAaUAAAAAAAABpQAAAAAAAAGlAAAAAAAAAaUAAAAAAAABpQAAAAAAAAGlAAAAAAAAAaUAAAAAAAABpQAAAAAAAAGlAAAAAAAAAaUAAAAAAAABpQAAAAAAAAGlAAAAAAAAAaUAAAAAAAABpQAAAAAAAAGlA\",\"dtype\":\"float64\",\"order\":\"little\",\"shape\":[15]}},\"selected\":{\"id\":\"14821\"},\"selection_policy\":{\"id\":\"14820\"}},\"id\":\"14337\",\"type\":\"ColumnDataSource\"},{\"attributes\":{\"axis_label\":\"Time (s)\",\"coordinates\":null,\"formatter\":{\"id\":\"14816\"},\"group\":null,\"major_label_policy\":{\"id\":\"14817\"},\"ticker\":{\"id\":\"14314\"}},\"id\":\"14313\",\"type\":\"LinearAxis\"},{\"attributes\":{},\"id\":\"14813\",\"type\":\"BasicTickFormatter\"},{\"attributes\":{},\"id\":\"14314\",\"type\":\"BasicTicker\"},{\"attributes\":{},\"id\":\"14305\",\"type\":\"DataRange1d\"},{\"attributes\":{\"line_alpha\":0.1,\"line_dash\":[2,4],\"line_width\":2,\"x\":{\"field\":\"x\"},\"y\":{\"field\":\"y\"}},\"id\":\"14339\",\"type\":\"Line\"},{\"attributes\":{\"coordinates\":null,\"group\":null,\"text\":\"wing_hist_force_0914232116\"},\"id\":\"14303\",\"type\":\"Title\"},{\"attributes\":{\"coordinates\":null,\"data_source\":{\"id\":\"14337\"},\"glyph\":{\"id\":\"14338\"},\"group\":null,\"hover_glyph\":null,\"muted_glyph\":{\"id\":\"14340\"},\"nonselection_glyph\":{\"id\":\"14339\"},\"view\":{\"id\":\"14342\"}},\"id\":\"14341\",\"type\":\"GlyphRenderer\"},{\"attributes\":{\"tools\":[{\"id\":\"14321\"},{\"id\":\"14322\"},{\"id\":\"14323\"},{\"id\":\"14324\"}]},\"id\":\"14326\",\"type\":\"Toolbar\"},{\"attributes\":{\"data\":{\"line_color\":[\"blue\"],\"xs\":[[0.0,3.3554511070251465,3.499258041381836,6.850847005844116,6.994760036468504,10.346282958984377,10.49006700515747,13.841706037521366,13.985662937164307,17.33710813522339,17.480967044830326,20.83229303359985,20.976207017898563,24.327913999557488,24.910511970520016]],\"ys\":[[3.0,24.0,34.0,52.0,42.0,60.0,69.0,19.0,31.0,97.0,108.0,100.0,104.0,155.0,166.0]]},\"selected\":{\"id\":\"14819\"},\"selection_policy\":{\"id\":\"14818\"}},\"id\":\"14331\",\"type\":\"ColumnDataSource\"},{\"attributes\":{\"line_alpha\":0.2,\"line_dash\":[2,4],\"line_width\":2,\"x\":{\"field\":\"x\"},\"y\":{\"field\":\"y\"}},\"id\":\"14340\",\"type\":\"Line\"},{\"attributes\":{},\"id\":\"14322\",\"type\":\"WheelZoomTool\"},{\"attributes\":{\"line_dash\":[2,4],\"line_width\":2,\"x\":{\"field\":\"x\"},\"y\":{\"field\":\"y\"}},\"id\":\"14338\",\"type\":\"Line\"},{\"attributes\":{\"bottom_units\":\"screen\",\"coordinates\":null,\"fill_alpha\":0.5,\"fill_color\":\"lightgrey\",\"group\":null,\"left_units\":\"screen\",\"level\":\"overlay\",\"line_alpha\":1.0,\"line_color\":\"black\",\"line_dash\":[4,4],\"line_width\":2,\"right_units\":\"screen\",\"syncable\":false,\"top_units\":\"screen\"},\"id\":\"14325\",\"type\":\"BoxAnnotation\"},{\"attributes\":{},\"id\":\"14309\",\"type\":\"LinearScale\"},{\"attributes\":{},\"id\":\"14324\",\"type\":\"ResetTool\"},{\"attributes\":{\"source\":{\"id\":\"14337\"}},\"id\":\"14342\",\"type\":\"CDSView\"},{\"attributes\":{},\"id\":\"14321\",\"type\":\"PanTool\"}],\"root_ids\":[\"14302\"]},\"title\":\"Bokeh Application\",\"version\":\"2.4.2\"}};\n",
       "  const render_items = [{\"docid\":\"9f00dc34-ebd3-4ac1-a9db-98c74e95cc51\",\"root_ids\":[\"14302\"],\"roots\":{\"14302\":\"930d06f2-9e3c-46b7-a55a-a2ef3ad2ec5d\"}}];\n",
       "  root.Bokeh.embed.embed_items_notebook(docs_json, render_items);\n",
       "\n",
       "  }\n",
       "  if (root.Bokeh !== undefined) {\n",
       "    embed_document(root);\n",
       "  } else {\n",
       "    let attempts = 0;\n",
       "    const timer = setInterval(function(root) {\n",
       "      if (root.Bokeh !== undefined) {\n",
       "        clearInterval(timer);\n",
       "        embed_document(root);\n",
       "      } else {\n",
       "        attempts++;\n",
       "        if (attempts > 100) {\n",
       "          clearInterval(timer);\n",
       "          console.log(\"Bokeh: ERROR: Unable to run BokehJS code because BokehJS library is missing\");\n",
       "        }\n",
       "      }\n",
       "    }, 10, root)\n",
       "  }\n",
       "})(window);"
      ],
      "application/vnd.bokehjs_exec.v0+json": ""
     },
     "metadata": {
      "application/vnd.bokehjs_exec.v0+json": {
       "id": "14302"
      }
     },
     "output_type": "display_data"
    },
    {
     "name": "stdout",
     "output_type": "stream",
     "text": [
      "wing_hist_force_0914221354.csv contains fewer than 10 data points\n"
     ]
    },
    {
     "data": {
      "text/html": [
       "\n",
       "\n",
       "\n",
       "\n",
       "\n",
       "\n",
       "  <div class=\"bk-root\" id=\"651f19f2-f1d2-45a9-8e69-660072c2fe79\" data-root-id=\"14883\"></div>\n"
      ]
     },
     "metadata": {},
     "output_type": "display_data"
    },
    {
     "data": {
      "application/javascript": [
       "(function(root) {\n",
       "  function embed_document(root) {\n",
       "    \n",
       "  const docs_json = {\"635b23df-1dad-4846-9d2d-d2150c2b5c4f\":{\"defs\":[],\"roots\":{\"references\":[{\"attributes\":{\"below\":[{\"id\":\"14894\"}],\"center\":[{\"id\":\"14897\"},{\"id\":\"14901\"}],\"height\":300,\"left\":[{\"id\":\"14898\"}],\"renderers\":[{\"id\":\"14916\"},{\"id\":\"14922\"}],\"title\":{\"id\":\"14884\"},\"toolbar\":{\"id\":\"14907\"},\"width\":900,\"x_range\":{\"id\":\"14886\"},\"x_scale\":{\"id\":\"14890\"},\"y_range\":{\"id\":\"14888\"},\"y_scale\":{\"id\":\"14892\"}},\"id\":\"14883\",\"subtype\":\"Figure\",\"type\":\"Plot\"},{\"attributes\":{},\"id\":\"14892\",\"type\":\"LinearScale\"},{\"attributes\":{\"line_alpha\":{\"value\":0.2},\"line_color\":{\"field\":\"line_color\"},\"line_width\":{\"value\":2},\"xs\":{\"field\":\"xs\"},\"ys\":{\"field\":\"ys\"}},\"id\":\"14915\",\"type\":\"MultiLine\"},{\"attributes\":{},\"id\":\"14886\",\"type\":\"DataRange1d\"},{\"attributes\":{\"source\":{\"id\":\"14912\"}},\"id\":\"14917\",\"type\":\"CDSView\"},{\"attributes\":{},\"id\":\"14902\",\"type\":\"PanTool\"},{\"attributes\":{\"axis\":{\"id\":\"14894\"},\"coordinates\":null,\"group\":null,\"ticker\":null},\"id\":\"14897\",\"type\":\"Grid\"},{\"attributes\":{},\"id\":\"14903\",\"type\":\"WheelZoomTool\"},{\"attributes\":{\"data\":{\"x\":{\"__ndarray__\":\"AAAAAAAAAAAAAADAGAcMQAAAAOC6gg5AAgAAUF49HUACAAAAJ2QeQAEAANjqSyZA////76oAJ0ADAADYlA0uQAEAADh3rC5AAAAAsLDYMkACAAComywzQAAAAAy3qDZAAAAA8Hv8NkAAAABos4o6QAAAAIRW6DpAAAAASDhpPkD+//9fUSY/QP///0epnkNAAAAA9PpFREAAAACi3MhEQP7//7fs7ERAAAAAoHevRkD///9RRddGQAEAAHC8mUhAAAAAdPDESEAAAABGh4hKQAAAAHiaskpAAAAAYhN5TEAAAABwu6BMQAAAAGS6ZE5AAAAA7rSNTkAAAADi6ydQQAAAAGdoPFBAAQAAv/EdUUD///9SQzFRQP///9wJFFJAAAAAlMFDUkABAAAhW1JUQP7//662o1RAAQAA5GflVED9///qj/lUQP///zSC2VVAAAAAZ2PrVUD///+KU8tWQAAAAN3V4VZAAgAARp3DV0D////jitdXQAEAAIdVuFhAAgAA4KLKWEAAAACPxqpZQAEAANeNvllA////X1qeWkAAAAAf27BaQAEAABe9kltAAQAAeNWoW0ABAADM9IhcQP///1+TtVxA/v//CkfAXkAAAAD8GhRfQP7//wAZU19AAAAA7G1mX0AAAIDEzSNgQAAAAF5ZLWBAAAAA4C+dYEAAAADRpKdgQAAAACXMF2FA//9/eQIiYUAAAIAiwZJhQP//fxXjnGFA//9/2nENYkAAAACNRhhiQAAAgNP0iGJAAAAAgFWSYkD///+yQgJjQAAAAAM0DWNAAAAAJU59Y0ABAAAnepVjQAAAgI5YnGRAAAAA4NrFZEAAAACcpuVkQAAAgKuE72RAAAAAesZhZUD+/39ammxlQAEAgG3v3WVAAQCAyRzpZUAAAABKxllmQAAAANatY2ZAAQCAKifWZkD+/39rYeBmQAAAgMyzUGdAAACA+9hdZ0ABAIDwss1nQP///8iF12dAAACASk9IaEAAAADy7FNoQAAAACKaxGhAAACAB2vcaED+/39aquJpQAAAAPmUCmpAAACAFoUqakD+//8fKjRqQP//f/mPampA////cJ9zakD//3/q5qlqQAAAgGf7smpAAACAhdvpakAAAIChHfNqQP///w3AKWtAAAAAkQEza0D///87lmhrQAAAAIN6dWtA\",\"dtype\":\"float64\",\"order\":\"little\",\"shape\":[111]},\"y\":{\"__ndarray__\":\"AAAAAAAAaUAAAAAAAABpQAAAAAAAAGlAAAAAAAAAaUAAAAAAAABpQAAAAAAAAGlAAAAAAAAAaUAAAAAAAABpQAAAAAAAAGlAAAAAAAAAaUAAAAAAAABpQAAAAAAAAGlAAAAAAAAAaUAAAAAAAABpQAAAAAAAAGlAAAAAAAAAaUAAAAAAAABpQAAAAAAAAGlAAAAAAAAAaUAAAAAAAABpQAAAAAAAAGlAAAAAAAAAaUAAAAAAAABpQAAAAAAAAGlAAAAAAAAAaUAAAAAAAABpQAAAAAAAAGlAAAAAAAAAaUAAAAAAAABpQAAAAAAAAGlAAAAAAAAAaUAAAAAAAABpQAAAAAAAAGlAAAAAAAAAaUAAAAAAAABpQAAAAAAAAGlAAAAAAAAAaUAAAAAAAABpQAAAAAAAAGlAAAAAAAAAaUAAAAAAAABpQAAAAAAAAGlAAAAAAAAAaUAAAAAAAABpQAAAAAAAAGlAAAAAAAAAaUAAAAAAAABpQAAAAAAAAGlAAAAAAAAAaUAAAAAAAABpQAAAAAAAAGlAAAAAAAAAaUAAAAAAAABpQAAAAAAAAGlAAAAAAAAAaUAAAAAAAABpQAAAAAAAAGlAAAAAAAAAaUAAAAAAAABpQAAAAAAAAGlAAAAAAAAAaUAAAAAAAABpQAAAAAAAAGlAAAAAAAAAaUAAAAAAAABpQAAAAAAAAGlAAAAAAAAAaUAAAAAAAABpQAAAAAAAAGlAAAAAAAAAaUAAAAAAAABpQAAAAAAAAGlAAAAAAAAAaUAAAAAAAABpQAAAAAAAAGlAAAAAAAAAaUAAAAAAAABpQAAAAAAAAGlAAAAAAAAAaUAAAAAAAABpQAAAAAAAAGlAAAAAAAAAaUAAAAAAAABpQAAAAAAAAGlAAAAAAAAAaUAAAAAAAABpQAAAAAAAAGlAAAAAAAAAaUAAAAAAAABpQAAAAAAAAGlAAAAAAAAAaUAAAAAAAABpQAAAAAAAAGlAAAAAAAAAaUAAAAAAAABpQAAAAAAAAGlAAAAAAAAAaUAAAAAAAABpQAAAAAAAAGlAAAAAAAAAaUAAAAAAAABpQAAAAAAAAGlAAAAAAAAAaUAAAAAAAABpQAAAAAAAAGlAAAAAAAAAaUAAAAAAAABpQAAAAAAAAGlAAAAAAAAAaUAAAAAAAABpQAAAAAAAAGlA\",\"dtype\":\"float64\",\"order\":\"little\",\"shape\":[111]}},\"selected\":{\"id\":\"15414\"},\"selection_policy\":{\"id\":\"15413\"}},\"id\":\"14918\",\"type\":\"ColumnDataSource\"},{\"attributes\":{\"axis_label\":\"Signal\",\"coordinates\":null,\"formatter\":{\"id\":\"15406\"},\"group\":null,\"major_label_policy\":{\"id\":\"15407\"},\"ticker\":{\"id\":\"14899\"}},\"id\":\"14898\",\"type\":\"LinearAxis\"},{\"attributes\":{\"overlay\":{\"id\":\"14906\"}},\"id\":\"14904\",\"type\":\"BoxZoomTool\"},{\"attributes\":{},\"id\":\"14899\",\"type\":\"BasicTicker\"},{\"attributes\":{},\"id\":\"15406\",\"type\":\"BasicTickFormatter\"},{\"attributes\":{},\"id\":\"14905\",\"type\":\"ResetTool\"},{\"attributes\":{\"tools\":[{\"id\":\"14902\"},{\"id\":\"14903\"},{\"id\":\"14904\"},{\"id\":\"14905\"}]},\"id\":\"14907\",\"type\":\"Toolbar\"},{\"attributes\":{\"line_alpha\":0.1,\"line_dash\":[2,4],\"line_width\":2,\"x\":{\"field\":\"x\"},\"y\":{\"field\":\"y\"}},\"id\":\"14920\",\"type\":\"Line\"},{\"attributes\":{\"coordinates\":null,\"data_source\":{\"id\":\"14918\"},\"glyph\":{\"id\":\"14919\"},\"group\":null,\"hover_glyph\":null,\"muted_glyph\":{\"id\":\"14921\"},\"nonselection_glyph\":{\"id\":\"14920\"},\"view\":{\"id\":\"14923\"}},\"id\":\"14922\",\"type\":\"GlyphRenderer\"},{\"attributes\":{\"bottom_units\":\"screen\",\"coordinates\":null,\"fill_alpha\":0.5,\"fill_color\":\"lightgrey\",\"group\":null,\"left_units\":\"screen\",\"level\":\"overlay\",\"line_alpha\":1.0,\"line_color\":\"black\",\"line_dash\":[4,4],\"line_width\":2,\"right_units\":\"screen\",\"syncable\":false,\"top_units\":\"screen\"},\"id\":\"14906\",\"type\":\"BoxAnnotation\"},{\"attributes\":{\"line_alpha\":0.2,\"line_dash\":[2,4],\"line_width\":2,\"x\":{\"field\":\"x\"},\"y\":{\"field\":\"y\"}},\"id\":\"14921\",\"type\":\"Line\"},{\"attributes\":{\"line_dash\":[2,4],\"line_width\":2,\"x\":{\"field\":\"x\"},\"y\":{\"field\":\"y\"}},\"id\":\"14919\",\"type\":\"Line\"},{\"attributes\":{},\"id\":\"15414\",\"type\":\"Selection\"},{\"attributes\":{\"axis_label\":\"Time (s)\",\"coordinates\":null,\"formatter\":{\"id\":\"15409\"},\"group\":null,\"major_label_policy\":{\"id\":\"15410\"},\"ticker\":{\"id\":\"14895\"}},\"id\":\"14894\",\"type\":\"LinearAxis\"},{\"attributes\":{},\"id\":\"14890\",\"type\":\"LinearScale\"},{\"attributes\":{},\"id\":\"15410\",\"type\":\"AllLabels\"},{\"attributes\":{},\"id\":\"14888\",\"type\":\"DataRange1d\"},{\"attributes\":{\"line_alpha\":{\"value\":0.1},\"line_color\":{\"field\":\"line_color\"},\"line_width\":{\"value\":2},\"xs\":{\"field\":\"xs\"},\"ys\":{\"field\":\"ys\"}},\"id\":\"14914\",\"type\":\"MultiLine\"},{\"attributes\":{\"source\":{\"id\":\"14918\"}},\"id\":\"14923\",\"type\":\"CDSView\"},{\"attributes\":{},\"id\":\"15411\",\"type\":\"UnionRenderers\"},{\"attributes\":{},\"id\":\"15407\",\"type\":\"AllLabels\"},{\"attributes\":{\"axis\":{\"id\":\"14898\"},\"coordinates\":null,\"dimension\":1,\"group\":null,\"ticker\":null},\"id\":\"14901\",\"type\":\"Grid\"},{\"attributes\":{\"data\":{\"line_color\":[\"blue\"],\"xs\":[[0.0,3.503465175628662,3.813832998275757,7.309930086135866,7.597805023193361,11.14827609062195,11.501304149627684,15.026526212692266,15.336847066879274,18.84644603729248,19.174250125885017,22.659043073654175,22.986266136169434,26.541800022125244,26.907570123672485,30.411015033721924,31.149679183959954,39.239541053771966,40.5467209815979,41.56923317909241,41.85097408294676,45.3708381652832,45.68180298805236,49.20106315612794,49.53858804702759,53.066628217697144,53.395339012145996,56.94590401649475,57.255720138549805,60.786938190460205,61.10708403587341,64.62377214431763,64.94387221336365,68.46788001060487,68.7697341442108,72.31310200691222,73.05869007110596,81.28681206703187,82.55802512168881,83.5844659805298,83.8994090557098,87.39857220649718,87.6779420375824,91.17697405815123,91.52867817878723,95.05647420883182,95.36785221099852,98.88022017478944,99.16619110107425,102.66836905479431,102.97740721702577,106.47426605224608,106.7633740901947,110.29279112815858,110.63802909851076,114.13994121551515,114.83712005615233,123.00433611869809,124.31414699554443,125.2984011173248,125.60045909881592,129.1188681125641,129.41715908050537,132.91209411621094,133.23886919021606,136.74366998672485,137.0628020763397,140.58607602119446,140.90272021293637,144.42014813423154,144.7586121559143,148.27988600730896,148.57293701171875,152.0706419944763,152.41259908676147,155.91578912734985,156.6711611747742,164.88581013679504,166.18296813964844,167.17658805847168,167.48494505882263,171.0554780960083,171.39384198188776,174.93547701835635,175.2847640514374,178.8054552078247,179.11497020721436,182.69228100776675,183.01189208030695,186.52194809913635,186.9327371120453,190.42809319496158,190.73508119583127,194.2596790790558,194.62267398834229,198.14381504058838,198.8880650997162,207.08329510688776,208.3306851387024,209.32874608039856,209.630142211914,211.33007502555844,211.61321306228635,213.30943799018857,213.59318900108337,215.30804705619812,215.59736704826355,217.3046941757202,217.59394121170044,219.26833915710446,219.67120504379272]],\"ys\":[[36.0,50.0,51.0,57.0,51.0,29.0,37.0,20.0,21.0,45.0,49.0,65.0,65.0,73.0,73.0,27.0,72.0,58.0,120.0,162.0,164.0,148.0,154.0,155.0,162.0,106.0,107.0,99.0,100.0,116.0,124.0,146.0,142.0,176.0,189.0,80.0,133.0,133.0,214.0,223.0,228.0,196.0,206.0,212.0,216.0,182.0,181.0,137.0,142.0,159.0,169.0,130.0,147.0,54.0,57.0,7.0,-148.0,-13.0,68.0,100.0,108.0,47.0,53.0,-30.0,-27.0,7.0,10.0,-38.0,-34.0,-37.0,-26.0,-143.0,-120.0,-335.0,-332.0,-302.0,-301.0,-255.0,-317.0,-176.0,-171.0,-176.0,-170.0,-179.0,-167.0,-153.0,-151.0,-175.0,-163.0,-176.0,-170.0,-118.0,-122.0,-224.0,-215.0,-118.0,-171.0,-78.0,-36.0,73.0,87.0,119.0,117.0,121.0,121.0,126.0,134.0,136.0,149.0,155.0,172.0]]},\"selected\":{\"id\":\"15412\"},\"selection_policy\":{\"id\":\"15411\"}},\"id\":\"14912\",\"type\":\"ColumnDataSource\"},{\"attributes\":{},\"id\":\"14895\",\"type\":\"BasicTicker\"},{\"attributes\":{},\"id\":\"15409\",\"type\":\"BasicTickFormatter\"},{\"attributes\":{},\"id\":\"15412\",\"type\":\"Selection\"},{\"attributes\":{\"coordinates\":null,\"data_source\":{\"id\":\"14912\"},\"glyph\":{\"id\":\"14913\"},\"group\":null,\"hover_glyph\":null,\"muted_glyph\":{\"id\":\"14915\"},\"nonselection_glyph\":{\"id\":\"14914\"},\"view\":{\"id\":\"14917\"}},\"id\":\"14916\",\"type\":\"GlyphRenderer\"},{\"attributes\":{},\"id\":\"15413\",\"type\":\"UnionRenderers\"},{\"attributes\":{\"coordinates\":null,\"group\":null,\"text\":\"wing_hist_force_0915193107\"},\"id\":\"14884\",\"type\":\"Title\"},{\"attributes\":{\"line_color\":{\"field\":\"line_color\"},\"line_width\":{\"value\":2},\"xs\":{\"field\":\"xs\"},\"ys\":{\"field\":\"ys\"}},\"id\":\"14913\",\"type\":\"MultiLine\"}],\"root_ids\":[\"14883\"]},\"title\":\"Bokeh Application\",\"version\":\"2.4.2\"}};\n",
       "  const render_items = [{\"docid\":\"635b23df-1dad-4846-9d2d-d2150c2b5c4f\",\"root_ids\":[\"14883\"],\"roots\":{\"14883\":\"651f19f2-f1d2-45a9-8e69-660072c2fe79\"}}];\n",
       "  root.Bokeh.embed.embed_items_notebook(docs_json, render_items);\n",
       "\n",
       "  }\n",
       "  if (root.Bokeh !== undefined) {\n",
       "    embed_document(root);\n",
       "  } else {\n",
       "    let attempts = 0;\n",
       "    const timer = setInterval(function(root) {\n",
       "      if (root.Bokeh !== undefined) {\n",
       "        clearInterval(timer);\n",
       "        embed_document(root);\n",
       "      } else {\n",
       "        attempts++;\n",
       "        if (attempts > 100) {\n",
       "          clearInterval(timer);\n",
       "          console.log(\"Bokeh: ERROR: Unable to run BokehJS code because BokehJS library is missing\");\n",
       "        }\n",
       "      }\n",
       "    }, 10, root)\n",
       "  }\n",
       "})(window);"
      ],
      "application/vnd.bokehjs_exec.v0+json": ""
     },
     "metadata": {
      "application/vnd.bokehjs_exec.v0+json": {
       "id": "14883"
      }
     },
     "output_type": "display_data"
    },
    {
     "data": {
      "text/html": [
       "\n",
       "\n",
       "\n",
       "\n",
       "\n",
       "\n",
       "  <div class=\"bk-root\" id=\"066b2b12-8627-4ce1-a562-37104faf6fbc\" data-root-id=\"15476\"></div>\n"
      ]
     },
     "metadata": {},
     "output_type": "display_data"
    },
    {
     "data": {
      "application/javascript": [
       "(function(root) {\n",
       "  function embed_document(root) {\n",
       "    \n",
       "  const docs_json = {\"06b471c6-3df7-4865-b5a7-fcee19ae6446\":{\"defs\":[],\"roots\":{\"references\":[{\"attributes\":{\"below\":[{\"id\":\"15487\"}],\"center\":[{\"id\":\"15490\"},{\"id\":\"15494\"}],\"height\":300,\"left\":[{\"id\":\"15491\"}],\"renderers\":[{\"id\":\"15509\"},{\"id\":\"15515\"}],\"title\":{\"id\":\"15477\"},\"toolbar\":{\"id\":\"15500\"},\"width\":900,\"x_range\":{\"id\":\"15479\"},\"x_scale\":{\"id\":\"15483\"},\"y_range\":{\"id\":\"15481\"},\"y_scale\":{\"id\":\"15485\"}},\"id\":\"15476\",\"subtype\":\"Figure\",\"type\":\"Plot\"},{\"attributes\":{},\"id\":\"15485\",\"type\":\"LinearScale\"},{\"attributes\":{},\"id\":\"15479\",\"type\":\"DataRange1d\"},{\"attributes\":{\"coordinates\":null,\"group\":null,\"text\":\"wing_hist_force_0915193846\"},\"id\":\"15477\",\"type\":\"Title\"},{\"attributes\":{},\"id\":\"16012\",\"type\":\"AllLabels\"},{\"attributes\":{},\"id\":\"16018\",\"type\":\"UnionRenderers\"},{\"attributes\":{\"line_alpha\":0.2,\"line_dash\":[2,4],\"line_width\":2,\"x\":{\"field\":\"x\"},\"y\":{\"field\":\"y\"}},\"id\":\"15514\",\"type\":\"Line\"},{\"attributes\":{\"coordinates\":null,\"data_source\":{\"id\":\"15511\"},\"glyph\":{\"id\":\"15512\"},\"group\":null,\"hover_glyph\":null,\"muted_glyph\":{\"id\":\"15514\"},\"nonselection_glyph\":{\"id\":\"15513\"},\"view\":{\"id\":\"15516\"}},\"id\":\"15515\",\"type\":\"GlyphRenderer\"},{\"attributes\":{},\"id\":\"15483\",\"type\":\"LinearScale\"},{\"attributes\":{\"line_alpha\":{\"value\":0.1},\"line_color\":{\"field\":\"line_color\"},\"line_width\":{\"value\":2},\"xs\":{\"field\":\"xs\"},\"ys\":{\"field\":\"ys\"}},\"id\":\"15507\",\"type\":\"MultiLine\"},{\"attributes\":{},\"id\":\"15481\",\"type\":\"DataRange1d\"},{\"attributes\":{\"source\":{\"id\":\"15511\"}},\"id\":\"15516\",\"type\":\"CDSView\"},{\"attributes\":{},\"id\":\"15495\",\"type\":\"PanTool\"},{\"attributes\":{},\"id\":\"15496\",\"type\":\"WheelZoomTool\"},{\"attributes\":{},\"id\":\"16014\",\"type\":\"BasicTickFormatter\"},{\"attributes\":{\"tools\":[{\"id\":\"15495\"},{\"id\":\"15496\"},{\"id\":\"15497\"},{\"id\":\"15498\"}]},\"id\":\"15500\",\"type\":\"Toolbar\"},{\"attributes\":{\"data\":{\"line_color\":[\"blue\"],\"xs\":[[0.0,3.5039591789245588,3.7824101448059064,7.307816028594974,7.607978105545044,11.184540033340454,11.483121156692501,15.018778085708615,15.330762147903439,18.852726221084588,19.156241178512573,22.673867225646973,22.985966205596924,26.506789207458496,26.822051048278816,30.340606212615967,31.13971209526062,39.28749918937683,40.52083611488342,41.512333154678345,41.80659604072571,45.32513904571533,45.69048810005187,49.19183111190795,49.512205123901374,53.02265810966492,53.334305047988884,54.083754062652595]],\"ys\":[[-13.0,-40.0,-18.0,-111.0,-94.0,-60.0,-53.0,-16.0,7.0,67.0,100.0,135.0,138.0,127.0,127.0,106.0,153.0,117.0,102.0,212.0,201.0,216.0,208.0,126.0,135.0,193.0,208.0,152.0]]},\"selected\":{\"id\":\"16017\"},\"selection_policy\":{\"id\":\"16016\"}},\"id\":\"15505\",\"type\":\"ColumnDataSource\"},{\"attributes\":{},\"id\":\"16015\",\"type\":\"AllLabels\"},{\"attributes\":{},\"id\":\"16016\",\"type\":\"UnionRenderers\"},{\"attributes\":{\"line_alpha\":{\"value\":0.2},\"line_color\":{\"field\":\"line_color\"},\"line_width\":{\"value\":2},\"xs\":{\"field\":\"xs\"},\"ys\":{\"field\":\"ys\"}},\"id\":\"15508\",\"type\":\"MultiLine\"},{\"attributes\":{\"bottom_units\":\"screen\",\"coordinates\":null,\"fill_alpha\":0.5,\"fill_color\":\"lightgrey\",\"group\":null,\"left_units\":\"screen\",\"level\":\"overlay\",\"line_alpha\":1.0,\"line_color\":\"black\",\"line_dash\":[4,4],\"line_width\":2,\"right_units\":\"screen\",\"syncable\":false,\"top_units\":\"screen\"},\"id\":\"15499\",\"type\":\"BoxAnnotation\"},{\"attributes\":{},\"id\":\"15498\",\"type\":\"ResetTool\"},{\"attributes\":{},\"id\":\"16017\",\"type\":\"Selection\"},{\"attributes\":{},\"id\":\"15492\",\"type\":\"BasicTicker\"},{\"attributes\":{\"source\":{\"id\":\"15505\"}},\"id\":\"15510\",\"type\":\"CDSView\"},{\"attributes\":{\"line_color\":{\"field\":\"line_color\"},\"line_width\":{\"value\":2},\"xs\":{\"field\":\"xs\"},\"ys\":{\"field\":\"ys\"}},\"id\":\"15506\",\"type\":\"MultiLine\"},{\"attributes\":{\"axis_label\":\"Signal\",\"coordinates\":null,\"formatter\":{\"id\":\"16011\"},\"group\":null,\"major_label_policy\":{\"id\":\"16012\"},\"ticker\":{\"id\":\"15492\"}},\"id\":\"15491\",\"type\":\"LinearAxis\"},{\"attributes\":{},\"id\":\"16019\",\"type\":\"Selection\"},{\"attributes\":{\"coordinates\":null,\"data_source\":{\"id\":\"15505\"},\"glyph\":{\"id\":\"15506\"},\"group\":null,\"hover_glyph\":null,\"muted_glyph\":{\"id\":\"15508\"},\"nonselection_glyph\":{\"id\":\"15507\"},\"view\":{\"id\":\"15510\"}},\"id\":\"15509\",\"type\":\"GlyphRenderer\"},{\"attributes\":{},\"id\":\"15488\",\"type\":\"BasicTicker\"},{\"attributes\":{\"overlay\":{\"id\":\"15499\"}},\"id\":\"15497\",\"type\":\"BoxZoomTool\"},{\"attributes\":{\"axis\":{\"id\":\"15487\"},\"coordinates\":null,\"group\":null,\"ticker\":null},\"id\":\"15490\",\"type\":\"Grid\"},{\"attributes\":{\"line_dash\":[2,4],\"line_width\":2,\"x\":{\"field\":\"x\"},\"y\":{\"field\":\"y\"}},\"id\":\"15512\",\"type\":\"Line\"},{\"attributes\":{\"line_alpha\":0.1,\"line_dash\":[2,4],\"line_width\":2,\"x\":{\"field\":\"x\"},\"y\":{\"field\":\"y\"}},\"id\":\"15513\",\"type\":\"Line\"},{\"attributes\":{\"axis\":{\"id\":\"15491\"},\"coordinates\":null,\"dimension\":1,\"group\":null,\"ticker\":null},\"id\":\"15494\",\"type\":\"Grid\"},{\"attributes\":{},\"id\":\"16011\",\"type\":\"BasicTickFormatter\"},{\"attributes\":{\"axis_label\":\"Time (s)\",\"coordinates\":null,\"formatter\":{\"id\":\"16014\"},\"group\":null,\"major_label_policy\":{\"id\":\"16015\"},\"ticker\":{\"id\":\"15488\"}},\"id\":\"15487\",\"type\":\"LinearAxis\"},{\"attributes\":{\"data\":{\"x\":{\"__ndarray__\":\"AAAAAAAAAAD8//+/GwgMQPz//z9gQg5ABAAAIDQ7HUAAAADQkW4eQAAAAAh8XiZA/v//p1v3JkD+//9HnQkuQP7//6dZqS5A/v//Q0zaMkAAAABs/yczQAAAAJCCrDZAAAAASGj8NkAAAADwvIE6QAIAAPBx0jpAAAAA+DFXPkAAAAAsxCM/QAAAAMbMpENAAAAAwqpCREAAAAAilMFEQAAAAIo+50RAAAAAKJ6pRkD////pYdhGQP///+uNmEhAAQAA8I/BSEAAAAB25oJKQP///4HKqkpAAQAAdLgKS0A=\",\"dtype\":\"float64\",\"order\":\"little\",\"shape\":[28]},\"y\":{\"__ndarray__\":\"AAAAAAAAaUAAAAAAAABpQAAAAAAAAGlAAAAAAAAAaUAAAAAAAABpQAAAAAAAAGlAAAAAAAAAaUAAAAAAAABpQAAAAAAAAGlAAAAAAAAAaUAAAAAAAABpQAAAAAAAAGlAAAAAAAAAaUAAAAAAAABpQAAAAAAAAGlAAAAAAAAAaUAAAAAAAABpQAAAAAAAAGlAAAAAAAAAaUAAAAAAAABpQAAAAAAAAGlAAAAAAAAAaUAAAAAAAABpQAAAAAAAAGlAAAAAAAAAaUAAAAAAAABpQAAAAAAAAGlAAAAAAAAAaUA=\",\"dtype\":\"float64\",\"order\":\"little\",\"shape\":[28]}},\"selected\":{\"id\":\"16019\"},\"selection_policy\":{\"id\":\"16018\"}},\"id\":\"15511\",\"type\":\"ColumnDataSource\"}],\"root_ids\":[\"15476\"]},\"title\":\"Bokeh Application\",\"version\":\"2.4.2\"}};\n",
       "  const render_items = [{\"docid\":\"06b471c6-3df7-4865-b5a7-fcee19ae6446\",\"root_ids\":[\"15476\"],\"roots\":{\"15476\":\"066b2b12-8627-4ce1-a562-37104faf6fbc\"}}];\n",
       "  root.Bokeh.embed.embed_items_notebook(docs_json, render_items);\n",
       "\n",
       "  }\n",
       "  if (root.Bokeh !== undefined) {\n",
       "    embed_document(root);\n",
       "  } else {\n",
       "    let attempts = 0;\n",
       "    const timer = setInterval(function(root) {\n",
       "      if (root.Bokeh !== undefined) {\n",
       "        clearInterval(timer);\n",
       "        embed_document(root);\n",
       "      } else {\n",
       "        attempts++;\n",
       "        if (attempts > 100) {\n",
       "          clearInterval(timer);\n",
       "          console.log(\"Bokeh: ERROR: Unable to run BokehJS code because BokehJS library is missing\");\n",
       "        }\n",
       "      }\n",
       "    }, 10, root)\n",
       "  }\n",
       "})(window);"
      ],
      "application/vnd.bokehjs_exec.v0+json": ""
     },
     "metadata": {
      "application/vnd.bokehjs_exec.v0+json": {
       "id": "15476"
      }
     },
     "output_type": "display_data"
    },
    {
     "name": "stdout",
     "output_type": "stream",
     "text": [
      "wing_hist_force_0914220921.csv contains fewer than 10 data points\n",
      "wing_hist_force_0915145637.csv contains fewer than 10 data points\n"
     ]
    },
    {
     "data": {
      "text/html": [
       "\n",
       "\n",
       "\n",
       "\n",
       "\n",
       "\n",
       "  <div class=\"bk-root\" id=\"2bcd91f2-13e6-4de2-a005-36cfa2330948\" data-root-id=\"16081\"></div>\n"
      ]
     },
     "metadata": {},
     "output_type": "display_data"
    },
    {
     "data": {
      "application/javascript": [
       "(function(root) {\n",
       "  function embed_document(root) {\n",
       "    \n",
       "  const docs_json = {\"e1408065-b8d0-4760-864c-20467bc4814a\":{\"defs\":[],\"roots\":{\"references\":[{\"attributes\":{\"below\":[{\"id\":\"16092\"}],\"center\":[{\"id\":\"16095\"},{\"id\":\"16099\"}],\"height\":300,\"left\":[{\"id\":\"16096\"}],\"renderers\":[{\"id\":\"16114\"},{\"id\":\"16120\"}],\"title\":{\"id\":\"16082\"},\"toolbar\":{\"id\":\"16105\"},\"width\":900,\"x_range\":{\"id\":\"16084\"},\"x_scale\":{\"id\":\"16088\"},\"y_range\":{\"id\":\"16086\"},\"y_scale\":{\"id\":\"16090\"}},\"id\":\"16081\",\"subtype\":\"Figure\",\"type\":\"Plot\"},{\"attributes\":{},\"id\":\"16088\",\"type\":\"LinearScale\"},{\"attributes\":{\"source\":{\"id\":\"16116\"}},\"id\":\"16121\",\"type\":\"CDSView\"},{\"attributes\":{},\"id\":\"16097\",\"type\":\"BasicTicker\"},{\"attributes\":{},\"id\":\"16628\",\"type\":\"BasicTickFormatter\"},{\"attributes\":{\"line_alpha\":{\"value\":0.2},\"line_color\":{\"field\":\"line_color\"},\"line_width\":{\"value\":2},\"xs\":{\"field\":\"xs\"},\"ys\":{\"field\":\"ys\"}},\"id\":\"16113\",\"type\":\"MultiLine\"},{\"attributes\":{\"tools\":[{\"id\":\"16100\"},{\"id\":\"16101\"},{\"id\":\"16102\"},{\"id\":\"16103\"}]},\"id\":\"16105\",\"type\":\"Toolbar\"},{\"attributes\":{\"axis\":{\"id\":\"16092\"},\"coordinates\":null,\"group\":null,\"ticker\":null},\"id\":\"16095\",\"type\":\"Grid\"},{\"attributes\":{\"axis_label\":\"Signal\",\"coordinates\":null,\"formatter\":{\"id\":\"16628\"},\"group\":null,\"major_label_policy\":{\"id\":\"16629\"},\"ticker\":{\"id\":\"16097\"}},\"id\":\"16096\",\"type\":\"LinearAxis\"},{\"attributes\":{},\"id\":\"16629\",\"type\":\"AllLabels\"},{\"attributes\":{},\"id\":\"16631\",\"type\":\"BasicTickFormatter\"},{\"attributes\":{},\"id\":\"16086\",\"type\":\"DataRange1d\"},{\"attributes\":{},\"id\":\"16093\",\"type\":\"BasicTicker\"},{\"attributes\":{\"coordinates\":null,\"data_source\":{\"id\":\"16110\"},\"glyph\":{\"id\":\"16111\"},\"group\":null,\"hover_glyph\":null,\"muted_glyph\":{\"id\":\"16113\"},\"nonselection_glyph\":{\"id\":\"16112\"},\"view\":{\"id\":\"16115\"}},\"id\":\"16114\",\"type\":\"GlyphRenderer\"},{\"attributes\":{\"axis_label\":\"Time (s)\",\"coordinates\":null,\"formatter\":{\"id\":\"16631\"},\"group\":null,\"major_label_policy\":{\"id\":\"16632\"},\"ticker\":{\"id\":\"16093\"}},\"id\":\"16092\",\"type\":\"LinearAxis\"},{\"attributes\":{},\"id\":\"16632\",\"type\":\"AllLabels\"},{\"attributes\":{\"axis\":{\"id\":\"16096\"},\"coordinates\":null,\"dimension\":1,\"group\":null,\"ticker\":null},\"id\":\"16099\",\"type\":\"Grid\"},{\"attributes\":{},\"id\":\"16101\",\"type\":\"WheelZoomTool\"},{\"attributes\":{},\"id\":\"16633\",\"type\":\"UnionRenderers\"},{\"attributes\":{\"line_alpha\":{\"value\":0.1},\"line_color\":{\"field\":\"line_color\"},\"line_width\":{\"value\":2},\"xs\":{\"field\":\"xs\"},\"ys\":{\"field\":\"ys\"}},\"id\":\"16112\",\"type\":\"MultiLine\"},{\"attributes\":{\"data\":{\"line_color\":[\"blue\"],\"xs\":[[0.0,3.5519790649414062,3.6967360973358154,7.249977111816408,7.394778966903688,10.947228908538817,11.092142105102539,14.644232988357544,14.78853607177734,18.34010910987854,18.48767495155334,22.039136886596687,22.18307590484619,25.73609209060669,26.329168081283573,33.48488092422485,35.07736587524414,36.221601963043206,36.36453509330749,39.916039943695075,40.06092095375061,43.6144609451294,43.76128888130188,47.31265997886657,47.456520080566406,51.00982809066771,51.155734062194824,54.707245111465454,54.852375984191895,58.40467691421509,58.54846000671386,62.10078191757201,62.73914694786072]],\"ys\":[[31.0,61.0,71.0,45.0,45.0,7.0,7.0,7.0,9.0,8.0,10.0,17.0,17.0,49.0,51.0,13.0,15.0,6.0,7.0,27.0,19.0,12.0,13.0,26.0,28.0,46.0,45.0,57.0,53.0,79.0,81.0,109.0,82.0]]},\"selected\":{\"id\":\"16634\"},\"selection_policy\":{\"id\":\"16633\"}},\"id\":\"16110\",\"type\":\"ColumnDataSource\"},{\"attributes\":{},\"id\":\"16634\",\"type\":\"Selection\"},{\"attributes\":{},\"id\":\"16090\",\"type\":\"LinearScale\"},{\"attributes\":{\"source\":{\"id\":\"16110\"}},\"id\":\"16115\",\"type\":\"CDSView\"},{\"attributes\":{},\"id\":\"16635\",\"type\":\"UnionRenderers\"},{\"attributes\":{\"data\":{\"x\":{\"__ndarray__\":\"AAAAAAAAAAAAAAAAdGoMQAAAAGDqkg1AAgAAAPr/HEACAADwQJQdQP///y/75CVAAAAAQC0vJkAAAADo2EktQP7///+6ky1AAAAAZBFXMkD///9D2HwyQAIAAOAECjZAAAAAEN4uNkAAAACIcLw5QAEAAFxEVDpAAAAAlBC+QEAAAAAg54lBQP///3NdHEJA////FakuQkABAADMQPVDQAAAAELMB0RAAQAAqKbORUAAAADqceFFQP///z0FqEdAAAAAQG+6R0D+//8LQoFJQAAAABjvk0lAAAAAAodaS0AAAACoGm1LQAAAAHTMM01A////7zNGTUD+//9r5gxPQAAAAF6cXk9A\",\"dtype\":\"float64\",\"order\":\"little\",\"shape\":[33]},\"y\":{\"__ndarray__\":\"AAAAAAAAaUAAAAAAAABpQAAAAAAAAGlAAAAAAAAAaUAAAAAAAABpQAAAAAAAAGlAAAAAAAAAaUAAAAAAAABpQAAAAAAAAGlAAAAAAAAAaUAAAAAAAABpQAAAAAAAAGlAAAAAAAAAaUAAAAAAAABpQAAAAAAAAGlAAAAAAAAAaUAAAAAAAABpQAAAAAAAAGlAAAAAAAAAaUAAAAAAAABpQAAAAAAAAGlAAAAAAAAAaUAAAAAAAABpQAAAAAAAAGlAAAAAAAAAaUAAAAAAAABpQAAAAAAAAGlAAAAAAAAAaUAAAAAAAABpQAAAAAAAAGlAAAAAAAAAaUAAAAAAAABpQAAAAAAAAGlA\",\"dtype\":\"float64\",\"order\":\"little\",\"shape\":[33]}},\"selected\":{\"id\":\"16636\"},\"selection_policy\":{\"id\":\"16635\"}},\"id\":\"16116\",\"type\":\"ColumnDataSource\"},{\"attributes\":{},\"id\":\"16636\",\"type\":\"Selection\"},{\"attributes\":{\"bottom_units\":\"screen\",\"coordinates\":null,\"fill_alpha\":0.5,\"fill_color\":\"lightgrey\",\"group\":null,\"left_units\":\"screen\",\"level\":\"overlay\",\"line_alpha\":1.0,\"line_color\":\"black\",\"line_dash\":[4,4],\"line_width\":2,\"right_units\":\"screen\",\"syncable\":false,\"top_units\":\"screen\"},\"id\":\"16104\",\"type\":\"BoxAnnotation\"},{\"attributes\":{\"overlay\":{\"id\":\"16104\"}},\"id\":\"16102\",\"type\":\"BoxZoomTool\"},{\"attributes\":{\"coordinates\":null,\"group\":null,\"text\":\"wing_hist_pres_0914221555\"},\"id\":\"16082\",\"type\":\"Title\"},{\"attributes\":{\"line_alpha\":0.1,\"line_dash\":[2,4],\"line_width\":2,\"x\":{\"field\":\"x\"},\"y\":{\"field\":\"y\"}},\"id\":\"16118\",\"type\":\"Line\"},{\"attributes\":{\"line_color\":{\"field\":\"line_color\"},\"line_width\":{\"value\":2},\"xs\":{\"field\":\"xs\"},\"ys\":{\"field\":\"ys\"}},\"id\":\"16111\",\"type\":\"MultiLine\"},{\"attributes\":{\"coordinates\":null,\"data_source\":{\"id\":\"16116\"},\"glyph\":{\"id\":\"16117\"},\"group\":null,\"hover_glyph\":null,\"muted_glyph\":{\"id\":\"16119\"},\"nonselection_glyph\":{\"id\":\"16118\"},\"view\":{\"id\":\"16121\"}},\"id\":\"16120\",\"type\":\"GlyphRenderer\"},{\"attributes\":{},\"id\":\"16084\",\"type\":\"DataRange1d\"},{\"attributes\":{\"line_alpha\":0.2,\"line_dash\":[2,4],\"line_width\":2,\"x\":{\"field\":\"x\"},\"y\":{\"field\":\"y\"}},\"id\":\"16119\",\"type\":\"Line\"},{\"attributes\":{},\"id\":\"16100\",\"type\":\"PanTool\"},{\"attributes\":{\"line_dash\":[2,4],\"line_width\":2,\"x\":{\"field\":\"x\"},\"y\":{\"field\":\"y\"}},\"id\":\"16117\",\"type\":\"Line\"},{\"attributes\":{},\"id\":\"16103\",\"type\":\"ResetTool\"}],\"root_ids\":[\"16081\"]},\"title\":\"Bokeh Application\",\"version\":\"2.4.2\"}};\n",
       "  const render_items = [{\"docid\":\"e1408065-b8d0-4760-864c-20467bc4814a\",\"root_ids\":[\"16081\"],\"roots\":{\"16081\":\"2bcd91f2-13e6-4de2-a005-36cfa2330948\"}}];\n",
       "  root.Bokeh.embed.embed_items_notebook(docs_json, render_items);\n",
       "\n",
       "  }\n",
       "  if (root.Bokeh !== undefined) {\n",
       "    embed_document(root);\n",
       "  } else {\n",
       "    let attempts = 0;\n",
       "    const timer = setInterval(function(root) {\n",
       "      if (root.Bokeh !== undefined) {\n",
       "        clearInterval(timer);\n",
       "        embed_document(root);\n",
       "      } else {\n",
       "        attempts++;\n",
       "        if (attempts > 100) {\n",
       "          clearInterval(timer);\n",
       "          console.log(\"Bokeh: ERROR: Unable to run BokehJS code because BokehJS library is missing\");\n",
       "        }\n",
       "      }\n",
       "    }, 10, root)\n",
       "  }\n",
       "})(window);"
      ],
      "application/vnd.bokehjs_exec.v0+json": ""
     },
     "metadata": {
      "application/vnd.bokehjs_exec.v0+json": {
       "id": "16081"
      }
     },
     "output_type": "display_data"
    },
    {
     "data": {
      "text/html": [
       "\n",
       "\n",
       "\n",
       "\n",
       "\n",
       "\n",
       "  <div class=\"bk-root\" id=\"e1662c57-0901-4026-b8e2-2768e8d3a765\" data-root-id=\"16698\"></div>\n"
      ]
     },
     "metadata": {},
     "output_type": "display_data"
    },
    {
     "data": {
      "application/javascript": [
       "(function(root) {\n",
       "  function embed_document(root) {\n",
       "    \n",
       "  const docs_json = {\"f0278bd7-81e7-44a6-b871-6997443ba0ef\":{\"defs\":[],\"roots\":{\"references\":[{\"attributes\":{\"below\":[{\"id\":\"16709\"}],\"center\":[{\"id\":\"16712\"},{\"id\":\"16716\"}],\"height\":300,\"left\":[{\"id\":\"16713\"}],\"renderers\":[{\"id\":\"16731\"},{\"id\":\"16737\"}],\"title\":{\"id\":\"16699\"},\"toolbar\":{\"id\":\"16722\"},\"width\":900,\"x_range\":{\"id\":\"16701\"},\"x_scale\":{\"id\":\"16705\"},\"y_range\":{\"id\":\"16703\"},\"y_scale\":{\"id\":\"16707\"}},\"id\":\"16698\",\"subtype\":\"Figure\",\"type\":\"Plot\"},{\"attributes\":{\"data\":{\"line_color\":[\"blue\"],\"xs\":[[0.0,1.5537948608398446,1.6976900100708,3.248534917831421,3.39245295524597,4.9472129344940186,5.090939044952393,6.6420979499816895,6.786885023117067,8.338826894760134,8.482785940170286,8.694709062576292]],\"ys\":[[23.0,32.0,29.0,31.0,34.0,35.0,39.0,8.0,6.0,33.0,420.0,419.0]]},\"selected\":{\"id\":\"17263\"},\"selection_policy\":{\"id\":\"17262\"}},\"id\":\"16727\",\"type\":\"ColumnDataSource\"},{\"attributes\":{},\"id\":\"16707\",\"type\":\"LinearScale\"},{\"attributes\":{\"data\":{\"x\":{\"__ndarray__\":\"AAAAAAAAAAAEAAAAWNz4P/z///+8Kfs/AAAA4P/8CUD8//9fviMLQAAAADDyyRNAAAAAIB9dFEAAAAAggpEaQAIAADDFJRtAAQAAuHqtIED///+3L/cgQP///+ewYyFA\",\"dtype\":\"float64\",\"order\":\"little\",\"shape\":[12]},\"y\":{\"__ndarray__\":\"AAAAAAAAaUAAAAAAAABpQAAAAAAAAGlAAAAAAAAAaUAAAAAAAABpQAAAAAAAAGlAAAAAAAAAaUAAAAAAAABpQAAAAAAAAGlAAAAAAAAAaUAAAAAAAABpQAAAAAAAAGlA\",\"dtype\":\"float64\",\"order\":\"little\",\"shape\":[12]}},\"selected\":{\"id\":\"17265\"},\"selection_policy\":{\"id\":\"17264\"}},\"id\":\"16733\",\"type\":\"ColumnDataSource\"},{\"attributes\":{},\"id\":\"16718\",\"type\":\"WheelZoomTool\"},{\"attributes\":{\"overlay\":{\"id\":\"16721\"}},\"id\":\"16719\",\"type\":\"BoxZoomTool\"},{\"attributes\":{\"line_alpha\":0.1,\"line_dash\":[2,4],\"line_width\":2,\"x\":{\"field\":\"x\"},\"y\":{\"field\":\"y\"}},\"id\":\"16735\",\"type\":\"Line\"},{\"attributes\":{},\"id\":\"16701\",\"type\":\"DataRange1d\"},{\"attributes\":{},\"id\":\"16720\",\"type\":\"ResetTool\"},{\"attributes\":{\"coordinates\":null,\"data_source\":{\"id\":\"16733\"},\"glyph\":{\"id\":\"16734\"},\"group\":null,\"hover_glyph\":null,\"muted_glyph\":{\"id\":\"16736\"},\"nonselection_glyph\":{\"id\":\"16735\"},\"view\":{\"id\":\"16738\"}},\"id\":\"16737\",\"type\":\"GlyphRenderer\"},{\"attributes\":{\"tools\":[{\"id\":\"16717\"},{\"id\":\"16718\"},{\"id\":\"16719\"},{\"id\":\"16720\"}]},\"id\":\"16722\",\"type\":\"Toolbar\"},{\"attributes\":{\"line_alpha\":0.2,\"line_dash\":[2,4],\"line_width\":2,\"x\":{\"field\":\"x\"},\"y\":{\"field\":\"y\"}},\"id\":\"16736\",\"type\":\"Line\"},{\"attributes\":{\"axis_label\":\"Time (s)\",\"coordinates\":null,\"formatter\":{\"id\":\"17260\"},\"group\":null,\"major_label_policy\":{\"id\":\"17261\"},\"ticker\":{\"id\":\"16710\"}},\"id\":\"16709\",\"type\":\"LinearAxis\"},{\"attributes\":{\"line_dash\":[2,4],\"line_width\":2,\"x\":{\"field\":\"x\"},\"y\":{\"field\":\"y\"}},\"id\":\"16734\",\"type\":\"Line\"},{\"attributes\":{\"bottom_units\":\"screen\",\"coordinates\":null,\"fill_alpha\":0.5,\"fill_color\":\"lightgrey\",\"group\":null,\"left_units\":\"screen\",\"level\":\"overlay\",\"line_alpha\":1.0,\"line_color\":\"black\",\"line_dash\":[4,4],\"line_width\":2,\"right_units\":\"screen\",\"syncable\":false,\"top_units\":\"screen\"},\"id\":\"16721\",\"type\":\"BoxAnnotation\"},{\"attributes\":{\"axis\":{\"id\":\"16713\"},\"coordinates\":null,\"dimension\":1,\"group\":null,\"ticker\":null},\"id\":\"16716\",\"type\":\"Grid\"},{\"attributes\":{\"line_alpha\":{\"value\":0.2},\"line_color\":{\"field\":\"line_color\"},\"line_width\":{\"value\":2},\"xs\":{\"field\":\"xs\"},\"ys\":{\"field\":\"ys\"}},\"id\":\"16730\",\"type\":\"MultiLine\"},{\"attributes\":{\"source\":{\"id\":\"16733\"}},\"id\":\"16738\",\"type\":\"CDSView\"},{\"attributes\":{\"coordinates\":null,\"data_source\":{\"id\":\"16727\"},\"glyph\":{\"id\":\"16728\"},\"group\":null,\"hover_glyph\":null,\"muted_glyph\":{\"id\":\"16730\"},\"nonselection_glyph\":{\"id\":\"16729\"},\"view\":{\"id\":\"16732\"}},\"id\":\"16731\",\"type\":\"GlyphRenderer\"},{\"attributes\":{},\"id\":\"17257\",\"type\":\"BasicTickFormatter\"},{\"attributes\":{},\"id\":\"17262\",\"type\":\"UnionRenderers\"},{\"attributes\":{},\"id\":\"17258\",\"type\":\"AllLabels\"},{\"attributes\":{},\"id\":\"17263\",\"type\":\"Selection\"},{\"attributes\":{\"line_color\":{\"field\":\"line_color\"},\"line_width\":{\"value\":2},\"xs\":{\"field\":\"xs\"},\"ys\":{\"field\":\"ys\"}},\"id\":\"16728\",\"type\":\"MultiLine\"},{\"attributes\":{},\"id\":\"16710\",\"type\":\"BasicTicker\"},{\"attributes\":{},\"id\":\"17260\",\"type\":\"BasicTickFormatter\"},{\"attributes\":{\"coordinates\":null,\"group\":null,\"text\":\"wing_hist_pres_0914231020\"},\"id\":\"16699\",\"type\":\"Title\"},{\"attributes\":{},\"id\":\"17264\",\"type\":\"UnionRenderers\"},{\"attributes\":{},\"id\":\"16703\",\"type\":\"DataRange1d\"},{\"attributes\":{\"axis\":{\"id\":\"16709\"},\"coordinates\":null,\"group\":null,\"ticker\":null},\"id\":\"16712\",\"type\":\"Grid\"},{\"attributes\":{},\"id\":\"17261\",\"type\":\"AllLabels\"},{\"attributes\":{},\"id\":\"17265\",\"type\":\"Selection\"},{\"attributes\":{},\"id\":\"16717\",\"type\":\"PanTool\"},{\"attributes\":{},\"id\":\"16714\",\"type\":\"BasicTicker\"},{\"attributes\":{\"line_alpha\":{\"value\":0.1},\"line_color\":{\"field\":\"line_color\"},\"line_width\":{\"value\":2},\"xs\":{\"field\":\"xs\"},\"ys\":{\"field\":\"ys\"}},\"id\":\"16729\",\"type\":\"MultiLine\"},{\"attributes\":{},\"id\":\"16705\",\"type\":\"LinearScale\"},{\"attributes\":{\"source\":{\"id\":\"16727\"}},\"id\":\"16732\",\"type\":\"CDSView\"},{\"attributes\":{\"axis_label\":\"Signal\",\"coordinates\":null,\"formatter\":{\"id\":\"17257\"},\"group\":null,\"major_label_policy\":{\"id\":\"17258\"},\"ticker\":{\"id\":\"16714\"}},\"id\":\"16713\",\"type\":\"LinearAxis\"}],\"root_ids\":[\"16698\"]},\"title\":\"Bokeh Application\",\"version\":\"2.4.2\"}};\n",
       "  const render_items = [{\"docid\":\"f0278bd7-81e7-44a6-b871-6997443ba0ef\",\"root_ids\":[\"16698\"],\"roots\":{\"16698\":\"e1662c57-0901-4026-b8e2-2768e8d3a765\"}}];\n",
       "  root.Bokeh.embed.embed_items_notebook(docs_json, render_items);\n",
       "\n",
       "  }\n",
       "  if (root.Bokeh !== undefined) {\n",
       "    embed_document(root);\n",
       "  } else {\n",
       "    let attempts = 0;\n",
       "    const timer = setInterval(function(root) {\n",
       "      if (root.Bokeh !== undefined) {\n",
       "        clearInterval(timer);\n",
       "        embed_document(root);\n",
       "      } else {\n",
       "        attempts++;\n",
       "        if (attempts > 100) {\n",
       "          clearInterval(timer);\n",
       "          console.log(\"Bokeh: ERROR: Unable to run BokehJS code because BokehJS library is missing\");\n",
       "        }\n",
       "      }\n",
       "    }, 10, root)\n",
       "  }\n",
       "})(window);"
      ],
      "application/vnd.bokehjs_exec.v0+json": ""
     },
     "metadata": {
      "application/vnd.bokehjs_exec.v0+json": {
       "id": "16698"
      }
     },
     "output_type": "display_data"
    },
    {
     "data": {
      "text/html": [
       "\n",
       "\n",
       "\n",
       "\n",
       "\n",
       "\n",
       "  <div class=\"bk-root\" id=\"a6c6a2fa-f0d0-426f-a627-c6ef2e92f94b\" data-root-id=\"17327\"></div>\n"
      ]
     },
     "metadata": {},
     "output_type": "display_data"
    },
    {
     "data": {
      "application/javascript": [
       "(function(root) {\n",
       "  function embed_document(root) {\n",
       "    \n",
       "  const docs_json = {\"fad46a4a-2ed2-40ec-81b6-5e5a7ecff47c\":{\"defs\":[],\"roots\":{\"references\":[{\"attributes\":{\"below\":[{\"id\":\"17338\"}],\"center\":[{\"id\":\"17341\"},{\"id\":\"17345\"}],\"height\":300,\"left\":[{\"id\":\"17342\"}],\"renderers\":[{\"id\":\"17360\"},{\"id\":\"17366\"}],\"title\":{\"id\":\"17328\"},\"toolbar\":{\"id\":\"17351\"},\"width\":900,\"x_range\":{\"id\":\"17330\"},\"x_scale\":{\"id\":\"17334\"},\"y_range\":{\"id\":\"17332\"},\"y_scale\":{\"id\":\"17336\"}},\"id\":\"17327\",\"subtype\":\"Figure\",\"type\":\"Plot\"},{\"attributes\":{\"data\":{\"x\":{\"__ndarray__\":\"AAAAAAAAAAAEAAAAl0sMQAgAAGCx3w5ABAAAkGWKHUAEAACAmMseQAAAAEgOcSZAAgAA4HAPJ0ACAAAYhg8uQAAAAMD/ny5AAAAAQOrOMkABAACIRCEzQAEAAJCHojZAAQAA6ADtNkABAAC0BHU6QAEAAGBCwTpAAQAAYF9HPkABAACsSwk/QAAAAPD2nkNAAAAA8KlAREACAACaX79EQAAAADI65kRAAgAA7BWwRkAAAABUANhGQAAAAJyMmkhAAAAAxLbDSEAAAAAeiYVKQAAAAHpNq0pAAAAAAmpsTEAAAABoP5RMQAAAAEpiVU5A/v//3y57TkD///9jHh9QQAAAAEFHM1BAAAAA1vwWUUAAAAD2ey1RQP///zx7ElJAAQAAOdRBUkD///+F4kxUQP///1aTnFRA////xn7cVED///8JnvVUQP///xTJY1VAAQAAJNJ2VUD+//+wT49VQA==\",\"dtype\":\"float64\",\"order\":\"little\",\"shape\":[44]},\"y\":{\"__ndarray__\":\"AAAAAAAAaUAAAAAAAABpQAAAAAAAAGlAAAAAAAAAaUAAAAAAAABpQAAAAAAAAGlAAAAAAAAAaUAAAAAAAABpQAAAAAAAAGlAAAAAAAAAaUAAAAAAAABpQAAAAAAAAGlAAAAAAAAAaUAAAAAAAABpQAAAAAAAAGlAAAAAAAAAaUAAAAAAAABpQAAAAAAAAGlAAAAAAAAAaUAAAAAAAABpQAAAAAAAAGlAAAAAAAAAaUAAAAAAAABpQAAAAAAAAGlAAAAAAAAAaUAAAAAAAABpQAAAAAAAAGlAAAAAAAAAaUAAAAAAAABpQAAAAAAAAGlAAAAAAAAAaUAAAAAAAABpQAAAAAAAAGlAAAAAAAAAaUAAAAAAAABpQAAAAAAAAGlAAAAAAAAAaUAAAAAAAABpQAAAAAAAAGlAAAAAAAAAaUAAAAAAAABpQAAAAAAAAGlAAAAAAAAAaUAAAAAAAABpQA==\",\"dtype\":\"float64\",\"order\":\"little\",\"shape\":[44]}},\"selected\":{\"id\":\"17906\"},\"selection_policy\":{\"id\":\"17905\"}},\"id\":\"17362\",\"type\":\"ColumnDataSource\"},{\"attributes\":{},\"id\":\"17901\",\"type\":\"BasicTickFormatter\"},{\"attributes\":{},\"id\":\"17349\",\"type\":\"ResetTool\"},{\"attributes\":{\"coordinates\":null,\"data_source\":{\"id\":\"17362\"},\"glyph\":{\"id\":\"17363\"},\"group\":null,\"hover_glyph\":null,\"muted_glyph\":{\"id\":\"17365\"},\"nonselection_glyph\":{\"id\":\"17364\"},\"view\":{\"id\":\"17367\"}},\"id\":\"17366\",\"type\":\"GlyphRenderer\"},{\"attributes\":{\"bottom_units\":\"screen\",\"coordinates\":null,\"fill_alpha\":0.5,\"fill_color\":\"lightgrey\",\"group\":null,\"left_units\":\"screen\",\"level\":\"overlay\",\"line_alpha\":1.0,\"line_color\":\"black\",\"line_dash\":[4,4],\"line_width\":2,\"right_units\":\"screen\",\"syncable\":false,\"top_units\":\"screen\"},\"id\":\"17350\",\"type\":\"BoxAnnotation\"},{\"attributes\":{\"tools\":[{\"id\":\"17346\"},{\"id\":\"17347\"},{\"id\":\"17348\"},{\"id\":\"17349\"}]},\"id\":\"17351\",\"type\":\"Toolbar\"},{\"attributes\":{\"source\":{\"id\":\"17356\"}},\"id\":\"17361\",\"type\":\"CDSView\"},{\"attributes\":{\"line_alpha\":0.2,\"line_dash\":[2,4],\"line_width\":2,\"x\":{\"field\":\"x\"},\"y\":{\"field\":\"y\"}},\"id\":\"17365\",\"type\":\"Line\"},{\"attributes\":{\"line_dash\":[2,4],\"line_width\":2,\"x\":{\"field\":\"x\"},\"y\":{\"field\":\"y\"}},\"id\":\"17363\",\"type\":\"Line\"},{\"attributes\":{\"line_alpha\":0.1,\"line_dash\":[2,4],\"line_width\":2,\"x\":{\"field\":\"x\"},\"y\":{\"field\":\"y\"}},\"id\":\"17364\",\"type\":\"Line\"},{\"attributes\":{},\"id\":\"17336\",\"type\":\"LinearScale\"},{\"attributes\":{\"axis_label\":\"Time (s)\",\"coordinates\":null,\"formatter\":{\"id\":\"17901\"},\"group\":null,\"major_label_policy\":{\"id\":\"17902\"},\"ticker\":{\"id\":\"17339\"}},\"id\":\"17338\",\"type\":\"LinearAxis\"},{\"attributes\":{},\"id\":\"17898\",\"type\":\"BasicTickFormatter\"},{\"attributes\":{\"line_alpha\":{\"value\":0.2},\"line_color\":{\"field\":\"line_color\"},\"line_width\":{\"value\":2},\"xs\":{\"field\":\"xs\"},\"ys\":{\"field\":\"ys\"}},\"id\":\"17359\",\"type\":\"MultiLine\"},{\"attributes\":{\"source\":{\"id\":\"17362\"}},\"id\":\"17367\",\"type\":\"CDSView\"},{\"attributes\":{\"axis\":{\"id\":\"17342\"},\"coordinates\":null,\"dimension\":1,\"group\":null,\"ticker\":null},\"id\":\"17345\",\"type\":\"Grid\"},{\"attributes\":{},\"id\":\"17904\",\"type\":\"Selection\"},{\"attributes\":{},\"id\":\"17339\",\"type\":\"BasicTicker\"},{\"attributes\":{},\"id\":\"17903\",\"type\":\"UnionRenderers\"},{\"attributes\":{},\"id\":\"17899\",\"type\":\"AllLabels\"},{\"attributes\":{\"axis\":{\"id\":\"17338\"},\"coordinates\":null,\"group\":null,\"ticker\":null},\"id\":\"17341\",\"type\":\"Grid\"},{\"attributes\":{},\"id\":\"17905\",\"type\":\"UnionRenderers\"},{\"attributes\":{\"data\":{\"line_color\":[\"blue\"],\"xs\":[[0.0,3.5369091033935565,3.8592250347137487,7.385153055191044,7.698823928833011,11.22081208229065,11.530158042907718,15.030319929122928,15.312498092651367,18.80826187133789,19.129951953887943,22.63488101959229,22.92579507827759,26.457103013992313,26.754919052124027,30.27879905700684,31.036310911178592,39.24191093444824,40.50518608093262,41.49510502815248,41.79865097999573,45.37566900253297,45.68751001358032,49.20741605758667,49.5290150642395,53.04324698448181,53.33830189704895,56.84698510169983,57.15818500518799,60.66706204414368,60.962368011474595,64.4862298965454,64.80122399330139,68.35918188095093,68.71069097518921,72.28877186775206,73.02857804298402,81.20132589340209,82.44649291038512,83.44523787498473,83.83777093887328,85.5591480731964,85.85657596588136,86.23923897743222]],\"ys\":[[64.0,-264.0,-249.0,-308.0,-298.0,-272.0,-270.0,-248.0,-219.0,-221.0,-201.0,-216.0,-217.0,-90.0,-79.0,36.0,-230.0,-162.0,-113.0,-135.0,-115.0,-54.0,-57.0,-186.0,-180.0,-95.0,-83.0,-120.0,-81.0,-29.0,-7.0,103.0,94.0,144.0,169.0,181.0,-107.0,-26.0,1.0,128.0,168.0,184.0,234.0,223.0]]},\"selected\":{\"id\":\"17904\"},\"selection_policy\":{\"id\":\"17903\"}},\"id\":\"17356\",\"type\":\"ColumnDataSource\"},{\"attributes\":{},\"id\":\"17343\",\"type\":\"BasicTicker\"},{\"attributes\":{},\"id\":\"17334\",\"type\":\"LinearScale\"},{\"attributes\":{\"axis_label\":\"Signal\",\"coordinates\":null,\"formatter\":{\"id\":\"17898\"},\"group\":null,\"major_label_policy\":{\"id\":\"17899\"},\"ticker\":{\"id\":\"17343\"}},\"id\":\"17342\",\"type\":\"LinearAxis\"},{\"attributes\":{},\"id\":\"17906\",\"type\":\"Selection\"},{\"attributes\":{\"line_color\":{\"field\":\"line_color\"},\"line_width\":{\"value\":2},\"xs\":{\"field\":\"xs\"},\"ys\":{\"field\":\"ys\"}},\"id\":\"17357\",\"type\":\"MultiLine\"},{\"attributes\":{\"line_alpha\":{\"value\":0.1},\"line_color\":{\"field\":\"line_color\"},\"line_width\":{\"value\":2},\"xs\":{\"field\":\"xs\"},\"ys\":{\"field\":\"ys\"}},\"id\":\"17358\",\"type\":\"MultiLine\"},{\"attributes\":{\"coordinates\":null,\"group\":null,\"text\":\"wing_hist_force_0915194735\"},\"id\":\"17328\",\"type\":\"Title\"},{\"attributes\":{\"coordinates\":null,\"data_source\":{\"id\":\"17356\"},\"glyph\":{\"id\":\"17357\"},\"group\":null,\"hover_glyph\":null,\"muted_glyph\":{\"id\":\"17359\"},\"nonselection_glyph\":{\"id\":\"17358\"},\"view\":{\"id\":\"17361\"}},\"id\":\"17360\",\"type\":\"GlyphRenderer\"},{\"attributes\":{},\"id\":\"17332\",\"type\":\"DataRange1d\"},{\"attributes\":{\"overlay\":{\"id\":\"17350\"}},\"id\":\"17348\",\"type\":\"BoxZoomTool\"},{\"attributes\":{},\"id\":\"17902\",\"type\":\"AllLabels\"},{\"attributes\":{},\"id\":\"17346\",\"type\":\"PanTool\"},{\"attributes\":{},\"id\":\"17330\",\"type\":\"DataRange1d\"},{\"attributes\":{},\"id\":\"17347\",\"type\":\"WheelZoomTool\"}],\"root_ids\":[\"17327\"]},\"title\":\"Bokeh Application\",\"version\":\"2.4.2\"}};\n",
       "  const render_items = [{\"docid\":\"fad46a4a-2ed2-40ec-81b6-5e5a7ecff47c\",\"root_ids\":[\"17327\"],\"roots\":{\"17327\":\"a6c6a2fa-f0d0-426f-a627-c6ef2e92f94b\"}}];\n",
       "  root.Bokeh.embed.embed_items_notebook(docs_json, render_items);\n",
       "\n",
       "  }\n",
       "  if (root.Bokeh !== undefined) {\n",
       "    embed_document(root);\n",
       "  } else {\n",
       "    let attempts = 0;\n",
       "    const timer = setInterval(function(root) {\n",
       "      if (root.Bokeh !== undefined) {\n",
       "        clearInterval(timer);\n",
       "        embed_document(root);\n",
       "      } else {\n",
       "        attempts++;\n",
       "        if (attempts > 100) {\n",
       "          clearInterval(timer);\n",
       "          console.log(\"Bokeh: ERROR: Unable to run BokehJS code because BokehJS library is missing\");\n",
       "        }\n",
       "      }\n",
       "    }, 10, root)\n",
       "  }\n",
       "})(window);"
      ],
      "application/vnd.bokehjs_exec.v0+json": ""
     },
     "metadata": {
      "application/vnd.bokehjs_exec.v0+json": {
       "id": "17327"
      }
     },
     "output_type": "display_data"
    },
    {
     "name": "stdout",
     "output_type": "stream",
     "text": [
      "wing_hist_force_0915145150.csv contains fewer than 10 data points\n"
     ]
    },
    {
     "ename": "FileNotFoundError",
     "evalue": "[Errno 2] File wing.csv does not exist: 'wing.csv'",
     "output_type": "error",
     "traceback": [
      "\u001b[0;31m---------------------------------------------------------------------------\u001b[0m",
      "\u001b[0;31mFileNotFoundError\u001b[0m                         Traceback (most recent call last)",
      "\u001b[0;32m<ipython-input-9-3801dfc08679>\u001b[0m in \u001b[0;36m<module>\u001b[0;34m\u001b[0m\n\u001b[0;32m----> 1\u001b[0;31m \u001b[0msearch_task\u001b[0m\u001b[0;34m(\u001b[0m\u001b[0;34m\"wing\"\u001b[0m\u001b[0;34m)\u001b[0m\u001b[0;34m\u001b[0m\u001b[0;34m\u001b[0m\u001b[0m\n\u001b[0m",
      "\u001b[0;32m<ipython-input-2-afff3c592f12>\u001b[0m in \u001b[0;36msearch_task\u001b[0;34m(task)\u001b[0m\n\u001b[1;32m     74\u001b[0m         \u001b[0;32mfor\u001b[0m \u001b[0mi\u001b[0m \u001b[0;32min\u001b[0m \u001b[0mrange\u001b[0m\u001b[0;34m(\u001b[0m\u001b[0mlen\u001b[0m\u001b[0;34m(\u001b[0m\u001b[0mrel_recs\u001b[0m\u001b[0;34m)\u001b[0m\u001b[0;34m)\u001b[0m\u001b[0;34m:\u001b[0m\u001b[0;34m\u001b[0m\u001b[0;34m\u001b[0m\u001b[0m\n\u001b[1;32m     75\u001b[0m             \u001b[0mfile_name\u001b[0m \u001b[0;34m=\u001b[0m \u001b[0mrel_recs\u001b[0m\u001b[0;34m[\u001b[0m\u001b[0mi\u001b[0m\u001b[0;34m]\u001b[0m\u001b[0;34m.\u001b[0m\u001b[0msplit\u001b[0m\u001b[0;34m(\u001b[0m\u001b[0;34m'.'\u001b[0m\u001b[0;34m)\u001b[0m\u001b[0;34m[\u001b[0m\u001b[0;36m0\u001b[0m\u001b[0;34m]\u001b[0m\u001b[0;34m\u001b[0m\u001b[0;34m\u001b[0m\u001b[0m\n\u001b[0;32m---> 76\u001b[0;31m             \u001b[0mprocess_data\u001b[0m\u001b[0;34m(\u001b[0m\u001b[0mtask\u001b[0m\u001b[0;34m,\u001b[0m \u001b[0mfile_name\u001b[0m\u001b[0;34m,\u001b[0m \u001b[0;36m3\u001b[0m\u001b[0;34m,\u001b[0m \u001b[0mfile_name\u001b[0m\u001b[0;34m)\u001b[0m\u001b[0;34m\u001b[0m\u001b[0;34m\u001b[0m\u001b[0m\n\u001b[0m",
      "\u001b[0;32m<ipython-input-2-afff3c592f12>\u001b[0m in \u001b[0;36mprocess_data\u001b[0;34m(task, file_name, start_ind, plot_title)\u001b[0m\n\u001b[1;32m     52\u001b[0m \u001b[0;34m\u001b[0m\u001b[0m\n\u001b[1;32m     53\u001b[0m     \u001b[0;31m# import and plot data\u001b[0m\u001b[0;34m\u001b[0m\u001b[0;34m\u001b[0m\u001b[0;34m\u001b[0m\u001b[0m\n\u001b[0;32m---> 54\u001b[0;31m     \u001b[0mdata\u001b[0m \u001b[0;34m=\u001b[0m \u001b[0mpd\u001b[0m\u001b[0;34m.\u001b[0m\u001b[0mread_csv\u001b[0m\u001b[0;34m(\u001b[0m\u001b[0mfile_name\u001b[0m\u001b[0;34m+\u001b[0m\u001b[0;34m\".csv\"\u001b[0m\u001b[0;34m,\u001b[0m \u001b[0mnames\u001b[0m\u001b[0;34m=\u001b[0m\u001b[0mcols\u001b[0m\u001b[0;34m)\u001b[0m\u001b[0;34m\u001b[0m\u001b[0;34m\u001b[0m\u001b[0m\n\u001b[0m\u001b[1;32m     55\u001b[0m     \u001b[0;32mif\u001b[0m \u001b[0mtask\u001b[0m \u001b[0;34m==\u001b[0m \u001b[0;34m\"scissor\"\u001b[0m\u001b[0;34m:\u001b[0m\u001b[0;34m\u001b[0m\u001b[0;34m\u001b[0m\u001b[0m\n\u001b[1;32m     56\u001b[0m         \u001b[0;31m# look only at palmar thumb sensor\u001b[0m\u001b[0;34m\u001b[0m\u001b[0;34m\u001b[0m\u001b[0;34m\u001b[0m\u001b[0m\n",
      "\u001b[0;32m~/opt/anaconda3/lib/python3.7/site-packages/pandas/io/parsers.py\u001b[0m in \u001b[0;36mparser_f\u001b[0;34m(filepath_or_buffer, sep, delimiter, header, names, index_col, usecols, squeeze, prefix, mangle_dupe_cols, dtype, engine, converters, true_values, false_values, skipinitialspace, skiprows, skipfooter, nrows, na_values, keep_default_na, na_filter, verbose, skip_blank_lines, parse_dates, infer_datetime_format, keep_date_col, date_parser, dayfirst, cache_dates, iterator, chunksize, compression, thousands, decimal, lineterminator, quotechar, quoting, doublequote, escapechar, comment, encoding, dialect, error_bad_lines, warn_bad_lines, delim_whitespace, low_memory, memory_map, float_precision)\u001b[0m\n\u001b[1;32m    674\u001b[0m         )\n\u001b[1;32m    675\u001b[0m \u001b[0;34m\u001b[0m\u001b[0m\n\u001b[0;32m--> 676\u001b[0;31m         \u001b[0;32mreturn\u001b[0m \u001b[0m_read\u001b[0m\u001b[0;34m(\u001b[0m\u001b[0mfilepath_or_buffer\u001b[0m\u001b[0;34m,\u001b[0m \u001b[0mkwds\u001b[0m\u001b[0;34m)\u001b[0m\u001b[0;34m\u001b[0m\u001b[0;34m\u001b[0m\u001b[0m\n\u001b[0m\u001b[1;32m    677\u001b[0m \u001b[0;34m\u001b[0m\u001b[0m\n\u001b[1;32m    678\u001b[0m     \u001b[0mparser_f\u001b[0m\u001b[0;34m.\u001b[0m\u001b[0m__name__\u001b[0m \u001b[0;34m=\u001b[0m \u001b[0mname\u001b[0m\u001b[0;34m\u001b[0m\u001b[0;34m\u001b[0m\u001b[0m\n",
      "\u001b[0;32m~/opt/anaconda3/lib/python3.7/site-packages/pandas/io/parsers.py\u001b[0m in \u001b[0;36m_read\u001b[0;34m(filepath_or_buffer, kwds)\u001b[0m\n\u001b[1;32m    446\u001b[0m \u001b[0;34m\u001b[0m\u001b[0m\n\u001b[1;32m    447\u001b[0m     \u001b[0;31m# Create the parser.\u001b[0m\u001b[0;34m\u001b[0m\u001b[0;34m\u001b[0m\u001b[0;34m\u001b[0m\u001b[0m\n\u001b[0;32m--> 448\u001b[0;31m     \u001b[0mparser\u001b[0m \u001b[0;34m=\u001b[0m \u001b[0mTextFileReader\u001b[0m\u001b[0;34m(\u001b[0m\u001b[0mfp_or_buf\u001b[0m\u001b[0;34m,\u001b[0m \u001b[0;34m**\u001b[0m\u001b[0mkwds\u001b[0m\u001b[0;34m)\u001b[0m\u001b[0;34m\u001b[0m\u001b[0;34m\u001b[0m\u001b[0m\n\u001b[0m\u001b[1;32m    449\u001b[0m \u001b[0;34m\u001b[0m\u001b[0m\n\u001b[1;32m    450\u001b[0m     \u001b[0;32mif\u001b[0m \u001b[0mchunksize\u001b[0m \u001b[0;32mor\u001b[0m \u001b[0miterator\u001b[0m\u001b[0;34m:\u001b[0m\u001b[0;34m\u001b[0m\u001b[0;34m\u001b[0m\u001b[0m\n",
      "\u001b[0;32m~/opt/anaconda3/lib/python3.7/site-packages/pandas/io/parsers.py\u001b[0m in \u001b[0;36m__init__\u001b[0;34m(self, f, engine, **kwds)\u001b[0m\n\u001b[1;32m    878\u001b[0m             \u001b[0mself\u001b[0m\u001b[0;34m.\u001b[0m\u001b[0moptions\u001b[0m\u001b[0;34m[\u001b[0m\u001b[0;34m\"has_index_names\"\u001b[0m\u001b[0;34m]\u001b[0m \u001b[0;34m=\u001b[0m \u001b[0mkwds\u001b[0m\u001b[0;34m[\u001b[0m\u001b[0;34m\"has_index_names\"\u001b[0m\u001b[0;34m]\u001b[0m\u001b[0;34m\u001b[0m\u001b[0;34m\u001b[0m\u001b[0m\n\u001b[1;32m    879\u001b[0m \u001b[0;34m\u001b[0m\u001b[0m\n\u001b[0;32m--> 880\u001b[0;31m         \u001b[0mself\u001b[0m\u001b[0;34m.\u001b[0m\u001b[0m_make_engine\u001b[0m\u001b[0;34m(\u001b[0m\u001b[0mself\u001b[0m\u001b[0;34m.\u001b[0m\u001b[0mengine\u001b[0m\u001b[0;34m)\u001b[0m\u001b[0;34m\u001b[0m\u001b[0;34m\u001b[0m\u001b[0m\n\u001b[0m\u001b[1;32m    881\u001b[0m \u001b[0;34m\u001b[0m\u001b[0m\n\u001b[1;32m    882\u001b[0m     \u001b[0;32mdef\u001b[0m \u001b[0mclose\u001b[0m\u001b[0;34m(\u001b[0m\u001b[0mself\u001b[0m\u001b[0;34m)\u001b[0m\u001b[0;34m:\u001b[0m\u001b[0;34m\u001b[0m\u001b[0;34m\u001b[0m\u001b[0m\n",
      "\u001b[0;32m~/opt/anaconda3/lib/python3.7/site-packages/pandas/io/parsers.py\u001b[0m in \u001b[0;36m_make_engine\u001b[0;34m(self, engine)\u001b[0m\n\u001b[1;32m   1112\u001b[0m     \u001b[0;32mdef\u001b[0m \u001b[0m_make_engine\u001b[0m\u001b[0;34m(\u001b[0m\u001b[0mself\u001b[0m\u001b[0;34m,\u001b[0m \u001b[0mengine\u001b[0m\u001b[0;34m=\u001b[0m\u001b[0;34m\"c\"\u001b[0m\u001b[0;34m)\u001b[0m\u001b[0;34m:\u001b[0m\u001b[0;34m\u001b[0m\u001b[0;34m\u001b[0m\u001b[0m\n\u001b[1;32m   1113\u001b[0m         \u001b[0;32mif\u001b[0m \u001b[0mengine\u001b[0m \u001b[0;34m==\u001b[0m \u001b[0;34m\"c\"\u001b[0m\u001b[0;34m:\u001b[0m\u001b[0;34m\u001b[0m\u001b[0;34m\u001b[0m\u001b[0m\n\u001b[0;32m-> 1114\u001b[0;31m             \u001b[0mself\u001b[0m\u001b[0;34m.\u001b[0m\u001b[0m_engine\u001b[0m \u001b[0;34m=\u001b[0m \u001b[0mCParserWrapper\u001b[0m\u001b[0;34m(\u001b[0m\u001b[0mself\u001b[0m\u001b[0;34m.\u001b[0m\u001b[0mf\u001b[0m\u001b[0;34m,\u001b[0m \u001b[0;34m**\u001b[0m\u001b[0mself\u001b[0m\u001b[0;34m.\u001b[0m\u001b[0moptions\u001b[0m\u001b[0;34m)\u001b[0m\u001b[0;34m\u001b[0m\u001b[0;34m\u001b[0m\u001b[0m\n\u001b[0m\u001b[1;32m   1115\u001b[0m         \u001b[0;32melse\u001b[0m\u001b[0;34m:\u001b[0m\u001b[0;34m\u001b[0m\u001b[0;34m\u001b[0m\u001b[0m\n\u001b[1;32m   1116\u001b[0m             \u001b[0;32mif\u001b[0m \u001b[0mengine\u001b[0m \u001b[0;34m==\u001b[0m \u001b[0;34m\"python\"\u001b[0m\u001b[0;34m:\u001b[0m\u001b[0;34m\u001b[0m\u001b[0;34m\u001b[0m\u001b[0m\n",
      "\u001b[0;32m~/opt/anaconda3/lib/python3.7/site-packages/pandas/io/parsers.py\u001b[0m in \u001b[0;36m__init__\u001b[0;34m(self, src, **kwds)\u001b[0m\n\u001b[1;32m   1889\u001b[0m         \u001b[0mkwds\u001b[0m\u001b[0;34m[\u001b[0m\u001b[0;34m\"usecols\"\u001b[0m\u001b[0;34m]\u001b[0m \u001b[0;34m=\u001b[0m \u001b[0mself\u001b[0m\u001b[0;34m.\u001b[0m\u001b[0musecols\u001b[0m\u001b[0;34m\u001b[0m\u001b[0;34m\u001b[0m\u001b[0m\n\u001b[1;32m   1890\u001b[0m \u001b[0;34m\u001b[0m\u001b[0m\n\u001b[0;32m-> 1891\u001b[0;31m         \u001b[0mself\u001b[0m\u001b[0;34m.\u001b[0m\u001b[0m_reader\u001b[0m \u001b[0;34m=\u001b[0m \u001b[0mparsers\u001b[0m\u001b[0;34m.\u001b[0m\u001b[0mTextReader\u001b[0m\u001b[0;34m(\u001b[0m\u001b[0msrc\u001b[0m\u001b[0;34m,\u001b[0m \u001b[0;34m**\u001b[0m\u001b[0mkwds\u001b[0m\u001b[0;34m)\u001b[0m\u001b[0;34m\u001b[0m\u001b[0;34m\u001b[0m\u001b[0m\n\u001b[0m\u001b[1;32m   1892\u001b[0m         \u001b[0mself\u001b[0m\u001b[0;34m.\u001b[0m\u001b[0munnamed_cols\u001b[0m \u001b[0;34m=\u001b[0m \u001b[0mself\u001b[0m\u001b[0;34m.\u001b[0m\u001b[0m_reader\u001b[0m\u001b[0;34m.\u001b[0m\u001b[0munnamed_cols\u001b[0m\u001b[0;34m\u001b[0m\u001b[0;34m\u001b[0m\u001b[0m\n\u001b[1;32m   1893\u001b[0m \u001b[0;34m\u001b[0m\u001b[0m\n",
      "\u001b[0;32mpandas/_libs/parsers.pyx\u001b[0m in \u001b[0;36mpandas._libs.parsers.TextReader.__cinit__\u001b[0;34m()\u001b[0m\n",
      "\u001b[0;32mpandas/_libs/parsers.pyx\u001b[0m in \u001b[0;36mpandas._libs.parsers.TextReader._setup_parser_source\u001b[0;34m()\u001b[0m\n",
      "\u001b[0;31mFileNotFoundError\u001b[0m: [Errno 2] File wing.csv does not exist: 'wing.csv'"
     ]
    }
   ],
   "source": [
    "search_task(\"wing\")"
   ]
  },
  {
   "cell_type": "code",
   "execution_count": null,
   "metadata": {},
   "outputs": [],
   "source": []
  },
  {
   "cell_type": "code",
   "execution_count": null,
   "metadata": {},
   "outputs": [],
   "source": []
  }
 ],
 "metadata": {
  "kernelspec": {
   "display_name": "Python 3",
   "language": "python",
   "name": "python3"
  },
  "language_info": {
   "codemirror_mode": {
    "name": "ipython",
    "version": 3
   },
   "file_extension": ".py",
   "mimetype": "text/x-python",
   "name": "python",
   "nbconvert_exporter": "python",
   "pygments_lexer": "ipython3",
   "version": "3.7.6"
  }
 },
 "nbformat": 4,
 "nbformat_minor": 4
}
